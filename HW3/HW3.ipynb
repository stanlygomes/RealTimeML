{
 "cells": [
  {
   "cell_type": "markdown",
   "id": "040e7bc0-a91e-4e69-900d-b21133ef7abf",
   "metadata": {
    "tags": []
   },
   "source": [
    "# Homework 3\n",
    "\n",
    "Name: Stanly Gomes\n",
    "\n",
    "Student ID: 801118166\n",
    "\n",
    "GitHub Repository: https://github.com/NaraPvP/RealTimeML"
   ]
  },
  {
   "cell_type": "code",
   "execution_count": 1,
   "id": "98c3deb5-1dc1-4b54-b642-ac145b730776",
   "metadata": {},
   "outputs": [],
   "source": [
    "# import libraries\n",
    "from tqdm import tqdm\n",
    "import torch\n",
    "from torch import nn\n",
    "from torch.nn import functional as F\n",
    "from torch.utils.data import DataLoader, random_split, Subset\n",
    "\n",
    "import numpy as np\n",
    "import pandas as pd\n",
    "import cv2\n",
    "from matplotlib import pyplot as plt\n",
    "from ptflops import get_model_complexity_info\n",
    "\n",
    "import torchvision\n",
    "from torchvision import transforms, datasets\n",
    "from torchmetrics.classification import MulticlassAccuracy, BinaryAccuracy\n",
    "from torchmetrics import ConfusionMatrix\n",
    "from datetime import datetime"
   ]
  },
  {
   "cell_type": "code",
   "execution_count": 2,
   "id": "acf2ba95-5216-4aca-a5a5-d5de72661f2a",
   "metadata": {},
   "outputs": [
    {
     "data": {
      "text/plain": [
       "'cuda'"
      ]
     },
     "execution_count": 2,
     "metadata": {},
     "output_type": "execute_result"
    }
   ],
   "source": [
    "device = \"cuda\" if torch.cuda.is_available() else \"cpu\"\n",
    "device"
   ]
  },
  {
   "cell_type": "code",
   "execution_count": 3,
   "id": "94f2455d-43fd-4182-b4bd-580459cd05be",
   "metadata": {},
   "outputs": [
    {
     "name": "stdout",
     "output_type": "stream",
     "text": [
      "Files already downloaded and verified\n",
      "Files already downloaded and verified\n"
     ]
    }
   ],
   "source": [
    "# Import Datasets\n",
    "cifar_trainset = datasets.CIFAR10(root='./data',\n",
    "                                  train=True,\n",
    "                                  download=True,\n",
    "                                  transform=transforms.Compose([\n",
    "                                    transforms.ToTensor(),\n",
    "                                    transforms.Resize(size=64),\n",
    "                                    transforms.Normalize((0.4734), (0.2453))\n",
    "                                    ])\n",
    ")\n",
    "cifar_testset = datasets.CIFAR10(root='./data',\n",
    "                                 train=False,\n",
    "                                 download=True,\n",
    "                                 transform=transforms.Compose([\n",
    "                                    transforms.ToTensor(),\n",
    "                                    transforms.Resize(size=64),\n",
    "                                    transforms.Normalize((0.4734), (0.2453))\n",
    "                                    ])\n",
    ")"
   ]
  },
  {
   "cell_type": "code",
   "execution_count": 4,
   "id": "38bceea0-ee08-4d70-8645-9f251fee9c4d",
   "metadata": {},
   "outputs": [
    {
     "data": {
      "text/plain": [
       "torch.Size([3, 64, 64])"
      ]
     },
     "execution_count": 4,
     "metadata": {},
     "output_type": "execute_result"
    }
   ],
   "source": [
    "image, label = cifar_trainset[0]\n",
    "image.shape"
   ]
  },
  {
   "cell_type": "code",
   "execution_count": 5,
   "id": "107729ea-d9d3-4054-b9e5-2ad1bb8b5d3f",
   "metadata": {},
   "outputs": [],
   "source": [
    "# Seperate train and val sets\n",
    "cifar_train, cifar_val = random_split(cifar_trainset, [0.8, 0.2])\n",
    "trainLoader = DataLoader(cifar_train, batch_size=32, shuffle=True)\n",
    "valLoader = DataLoader(cifar_val, batch_size=32, shuffle=False)\n",
    "testLoader = DataLoader(cifar_testset, batch_size=32, shuffle=False)"
   ]
  },
  {
   "cell_type": "code",
   "execution_count": 6,
   "id": "294ebecc-7496-4217-a52b-299573836de2",
   "metadata": {},
   "outputs": [],
   "source": [
    "# # Find mean and std for normalization\n",
    "# loader = DataLoader(cifar_trainset, batch_size=len(cifar_trainset), num_workers=1)\n",
    "# data = next(iter(loader))\n",
    "# data[0].mean(), data[0].std()"
   ]
  },
  {
   "cell_type": "code",
   "execution_count": 7,
   "id": "f08b10c9-d389-47f8-a0a5-2b21b1ed6d06",
   "metadata": {},
   "outputs": [],
   "source": [
    "# Define train_step function\n",
    "def train_step(model: nn.Module,\n",
    "               data_loader: DataLoader,\n",
    "               loss_fn: nn.Module,\n",
    "               optim: torch.optim.Optimizer,\n",
    "               accuracy_fn,\n",
    "               device: torch.device):\n",
    "    \"\"\"Performs training step on a dataloader batch\"\"\"\n",
    "    train_loss, train_acc = 0, 0\n",
    "    model.train()\n",
    "    for batch, (x, y) in enumerate(data_loader):\n",
    "        # Move data to device\n",
    "        x, y = x.to(device), y.to(device)\n",
    "        \n",
    "        # Forward pass (outputs log likelihood for each class)\n",
    "        y_pred = model(x)\n",
    "        # Calculate Loss/Acc of batch\n",
    "        loss = loss_fn(y_pred, y)\n",
    "        train_loss += loss.item()\n",
    "        # argmax is used to convert from log likelihood to prediction labels\n",
    "        \n",
    "        # Zero the gradience for optimizer\n",
    "        optim.zero_grad()\n",
    "        \n",
    "        # Backpropagate loss\n",
    "        loss.backward()\n",
    "        \n",
    "        # Step optimizer based on loss\n",
    "        optim.step()\n",
    "        \n",
    "        acc = accuracy_fn(y_pred.argmax(dim=1), y)\n",
    "        train_acc += acc.item()\n",
    "        \n",
    "    train_loss /= len(data_loader)\n",
    "    train_acc /= len(data_loader)\n",
    "    return train_loss, train_acc"
   ]
  },
  {
   "cell_type": "code",
   "execution_count": 8,
   "id": "5f23a54b-4ac8-4325-977b-3ba20b1d0d79",
   "metadata": {},
   "outputs": [],
   "source": [
    "# Define val_step function\n",
    "def val_step(model: nn.Module,\n",
    "             data_loader: DataLoader,\n",
    "             loss_fn: nn.Module,\n",
    "             accuracy_fn,\n",
    "             device: torch.device):\n",
    "    \"\"\"Performs validation step on val dataloader\"\"\"\n",
    "    val_loss, val_acc = 0, 0\n",
    "    model.eval()\n",
    "    \n",
    "    # Turn on inference mode context manager (increases speed)\n",
    "    with torch.inference_mode():\n",
    "        for x, y in data_loader:\n",
    "            x, y = x.to(device), y.to(device)\n",
    "            # Forward pass\n",
    "            val_pred = model(x)\n",
    "            \n",
    "            # Calculate loss\n",
    "            loss = loss_fn(val_pred, y)\n",
    "            val_loss += loss.item()\n",
    "            \n",
    "            acc = accuracy_fn(val_pred.argmax(dim=1), y)\n",
    "            val_acc += acc.item()\n",
    "            \n",
    "        val_loss /= len(data_loader)\n",
    "        val_acc /= len(data_loader)\n",
    "        return val_loss, val_acc"
   ]
  },
  {
   "cell_type": "code",
   "execution_count": 9,
   "id": "a972efed-2289-4a7a-b79b-f62600d94d56",
   "metadata": {},
   "outputs": [],
   "source": [
    "# Create train function\n",
    "def train(model: nn.Module,\n",
    "          train_dataloader: DataLoader,\n",
    "          val_dataloader: DataLoader,\n",
    "          optim: torch.optim.Optimizer,\n",
    "          loss_fn: nn.Module,\n",
    "          accuracy_fn,\n",
    "          epochs: int,\n",
    "          device: torch.device,\n",
    "          verbose = False):\n",
    "    results = {\"Train Loss\": [],\n",
    "               \"Train Accuracy\": [],\n",
    "               \"Val Loss\": [],\n",
    "               \"Val Accuracy\": []}\n",
    "    for epoch in tqdm(range(epochs), disable=verbose):\n",
    "        train_loss, train_acc = train_step(model=model,\n",
    "                                           data_loader=train_dataloader,\n",
    "                                           loss_fn=loss_fn,\n",
    "                                           optim=optim,\n",
    "                                           accuracy_fn=accuracy_fn,\n",
    "                                           device=device)\n",
    "        val_loss, val_acc = val_step(model=model,\n",
    "                                     data_loader=val_dataloader,\n",
    "                                     loss_fn=loss_fn,\n",
    "                                     accuracy_fn=accuracy_fn,\n",
    "                                     device=device)\n",
    "        \n",
    "        print(f\"Epoch: {epoch+1}\\n--------------- \"\n",
    "              f\"Train Loss: {train_loss:.4f}, \"\n",
    "              f\"Train Accuracy: {train_acc:.4f}, \"\n",
    "              f\"Val Loss: {val_loss:.4f}, \"\n",
    "              f\"Val Accuracy: {val_acc:.4f}\"\n",
    "             )\n",
    "        results[\"Train Loss\"].append(train_loss)\n",
    "        results[\"Train Accuracy\"].append(train_acc)\n",
    "        results[\"Val Loss\"].append(val_loss)\n",
    "        results[\"Val Accuracy\"].append(val_acc)\n",
    "    return results"
   ]
  },
  {
   "cell_type": "code",
   "execution_count": 10,
   "id": "0f0f9b96-3db6-4e21-9e58-c41704f58424",
   "metadata": {},
   "outputs": [],
   "source": [
    "def print_train_time(start, end, device: torch.device=None):\n",
    "    total_time = end - start\n",
    "    print(f\"{device} Training Time: {total_time:.3f} seconds\")\n",
    "    return total_time"
   ]
  },
  {
   "cell_type": "code",
   "execution_count": 11,
   "id": "ba89b915-460b-4ce4-8434-27387bebc2c2",
   "metadata": {},
   "outputs": [],
   "source": [
    "# Plot history\n",
    "from typing import Tuple, Dict, List\n",
    "def plot_history(results: Dict[str, List[float]]):\n",
    "    loss = results[\"Train Loss\"]\n",
    "    val_loss = results[\"Val Loss\"]\n",
    "    acc = results[\"Train Accuracy\"]\n",
    "    val_acc = results[\"Val Accuracy\"]\n",
    "    \n",
    "    epochs = range(len(results[\"Train Loss\"]))\n",
    "    \n",
    "    plt.figure()\n",
    "    # Plot loss and accuracy\n",
    "    plt.plot(epochs, loss, label=\"Train Loss\")\n",
    "    plt.plot(epochs, acc, label=\"Train Accuracy\")\n",
    "    plt.plot(epochs, val_acc, label=\"Val Accuracy\")\n",
    "    plt.title(\"Model History\")\n",
    "    plt.xlabel(\"Epochs\")\n",
    "    plt.legend()"
   ]
  },
  {
   "cell_type": "markdown",
   "id": "b7d432bf-0004-4c50-b672-b4a230ceb461",
   "metadata": {
    "jp-MarkdownHeadingCollapsed": true,
    "tags": []
   },
   "source": [
    "## Problem 1a: Train baseline VGG on CIFAR-10 with 64x64 input resolution"
   ]
  },
  {
   "cell_type": "code",
   "execution_count": 28,
   "id": "8204a722-c7f4-4173-8eb0-03fcef002aa4",
   "metadata": {},
   "outputs": [],
   "source": [
    "def vgg_block(num_convs, out_channels):\n",
    "    layers = []\n",
    "    for _ in range(num_convs):\n",
    "        layers.append(nn.LazyConv2d(out_channels, kernel_size=3, padding=1))\n",
    "        layers.append(nn.ReLU())\n",
    "    layers.append(nn.MaxPool2d(kernel_size=2,stride=2))\n",
    "    return nn.Sequential(*layers)"
   ]
  },
  {
   "cell_type": "code",
   "execution_count": 29,
   "id": "365533a8-d5cf-48be-89a9-78375920b832",
   "metadata": {},
   "outputs": [],
   "source": [
    "class VGG_base(nn.Module):\n",
    "    def __init__(self, arch, lr=0.1, num_classes=10):\n",
    "        super().__init__()\n",
    "        conv_blocks = []\n",
    "        for (num_convs, out_channels) in arch:\n",
    "            conv_blocks.append(vgg_block(num_convs, out_channels))\n",
    "        self.net = nn.Sequential(\n",
    "            *conv_blocks, nn.Flatten(),\n",
    "            nn.LazyLinear(4096), nn.ReLU(), nn.Dropout(0.5),\n",
    "            nn.LazyLinear(4096), nn.ReLU(), nn.Dropout(0.5),\n",
    "            nn.LazyLinear(num_classes)\n",
    "        )\n",
    "    def forward(self, x):\n",
    "        x = self.net(x)\n",
    "        return x"
   ]
  },
  {
   "cell_type": "code",
   "execution_count": 58,
   "id": "c506ded6-9de1-4a69-a3b2-28643ae443b3",
   "metadata": {},
   "outputs": [],
   "source": [
    "P1a_model = VGG_base(arch=((1, 64), (1, 128), (2, 256), (2, 512), (2, 512))).to(device)"
   ]
  },
  {
   "cell_type": "code",
   "execution_count": 35,
   "id": "ba61dfe7-1df4-4043-902a-501176058518",
   "metadata": {},
   "outputs": [],
   "source": [
    "from datetime import datetime"
   ]
  },
  {
   "cell_type": "code",
   "execution_count": 60,
   "id": "272558c4-658a-486b-8804-1aaa961ab0ef",
   "metadata": {},
   "outputs": [
    {
     "name": "stdout",
     "output_type": "stream",
     "text": [
      "Epoch: 1\n",
      "--------------- Train Loss: 2.3023, Train Accuracy: 0.0990, Val Loss: 2.2393, Val Accuracy: 0.1734\n",
      "Epoch: 2\n",
      "--------------- Train Loss: 2.2147, Train Accuracy: 0.1409, Val Loss: 1.9181, Val Accuracy: 0.2384\n",
      "Epoch: 3\n",
      "--------------- Train Loss: 1.7457, Train Accuracy: 0.3210, Val Loss: 1.7039, Val Accuracy: 0.3653\n",
      "Epoch: 4\n",
      "--------------- Train Loss: 1.4494, Train Accuracy: 0.4463, Val Loss: 1.2411, Val Accuracy: 0.5309\n",
      "Epoch: 5\n",
      "--------------- Train Loss: 1.1665, Train Accuracy: 0.5665, Val Loss: 1.0127, Val Accuracy: 0.6194\n",
      "Epoch: 6\n",
      "--------------- Train Loss: 0.9445, Train Accuracy: 0.6461, Val Loss: 0.9026, Val Accuracy: 0.6626\n",
      "Epoch: 7\n",
      "--------------- Train Loss: 0.7603, Train Accuracy: 0.7110, Val Loss: 0.7700, Val Accuracy: 0.7160\n",
      "Epoch: 8\n",
      "--------------- Train Loss: 0.6035, Train Accuracy: 0.7643, Val Loss: 0.7744, Val Accuracy: 0.7179\n",
      "Epoch: 9\n",
      "--------------- Train Loss: 0.4816, Train Accuracy: 0.8054, Val Loss: 0.7180, Val Accuracy: 0.7369\n",
      "Epoch: 10\n",
      "--------------- Train Loss: 0.3857, Train Accuracy: 0.8399, Val Loss: 0.6985, Val Accuracy: 0.7486\n",
      "Training Time: 0:06:18.264714\n"
     ]
    },
    {
     "data": {
      "image/png": "[encoded data removed]",
      "text/plain": [
       "<Figure size 640x480 with 1 Axes>"
      ]
     },
     "metadata": {},
     "output_type": "display_data"
    }
   ],
   "source": [
    "loss_fn = nn.CrossEntropyLoss()\n",
    "optimizer = torch.optim.SGD(params=P1a_model.parameters(),\n",
    "                            lr=0.1)\n",
    "accuracy_fn = MulticlassAccuracy(num_classes=10).to(device)\n",
    "epochs = 10\n",
    "\n",
    "start_time = datetime.now()\n",
    "\n",
    "P1a_model_history = train(model=P1a_model,\n",
    "                         train_dataloader=trainLoader,\n",
    "                         val_dataloader=valLoader,\n",
    "                         optim=optimizer,\n",
    "                         loss_fn=loss_fn,\n",
    "                         accuracy_fn=accuracy_fn,\n",
    "                         epochs=epochs,\n",
    "                         device=device,\n",
    "                         verbose=True)\n",
    "stop_time = datetime.now()\n",
    "print(f\"Training Time: {stop_time - start_time}\")\n",
    "plot_history(P1a_model_history)"
   ]
  },
  {
   "cell_type": "code",
   "execution_count": 61,
   "id": "e04f6592-8ab3-45a0-bd8c-73bee4bba1e4",
   "metadata": {},
   "outputs": [],
   "source": [
    "# Adding batch normalization to Problem 1a\n",
    "def vgg_block_bn(num_convs, out_channels):\n",
    "    layers = []\n",
    "    for _ in range(num_convs):\n",
    "        layers.append(nn.LazyConv2d(out_channels, kernel_size=3, padding=1))\n",
    "        layers.append(nn.LazyBatchNorm2d())\n",
    "        layers.append(nn.ReLU())\n",
    "    layers.append(nn.MaxPool2d(kernel_size=2,stride=2))\n",
    "    return nn.Sequential(*layers)\n",
    "class VGG_base_bn(nn.Module):\n",
    "    def __init__(self, arch, lr=0.1, num_classes=10):\n",
    "        super().__init__()\n",
    "        conv_blocks = []\n",
    "        for (num_convs, out_channels) in arch:\n",
    "            conv_blocks.append(vgg_block_bn(num_convs, out_channels))\n",
    "        self.net = nn.Sequential(\n",
    "            *conv_blocks, nn.Flatten(),\n",
    "            nn.LazyLinear(4096), nn.ReLU(), nn.Dropout(0.5),\n",
    "            nn.LazyLinear(4096), nn.ReLU(), nn.Dropout(0.5),\n",
    "            nn.LazyLinear(num_classes)\n",
    "        )\n",
    "    def forward(self, x):\n",
    "        x = self.net(x)\n",
    "        return x"
   ]
  },
  {
   "cell_type": "code",
   "execution_count": 62,
   "id": "e88beacb-5ef7-41f4-8dc2-8dc6abef563a",
   "metadata": {},
   "outputs": [],
   "source": [
    "P1a_model_bn = VGG_base_bn(arch=((1, 64), (1, 128), (2, 256), (2, 512), (2, 512))).to(device)"
   ]
  },
  {
   "cell_type": "code",
   "execution_count": 63,
   "id": "c3741dbc-0a2a-4160-9bbd-74aab604ddb6",
   "metadata": {},
   "outputs": [
    {
     "name": "stdout",
     "output_type": "stream",
     "text": [
      "Epoch: 1\n",
      "--------------- Train Loss: 1.6219, Train Accuracy: 0.4003, Val Loss: 1.2782, Val Accuracy: 0.5158\n",
      "Epoch: 2\n",
      "--------------- Train Loss: 1.1320, Train Accuracy: 0.6012, Val Loss: 0.9731, Val Accuracy: 0.6381\n",
      "Epoch: 3\n",
      "--------------- Train Loss: 0.8969, Train Accuracy: 0.6830, Val Loss: 1.0399, Val Accuracy: 0.6300\n",
      "Epoch: 4\n",
      "--------------- Train Loss: 0.7382, Train Accuracy: 0.7404, Val Loss: 0.9050, Val Accuracy: 0.6789\n",
      "Epoch: 5\n",
      "--------------- Train Loss: 0.6206, Train Accuracy: 0.7780, Val Loss: 0.7162, Val Accuracy: 0.7401\n",
      "Epoch: 6\n",
      "--------------- Train Loss: 0.5296, Train Accuracy: 0.8045, Val Loss: 0.6317, Val Accuracy: 0.7674\n",
      "Epoch: 7\n",
      "--------------- Train Loss: 0.4497, Train Accuracy: 0.8307, Val Loss: 0.7235, Val Accuracy: 0.7569\n",
      "Epoch: 8\n",
      "--------------- Train Loss: 0.3801, Train Accuracy: 0.8530, Val Loss: 0.6381, Val Accuracy: 0.7721\n",
      "Epoch: 9\n",
      "--------------- Train Loss: 0.3176, Train Accuracy: 0.8684, Val Loss: 0.5508, Val Accuracy: 0.8022\n",
      "Epoch: 10\n",
      "--------------- Train Loss: 0.2668, Train Accuracy: 0.8877, Val Loss: 0.5743, Val Accuracy: 0.7943\n",
      "Training Time: 0:06:43.170907\n"
     ]
    },
    {
     "data": {
      "image/png": "[encoded data removed]",
      "text/plain": [
       "<Figure size 640x480 with 1 Axes>"
      ]
     },
     "metadata": {},
     "output_type": "display_data"
    }
   ],
   "source": [
    "loss_fn = nn.CrossEntropyLoss()\n",
    "optimizer = torch.optim.SGD(params=P1a_model_bn.parameters(),\n",
    "                            lr=0.1)\n",
    "accuracy_fn = MulticlassAccuracy(num_classes=10).to(device)\n",
    "epochs = 10\n",
    "\n",
    "start_time = datetime.now()\n",
    "P1a_model_bn_history = train(model=P1a_model_bn,\n",
    "                     train_dataloader=trainLoader,\n",
    "                     val_dataloader=valLoader,\n",
    "                     optim=optimizer,\n",
    "                     loss_fn=loss_fn,\n",
    "                     accuracy_fn=accuracy_fn,\n",
    "                     epochs=epochs,\n",
    "                     device=device,\n",
    "                     verbose=True)\n",
    "stop_time = datetime.now()\n",
    "print(f\"Training Time: {stop_time - start_time}\")\n",
    "plot_history(P1a_model_bn_history)"
   ]
  },
  {
   "cell_type": "code",
   "execution_count": 81,
   "id": "3f32b5cf-2e69-4cd4-8303-b1f592291368",
   "metadata": {},
   "outputs": [
    {
     "data": {
      "text/plain": [
       "tensor([[-0.8896, -2.8812,  1.3131,  2.7845,  3.7755, -0.2209,  0.9294, -0.9710,\n",
       "         -1.5432, -2.0920]], device='cuda:0', grad_fn=<AddmmBackward0>)"
      ]
     },
     "execution_count": 81,
     "metadata": {},
     "output_type": "execute_result"
    }
   ],
   "source": [
    "P1a_model_bn(torch.rand(1, 3, 64, 64).cuda())"
   ]
  },
  {
   "cell_type": "code",
   "execution_count": null,
   "id": "ba051b53-d38b-4fa2-98d9-67b8836c58d9",
   "metadata": {},
   "outputs": [],
   "source": [
    "# CLEARED OUTPUT FOR SUBMISSION DUE TO LONG WARNING MESSAGE\n",
    "# Obtain model size and complexity\n",
    "# Ptflops Summary\n",
    "from ptflops import get_model_complexity_info\n",
    "\n",
    "with torch.cuda.device(0):\n",
    "  macs, params = get_model_complexity_info(P1a_model_bn, (3, 64, 64), as_strings=True,\n",
    "                                           print_per_layer_stat=False, verbose=True)\n",
    "  print('{:<30}  {:<8}'.format('Computational complexity: ', macs))\n",
    "  print('{:<30}  {:<8}'.format('Number of parameters: ', params))"
   ]
  },
  {
   "cell_type": "code",
   "execution_count": 139,
   "id": "ef96b58d-f711-40fa-afda-aa346dcd45ee",
   "metadata": {},
   "outputs": [],
   "source": [
    "# Save model weights\n",
    "torch.save(P1a_model_bn.state_dict(), \"models/P1a\")"
   ]
  },
  {
   "cell_type": "markdown",
   "id": "29c50249-4bcf-44ed-99a7-d9a6122e9389",
   "metadata": {
    "jp-MarkdownHeadingCollapsed": true,
    "tags": []
   },
   "source": [
    "## Problem 1b: Use Table 1 in the VGG paper to construct other common models, such as VGG-16 or VGG-19. Train them on CIFAR-10, compare the accuracies, computational complexity and model size."
   ]
  },
  {
   "cell_type": "code",
   "execution_count": 88,
   "id": "d05063e9-7df4-4e14-a690-66ecdf157f71",
   "metadata": {},
   "outputs": [
    {
     "data": {
      "text/plain": [
       "tensor([[-0.3920, -0.0239, -0.4233, -0.1515, -0.4861, -0.1919,  0.4569, -0.4179,\n",
       "         -0.1646,  0.1084]], device='cuda:0', grad_fn=<AddmmBackward0>)"
      ]
     },
     "execution_count": 88,
     "metadata": {},
     "output_type": "execute_result"
    }
   ],
   "source": [
    "# Constructing VGG-16\n",
    "P1b_16_arch =((2, 64), (2, 128), (3, 256), (3, 512), (3, 512))\n",
    "P1b_16_model = VGG_base_bn(arch=P1b_16_arch).to(device)\n",
    "P1b_16_model(torch.randn(1, 3, 64, 64).to(device))"
   ]
  },
  {
   "cell_type": "code",
   "execution_count": 89,
   "id": "ca116f69-b5d1-476e-8507-fd5df6bd094b",
   "metadata": {},
   "outputs": [
    {
     "name": "stderr",
     "output_type": "stream",
     "text": [
      " 10%|████████▎                                                                          | 1/10 [01:01<09:13, 61.50s/it]"
     ]
    },
    {
     "name": "stdout",
     "output_type": "stream",
     "text": [
      "Epoch: 1\n",
      "--------------- Train Loss: 1.7477, Train Accuracy: 0.3461, Val Loss: 1.5434, Val Accuracy: 0.4359\n"
     ]
    },
    {
     "name": "stderr",
     "output_type": "stream",
     "text": [
      " 20%|████████████████▌                                                                  | 2/10 [02:02<08:11, 61.50s/it]"
     ]
    },
    {
     "name": "stdout",
     "output_type": "stream",
     "text": [
      "Epoch: 2\n",
      "--------------- Train Loss: 1.2074, Train Accuracy: 0.5689, Val Loss: 1.1730, Val Accuracy: 0.5686\n"
     ]
    },
    {
     "name": "stderr",
     "output_type": "stream",
     "text": [
      " 30%|████████████████████████▉                                                          | 3/10 [03:04<07:11, 61.68s/it]"
     ]
    },
    {
     "name": "stdout",
     "output_type": "stream",
     "text": [
      "Epoch: 3\n",
      "--------------- Train Loss: 0.9157, Train Accuracy: 0.6815, Val Loss: 0.8213, Val Accuracy: 0.6975\n"
     ]
    },
    {
     "name": "stderr",
     "output_type": "stream",
     "text": [
      " 40%|█████████████████████████████████▏                                                 | 4/10 [04:06<06:10, 61.80s/it]"
     ]
    },
    {
     "name": "stdout",
     "output_type": "stream",
     "text": [
      "Epoch: 4\n",
      "--------------- Train Loss: 0.7407, Train Accuracy: 0.7448, Val Loss: 0.8383, Val Accuracy: 0.7008\n"
     ]
    },
    {
     "name": "stderr",
     "output_type": "stream",
     "text": [
      " 50%|█████████████████████████████████████████▌                                         | 5/10 [05:08<05:08, 61.78s/it]"
     ]
    },
    {
     "name": "stdout",
     "output_type": "stream",
     "text": [
      "Epoch: 5\n",
      "--------------- Train Loss: 0.6213, Train Accuracy: 0.7819, Val Loss: 0.8178, Val Accuracy: 0.7140\n"
     ]
    },
    {
     "name": "stderr",
     "output_type": "stream",
     "text": [
      " 60%|█████████████████████████████████████████████████▊                                 | 6/10 [06:10<04:06, 61.75s/it]"
     ]
    },
    {
     "name": "stdout",
     "output_type": "stream",
     "text": [
      "Epoch: 6\n",
      "--------------- Train Loss: 0.5271, Train Accuracy: 0.8095, Val Loss: 0.6143, Val Accuracy: 0.7753\n"
     ]
    },
    {
     "name": "stderr",
     "output_type": "stream",
     "text": [
      " 70%|██████████████████████████████████████████████████████████                         | 7/10 [07:12<03:05, 61.83s/it]"
     ]
    },
    {
     "name": "stdout",
     "output_type": "stream",
     "text": [
      "Epoch: 7\n",
      "--------------- Train Loss: 0.4455, Train Accuracy: 0.8350, Val Loss: 0.6320, Val Accuracy: 0.7642\n"
     ]
    },
    {
     "name": "stderr",
     "output_type": "stream",
     "text": [
      " 80%|██████████████████████████████████████████████████████████████████▍                | 8/10 [08:14<02:04, 62.05s/it]"
     ]
    },
    {
     "name": "stdout",
     "output_type": "stream",
     "text": [
      "Epoch: 8\n",
      "--------------- Train Loss: 0.3849, Train Accuracy: 0.8508, Val Loss: 0.5014, Val Accuracy: 0.8102\n"
     ]
    },
    {
     "name": "stderr",
     "output_type": "stream",
     "text": [
      " 90%|██████████████████████████████████████████████████████████████████████████▋        | 9/10 [09:17<01:02, 62.35s/it]"
     ]
    },
    {
     "name": "stdout",
     "output_type": "stream",
     "text": [
      "Epoch: 9\n",
      "--------------- Train Loss: 0.3278, Train Accuracy: 0.8645, Val Loss: 0.5880, Val Accuracy: 0.7939\n"
     ]
    },
    {
     "name": "stderr",
     "output_type": "stream",
     "text": [
      "100%|██████████████████████████████████████████████████████████████████████████████████| 10/10 [10:20<00:00, 62.04s/it]"
     ]
    },
    {
     "name": "stdout",
     "output_type": "stream",
     "text": [
      "Epoch: 10\n",
      "--------------- Train Loss: 0.2734, Train Accuracy: 0.8880, Val Loss: 0.5027, Val Accuracy: 0.8206\n",
      "Training Time: 0:10:20.450244\n"
     ]
    },
    {
     "name": "stderr",
     "output_type": "stream",
     "text": [
      "\n"
     ]
    },
    {
     "data": {
      "image/png": "[encoded data removed]",
      "text/plain": [
       "<Figure size 640x480 with 1 Axes>"
      ]
     },
     "metadata": {},
     "output_type": "display_data"
    }
   ],
   "source": [
    "loss_fn = nn.CrossEntropyLoss()\n",
    "optimizer = torch.optim.SGD(params=P1b_16_model.parameters(),\n",
    "                            lr=0.1)\n",
    "accuracy_fn = MulticlassAccuracy(num_classes=10).to(device)\n",
    "epochs = 10\n",
    "\n",
    "start_time = datetime.now()\n",
    "P1b_16_model_history = train(model=P1b_16_model,\n",
    "                     train_dataloader=trainLoader,\n",
    "                     val_dataloader=valLoader,\n",
    "                     optim=optimizer,\n",
    "                     loss_fn=loss_fn,\n",
    "                     accuracy_fn=accuracy_fn,\n",
    "                     epochs=epochs,\n",
    "                     device=device,\n",
    "                     verbose=False)\n",
    "stop_time = datetime.now()\n",
    "print(f\"Training Time: {stop_time - start_time}\")\n",
    "plot_history(P1b_16_model_history)"
   ]
  },
  {
   "cell_type": "code",
   "execution_count": 93,
   "id": "48a9f07a-af76-42fe-bc19-7c8e7e9364d1",
   "metadata": {},
   "outputs": [
    {
     "name": "stdout",
     "output_type": "stream",
     "text": [
      "Warning: module Flatten is treated as a zero-op.\n",
      "Warning: module Dropout is treated as a zero-op.\n",
      "Warning: module VGG_base_bn is treated as a zero-op.\n",
      "Computational complexity:       1.28 GMac\n",
      "Number of parameters:           39.94 M \n"
     ]
    }
   ],
   "source": [
    "with torch.cuda.device(0):\n",
    "  macs, params = get_model_complexity_info(P1b_16_model, (3, 64, 64), as_strings=True,\n",
    "                                           print_per_layer_stat=False, verbose=True)\n",
    "  print('{:<30}  {:<8}'.format('Computational complexity: ', macs))\n",
    "  print('{:<30}  {:<8}'.format('Number of parameters: ', params))"
   ]
  },
  {
   "cell_type": "code",
   "execution_count": 140,
   "id": "e9eab218-a071-477f-847e-6667a1adf12d",
   "metadata": {},
   "outputs": [],
   "source": [
    "torch.save(P1b_16_model.state_dict(), \"models/P1b_16\")"
   ]
  },
  {
   "cell_type": "code",
   "execution_count": 91,
   "id": "edcb1ba5-01e2-4db0-b5cd-96a7281a94b1",
   "metadata": {},
   "outputs": [
    {
     "name": "stderr",
     "output_type": "stream",
     "text": [
      "C:\\Users\\stanl\\anaconda3\\envs\\pytorch_cuda\\lib\\site-packages\\torch\\nn\\modules\\lazy.py:180: UserWarning: Lazy modules are a new feature under heavy development so changes to the API or functionality can happen at any moment.\n",
      "  warnings.warn('Lazy modules are a new feature under heavy development '\n"
     ]
    },
    {
     "data": {
      "text/plain": [
       "tensor([[ 0.2108, -0.2490, -0.0535, -0.0199, -0.2135,  0.0295,  0.1932, -0.2469,\n",
       "          0.1599,  0.3199]], device='cuda:0', grad_fn=<AddmmBackward0>)"
      ]
     },
     "execution_count": 91,
     "metadata": {},
     "output_type": "execute_result"
    }
   ],
   "source": [
    "# Constructing VGG-19\n",
    "P1b_19_arch = ((2, 64), (2, 128), (4, 256), (4, 512), (4, 512))\n",
    "P1b_19_model = VGG_base_bn(arch=P1b_19_arch).to(device)\n",
    "P1b_19_model(torch.randn(1, 3, 64, 64).to(device))"
   ]
  },
  {
   "cell_type": "code",
   "execution_count": 101,
   "id": "e4a6fd1c-5f8e-4cae-9b98-d7bf2ff3b549",
   "metadata": {},
   "outputs": [
    {
     "name": "stderr",
     "output_type": "stream",
     "text": [
      " 10%|████████▎                                                                          | 1/10 [01:10<10:33, 70.37s/it]"
     ]
    },
    {
     "name": "stdout",
     "output_type": "stream",
     "text": [
      "Epoch: 1\n",
      "--------------- Train Loss: 1.3699, Train Accuracy: 0.4984, Val Loss: 1.2392, Val Accuracy: 0.5515\n"
     ]
    },
    {
     "name": "stderr",
     "output_type": "stream",
     "text": [
      " 20%|████████████████▌                                                                  | 2/10 [02:22<09:29, 71.13s/it]"
     ]
    },
    {
     "name": "stdout",
     "output_type": "stream",
     "text": [
      "Epoch: 2\n",
      "--------------- Train Loss: 1.0596, Train Accuracy: 0.6248, Val Loss: 0.9302, Val Accuracy: 0.6483\n"
     ]
    },
    {
     "name": "stderr",
     "output_type": "stream",
     "text": [
      " 30%|████████████████████████▉                                                          | 3/10 [03:32<08:16, 70.90s/it]"
     ]
    },
    {
     "name": "stdout",
     "output_type": "stream",
     "text": [
      "Epoch: 3\n",
      "--------------- Train Loss: 0.8520, Train Accuracy: 0.7029, Val Loss: 0.8758, Val Accuracy: 0.6879\n"
     ]
    },
    {
     "name": "stderr",
     "output_type": "stream",
     "text": [
      " 40%|█████████████████████████████████▏                                                 | 4/10 [04:42<07:02, 70.35s/it]"
     ]
    },
    {
     "name": "stdout",
     "output_type": "stream",
     "text": [
      "Epoch: 4\n",
      "--------------- Train Loss: 0.7136, Train Accuracy: 0.7502, Val Loss: 0.6924, Val Accuracy: 0.7455\n"
     ]
    },
    {
     "name": "stderr",
     "output_type": "stream",
     "text": [
      " 50%|█████████████████████████████████████████▌                                         | 5/10 [05:51<05:50, 70.03s/it]"
     ]
    },
    {
     "name": "stdout",
     "output_type": "stream",
     "text": [
      "Epoch: 5\n",
      "--------------- Train Loss: 0.6024, Train Accuracy: 0.7863, Val Loss: 0.6586, Val Accuracy: 0.7588\n"
     ]
    },
    {
     "name": "stderr",
     "output_type": "stream",
     "text": [
      " 60%|█████████████████████████████████████████████████▊                                 | 6/10 [07:01<04:39, 69.89s/it]"
     ]
    },
    {
     "name": "stdout",
     "output_type": "stream",
     "text": [
      "Epoch: 6\n",
      "--------------- Train Loss: 0.5222, Train Accuracy: 0.8097, Val Loss: 0.6582, Val Accuracy: 0.7628\n"
     ]
    },
    {
     "name": "stderr",
     "output_type": "stream",
     "text": [
      " 70%|██████████████████████████████████████████████████████████                         | 7/10 [08:10<03:29, 69.80s/it]"
     ]
    },
    {
     "name": "stdout",
     "output_type": "stream",
     "text": [
      "Epoch: 7\n",
      "--------------- Train Loss: 0.4528, Train Accuracy: 0.8315, Val Loss: 0.5628, Val Accuracy: 0.7969\n"
     ]
    },
    {
     "name": "stderr",
     "output_type": "stream",
     "text": [
      " 80%|██████████████████████████████████████████████████████████████████▍                | 8/10 [09:20<02:19, 69.75s/it]"
     ]
    },
    {
     "name": "stdout",
     "output_type": "stream",
     "text": [
      "Epoch: 8\n",
      "--------------- Train Loss: 0.3890, Train Accuracy: 0.8543, Val Loss: 0.6006, Val Accuracy: 0.7774\n"
     ]
    },
    {
     "name": "stderr",
     "output_type": "stream",
     "text": [
      " 90%|██████████████████████████████████████████████████████████████████████████▋        | 9/10 [10:29<01:09, 69.61s/it]"
     ]
    },
    {
     "name": "stdout",
     "output_type": "stream",
     "text": [
      "Epoch: 9\n",
      "--------------- Train Loss: 0.3387, Train Accuracy: 0.8662, Val Loss: 0.5436, Val Accuracy: 0.7999\n"
     ]
    },
    {
     "name": "stderr",
     "output_type": "stream",
     "text": [
      "100%|██████████████████████████████████████████████████████████████████████████████████| 10/10 [11:38<00:00, 69.86s/it]"
     ]
    },
    {
     "name": "stdout",
     "output_type": "stream",
     "text": [
      "Epoch: 10\n",
      "--------------- Train Loss: 0.2955, Train Accuracy: 0.8792, Val Loss: 0.5752, Val Accuracy: 0.7980\n",
      "Training Time: 0:11:38.610347\n"
     ]
    },
    {
     "name": "stderr",
     "output_type": "stream",
     "text": [
      "\n"
     ]
    },
    {
     "data": {
      "image/png": "[encoded data removed]",
      "text/plain": [
       "<Figure size 640x480 with 1 Axes>"
      ]
     },
     "metadata": {},
     "output_type": "display_data"
    }
   ],
   "source": [
    "loss_fn = nn.CrossEntropyLoss()\n",
    "optimizer = torch.optim.SGD(params=P1b_19_model.parameters(),\n",
    "                            lr=0.1)\n",
    "accuracy_fn = MulticlassAccuracy(num_classes=10).to(device)\n",
    "epochs = 10\n",
    "\n",
    "start_time = datetime.now()\n",
    "P1b_19_model_history = train(model=P1b_19_model,\n",
    "                     train_dataloader=trainLoader,\n",
    "                     val_dataloader=valLoader,\n",
    "                     optim=optimizer,\n",
    "                     loss_fn=loss_fn,\n",
    "                     accuracy_fn=accuracy_fn,\n",
    "                     epochs=epochs,\n",
    "                     device=device,\n",
    "                     verbose=False)\n",
    "stop_time = datetime.now()\n",
    "print(f\"Training Time: {stop_time - start_time}\")\n",
    "plot_history(P1b_19_model_history)"
   ]
  },
  {
   "cell_type": "code",
   "execution_count": 102,
   "id": "dd0b9e78-0e01-4fbe-9daa-17369ac3f58e",
   "metadata": {},
   "outputs": [
    {
     "name": "stdout",
     "output_type": "stream",
     "text": [
      "Warning: module Flatten is treated as a zero-op.\n",
      "Warning: module Dropout is treated as a zero-op.\n",
      "Warning: module VGG_base_bn is treated as a zero-op.\n",
      "Computational complexity:       1.62 GMac\n",
      "Number of parameters:           45.25 M \n"
     ]
    }
   ],
   "source": [
    "with torch.cuda.device(0):\n",
    "  macs, params = get_model_complexity_info(P1b_19_model, (3, 64, 64), as_strings=True,\n",
    "                                           print_per_layer_stat=False, verbose=True)\n",
    "  print('{:<30}  {:<8}'.format('Computational complexity: ', macs))\n",
    "  print('{:<30}  {:<8}'.format('Number of parameters: ', params))"
   ]
  },
  {
   "cell_type": "code",
   "execution_count": 141,
   "id": "74ff36d1-3c18-48e2-b342-221554300a48",
   "metadata": {},
   "outputs": [],
   "source": [
    "torch.save(P1b_19_model.state_dict(), \"models/P1b_19\")"
   ]
  },
  {
   "cell_type": "markdown",
   "id": "58659c56-8f2f-4284-bb1f-225a3308754f",
   "metadata": {},
   "source": [
    "#### VGG_base model with Batch Norm:\n",
    "\n",
    "Training time: 0:06:43.170907\n",
    "\n",
    "Computation Complexity: 639.21 MMac\n",
    "\n",
    "Number of parameters: 34.44 M\n",
    "\n",
    "#### VGG-16 with Batch Norm:\n",
    "\n",
    "Training time: 0:10:20.450244\n",
    "\n",
    "Computational complexity: 1.28 GMac\n",
    "\n",
    "Number of parameters: 39.94 M\n",
    "\n",
    "#### VGG-19 with Batch Norm:\n",
    "\n",
    "Training time: 0:11:38.610347\n",
    "\n",
    "Computational complexity: 1.62 GMac\n",
    "\n",
    "Number of parameters: 45.25 M\n",
    "\n",
    "#### Conclusion:\n",
    "\n",
    "When using the deeper VGG models, the accuracy increased and the generalization gap decreased further. If the models were trained for longer, there may have been a more significant difference in accuracy. These deeper models come at a cost of a much higher computational complexity and number of parameters, which causes them to take longer to train. This may be worth it as the overfitting issues of the baseline VGG seem to be gone (at least for the initial 10 epochs)."
   ]
  },
  {
   "cell_type": "markdown",
   "id": "6a119a96-e474-4b49-9303-b52362477027",
   "metadata": {
    "jp-MarkdownHeadingCollapsed": true,
    "tags": []
   },
   "source": [
    "## Problem 2a: Use the CIFAR-10 to train a baseline classifier based on the GoogleNet model we did in lectures for 64*64 input resolution. Report your classification accuracy for the validation set, as well as training loss and training accuracy."
   ]
  },
  {
   "cell_type": "code",
   "execution_count": 104,
   "id": "a3fe6277-8df9-48e5-a5d8-9c4b49a178d5",
   "metadata": {},
   "outputs": [],
   "source": [
    "# Build GoogleNet Arch from lecture (copied from D2L textbook)\n",
    "class Inception(nn.Module):\n",
    "    # c1--c4 are the number of output channels for each branch\n",
    "    def __init__(self, c1, c2, c3, c4):\n",
    "        super(Inception, self).__init__()\n",
    "        # Branch 1\n",
    "        self.b1_1 = nn.Sequential(\n",
    "            nn.LazyConv2d(c1, kernel_size=1),\n",
    "            # nn.LazyBatchNorm2d(),\n",
    "            nn.ReLU()\n",
    "        )\n",
    "        # Branch 2\n",
    "        self.b2_1 = nn.LazyConv2d(c2[0], kernel_size=1)\n",
    "        self.b2_2 = nn.LazyConv2d(c2[1], kernel_size=3, padding=1)\n",
    "        # Branch 3\n",
    "        self.b3_1 = nn.LazyConv2d(c3[0], kernel_size=1)\n",
    "        self.b3_2 = nn.LazyConv2d(c3[1], kernel_size=5, padding=2)\n",
    "        # Branch 4\n",
    "        self.b4_1 = nn.MaxPool2d(kernel_size=3, stride=1, padding=1)\n",
    "        self.b4_2 = nn.LazyConv2d(c4, kernel_size=1)\n",
    "\n",
    "    def forward(self, x):\n",
    "        b1 = F.relu(self.b1_1(x))\n",
    "        b2 = F.relu(self.b2_2(F.relu(self.b2_1(x))))\n",
    "        b3 = F.relu(self.b3_2(F.relu(self.b3_1(x))))\n",
    "        b4 = F.relu(self.b4_2(self.b4_1(x)))\n",
    "        return torch.cat((b1, b2, b3, b4), dim=1)"
   ]
  },
  {
   "cell_type": "code",
   "execution_count": 129,
   "id": "77b5c8bd-8c54-4eac-81e2-4f2b915b0068",
   "metadata": {},
   "outputs": [],
   "source": [
    "class GoogleNet(nn.Module):\n",
    "    def __init__(self, lr=0.1, num_classes=10):\n",
    "        super().__init__()\n",
    "        self.b1 = nn.Sequential(\n",
    "            nn.LazyConv2d(64, kernel_size=7, stride=2, padding=3),\n",
    "            nn.ReLU(), nn.MaxPool2d(kernel_size=3, stride=2, padding=1)\n",
    "        )\n",
    "        self.b2 = nn.Sequential(\n",
    "            nn.LazyConv2d(64, kernel_size=1), nn.ReLU(),\n",
    "            nn.LazyConv2d(192, kernel_size=3, padding=1), nn.ReLU(),\n",
    "            nn.MaxPool2d(kernel_size=3, stride=2, padding=1)\n",
    "        )\n",
    "        \n",
    "        self.b3 = nn.Sequential(\n",
    "            Inception(64, (96, 128), (16, 32), 32),\n",
    "            Inception(128, (128, 192), (32, 96), 64),\n",
    "            nn.MaxPool2d(kernel_size=3, stride=2, padding=1)\n",
    "        )\n",
    "        # self.b4 = nn.Sequential(\n",
    "        #     Inception(192, (96, 208), (16, 48), 64),\n",
    "        #     Inception(160, (112, 224), (24, 64), 64),\n",
    "        #     Inception(128, (128, 256), (24, 64), 64),\n",
    "        #     Inception(112, (144, 288), (32, 64), 64),\n",
    "        #     Inception(256, (160, 320), (32, 128), 128),\n",
    "        #     nn.MaxPool2d(kernel_size=3, stride=2, padding=1)\n",
    "        # )\n",
    "        self.b5 = nn.Sequential(\n",
    "            Inception(256, (160, 320), (32, 128), 128),\n",
    "            Inception(384, (192, 384), (48, 128), 128),\n",
    "            nn.AdaptiveAvgPool2d((1,1)), nn.Flatten()\n",
    "        )\n",
    "        \n",
    "        self.net = nn.Sequential(\n",
    "            self.b1,\n",
    "            self.b2,\n",
    "            self.b3,\n",
    "            # self.b4,\n",
    "            self.b5,\n",
    "            nn.LazyLinear(num_classes)\n",
    "        )\n",
    "    def forward(self, x):\n",
    "        x = self.net(x)\n",
    "        return x"
   ]
  },
  {
   "cell_type": "code",
   "execution_count": 130,
   "id": "0dbd840c-0c4e-4249-a93f-dfb77976d692",
   "metadata": {},
   "outputs": [
    {
     "data": {
      "text/plain": [
       "tensor([[-0.0227, -0.0023, -0.0414, -0.0053,  0.0075,  0.0351, -0.0017, -0.0333,\n",
       "          0.0117,  0.0183]], device='cuda:0', grad_fn=<AddmmBackward0>)"
      ]
     },
     "execution_count": 130,
     "metadata": {},
     "output_type": "execute_result"
    }
   ],
   "source": [
    "P2a_model = GoogleNet().to(device)\n",
    "P2a_model(torch.randn(1, 3, 64, 64).to(device))"
   ]
  },
  {
   "cell_type": "code",
   "execution_count": 117,
   "id": "7d9baefc-b9f9-40c3-8222-7cd2cda94a68",
   "metadata": {},
   "outputs": [
    {
     "name": "stderr",
     "output_type": "stream",
     "text": [
      " 10%|████████▎                                                                          | 1/10 [00:34<05:07, 34.15s/it]"
     ]
    },
    {
     "name": "stdout",
     "output_type": "stream",
     "text": [
      "Epoch: 1\n",
      "--------------- Train Loss: 2.1956, Train Accuracy: 0.1476, Val Loss: 1.9638, Val Accuracy: 0.2303\n"
     ]
    },
    {
     "name": "stderr",
     "output_type": "stream",
     "text": [
      " 20%|████████████████▌                                                                  | 2/10 [01:07<04:28, 33.57s/it]"
     ]
    },
    {
     "name": "stdout",
     "output_type": "stream",
     "text": [
      "Epoch: 2\n",
      "--------------- Train Loss: 1.8600, Train Accuracy: 0.2770, Val Loss: 1.7158, Val Accuracy: 0.3216\n"
     ]
    },
    {
     "name": "stderr",
     "output_type": "stream",
     "text": [
      " 30%|████████████████████████▉                                                          | 3/10 [01:40<03:53, 33.41s/it]"
     ]
    },
    {
     "name": "stdout",
     "output_type": "stream",
     "text": [
      "Epoch: 3\n",
      "--------------- Train Loss: 1.6011, Train Accuracy: 0.3874, Val Loss: 1.4406, Val Accuracy: 0.4585\n"
     ]
    },
    {
     "name": "stderr",
     "output_type": "stream",
     "text": [
      " 40%|█████████████████████████████████▏                                                 | 4/10 [02:13<03:19, 33.27s/it]"
     ]
    },
    {
     "name": "stdout",
     "output_type": "stream",
     "text": [
      "Epoch: 4\n",
      "--------------- Train Loss: 1.3652, Train Accuracy: 0.4835, Val Loss: 1.3427, Val Accuracy: 0.4962\n"
     ]
    },
    {
     "name": "stderr",
     "output_type": "stream",
     "text": [
      " 50%|█████████████████████████████████████████▌                                         | 5/10 [02:47<02:46, 33.34s/it]"
     ]
    },
    {
     "name": "stdout",
     "output_type": "stream",
     "text": [
      "Epoch: 5\n",
      "--------------- Train Loss: 1.1771, Train Accuracy: 0.5565, Val Loss: 1.1134, Val Accuracy: 0.5798\n"
     ]
    },
    {
     "name": "stderr",
     "output_type": "stream",
     "text": [
      " 60%|█████████████████████████████████████████████████▊                                 | 6/10 [03:20<02:14, 33.53s/it]"
     ]
    },
    {
     "name": "stdout",
     "output_type": "stream",
     "text": [
      "Epoch: 6\n",
      "--------------- Train Loss: 1.0144, Train Accuracy: 0.6211, Val Loss: 1.0275, Val Accuracy: 0.6235\n"
     ]
    },
    {
     "name": "stderr",
     "output_type": "stream",
     "text": [
      " 70%|██████████████████████████████████████████████████████████                         | 7/10 [03:55<01:41, 33.73s/it]"
     ]
    },
    {
     "name": "stdout",
     "output_type": "stream",
     "text": [
      "Epoch: 7\n",
      "--------------- Train Loss: 0.8732, Train Accuracy: 0.6660, Val Loss: 0.8463, Val Accuracy: 0.6791\n"
     ]
    },
    {
     "name": "stderr",
     "output_type": "stream",
     "text": [
      " 80%|██████████████████████████████████████████████████████████████████▍                | 8/10 [04:29<01:07, 33.91s/it]"
     ]
    },
    {
     "name": "stdout",
     "output_type": "stream",
     "text": [
      "Epoch: 8\n",
      "--------------- Train Loss: 0.7652, Train Accuracy: 0.7104, Val Loss: 0.8485, Val Accuracy: 0.6885\n"
     ]
    },
    {
     "name": "stderr",
     "output_type": "stream",
     "text": [
      " 90%|██████████████████████████████████████████████████████████████████████████▋        | 9/10 [05:04<00:34, 34.14s/it]"
     ]
    },
    {
     "name": "stdout",
     "output_type": "stream",
     "text": [
      "Epoch: 9\n",
      "--------------- Train Loss: 0.6778, Train Accuracy: 0.7347, Val Loss: 0.7082, Val Accuracy: 0.7281\n"
     ]
    },
    {
     "name": "stderr",
     "output_type": "stream",
     "text": [
      "100%|██████████████████████████████████████████████████████████████████████████████████| 10/10 [05:38<00:00, 33.86s/it]"
     ]
    },
    {
     "name": "stdout",
     "output_type": "stream",
     "text": [
      "Epoch: 10\n",
      "--------------- Train Loss: 0.6068, Train Accuracy: 0.7603, Val Loss: 0.7719, Val Accuracy: 0.7214\n",
      "Training Time: 0:05:38.641771\n"
     ]
    },
    {
     "name": "stderr",
     "output_type": "stream",
     "text": [
      "\n"
     ]
    },
    {
     "data": {
      "image/png": "[encoded data removed]",
      "text/plain": [
       "<Figure size 640x480 with 1 Axes>"
      ]
     },
     "metadata": {},
     "output_type": "display_data"
    }
   ],
   "source": [
    "loss_fn = nn.CrossEntropyLoss()\n",
    "optimizer = torch.optim.SGD(params=P2a_model.parameters(),\n",
    "                            lr=0.1)\n",
    "accuracy_fn = MulticlassAccuracy(num_classes=10).to(device)\n",
    "epochs = 10\n",
    "\n",
    "start_time = datetime.now()\n",
    "P2a_model_history = train(model=P2a_model,\n",
    "                     train_dataloader=trainLoader,\n",
    "                     val_dataloader=valLoader,\n",
    "                     optim=optimizer,\n",
    "                     loss_fn=loss_fn,\n",
    "                     accuracy_fn=accuracy_fn,\n",
    "                     epochs=epochs,\n",
    "                     device=device,\n",
    "                     verbose=False)\n",
    "stop_time = datetime.now()\n",
    "print(f\"Training Time: {stop_time - start_time}\")\n",
    "plot_history(P2a_model_history)\n",
    "# Train Test 1: Training with Base version of GoogleNet was very poor, so I removed some of the Inception blocks\n",
    "# Train Test 2: After removing b4, training improved while decreasing complexity. Accuracy was still low after 10 epochs"
   ]
  },
  {
   "cell_type": "code",
   "execution_count": 119,
   "id": "1ee5f763-903f-41f0-b18e-4d037611ea14",
   "metadata": {},
   "outputs": [
    {
     "data": {
      "text/plain": [
       "tensor([[ 0.1759, -3.8758,  3.2394,  1.5138,  2.8231, -0.6364,  3.9632, -2.3055,\n",
       "         -2.1075, -2.6912]], device='cuda:0', grad_fn=<AddmmBackward0>)"
      ]
     },
     "execution_count": 119,
     "metadata": {},
     "output_type": "execute_result"
    }
   ],
   "source": [
    "P2a_model(torch.randn(1, 3, 64, 64).to(device))"
   ]
  },
  {
   "cell_type": "code",
   "execution_count": null,
   "id": "28b7ba3b-6abb-4594-9096-70d65db3cf36",
   "metadata": {},
   "outputs": [],
   "source": [
    "# CLEARED OUTPUT FOR SUBMISSION DUE TO LONG WARNING MESSAGE\n",
    "with torch.cuda.device(0):\n",
    "  macs, params = get_model_complexity_info(P2a_model, (3, 64, 64), as_strings=True,\n",
    "                                           print_per_layer_stat=False, verbose=True)\n",
    "  print('{:<30}  {:<8}'.format('Computational complexity: ', macs))\n",
    "  print('{:<30}  {:<8}'.format('Number of parameters: ', params))"
   ]
  },
  {
   "cell_type": "code",
   "execution_count": 142,
   "id": "f7b35d72-7951-4259-b1d2-8ffe4f95e979",
   "metadata": {},
   "outputs": [],
   "source": [
    "torch.save(P2a_model.state_dict(), \"models/P2a\")"
   ]
  },
  {
   "cell_type": "markdown",
   "id": "ecf31c87-07c3-4d86-87cf-25b5b8f1633e",
   "metadata": {
    "jp-MarkdownHeadingCollapsed": true,
    "tags": []
   },
   "source": [
    "## Problem 2b: Add Batch Normalization to previous model. Report performance and compare"
   ]
  },
  {
   "cell_type": "code",
   "execution_count": 127,
   "id": "dcb762bf-8ec4-4ac0-8a3c-d2baa264ba5a",
   "metadata": {},
   "outputs": [],
   "source": [
    "# Redefine GoogleNet with Batch Norm\n",
    "class Inception_bn(nn.Module):\n",
    "    # c1--c4 are the number of output channels for each branch\n",
    "    def __init__(self, c1, c2, c3, c4):\n",
    "        super(Inception_bn, self).__init__()\n",
    "        # Branch 1\n",
    "        self.b1_1 = nn.Sequential(\n",
    "            nn.LazyConv2d(c1, kernel_size=1),\n",
    "            nn.LazyBatchNorm2d(),\n",
    "        )\n",
    "        # Branch 2\n",
    "        self.b2_1 = nn.Sequential(\n",
    "            nn.LazyConv2d(c2[0], kernel_size=1),\n",
    "            nn.LazyBatchNorm2d()\n",
    "        )\n",
    "        self.b2_2 = nn.Sequential(\n",
    "            nn.LazyConv2d(c2[1], kernel_size=3, padding=1),\n",
    "            nn.LazyBatchNorm2d()\n",
    "        )\n",
    "        # Branch 3\n",
    "        self.b3_1 = nn.Sequential(\n",
    "            nn.LazyConv2d(c3[0], kernel_size=1),\n",
    "            nn.LazyBatchNorm2d()\n",
    "        )\n",
    "        self.b3_2 = nn.Sequential(\n",
    "            nn.LazyConv2d(c3[1], kernel_size=5, padding=2),\n",
    "            nn.LazyBatchNorm2d()\n",
    "        )\n",
    "        # Branch 4\n",
    "        self.b4_1 = nn.MaxPool2d(kernel_size=3, stride=1, padding=1)\n",
    "        self.b4_2 = nn.Sequential(\n",
    "            nn.LazyConv2d(c4, kernel_size=1),\n",
    "            nn.LazyBatchNorm2d()\n",
    "        )\n",
    "\n",
    "    def forward(self, x):\n",
    "        b1 = F.relu(self.b1_1(x))\n",
    "        b2 = F.relu(self.b2_2(F.relu(self.b2_1(x))))\n",
    "        b3 = F.relu(self.b3_2(F.relu(self.b3_1(x))))\n",
    "        b4 = F.relu(self.b4_2(self.b4_1(x)))\n",
    "        return torch.cat((b1, b2, b3, b4), dim=1)"
   ]
  },
  {
   "cell_type": "code",
   "execution_count": 132,
   "id": "ad8ce84a-d511-4e58-93a8-bf6a782466ab",
   "metadata": {},
   "outputs": [],
   "source": [
    "class GoogleNet_bn(nn.Module):\n",
    "    def __init__(self, lr=0.1, num_classes=10):\n",
    "        super().__init__()\n",
    "        self.b1 = nn.Sequential(\n",
    "            nn.LazyConv2d(64, kernel_size=7, stride=2, padding=3),\n",
    "            nn.ReLU(), nn.MaxPool2d(kernel_size=3, stride=2, padding=1)\n",
    "        )\n",
    "        self.b2 = nn.Sequential(\n",
    "            nn.LazyConv2d(64, kernel_size=1), nn.ReLU(),\n",
    "            nn.LazyConv2d(192, kernel_size=3, padding=1), nn.ReLU(),\n",
    "            nn.MaxPool2d(kernel_size=3, stride=2, padding=1)\n",
    "        )\n",
    "        \n",
    "        self.b3 = nn.Sequential(\n",
    "            Inception_bn(64, (96, 128), (16, 32), 32),\n",
    "            Inception_bn(128, (128, 192), (32, 96), 64),\n",
    "            nn.MaxPool2d(kernel_size=3, stride=2, padding=1)\n",
    "        )\n",
    "        # self.b4 = nn.Sequential(\n",
    "        #     Inception_bn(192, (96, 208), (16, 48), 64),\n",
    "        #     Inception_bn(160, (112, 224), (24, 64), 64),\n",
    "        #     Inception_bn(128, (128, 256), (24, 64), 64),\n",
    "        #     Inception_bn(112, (144, 288), (32, 64), 64),\n",
    "        #     Inception_bn(256, (160, 320), (32, 128), 128),\n",
    "        #     nn.MaxPool2d(kernel_size=3, stride=2, padding=1)\n",
    "        # )\n",
    "        self.b5 = nn.Sequential(\n",
    "            Inception_bn(256, (160, 320), (32, 128), 128),\n",
    "            Inception_bn(384, (192, 384), (48, 128), 128),\n",
    "            nn.AdaptiveAvgPool2d((1,1)), nn.Flatten()\n",
    "        )\n",
    "        \n",
    "        self.net = nn.Sequential(\n",
    "            self.b1,\n",
    "            self.b2,\n",
    "            self.b3,\n",
    "            # self.b4,\n",
    "            self.b5,\n",
    "            nn.LazyLinear(num_classes)\n",
    "        )\n",
    "    def forward(self, x):\n",
    "        x = self.net(x)\n",
    "        return x"
   ]
  },
  {
   "cell_type": "code",
   "execution_count": 134,
   "id": "74f6853a-d6f8-447c-bfad-12da9c8c3919",
   "metadata": {},
   "outputs": [
    {
     "data": {
      "text/plain": [
       "tensor([[-0.0417,  0.4391, -0.0223,  0.1302,  0.4491, -0.2250, -0.3055,  0.2199,\n",
       "          0.2255,  0.0317]], device='cuda:0', grad_fn=<AddmmBackward0>)"
      ]
     },
     "execution_count": 134,
     "metadata": {},
     "output_type": "execute_result"
    }
   ],
   "source": [
    "P2b_model = GoogleNet_bn().to(device)\n",
    "P2b_model(torch.randn(1, 3, 64, 64).to(device))"
   ]
  },
  {
   "cell_type": "code",
   "execution_count": 135,
   "id": "5d044dbe-829d-47fb-97f4-40b68b5b6155",
   "metadata": {},
   "outputs": [
    {
     "name": "stderr",
     "output_type": "stream",
     "text": [
      " 10%|████████▎                                                                          | 1/10 [00:40<06:02, 40.24s/it]"
     ]
    },
    {
     "name": "stdout",
     "output_type": "stream",
     "text": [
      "Epoch: 1\n",
      "--------------- Train Loss: 1.4451, Train Accuracy: 0.4920, Val Loss: 1.3977, Val Accuracy: 0.5168\n"
     ]
    },
    {
     "name": "stderr",
     "output_type": "stream",
     "text": [
      " 20%|████████████████▌                                                                  | 2/10 [01:19<05:18, 39.86s/it]"
     ]
    },
    {
     "name": "stdout",
     "output_type": "stream",
     "text": [
      "Epoch: 2\n",
      "--------------- Train Loss: 0.8906, Train Accuracy: 0.6818, Val Loss: 0.7717, Val Accuracy: 0.7111\n"
     ]
    },
    {
     "name": "stderr",
     "output_type": "stream",
     "text": [
      " 30%|████████████████████████▉                                                          | 3/10 [02:00<04:41, 40.15s/it]"
     ]
    },
    {
     "name": "stdout",
     "output_type": "stream",
     "text": [
      "Epoch: 3\n",
      "--------------- Train Loss: 0.6857, Train Accuracy: 0.7511, Val Loss: 0.7342, Val Accuracy: 0.7293\n"
     ]
    },
    {
     "name": "stderr",
     "output_type": "stream",
     "text": [
      " 40%|█████████████████████████████████▏                                                 | 4/10 [02:39<03:58, 39.69s/it]"
     ]
    },
    {
     "name": "stdout",
     "output_type": "stream",
     "text": [
      "Epoch: 4\n",
      "--------------- Train Loss: 0.5595, Train Accuracy: 0.7934, Val Loss: 0.6820, Val Accuracy: 0.7457\n"
     ]
    },
    {
     "name": "stderr",
     "output_type": "stream",
     "text": [
      " 50%|█████████████████████████████████████████▌                                         | 5/10 [03:17<03:15, 39.15s/it]"
     ]
    },
    {
     "name": "stdout",
     "output_type": "stream",
     "text": [
      "Epoch: 5\n",
      "--------------- Train Loss: 0.4616, Train Accuracy: 0.8218, Val Loss: 0.7467, Val Accuracy: 0.7298\n"
     ]
    },
    {
     "name": "stderr",
     "output_type": "stream",
     "text": [
      " 60%|█████████████████████████████████████████████████▊                                 | 6/10 [03:55<02:34, 38.70s/it]"
     ]
    },
    {
     "name": "stdout",
     "output_type": "stream",
     "text": [
      "Epoch: 6\n",
      "--------------- Train Loss: 0.3761, Train Accuracy: 0.8510, Val Loss: 0.7209, Val Accuracy: 0.7411\n"
     ]
    },
    {
     "name": "stderr",
     "output_type": "stream",
     "text": [
      " 70%|██████████████████████████████████████████████████████████                         | 7/10 [04:33<01:55, 38.53s/it]"
     ]
    },
    {
     "name": "stdout",
     "output_type": "stream",
     "text": [
      "Epoch: 7\n",
      "--------------- Train Loss: 0.3073, Train Accuracy: 0.8697, Val Loss: 0.7479, Val Accuracy: 0.7512\n"
     ]
    },
    {
     "name": "stderr",
     "output_type": "stream",
     "text": [
      " 80%|██████████████████████████████████████████████████████████████████▍                | 8/10 [05:11<01:16, 38.48s/it]"
     ]
    },
    {
     "name": "stdout",
     "output_type": "stream",
     "text": [
      "Epoch: 8\n",
      "--------------- Train Loss: 0.2510, Train Accuracy: 0.8895, Val Loss: 0.7450, Val Accuracy: 0.7536\n"
     ]
    },
    {
     "name": "stderr",
     "output_type": "stream",
     "text": [
      " 90%|██████████████████████████████████████████████████████████████████████████▋        | 9/10 [05:50<00:38, 38.46s/it]"
     ]
    },
    {
     "name": "stdout",
     "output_type": "stream",
     "text": [
      "Epoch: 9\n",
      "--------------- Train Loss: 0.2011, Train Accuracy: 0.9065, Val Loss: 0.7512, Val Accuracy: 0.7729\n"
     ]
    },
    {
     "name": "stderr",
     "output_type": "stream",
     "text": [
      "100%|██████████████████████████████████████████████████████████████████████████████████| 10/10 [06:28<00:00, 38.85s/it]"
     ]
    },
    {
     "name": "stdout",
     "output_type": "stream",
     "text": [
      "Epoch: 10\n",
      "--------------- Train Loss: 0.1630, Train Accuracy: 0.9171, Val Loss: 0.8659, Val Accuracy: 0.7641\n",
      "Training Time: 0:06:28.546035\n"
     ]
    },
    {
     "name": "stderr",
     "output_type": "stream",
     "text": [
      "\n"
     ]
    },
    {
     "data": {
      "image/png": "[encoded data removed]",
      "text/plain": [
       "<Figure size 640x480 with 1 Axes>"
      ]
     },
     "metadata": {},
     "output_type": "display_data"
    }
   ],
   "source": [
    "loss_fn = nn.CrossEntropyLoss()\n",
    "optimizer = torch.optim.SGD(params=P2b_model.parameters(),\n",
    "                            lr=0.1)\n",
    "accuracy_fn = MulticlassAccuracy(num_classes=10).to(device)\n",
    "epochs = 10\n",
    "\n",
    "start_time = datetime.now()\n",
    "P2b_model_history = train(model=P2b_model,\n",
    "                     train_dataloader=trainLoader,\n",
    "                     val_dataloader=valLoader,\n",
    "                     optim=optimizer,\n",
    "                     loss_fn=loss_fn,\n",
    "                     accuracy_fn=accuracy_fn,\n",
    "                     epochs=epochs,\n",
    "                     device=device,\n",
    "                     verbose=False)\n",
    "stop_time = datetime.now()\n",
    "print(f\"Training Time: {stop_time - start_time}\")\n",
    "plot_history(P2b_model_history)"
   ]
  },
  {
   "cell_type": "code",
   "execution_count": null,
   "id": "ab73d589-4f4a-42b5-8ee5-c1adde6820b9",
   "metadata": {},
   "outputs": [],
   "source": [
    "# CLEARED OUTPUT FOR SUBMISSION DUE TO LONG WARNING MESSAGE\n",
    "with torch.cuda.device(0):\n",
    "  macs, params = get_model_complexity_info(P2b_model, (3, 64, 64), as_strings=True,\n",
    "                                           print_per_layer_stat=False, verbose=True)\n",
    "  print('{:<30}  {:<8}'.format('Computational complexity: ', macs))\n",
    "  print('{:<30}  {:<8}'.format('Number of parameters: ', params))"
   ]
  },
  {
   "cell_type": "code",
   "execution_count": 143,
   "id": "2f75c66a-3201-4bb9-9265-e7f4d8935eb4",
   "metadata": {},
   "outputs": [],
   "source": [
    "torch.save(P2b_model.state_dict(), \"models/P2b\")"
   ]
  },
  {
   "cell_type": "markdown",
   "id": "8e3f1ea6-ad49-4ae7-af9d-e4b9fcf5514f",
   "metadata": {},
   "source": [
    "#### GoogleNet:\n",
    "\n",
    "Training Time: 0:05:38.641771\n",
    "\n",
    "Computational complexity: 222.81 MMac\n",
    "\n",
    "Number of parameters: 2.97 M \n",
    "\n",
    "#### GoogleNet with Batch Norm:\n",
    "\n",
    "Training Time: 0:06:28.546035\n",
    "\n",
    "Computational complexity: 223.17 MMac\n",
    "\n",
    "Number of parameters: 2.98 M \n",
    "\n",
    "#### Conclusions\n",
    "\n",
    "Based on the training performed in Problem 2, we can see that adding batch normalization does not significantly change the model's complexity. With batch normalization, the validation accuracy increased by 6%."
   ]
  },
  {
   "cell_type": "markdown",
   "id": "12d3b283-19a6-46e0-8b32-35aab3cedd9a",
   "metadata": {
    "tags": []
   },
   "source": [
    "## Problem 3a: With ResNet-18, train that for CIFAR-10 and report and compare against GoogleNet and VGGNet architectures"
   ]
  },
  {
   "cell_type": "code",
   "execution_count": 18,
   "id": "d84de421-a250-45b4-b96d-f051802f5972",
   "metadata": {},
   "outputs": [],
   "source": [
    "# Build ResNet version from lecture, using D2L code\n",
    "class Residual(nn.Module):\n",
    "    def __init__(self, num_channels, use_1x1conv=False, strides=1):\n",
    "        super().__init__()\n",
    "        self.conv1 = nn.LazyConv2d(num_channels, kernel_size=3, padding=1,\n",
    "                                   stride=strides)\n",
    "        self.conv2 = nn.LazyConv2d(num_channels, kernel_size=3, padding=1)\n",
    "        if use_1x1conv:\n",
    "            self.conv3 = nn.LazyConv2d(num_channels, kernel_size=1,\n",
    "                                       stride=strides)\n",
    "        else:\n",
    "            self.conv3 = None\n",
    "        self.bn1 = nn.LazyBatchNorm2d()\n",
    "        self.bn2 = nn.LazyBatchNorm2d()\n",
    "\n",
    "    def forward(self, X):\n",
    "        Y = F.relu(self.bn1(self.conv1(X)))\n",
    "        Y = self.bn2(self.conv2(Y))\n",
    "        if self.conv3:\n",
    "            X = self.conv3(X)\n",
    "        Y += X\n",
    "        return F.relu(Y)"
   ]
  },
  {
   "cell_type": "code",
   "execution_count": 19,
   "id": "c95a7878-7251-431b-971c-5ab5dfa2ce97",
   "metadata": {},
   "outputs": [],
   "source": [
    "class ResNet(nn.Module):\n",
    "    def block(self, num_residuals, num_channels, first_block=False):\n",
    "        blk = []\n",
    "        for i in range(num_residuals):\n",
    "            if i == 0 and not first_block:\n",
    "                blk.append(Residual(num_channels, use_1x1conv=True, strides=2))\n",
    "            else:\n",
    "                blk.append(Residual(num_channels))\n",
    "        return nn.Sequential(*blk)\n",
    "\n",
    "    def __init__(self, arch, lr=0.1, num_classes=10, ):\n",
    "        super().__init__()\n",
    "        self.stem = nn.Sequential(\n",
    "            nn.LazyConv2d(64, kernel_size=7, stride=2, padding=3),\n",
    "            nn.LazyBatchNorm2d(), nn.ReLU(),\n",
    "            nn.MaxPool2d(kernel_size=3, stride=2, padding=1)\n",
    "        )\n",
    "        \n",
    "        self.body = nn.Sequential()\n",
    "        for i, b in enumerate(arch):\n",
    "            self.body.add_module(f'b{i+2}', self.block(*b, first_block=(i==0)))\n",
    "        self.body.add_module(\"AVG Adaptive Pool\", nn.AdaptiveAvgPool2d((1, 1)))\n",
    "        \n",
    "        self.head = nn.Sequential(\n",
    "            nn.Flatten(),\n",
    "            nn.LazyLinear(num_classes)\n",
    "        )\n",
    "        \n",
    "        self.net = nn.Sequential(\n",
    "            self.stem,\n",
    "            self.body,\n",
    "            self.head,\n",
    "        )\n",
    "    def forward(self, x):\n",
    "        x = self.stem(x)\n",
    "        x = self.body(x)\n",
    "        x = self.head(x)\n",
    "        return x"
   ]
  },
  {
   "cell_type": "code",
   "execution_count": 15,
   "id": "2e4dc09c-c44b-4499-b1aa-7b1ba9772904",
   "metadata": {},
   "outputs": [
    {
     "data": {
      "text/plain": [
       "tensor([[-0.2125, -0.5688,  0.1475,  0.6222,  0.0256, -0.4285,  0.3562, -0.0945,\n",
       "          0.0902,  0.1118]], device='cuda:0', grad_fn=<AddmmBackward0>)"
      ]
     },
     "execution_count": 15,
     "metadata": {},
     "output_type": "execute_result"
    }
   ],
   "source": [
    "P3a_model = ResNet(((2, 64), (2, 128), (2, 256), (2, 512))).to(device)\n",
    "P3a_model(torch.randn(1, 3, 64, 64).to(device))"
   ]
  },
  {
   "cell_type": "code",
   "execution_count": 19,
   "id": "eca39481-0cda-418c-84d4-61ba8519539e",
   "metadata": {},
   "outputs": [
    {
     "name": "stderr",
     "output_type": "stream",
     "text": [
      " 10%|████████▎                                                                          | 1/10 [00:35<05:20, 35.63s/it]"
     ]
    },
    {
     "name": "stdout",
     "output_type": "stream",
     "text": [
      "Epoch: 1\n",
      "--------------- Train Loss: 1.5410, Train Accuracy: 0.4345, Val Loss: 1.2523, Val Accuracy: 0.5479\n"
     ]
    },
    {
     "name": "stderr",
     "output_type": "stream",
     "text": [
      " 20%|████████████████▌                                                                  | 2/10 [01:10<04:42, 35.35s/it]"
     ]
    },
    {
     "name": "stdout",
     "output_type": "stream",
     "text": [
      "Epoch: 2\n",
      "--------------- Train Loss: 1.0868, Train Accuracy: 0.6090, Val Loss: 1.0442, Val Accuracy: 0.6158\n"
     ]
    },
    {
     "name": "stderr",
     "output_type": "stream",
     "text": [
      " 30%|████████████████████████▉                                                          | 3/10 [01:45<04:05, 35.12s/it]"
     ]
    },
    {
     "name": "stdout",
     "output_type": "stream",
     "text": [
      "Epoch: 3\n",
      "--------------- Train Loss: 0.8484, Train Accuracy: 0.6885, Val Loss: 0.9218, Val Accuracy: 0.6736\n"
     ]
    },
    {
     "name": "stderr",
     "output_type": "stream",
     "text": [
      " 40%|█████████████████████████████████▏                                                 | 4/10 [02:22<03:33, 35.61s/it]"
     ]
    },
    {
     "name": "stdout",
     "output_type": "stream",
     "text": [
      "Epoch: 4\n",
      "--------------- Train Loss: 0.6743, Train Accuracy: 0.7489, Val Loss: 0.8411, Val Accuracy: 0.6869\n"
     ]
    },
    {
     "name": "stderr",
     "output_type": "stream",
     "text": [
      " 50%|█████████████████████████████████████████▌                                         | 5/10 [02:56<02:56, 35.23s/it]"
     ]
    },
    {
     "name": "stdout",
     "output_type": "stream",
     "text": [
      "Epoch: 5\n",
      "--------------- Train Loss: 0.5299, Train Accuracy: 0.7977, Val Loss: 0.7499, Val Accuracy: 0.7256\n"
     ]
    },
    {
     "name": "stderr",
     "output_type": "stream",
     "text": [
      " 60%|█████████████████████████████████████████████████▊                                 | 6/10 [03:31<02:20, 35.09s/it]"
     ]
    },
    {
     "name": "stdout",
     "output_type": "stream",
     "text": [
      "Epoch: 6\n",
      "--------------- Train Loss: 0.4049, Train Accuracy: 0.8366, Val Loss: 0.7569, Val Accuracy: 0.7288\n"
     ]
    },
    {
     "name": "stderr",
     "output_type": "stream",
     "text": [
      " 70%|██████████████████████████████████████████████████████████                         | 7/10 [04:06<01:45, 35.10s/it]"
     ]
    },
    {
     "name": "stdout",
     "output_type": "stream",
     "text": [
      "Epoch: 7\n",
      "--------------- Train Loss: 0.3029, Train Accuracy: 0.8693, Val Loss: 0.9208, Val Accuracy: 0.7049\n"
     ]
    },
    {
     "name": "stderr",
     "output_type": "stream",
     "text": [
      " 80%|██████████████████████████████████████████████████████████████████▍                | 8/10 [04:41<01:09, 34.98s/it]"
     ]
    },
    {
     "name": "stdout",
     "output_type": "stream",
     "text": [
      "Epoch: 8\n",
      "--------------- Train Loss: 0.2295, Train Accuracy: 0.8946, Val Loss: 0.8587, Val Accuracy: 0.7353\n"
     ]
    },
    {
     "name": "stderr",
     "output_type": "stream",
     "text": [
      " 90%|██████████████████████████████████████████████████████████████████████████▋        | 9/10 [05:15<00:34, 34.86s/it]"
     ]
    },
    {
     "name": "stdout",
     "output_type": "stream",
     "text": [
      "Epoch: 9\n",
      "--------------- Train Loss: 0.1612, Train Accuracy: 0.9149, Val Loss: 0.9522, Val Accuracy: 0.7245\n"
     ]
    },
    {
     "name": "stderr",
     "output_type": "stream",
     "text": [
      "100%|██████████████████████████████████████████████████████████████████████████████████| 10/10 [05:50<00:00, 35.06s/it]"
     ]
    },
    {
     "name": "stdout",
     "output_type": "stream",
     "text": [
      "Epoch: 10\n",
      "--------------- Train Loss: 0.1271, Train Accuracy: 0.9292, Val Loss: 0.9186, Val Accuracy: 0.7448\n",
      "Training Time: 0:05:50.575383\n"
     ]
    },
    {
     "name": "stderr",
     "output_type": "stream",
     "text": [
      "\n"
     ]
    },
    {
     "data": {
      "image/png": "[encoded data removed]",
      "text/plain": [
       "<Figure size 640x480 with 1 Axes>"
      ]
     },
     "metadata": {},
     "output_type": "display_data"
    }
   ],
   "source": [
    "loss_fn = nn.CrossEntropyLoss()\n",
    "optimizer = torch.optim.SGD(params=P3a_model.parameters(),\n",
    "                            lr=0.1)\n",
    "accuracy_fn = MulticlassAccuracy(num_classes=10).to(device)\n",
    "epochs = 10\n",
    "\n",
    "start_time = datetime.now()\n",
    "P3a_model_history = train(model=P3a_model,\n",
    "                     train_dataloader=trainLoader,\n",
    "                     val_dataloader=valLoader,\n",
    "                     optim=optimizer,\n",
    "                     loss_fn=loss_fn,\n",
    "                     accuracy_fn=accuracy_fn,\n",
    "                     epochs=epochs,\n",
    "                     device=device,\n",
    "                     verbose=False)\n",
    "stop_time = datetime.now()\n",
    "print(f\"Training Time: {stop_time - start_time}\")\n",
    "plot_history(P3a_model_history)"
   ]
  },
  {
   "cell_type": "code",
   "execution_count": null,
   "id": "3680a1c8-0c32-4b15-b5c0-a735634312c8",
   "metadata": {},
   "outputs": [],
   "source": [
    "# CLEARED OUTPUT FOR SUBMISSION DUE TO LONG WARNING MESSAGE\n",
    "with torch.cuda.device(0):\n",
    "  macs, params = get_model_complexity_info(P3a_model, (3, 64, 64), as_strings=True,\n",
    "                                           print_per_layer_stat=False, verbose=True)\n",
    "  print('{:<30}  {:<8}'.format('Computational complexity: ', macs))\n",
    "  print('{:<30}  {:<8}'.format('Number of parameters: ', params))"
   ]
  },
  {
   "cell_type": "markdown",
   "id": "d4c076ec-9630-4164-be02-ab8bf0dab1e3",
   "metadata": {
    "tags": []
   },
   "source": [
    "## Problem 3b: Build two new versions of ResNet (ResNet-26, and ResNet-32). Train and compare with each version"
   ]
  },
  {
   "cell_type": "code",
   "execution_count": 20,
   "id": "39c8a43b-c610-43ea-b358-2650b9274921",
   "metadata": {},
   "outputs": [
    {
     "data": {
      "text/plain": [
       "tensor([[-0.2602, -0.1892,  0.4048,  0.0902,  0.7225,  0.2032,  0.3447,  0.6396,\n",
       "         -0.2927, -0.0169]], device='cuda:0', grad_fn=<AddmmBackward0>)"
      ]
     },
     "execution_count": 20,
     "metadata": {},
     "output_type": "execute_result"
    }
   ],
   "source": [
    "# Construct ResNet-26\n",
    "P3b_26_model = ResNet(((2, 64), (4, 128), (4, 256), (2, 512))).to(device)\n",
    "P3b_26_model(torch.randn(1, 3, 64, 64).to(device))"
   ]
  },
  {
   "cell_type": "code",
   "execution_count": 21,
   "id": "e77f7c1f-07dd-4391-ac1f-d5ffd186f2d9",
   "metadata": {},
   "outputs": [
    {
     "name": "stderr",
     "output_type": "stream",
     "text": [
      " 10%|████████▎                                                                          | 1/10 [00:45<06:47, 45.23s/it]"
     ]
    },
    {
     "name": "stdout",
     "output_type": "stream",
     "text": [
      "Epoch: 1\n",
      "--------------- Train Loss: 1.6680, Train Accuracy: 0.3848, Val Loss: 1.4122, Val Accuracy: 0.4839\n"
     ]
    },
    {
     "name": "stderr",
     "output_type": "stream",
     "text": [
      " 10%|████████▎                                                                          | 1/10 [00:51<07:40, 51.22s/it]\n"
     ]
    },
    {
     "ename": "KeyboardInterrupt",
     "evalue": "",
     "output_type": "error",
     "traceback": [
      "\u001b[1;31m---------------------------------------------------------------------------\u001b[0m",
      "\u001b[1;31mKeyboardInterrupt\u001b[0m                         Traceback (most recent call last)",
      "Cell \u001b[1;32mIn[21], line 8\u001b[0m\n\u001b[0;32m      5\u001b[0m epochs \u001b[38;5;241m=\u001b[39m \u001b[38;5;241m10\u001b[39m\n\u001b[0;32m      7\u001b[0m start_time \u001b[38;5;241m=\u001b[39m datetime\u001b[38;5;241m.\u001b[39mnow()\n\u001b[1;32m----> 8\u001b[0m P3b_26_model_history \u001b[38;5;241m=\u001b[39m \u001b[43mtrain\u001b[49m\u001b[43m(\u001b[49m\u001b[43mmodel\u001b[49m\u001b[38;5;241;43m=\u001b[39;49m\u001b[43mP3b_26_model\u001b[49m\u001b[43m,\u001b[49m\n\u001b[0;32m      9\u001b[0m \u001b[43m                     \u001b[49m\u001b[43mtrain_dataloader\u001b[49m\u001b[38;5;241;43m=\u001b[39;49m\u001b[43mtrainLoader\u001b[49m\u001b[43m,\u001b[49m\n\u001b[0;32m     10\u001b[0m \u001b[43m                     \u001b[49m\u001b[43mval_dataloader\u001b[49m\u001b[38;5;241;43m=\u001b[39;49m\u001b[43mvalLoader\u001b[49m\u001b[43m,\u001b[49m\n\u001b[0;32m     11\u001b[0m \u001b[43m                     \u001b[49m\u001b[43moptim\u001b[49m\u001b[38;5;241;43m=\u001b[39;49m\u001b[43moptimizer\u001b[49m\u001b[43m,\u001b[49m\n\u001b[0;32m     12\u001b[0m \u001b[43m                     \u001b[49m\u001b[43mloss_fn\u001b[49m\u001b[38;5;241;43m=\u001b[39;49m\u001b[43mloss_fn\u001b[49m\u001b[43m,\u001b[49m\n\u001b[0;32m     13\u001b[0m \u001b[43m                     \u001b[49m\u001b[43maccuracy_fn\u001b[49m\u001b[38;5;241;43m=\u001b[39;49m\u001b[43maccuracy_fn\u001b[49m\u001b[43m,\u001b[49m\n\u001b[0;32m     14\u001b[0m \u001b[43m                     \u001b[49m\u001b[43mepochs\u001b[49m\u001b[38;5;241;43m=\u001b[39;49m\u001b[43mepochs\u001b[49m\u001b[43m,\u001b[49m\n\u001b[0;32m     15\u001b[0m \u001b[43m                     \u001b[49m\u001b[43mdevice\u001b[49m\u001b[38;5;241;43m=\u001b[39;49m\u001b[43mdevice\u001b[49m\u001b[43m,\u001b[49m\n\u001b[0;32m     16\u001b[0m \u001b[43m                     \u001b[49m\u001b[43mverbose\u001b[49m\u001b[38;5;241;43m=\u001b[39;49m\u001b[38;5;28;43;01mFalse\u001b[39;49;00m\u001b[43m)\u001b[49m\n\u001b[0;32m     17\u001b[0m stop_time \u001b[38;5;241m=\u001b[39m datetime\u001b[38;5;241m.\u001b[39mnow()\n\u001b[0;32m     18\u001b[0m \u001b[38;5;28mprint\u001b[39m(\u001b[38;5;124mf\u001b[39m\u001b[38;5;124m\"\u001b[39m\u001b[38;5;124mTraining Time: \u001b[39m\u001b[38;5;132;01m{\u001b[39;00mstop_time\u001b[38;5;250m \u001b[39m\u001b[38;5;241m-\u001b[39m\u001b[38;5;250m \u001b[39mstart_time\u001b[38;5;132;01m}\u001b[39;00m\u001b[38;5;124m\"\u001b[39m)\n",
      "Cell \u001b[1;32mIn[9], line 16\u001b[0m, in \u001b[0;36mtrain\u001b[1;34m(model, train_dataloader, val_dataloader, optim, loss_fn, accuracy_fn, epochs, device, verbose)\u001b[0m\n\u001b[0;32m     11\u001b[0m results \u001b[38;5;241m=\u001b[39m {\u001b[38;5;124m\"\u001b[39m\u001b[38;5;124mTrain Loss\u001b[39m\u001b[38;5;124m\"\u001b[39m: [],\n\u001b[0;32m     12\u001b[0m            \u001b[38;5;124m\"\u001b[39m\u001b[38;5;124mTrain Accuracy\u001b[39m\u001b[38;5;124m\"\u001b[39m: [],\n\u001b[0;32m     13\u001b[0m            \u001b[38;5;124m\"\u001b[39m\u001b[38;5;124mVal Loss\u001b[39m\u001b[38;5;124m\"\u001b[39m: [],\n\u001b[0;32m     14\u001b[0m            \u001b[38;5;124m\"\u001b[39m\u001b[38;5;124mVal Accuracy\u001b[39m\u001b[38;5;124m\"\u001b[39m: []}\n\u001b[0;32m     15\u001b[0m \u001b[38;5;28;01mfor\u001b[39;00m epoch \u001b[38;5;129;01min\u001b[39;00m tqdm(\u001b[38;5;28mrange\u001b[39m(epochs), disable\u001b[38;5;241m=\u001b[39mverbose):\n\u001b[1;32m---> 16\u001b[0m     train_loss, train_acc \u001b[38;5;241m=\u001b[39m \u001b[43mtrain_step\u001b[49m\u001b[43m(\u001b[49m\u001b[43mmodel\u001b[49m\u001b[38;5;241;43m=\u001b[39;49m\u001b[43mmodel\u001b[49m\u001b[43m,\u001b[49m\n\u001b[0;32m     17\u001b[0m \u001b[43m                                       \u001b[49m\u001b[43mdata_loader\u001b[49m\u001b[38;5;241;43m=\u001b[39;49m\u001b[43mtrain_dataloader\u001b[49m\u001b[43m,\u001b[49m\n\u001b[0;32m     18\u001b[0m \u001b[43m                                       \u001b[49m\u001b[43mloss_fn\u001b[49m\u001b[38;5;241;43m=\u001b[39;49m\u001b[43mloss_fn\u001b[49m\u001b[43m,\u001b[49m\n\u001b[0;32m     19\u001b[0m \u001b[43m                                       \u001b[49m\u001b[43moptim\u001b[49m\u001b[38;5;241;43m=\u001b[39;49m\u001b[43moptim\u001b[49m\u001b[43m,\u001b[49m\n\u001b[0;32m     20\u001b[0m \u001b[43m                                       \u001b[49m\u001b[43maccuracy_fn\u001b[49m\u001b[38;5;241;43m=\u001b[39;49m\u001b[43maccuracy_fn\u001b[49m\u001b[43m,\u001b[49m\n\u001b[0;32m     21\u001b[0m \u001b[43m                                       \u001b[49m\u001b[43mdevice\u001b[49m\u001b[38;5;241;43m=\u001b[39;49m\u001b[43mdevice\u001b[49m\u001b[43m)\u001b[49m\n\u001b[0;32m     22\u001b[0m     val_loss, val_acc \u001b[38;5;241m=\u001b[39m val_step(model\u001b[38;5;241m=\u001b[39mmodel,\n\u001b[0;32m     23\u001b[0m                                  data_loader\u001b[38;5;241m=\u001b[39mval_dataloader,\n\u001b[0;32m     24\u001b[0m                                  loss_fn\u001b[38;5;241m=\u001b[39mloss_fn,\n\u001b[0;32m     25\u001b[0m                                  accuracy_fn\u001b[38;5;241m=\u001b[39maccuracy_fn,\n\u001b[0;32m     26\u001b[0m                                  device\u001b[38;5;241m=\u001b[39mdevice)\n\u001b[0;32m     28\u001b[0m     \u001b[38;5;28mprint\u001b[39m(\u001b[38;5;124mf\u001b[39m\u001b[38;5;124m\"\u001b[39m\u001b[38;5;124mEpoch: \u001b[39m\u001b[38;5;132;01m{\u001b[39;00mepoch\u001b[38;5;241m+\u001b[39m\u001b[38;5;241m1\u001b[39m\u001b[38;5;132;01m}\u001b[39;00m\u001b[38;5;130;01m\\n\u001b[39;00m\u001b[38;5;124m--------------- \u001b[39m\u001b[38;5;124m\"\u001b[39m\n\u001b[0;32m     29\u001b[0m           \u001b[38;5;124mf\u001b[39m\u001b[38;5;124m\"\u001b[39m\u001b[38;5;124mTrain Loss: \u001b[39m\u001b[38;5;132;01m{\u001b[39;00mtrain_loss\u001b[38;5;132;01m:\u001b[39;00m\u001b[38;5;124m.4f\u001b[39m\u001b[38;5;132;01m}\u001b[39;00m\u001b[38;5;124m, \u001b[39m\u001b[38;5;124m\"\u001b[39m\n\u001b[0;32m     30\u001b[0m           \u001b[38;5;124mf\u001b[39m\u001b[38;5;124m\"\u001b[39m\u001b[38;5;124mTrain Accuracy: \u001b[39m\u001b[38;5;132;01m{\u001b[39;00mtrain_acc\u001b[38;5;132;01m:\u001b[39;00m\u001b[38;5;124m.4f\u001b[39m\u001b[38;5;132;01m}\u001b[39;00m\u001b[38;5;124m, \u001b[39m\u001b[38;5;124m\"\u001b[39m\n\u001b[0;32m     31\u001b[0m           \u001b[38;5;124mf\u001b[39m\u001b[38;5;124m\"\u001b[39m\u001b[38;5;124mVal Loss: \u001b[39m\u001b[38;5;132;01m{\u001b[39;00mval_loss\u001b[38;5;132;01m:\u001b[39;00m\u001b[38;5;124m.4f\u001b[39m\u001b[38;5;132;01m}\u001b[39;00m\u001b[38;5;124m, \u001b[39m\u001b[38;5;124m\"\u001b[39m\n\u001b[0;32m     32\u001b[0m           \u001b[38;5;124mf\u001b[39m\u001b[38;5;124m\"\u001b[39m\u001b[38;5;124mVal Accuracy: \u001b[39m\u001b[38;5;132;01m{\u001b[39;00mval_acc\u001b[38;5;132;01m:\u001b[39;00m\u001b[38;5;124m.4f\u001b[39m\u001b[38;5;132;01m}\u001b[39;00m\u001b[38;5;124m\"\u001b[39m\n\u001b[0;32m     33\u001b[0m          )\n",
      "Cell \u001b[1;32mIn[7], line 26\u001b[0m, in \u001b[0;36mtrain_step\u001b[1;34m(model, data_loader, loss_fn, optim, accuracy_fn, device)\u001b[0m\n\u001b[0;32m     23\u001b[0m optim\u001b[38;5;241m.\u001b[39mzero_grad()\n\u001b[0;32m     25\u001b[0m \u001b[38;5;66;03m# Backpropagate loss\u001b[39;00m\n\u001b[1;32m---> 26\u001b[0m \u001b[43mloss\u001b[49m\u001b[38;5;241;43m.\u001b[39;49m\u001b[43mbackward\u001b[49m\u001b[43m(\u001b[49m\u001b[43m)\u001b[49m\n\u001b[0;32m     28\u001b[0m \u001b[38;5;66;03m# Step optimizer based on loss\u001b[39;00m\n\u001b[0;32m     29\u001b[0m optim\u001b[38;5;241m.\u001b[39mstep()\n",
      "File \u001b[1;32m~\\anaconda3\\envs\\pytorch_cuda\\lib\\site-packages\\torch\\_tensor.py:488\u001b[0m, in \u001b[0;36mTensor.backward\u001b[1;34m(self, gradient, retain_graph, create_graph, inputs)\u001b[0m\n\u001b[0;32m    478\u001b[0m \u001b[38;5;28;01mif\u001b[39;00m has_torch_function_unary(\u001b[38;5;28mself\u001b[39m):\n\u001b[0;32m    479\u001b[0m     \u001b[38;5;28;01mreturn\u001b[39;00m handle_torch_function(\n\u001b[0;32m    480\u001b[0m         Tensor\u001b[38;5;241m.\u001b[39mbackward,\n\u001b[0;32m    481\u001b[0m         (\u001b[38;5;28mself\u001b[39m,),\n\u001b[1;32m   (...)\u001b[0m\n\u001b[0;32m    486\u001b[0m         inputs\u001b[38;5;241m=\u001b[39minputs,\n\u001b[0;32m    487\u001b[0m     )\n\u001b[1;32m--> 488\u001b[0m \u001b[43mtorch\u001b[49m\u001b[38;5;241;43m.\u001b[39;49m\u001b[43mautograd\u001b[49m\u001b[38;5;241;43m.\u001b[39;49m\u001b[43mbackward\u001b[49m\u001b[43m(\u001b[49m\n\u001b[0;32m    489\u001b[0m \u001b[43m    \u001b[49m\u001b[38;5;28;43mself\u001b[39;49m\u001b[43m,\u001b[49m\u001b[43m \u001b[49m\u001b[43mgradient\u001b[49m\u001b[43m,\u001b[49m\u001b[43m \u001b[49m\u001b[43mretain_graph\u001b[49m\u001b[43m,\u001b[49m\u001b[43m \u001b[49m\u001b[43mcreate_graph\u001b[49m\u001b[43m,\u001b[49m\u001b[43m \u001b[49m\u001b[43minputs\u001b[49m\u001b[38;5;241;43m=\u001b[39;49m\u001b[43minputs\u001b[49m\n\u001b[0;32m    490\u001b[0m \u001b[43m\u001b[49m\u001b[43m)\u001b[49m\n",
      "File \u001b[1;32m~\\anaconda3\\envs\\pytorch_cuda\\lib\\site-packages\\torch\\autograd\\__init__.py:197\u001b[0m, in \u001b[0;36mbackward\u001b[1;34m(tensors, grad_tensors, retain_graph, create_graph, grad_variables, inputs)\u001b[0m\n\u001b[0;32m    192\u001b[0m     retain_graph \u001b[38;5;241m=\u001b[39m create_graph\n\u001b[0;32m    194\u001b[0m \u001b[38;5;66;03m# The reason we repeat same the comment below is that\u001b[39;00m\n\u001b[0;32m    195\u001b[0m \u001b[38;5;66;03m# some Python versions print out the first line of a multi-line function\u001b[39;00m\n\u001b[0;32m    196\u001b[0m \u001b[38;5;66;03m# calls in the traceback and some print out the last line\u001b[39;00m\n\u001b[1;32m--> 197\u001b[0m \u001b[43mVariable\u001b[49m\u001b[38;5;241;43m.\u001b[39;49m\u001b[43m_execution_engine\u001b[49m\u001b[38;5;241;43m.\u001b[39;49m\u001b[43mrun_backward\u001b[49m\u001b[43m(\u001b[49m\u001b[43m  \u001b[49m\u001b[38;5;66;43;03m# Calls into the C++ engine to run the backward pass\u001b[39;49;00m\n\u001b[0;32m    198\u001b[0m \u001b[43m    \u001b[49m\u001b[43mtensors\u001b[49m\u001b[43m,\u001b[49m\u001b[43m \u001b[49m\u001b[43mgrad_tensors_\u001b[49m\u001b[43m,\u001b[49m\u001b[43m \u001b[49m\u001b[43mretain_graph\u001b[49m\u001b[43m,\u001b[49m\u001b[43m \u001b[49m\u001b[43mcreate_graph\u001b[49m\u001b[43m,\u001b[49m\u001b[43m \u001b[49m\u001b[43minputs\u001b[49m\u001b[43m,\u001b[49m\n\u001b[0;32m    199\u001b[0m \u001b[43m    \u001b[49m\u001b[43mallow_unreachable\u001b[49m\u001b[38;5;241;43m=\u001b[39;49m\u001b[38;5;28;43;01mTrue\u001b[39;49;00m\u001b[43m,\u001b[49m\u001b[43m \u001b[49m\u001b[43maccumulate_grad\u001b[49m\u001b[38;5;241;43m=\u001b[39;49m\u001b[38;5;28;43;01mTrue\u001b[39;49;00m\u001b[43m)\u001b[49m\n",
      "\u001b[1;31mKeyboardInterrupt\u001b[0m: "
     ]
    }
   ],
   "source": [
    "loss_fn = nn.CrossEntropyLoss()\n",
    "optimizer = torch.optim.SGD(params=P3b_26_model.parameters(),\n",
    "                            lr=0.1)\n",
    "accuracy_fn = MulticlassAccuracy(num_classes=10).to(device)\n",
    "epochs = 10\n",
    "\n",
    "start_time = datetime.now()\n",
    "P3b_26_model_history = train(model=P3b_26_model,\n",
    "                     train_dataloader=trainLoader,\n",
    "                     val_dataloader=valLoader,\n",
    "                     optim=optimizer,\n",
    "                     loss_fn=loss_fn,\n",
    "                     accuracy_fn=accuracy_fn,\n",
    "                     epochs=epochs,\n",
    "                     device=device,\n",
    "                     verbose=False)\n",
    "stop_time = datetime.now()\n",
    "print(f\"Training Time: {stop_time - start_time}\")\n",
    "plot_history(P3b_26_model_history)"
   ]
  },
  {
   "cell_type": "code",
   "execution_count": null,
   "id": "1e4a4310-36ca-4fb0-b7f5-d0083583f33f",
   "metadata": {},
   "outputs": [],
   "source": [
    "# CLEARED OUTPUT FOR SUBMISSION DUE TO LONG WARNING MESSAGE\n",
    "with torch.cuda.device(0):\n",
    "  macs, params = get_model_complexity_info(P3b_26_model, (3, 64, 64), as_strings=True,\n",
    "                                           print_per_layer_stat=False, verbose=True)\n",
    "  print('{:<30}  {:<8}'.format('Computational complexity: ', macs))\n",
    "  print('{:<30}  {:<8}'.format('Number of parameters: ', params))"
   ]
  },
  {
   "cell_type": "code",
   "execution_count": 78,
   "id": "3a66b2ca-50f6-4f94-8137-15e445bb5c43",
   "metadata": {},
   "outputs": [
    {
     "ename": "NameError",
     "evalue": "name 'ResNet' is not defined",
     "output_type": "error",
     "traceback": [
      "\u001b[1;31m---------------------------------------------------------------------------\u001b[0m",
      "\u001b[1;31mNameError\u001b[0m                                 Traceback (most recent call last)",
      "Cell \u001b[1;32mIn[78], line 2\u001b[0m\n\u001b[0;32m      1\u001b[0m \u001b[38;5;66;03m# Construct ResNet-32\u001b[39;00m\n\u001b[1;32m----> 2\u001b[0m P3b_32_model \u001b[38;5;241m=\u001b[39m \u001b[43mResNet\u001b[49m(((\u001b[38;5;241m2\u001b[39m, \u001b[38;5;241m64\u001b[39m), (\u001b[38;5;241m5\u001b[39m, \u001b[38;5;241m128\u001b[39m), (\u001b[38;5;241m5\u001b[39m, \u001b[38;5;241m256\u001b[39m), (\u001b[38;5;241m3\u001b[39m, \u001b[38;5;241m512\u001b[39m)))\u001b[38;5;241m.\u001b[39mto(device)\n\u001b[0;32m      3\u001b[0m P3b_32_model(torch\u001b[38;5;241m.\u001b[39mrandn(\u001b[38;5;241m1\u001b[39m, \u001b[38;5;241m3\u001b[39m, \u001b[38;5;241m64\u001b[39m, \u001b[38;5;241m64\u001b[39m)\u001b[38;5;241m.\u001b[39mto(device))\n",
      "\u001b[1;31mNameError\u001b[0m: name 'ResNet' is not defined"
     ]
    }
   ],
   "source": [
    "# Construct ResNet-32\n",
    "P3b_32_model = ResNet(((2, 64), (5, 128), (5, 256), (3, 512))).to(device)\n",
    "P3b_32_model(torch.randn(1, 3, 64, 64).to(device))"
   ]
  },
  {
   "cell_type": "code",
   "execution_count": 26,
   "id": "bfdbd848-4ad5-47f2-8b62-2f646d5159e7",
   "metadata": {},
   "outputs": [
    {
     "name": "stderr",
     "output_type": "stream",
     "text": [
      " 10%|████████▎                                                                          | 1/10 [00:49<07:23, 49.28s/it]"
     ]
    },
    {
     "name": "stdout",
     "output_type": "stream",
     "text": [
      "Epoch: 1\n",
      "--------------- Train Loss: 1.7100, Train Accuracy: 0.3762, Val Loss: 1.7068, Val Accuracy: 0.4024\n"
     ]
    },
    {
     "name": "stderr",
     "output_type": "stream",
     "text": [
      " 20%|████████████████▌                                                                  | 2/10 [01:37<06:30, 48.81s/it]"
     ]
    },
    {
     "name": "stdout",
     "output_type": "stream",
     "text": [
      "Epoch: 2\n",
      "--------------- Train Loss: 1.2818, Train Accuracy: 0.5309, Val Loss: 1.2083, Val Accuracy: 0.5518\n"
     ]
    },
    {
     "name": "stderr",
     "output_type": "stream",
     "text": [
      " 30%|████████████████████████▉                                                          | 3/10 [02:26<05:42, 48.89s/it]"
     ]
    },
    {
     "name": "stdout",
     "output_type": "stream",
     "text": [
      "Epoch: 3\n",
      "--------------- Train Loss: 1.1066, Train Accuracy: 0.5963, Val Loss: 1.1232, Val Accuracy: 0.6100\n"
     ]
    },
    {
     "name": "stderr",
     "output_type": "stream",
     "text": [
      " 40%|█████████████████████████████████▏                                                 | 4/10 [03:15<04:52, 48.71s/it]"
     ]
    },
    {
     "name": "stdout",
     "output_type": "stream",
     "text": [
      "Epoch: 4\n",
      "--------------- Train Loss: 0.8983, Train Accuracy: 0.6694, Val Loss: 0.9508, Val Accuracy: 0.6493\n"
     ]
    },
    {
     "name": "stderr",
     "output_type": "stream",
     "text": [
      " 50%|█████████████████████████████████████████▌                                         | 5/10 [04:03<04:03, 48.69s/it]"
     ]
    },
    {
     "name": "stdout",
     "output_type": "stream",
     "text": [
      "Epoch: 5\n",
      "--------------- Train Loss: 0.7556, Train Accuracy: 0.7149, Val Loss: 0.9877, Val Accuracy: 0.6665\n"
     ]
    },
    {
     "name": "stderr",
     "output_type": "stream",
     "text": [
      " 60%|█████████████████████████████████████████████████▊                                 | 6/10 [04:52<03:14, 48.67s/it]"
     ]
    },
    {
     "name": "stdout",
     "output_type": "stream",
     "text": [
      "Epoch: 6\n",
      "--------------- Train Loss: 0.6243, Train Accuracy: 0.7605, Val Loss: 1.0585, Val Accuracy: 0.6863\n"
     ]
    },
    {
     "name": "stderr",
     "output_type": "stream",
     "text": [
      " 70%|██████████████████████████████████████████████████████████                         | 7/10 [05:41<02:26, 48.80s/it]"
     ]
    },
    {
     "name": "stdout",
     "output_type": "stream",
     "text": [
      "Epoch: 7\n",
      "--------------- Train Loss: 0.5172, Train Accuracy: 0.7964, Val Loss: 1.2242, Val Accuracy: 0.7095\n"
     ]
    },
    {
     "name": "stderr",
     "output_type": "stream",
     "text": [
      " 80%|██████████████████████████████████████████████████████████████████▍                | 8/10 [06:30<01:37, 48.76s/it]"
     ]
    },
    {
     "name": "stdout",
     "output_type": "stream",
     "text": [
      "Epoch: 8\n",
      "--------------- Train Loss: 0.4084, Train Accuracy: 0.8315, Val Loss: 1.0643, Val Accuracy: 0.7019\n"
     ]
    },
    {
     "name": "stderr",
     "output_type": "stream",
     "text": [
      " 90%|██████████████████████████████████████████████████████████████████████████▋        | 9/10 [07:18<00:48, 48.73s/it]"
     ]
    },
    {
     "name": "stdout",
     "output_type": "stream",
     "text": [
      "Epoch: 9\n",
      "--------------- Train Loss: 0.3262, Train Accuracy: 0.8619, Val Loss: 0.9603, Val Accuracy: 0.7118\n"
     ]
    },
    {
     "name": "stderr",
     "output_type": "stream",
     "text": [
      "100%|██████████████████████████████████████████████████████████████████████████████████| 10/10 [08:07<00:00, 48.78s/it]"
     ]
    },
    {
     "name": "stdout",
     "output_type": "stream",
     "text": [
      "Epoch: 10\n",
      "--------------- Train Loss: 0.2473, Train Accuracy: 0.8859, Val Loss: 1.0491, Val Accuracy: 0.7095\n",
      "Training Time: 0:08:07.774512\n"
     ]
    },
    {
     "name": "stderr",
     "output_type": "stream",
     "text": [
      "\n"
     ]
    },
    {
     "data": {
      "image/png": "[encoded data removed]",
      "text/plain": [
       "<Figure size 640x480 with 1 Axes>"
      ]
     },
     "metadata": {},
     "output_type": "display_data"
    }
   ],
   "source": [
    "loss_fn = nn.CrossEntropyLoss()\n",
    "optimizer = torch.optim.SGD(params=P3b_32_model.parameters(),\n",
    "                            lr=0.1)\n",
    "accuracy_fn = MulticlassAccuracy(num_classes=10).to(device)\n",
    "epochs = 10\n",
    "\n",
    "start_time = datetime.now()\n",
    "P3b_32_model_history = train(model=P3b_32_model,\n",
    "                     train_dataloader=trainLoader,\n",
    "                     val_dataloader=valLoader,\n",
    "                     optim=optimizer,\n",
    "                     loss_fn=loss_fn,\n",
    "                     accuracy_fn=accuracy_fn,\n",
    "                     epochs=epochs,\n",
    "                     device=device,\n",
    "                     verbose=False)\n",
    "stop_time = datetime.now()\n",
    "print(f\"Training Time: {stop_time - start_time}\")\n",
    "plot_history(P3b_32_model_history)"
   ]
  },
  {
   "cell_type": "code",
   "execution_count": null,
   "id": "3afac096-9e5d-4748-bc7b-86bbbb257542",
   "metadata": {},
   "outputs": [],
   "source": [
    "# CLEARED OUTPUT FOR SUBMISSION DUE TO LONG WARNING MESSAGE\n",
    "with torch.cuda.device(0):\n",
    "  macs, params = get_model_complexity_info(P3b_32_model, (3, 64, 64), as_strings=True,\n",
    "                                           print_per_layer_stat=False, verbose=True)\n",
    "  print('{:<30}  {:<8}'.format('Computational complexity: ', macs))\n",
    "  print('{:<30}  {:<8}'.format('Number of parameters: ', params))"
   ]
  },
  {
   "cell_type": "markdown",
   "id": "a9d397e6-565e-435c-95eb-89ace8ccc5e0",
   "metadata": {},
   "source": [
    "#### ResNet-18:\n",
    "\n",
    "Training Time: 0:05:50.575383\n",
    "\n",
    "Computational complexity: 297.53 MMac\n",
    "\n",
    "Number of parameters: 11.18 M\n",
    "\n",
    "#### ResNet-26:\n",
    "\n",
    "Training Time: 0:07:03.636258\n",
    "\n",
    "Computational complexity: 448.82 MMac\n",
    "\n",
    "Number of parameters: 14.14 M \n",
    "\n",
    "#### ResNet-32:\n",
    "\n",
    "Training Time: 0:08:07.774512\n",
    "\n",
    "Computational complexity: 562.24 MMac\n",
    "\n",
    "Number of parameters: 20.34 M \n",
    "\n",
    "#### Conclusions\n",
    "\n",
    "Problem 3a: Out of three modern CNNs tested, VGG-19 performed the best with a classification accuracy of 79%. GoogleNet with batch norm was the runner up with an accuracy of 76%, with ResNet-18 trailing behind with 74%. Comparing model complexity and size, GoogleNet is more efficiently performing than the other CNNs. VGG-19 was drastically larger and more complex compared to the other models which had similar size/complexity.\n",
    "\n",
    "Problem 3b: As ResNet became deeper, the model complexity increased as expected. The shallowest ResNet (ResNet-18) had the best accuracy with 74%. As the depth increased, the accuracy decreased. This would not have changed with more epochs as all the ResNet models began to overfit after 3 epochs."
   ]
  },
  {
   "cell_type": "markdown",
   "id": "0702c4b0-6bb3-4f81-bc41-168939acbf4b",
   "metadata": {},
   "source": [
    "## For Quiz Extra Credit: Create a similarly complexed DenseNet model to compare with ResNet-18"
   ]
  },
  {
   "cell_type": "code",
   "execution_count": 12,
   "id": "0ba6f12d-19a8-4c44-a83a-2e54c20bc82a",
   "metadata": {},
   "outputs": [],
   "source": [
    "# Build DenseNet model from D2L textbook code\n",
    "def conv_block(num_channels):\n",
    "    return nn.Sequential(\n",
    "        nn.LazyBatchNorm2d(), nn.ReLU(),\n",
    "        nn.LazyConv2d(num_channels, kernel_size=3, padding=1))\n",
    "class DenseBlock(nn.Module):\n",
    "    def __init__(self, num_convs, num_channels):\n",
    "        super(DenseBlock, self).__init__()\n",
    "        layer = []\n",
    "        for i in range(num_convs):\n",
    "            layer.append(conv_block(num_channels))\n",
    "        self.net = nn.Sequential(*layer)\n",
    "\n",
    "    def forward(self, X):\n",
    "        for blk in self.net:\n",
    "            Y = blk(X)\n",
    "            # Concatenate input and output of each block along the channels\n",
    "            X = torch.cat((X, Y), dim=1)\n",
    "        return X\n",
    "def transition_block(num_channels):\n",
    "    return nn.Sequential(\n",
    "        nn.LazyBatchNorm2d(), nn.ReLU(),\n",
    "        nn.LazyConv2d(num_channels, kernel_size=1),\n",
    "        nn.AvgPool2d(kernel_size=2, stride=2))"
   ]
  },
  {
   "cell_type": "code",
   "execution_count": 13,
   "id": "d7e44937-d598-4dab-a557-5926293a0631",
   "metadata": {},
   "outputs": [
    {
     "name": "stderr",
     "output_type": "stream",
     "text": [
      "C:\\Users\\stanl\\anaconda3\\envs\\pytorch_cuda\\lib\\site-packages\\torch\\nn\\modules\\lazy.py:180: UserWarning: Lazy modules are a new feature under heavy development so changes to the API or functionality can happen at any moment.\n",
      "  warnings.warn('Lazy modules are a new feature under heavy development '\n"
     ]
    },
    {
     "data": {
      "text/plain": [
       "torch.Size([4, 23, 8, 8])"
      ]
     },
     "execution_count": 13,
     "metadata": {},
     "output_type": "execute_result"
    }
   ],
   "source": [
    "blk = DenseBlock(2, 10)\n",
    "X = torch.randn(4, 3, 8, 8)\n",
    "Y = blk(X)\n",
    "Y.shape"
   ]
  },
  {
   "cell_type": "code",
   "execution_count": 14,
   "id": "1d36bb82-a7cf-4179-aee8-c4fd8adc4500",
   "metadata": {},
   "outputs": [],
   "source": [
    "class DenseNet(nn.Module):\n",
    "    def b1(self):\n",
    "        return nn.Sequential(\n",
    "            nn.LazyConv2d(64, kernel_size=7, stride=2, padding=3),\n",
    "            nn.LazyBatchNorm2d(), nn.ReLU(),\n",
    "            nn.MaxPool2d(kernel_size=3, stride=2, padding=1))\n",
    "    def __init__(self, num_channels=64, growth_rate=32, arch=(4, 4, 4, 4),\n",
    "             lr=0.1, num_classes=10):\n",
    "        super().__init__()\n",
    "        self.net = nn.Sequential(self.b1())\n",
    "        for i, num_convs in enumerate(arch):\n",
    "            self.net.add_module(f'dense_blk{i+1}', DenseBlock(num_convs,\n",
    "                                                              growth_rate))\n",
    "            # The number of output channels in the previous dense block\n",
    "            num_channels += num_convs * growth_rate\n",
    "            # A transition layer that halves the number of channels is added\n",
    "            # between the dense blocks\n",
    "            if i != len(arch) - 1:\n",
    "                num_channels //= 2\n",
    "                self.net.add_module(f'tran_blk{i+1}', transition_block(\n",
    "                    num_channels))\n",
    "        self.net.add_module('last', nn.Sequential(\n",
    "            nn.LazyBatchNorm2d(), nn.ReLU(),\n",
    "            nn.AdaptiveAvgPool2d((1, 1)), nn.Flatten(),\n",
    "            nn.LazyLinear(num_classes))\n",
    "                           )\n",
    "    def forward(self, x):\n",
    "        x = self.net(x)\n",
    "        return x"
   ]
  },
  {
   "cell_type": "code",
   "execution_count": 22,
   "id": "3a8d11e4-c012-416f-9f57-71590c1cc793",
   "metadata": {},
   "outputs": [
    {
     "data": {
      "text/plain": [
       "tensor([[ 0.4171, -0.2354,  0.0058, -0.3055,  0.2153, -0.1027,  0.2784, -0.2422,\n",
       "         -0.1048, -0.0803]], device='cuda:0', grad_fn=<AddmmBackward0>)"
      ]
     },
     "execution_count": 22,
     "metadata": {},
     "output_type": "execute_result"
    }
   ],
   "source": [
    "# NEED TO DEBUG DENSENET MODEL, WILL SEND WHEN FINISHED\n",
    "DenseNet_model = DenseNet(arch=(6, 16, 18, 24)).to(device)\n",
    "DenseNet_model(torch.randn(1, 3, 64, 64).to(device))"
   ]
  },
  {
   "cell_type": "code",
   "execution_count": 23,
   "id": "9af3ad0c-1993-40ec-aa57-6db39571f9cf",
   "metadata": {},
   "outputs": [
    {
     "name": "stdout",
     "output_type": "stream",
     "text": [
      "Warning: module DenseBlock is treated as a zero-op.\n",
      "Warning: module Flatten is treated as a zero-op.\n",
      "Warning: module DenseNet is treated as a zero-op.\n",
      "Computational complexity:       284.92 MMac\n",
      "Number of parameters:           11.4 M  \n"
     ]
    }
   ],
   "source": [
    "# CLEARED OUTPUT FOR SUBMISSION DUE TO LONG WARNING MESSAGE\n",
    "with torch.cuda.device(0):\n",
    "  macs, params = get_model_complexity_info(DenseNet_model, (3, 64, 64), as_strings=True,\n",
    "                                           print_per_layer_stat=False, verbose=True)\n",
    "  print('{:<30}  {:<8}'.format('Computational complexity: ', macs))\n",
    "  print('{:<30}  {:<8}'.format('Number of parameters: ', params))"
   ]
  },
  {
   "cell_type": "code",
   "execution_count": 24,
   "id": "5ef7f0f0-9b6f-4b60-8778-63e77f7904a7",
   "metadata": {},
   "outputs": [
    {
     "name": "stderr",
     "output_type": "stream",
     "text": [
      " 10%|████████▎                                                                          | 1/10 [01:21<12:11, 81.27s/it]"
     ]
    },
    {
     "name": "stdout",
     "output_type": "stream",
     "text": [
      "Epoch: 1\n",
      "--------------- Train Loss: 1.5973, Train Accuracy: 0.4200, Val Loss: 1.3099, Val Accuracy: 0.5135\n"
     ]
    },
    {
     "name": "stderr",
     "output_type": "stream",
     "text": [
      " 20%|████████████████▌                                                                  | 2/10 [02:42<10:50, 81.29s/it]"
     ]
    },
    {
     "name": "stdout",
     "output_type": "stream",
     "text": [
      "Epoch: 2\n",
      "--------------- Train Loss: 1.1371, Train Accuracy: 0.5878, Val Loss: 0.9877, Val Accuracy: 0.6281\n"
     ]
    },
    {
     "name": "stderr",
     "output_type": "stream",
     "text": [
      " 30%|████████████████████████▉                                                          | 3/10 [04:05<09:35, 82.20s/it]"
     ]
    },
    {
     "name": "stdout",
     "output_type": "stream",
     "text": [
      "Epoch: 3\n",
      "--------------- Train Loss: 0.8866, Train Accuracy: 0.6776, Val Loss: 0.8047, Val Accuracy: 0.6954\n"
     ]
    },
    {
     "name": "stderr",
     "output_type": "stream",
     "text": [
      " 40%|█████████████████████████████████▏                                                 | 4/10 [05:27<08:12, 82.17s/it]"
     ]
    },
    {
     "name": "stdout",
     "output_type": "stream",
     "text": [
      "Epoch: 4\n",
      "--------------- Train Loss: 0.7214, Train Accuracy: 0.7352, Val Loss: 0.8668, Val Accuracy: 0.6803\n"
     ]
    },
    {
     "name": "stderr",
     "output_type": "stream",
     "text": [
      " 50%|█████████████████████████████████████████▌                                         | 5/10 [06:49<06:49, 81.96s/it]"
     ]
    },
    {
     "name": "stdout",
     "output_type": "stream",
     "text": [
      "Epoch: 5\n",
      "--------------- Train Loss: 0.6129, Train Accuracy: 0.7722, Val Loss: 0.7087, Val Accuracy: 0.7345\n"
     ]
    },
    {
     "name": "stderr",
     "output_type": "stream",
     "text": [
      " 60%|█████████████████████████████████████████████████▊                                 | 6/10 [08:11<05:28, 82.05s/it]"
     ]
    },
    {
     "name": "stdout",
     "output_type": "stream",
     "text": [
      "Epoch: 6\n",
      "--------------- Train Loss: 0.5242, Train Accuracy: 0.8013, Val Loss: 0.7083, Val Accuracy: 0.7400\n"
     ]
    },
    {
     "name": "stderr",
     "output_type": "stream",
     "text": [
      " 70%|██████████████████████████████████████████████████████████                         | 7/10 [09:32<04:04, 81.59s/it]"
     ]
    },
    {
     "name": "stdout",
     "output_type": "stream",
     "text": [
      "Epoch: 7\n",
      "--------------- Train Loss: 0.4493, Train Accuracy: 0.8250, Val Loss: 0.6094, Val Accuracy: 0.7720\n"
     ]
    },
    {
     "name": "stderr",
     "output_type": "stream",
     "text": [
      " 80%|██████████████████████████████████████████████████████████████████▍                | 8/10 [10:54<02:43, 81.70s/it]"
     ]
    },
    {
     "name": "stdout",
     "output_type": "stream",
     "text": [
      "Epoch: 8\n",
      "--------------- Train Loss: 0.3910, Train Accuracy: 0.8491, Val Loss: 0.6320, Val Accuracy: 0.7675\n"
     ]
    },
    {
     "name": "stderr",
     "output_type": "stream",
     "text": [
      " 90%|██████████████████████████████████████████████████████████████████████████▋        | 9/10 [12:18<01:22, 82.50s/it]"
     ]
    },
    {
     "name": "stdout",
     "output_type": "stream",
     "text": [
      "Epoch: 9\n",
      "--------------- Train Loss: 0.3255, Train Accuracy: 0.8668, Val Loss: 0.6206, Val Accuracy: 0.7711\n"
     ]
    },
    {
     "name": "stderr",
     "output_type": "stream",
     "text": [
      "100%|██████████████████████████████████████████████████████████████████████████████████| 10/10 [13:43<00:00, 82.37s/it]"
     ]
    },
    {
     "name": "stdout",
     "output_type": "stream",
     "text": [
      "Epoch: 10\n",
      "--------------- Train Loss: 0.2770, Train Accuracy: 0.8795, Val Loss: 0.5878, Val Accuracy: 0.7910\n",
      "Training Time: 0:13:43.704113\n"
     ]
    },
    {
     "name": "stderr",
     "output_type": "stream",
     "text": [
      "\n"
     ]
    },
    {
     "data": {
      "image/png": "[encoded data removed]",
      "text/plain": [
       "<Figure size 640x480 with 1 Axes>"
      ]
     },
     "metadata": {},
     "output_type": "display_data"
    }
   ],
   "source": [
    "loss_fn = nn.CrossEntropyLoss()\n",
    "optimizer = torch.optim.SGD(params=DenseNet_model.parameters(),\n",
    "                            lr=0.1)\n",
    "accuracy_fn = MulticlassAccuracy(num_classes=10).to(device)\n",
    "epochs = 10\n",
    "\n",
    "start_time = datetime.now()\n",
    "DenseNet_model_history = train(model=DenseNet_model,\n",
    "                     train_dataloader=trainLoader,\n",
    "                     val_dataloader=valLoader,\n",
    "                     optim=optimizer,\n",
    "                     loss_fn=loss_fn,\n",
    "                     accuracy_fn=accuracy_fn,\n",
    "                     epochs=epochs,\n",
    "                     device=device,\n",
    "                     verbose=False)\n",
    "stop_time = datetime.now()\n",
    "print(f\"Training Time: {stop_time - start_time}\")\n",
    "plot_history(DenseNet_model_history)"
   ]
  },
  {
   "cell_type": "markdown",
   "id": "b01d8a8e-45bd-42c4-9b7a-6f888ad3ed72",
   "metadata": {},
   "source": [
    "#### Conclusion:\n",
    "\n",
    "Based on the below characteristics of the similarly complex models, DenseNet is able to achieve a higher validation accuracy than ResNet.\n",
    "\n",
    "##### DenseNet:\n",
    "\n",
    "Training Time: 0:13:43.704113\n",
    "\n",
    "Computational complexity: 284.92 MMac\n",
    "\n",
    "Number of parameters: 11.4 M \n",
    "\n",
    "Val Accuracy: 0.7910\n",
    "\n",
    "##### ResNet-18:\n",
    "\n",
    "Training Time: 0:05:50.575383\n",
    "\n",
    "Computational complexity: 297.53 MMac\n",
    "\n",
    "Number of parameters: 11.18 M\n",
    "\n",
    "Val Accuracy: 0.74"
   ]
  },
  {
   "cell_type": "code",
   "execution_count": null,
   "id": "d6ff0dff-4791-461f-b45d-c6a8db7d8fb9",
   "metadata": {},
   "outputs": [],
   "source": []
  }
 ],
 "metadata": {
  "kernelspec": {
   "display_name": "Python 3 (ipykernel)",
   "language": "python",
   "name": "python3"
  },
  "language_info": {
   "codemirror_mode": {
    "name": "ipython",
    "version": 3
   },
   "file_extension": ".py",
   "mimetype": "text/x-python",
   "name": "python",
   "nbconvert_exporter": "python",
   "pygments_lexer": "ipython3",
   "version": "3.9.16"
  }
 },
 "nbformat": 4,
 "nbformat_minor": 5
}
