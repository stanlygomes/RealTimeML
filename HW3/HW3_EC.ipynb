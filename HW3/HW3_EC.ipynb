{
 "cells": [
  {
   "cell_type": "markdown",
   "id": "1d60d559-341c-4e92-a151-2ec3164b8986",
   "metadata": {},
   "source": [
    "# Extra Credit for HW3: Compare similarly complex DenseNet and ResNet to see which has higher accuracy on CIFAR-10"
   ]
  },
  {
   "cell_type": "markdown",
   "id": "fff1420e-8746-422a-9d19-606614dc773b",
   "metadata": {},
   "source": [
    "#### Conclusion:\n",
    "\n",
    "Based on the below characteristics of the similarly complex models, DenseNet is able to achieve a higher validation accuracy than ResNet.\n",
    "\n",
    "##### DenseNet:\n",
    "\n",
    "Training Time: 0:13:43.704113\n",
    "\n",
    "Computational complexity: 284.92 MMac\n",
    "\n",
    "Number of parameters: 11.4 M \n",
    "\n",
    "Val Accuracy: 0.7910\n",
    "\n",
    "##### ResNet-18:\n",
    "\n",
    "Training Time: 0:05:50.575383\n",
    "\n",
    "Computational complexity: 297.53 MMac\n",
    "\n",
    "Number of parameters: 11.18 M\n",
    "\n",
    "Val Accuracy: 0.74"
   ]
  },
  {
   "cell_type": "markdown",
   "id": "2ee0baa0-19d7-476a-8d1c-87ae23e8fcf3",
   "metadata": {
    "jp-MarkdownHeadingCollapsed": true,
    "tags": []
   },
   "source": [
    "## Setup"
   ]
  },
  {
   "cell_type": "code",
   "execution_count": 1,
   "id": "7d6183e3-fdb2-454a-b184-d737e457f035",
   "metadata": {},
   "outputs": [],
   "source": [
    "# import libraries\n",
    "from tqdm import tqdm\n",
    "import torch\n",
    "from torch import nn\n",
    "from torch.nn import functional as F\n",
    "from torch.utils.data import DataLoader, random_split, Subset\n",
    "\n",
    "import numpy as np\n",
    "import pandas as pd\n",
    "import cv2\n",
    "from matplotlib import pyplot as plt\n",
    "from ptflops import get_model_complexity_info\n",
    "\n",
    "import torchvision\n",
    "from torchvision import transforms, datasets\n",
    "from torchmetrics.classification import MulticlassAccuracy, BinaryAccuracy\n",
    "from torchmetrics import ConfusionMatrix\n",
    "from datetime import datetime"
   ]
  },
  {
   "cell_type": "code",
   "execution_count": 2,
   "id": "4fc1142f-bc1e-4879-8cd0-997d1ba90eb4",
   "metadata": {},
   "outputs": [
    {
     "data": {
      "text/plain": [
       "'cuda'"
      ]
     },
     "execution_count": 2,
     "metadata": {},
     "output_type": "execute_result"
    }
   ],
   "source": [
    "device = \"cuda\" if torch.cuda.is_available() else \"cpu\"\n",
    "device"
   ]
  },
  {
   "cell_type": "code",
   "execution_count": 3,
   "id": "b1d9f324-ed64-423b-b544-43c6a6edeb74",
   "metadata": {},
   "outputs": [
    {
     "name": "stdout",
     "output_type": "stream",
     "text": [
      "Files already downloaded and verified\n",
      "Files already downloaded and verified\n"
     ]
    }
   ],
   "source": [
    "# Import Datasets\n",
    "cifar_trainset = datasets.CIFAR10(root='./data',\n",
    "                                  train=True,\n",
    "                                  download=True,\n",
    "                                  transform=transforms.Compose([\n",
    "                                    transforms.ToTensor(),\n",
    "                                    transforms.Resize(size=64),\n",
    "                                    transforms.Normalize((0.4734), (0.2453))\n",
    "                                    ])\n",
    ")\n",
    "cifar_testset = datasets.CIFAR10(root='./data',\n",
    "                                 train=False,\n",
    "                                 download=True,\n",
    "                                 transform=transforms.Compose([\n",
    "                                    transforms.ToTensor(),\n",
    "                                    transforms.Resize(size=64),\n",
    "                                    transforms.Normalize((0.4734), (0.2453))\n",
    "                                    ])\n",
    ")"
   ]
  },
  {
   "cell_type": "code",
   "execution_count": 4,
   "id": "80d7c551-de38-4e16-89b7-9500d6948fcc",
   "metadata": {},
   "outputs": [
    {
     "data": {
      "text/plain": [
       "torch.Size([3, 64, 64])"
      ]
     },
     "execution_count": 4,
     "metadata": {},
     "output_type": "execute_result"
    }
   ],
   "source": [
    "image, label = cifar_trainset[0]\n",
    "image.shape"
   ]
  },
  {
   "cell_type": "code",
   "execution_count": 5,
   "id": "09a58da5-b9d7-40c2-ba57-7ae8f0802d85",
   "metadata": {},
   "outputs": [],
   "source": [
    "# Seperate train and val sets\n",
    "cifar_train, cifar_val = random_split(cifar_trainset, [0.8, 0.2])\n",
    "trainLoader = DataLoader(cifar_train, batch_size=32, shuffle=True)\n",
    "valLoader = DataLoader(cifar_val, batch_size=32, shuffle=False)\n",
    "testLoader = DataLoader(cifar_testset, batch_size=32, shuffle=False)"
   ]
  },
  {
   "cell_type": "code",
   "execution_count": 6,
   "id": "decb1481-ac1a-4dcb-9868-e8aea5f32ff6",
   "metadata": {},
   "outputs": [],
   "source": [
    "# # Find mean and std for normalization\n",
    "# loader = DataLoader(cifar_trainset, batch_size=len(cifar_trainset), num_workers=1)\n",
    "# data = next(iter(loader))\n",
    "# data[0].mean(), data[0].std()"
   ]
  },
  {
   "cell_type": "code",
   "execution_count": 7,
   "id": "0957855a-5920-4217-aba1-6763ef5e39e6",
   "metadata": {},
   "outputs": [],
   "source": [
    "# Define train_step function\n",
    "def train_step(model: nn.Module,\n",
    "               data_loader: DataLoader,\n",
    "               loss_fn: nn.Module,\n",
    "               optim: torch.optim.Optimizer,\n",
    "               accuracy_fn,\n",
    "               device: torch.device):\n",
    "    \"\"\"Performs training step on a dataloader batch\"\"\"\n",
    "    train_loss, train_acc = 0, 0\n",
    "    model.train()\n",
    "    for batch, (x, y) in enumerate(data_loader):\n",
    "        # Move data to device\n",
    "        x, y = x.to(device), y.to(device)\n",
    "        \n",
    "        # Forward pass (outputs log likelihood for each class)\n",
    "        y_pred = model(x)\n",
    "        # Calculate Loss/Acc of batch\n",
    "        loss = loss_fn(y_pred, y)\n",
    "        train_loss += loss.item()\n",
    "        # argmax is used to convert from log likelihood to prediction labels\n",
    "        \n",
    "        # Zero the gradience for optimizer\n",
    "        optim.zero_grad()\n",
    "        \n",
    "        # Backpropagate loss\n",
    "        loss.backward()\n",
    "        \n",
    "        # Step optimizer based on loss\n",
    "        optim.step()\n",
    "        \n",
    "        acc = accuracy_fn(y_pred.argmax(dim=1), y)\n",
    "        train_acc += acc.item()\n",
    "        \n",
    "    train_loss /= len(data_loader)\n",
    "    train_acc /= len(data_loader)\n",
    "    return train_loss, train_acc"
   ]
  },
  {
   "cell_type": "code",
   "execution_count": 8,
   "id": "49555149-0cdc-4c0b-a591-f273c27ef17d",
   "metadata": {},
   "outputs": [],
   "source": [
    "# Define val_step function\n",
    "def val_step(model: nn.Module,\n",
    "             data_loader: DataLoader,\n",
    "             loss_fn: nn.Module,\n",
    "             accuracy_fn,\n",
    "             device: torch.device):\n",
    "    \"\"\"Performs validation step on val dataloader\"\"\"\n",
    "    val_loss, val_acc = 0, 0\n",
    "    model.eval()\n",
    "    \n",
    "    # Turn on inference mode context manager (increases speed)\n",
    "    with torch.inference_mode():\n",
    "        for x, y in data_loader:\n",
    "            x, y = x.to(device), y.to(device)\n",
    "            # Forward pass\n",
    "            val_pred = model(x)\n",
    "            \n",
    "            # Calculate loss\n",
    "            loss = loss_fn(val_pred, y)\n",
    "            val_loss += loss.item()\n",
    "            \n",
    "            acc = accuracy_fn(val_pred.argmax(dim=1), y)\n",
    "            val_acc += acc.item()\n",
    "            \n",
    "        val_loss /= len(data_loader)\n",
    "        val_acc /= len(data_loader)\n",
    "        return val_loss, val_acc"
   ]
  },
  {
   "cell_type": "code",
   "execution_count": 9,
   "id": "44100527-8910-422e-9b1a-143c31b1310b",
   "metadata": {},
   "outputs": [],
   "source": [
    "# Create train function\n",
    "def train(model: nn.Module,\n",
    "          train_dataloader: DataLoader,\n",
    "          val_dataloader: DataLoader,\n",
    "          optim: torch.optim.Optimizer,\n",
    "          loss_fn: nn.Module,\n",
    "          accuracy_fn,\n",
    "          epochs: int,\n",
    "          device: torch.device,\n",
    "          verbose = False):\n",
    "    results = {\"Train Loss\": [],\n",
    "               \"Train Accuracy\": [],\n",
    "               \"Val Loss\": [],\n",
    "               \"Val Accuracy\": []}\n",
    "    for epoch in tqdm(range(epochs), disable=verbose):\n",
    "        train_loss, train_acc = train_step(model=model,\n",
    "                                           data_loader=train_dataloader,\n",
    "                                           loss_fn=loss_fn,\n",
    "                                           optim=optim,\n",
    "                                           accuracy_fn=accuracy_fn,\n",
    "                                           device=device)\n",
    "        val_loss, val_acc = val_step(model=model,\n",
    "                                     data_loader=val_dataloader,\n",
    "                                     loss_fn=loss_fn,\n",
    "                                     accuracy_fn=accuracy_fn,\n",
    "                                     device=device)\n",
    "        \n",
    "        print(f\"Epoch: {epoch+1}\\n--------------- \"\n",
    "              f\"Train Loss: {train_loss:.4f}, \"\n",
    "              f\"Train Accuracy: {train_acc:.4f}, \"\n",
    "              f\"Val Loss: {val_loss:.4f}, \"\n",
    "              f\"Val Accuracy: {val_acc:.4f}\"\n",
    "             )\n",
    "        results[\"Train Loss\"].append(train_loss)\n",
    "        results[\"Train Accuracy\"].append(train_acc)\n",
    "        results[\"Val Loss\"].append(val_loss)\n",
    "        results[\"Val Accuracy\"].append(val_acc)\n",
    "    return results"
   ]
  },
  {
   "cell_type": "code",
   "execution_count": 10,
   "id": "43380f7d-7c16-4e65-9ce7-e8f7339eb912",
   "metadata": {},
   "outputs": [],
   "source": [
    "def print_train_time(start, end, device: torch.device=None):\n",
    "    total_time = end - start\n",
    "    print(f\"{device} Training Time: {total_time:.3f} seconds\")\n",
    "    return total_time"
   ]
  },
  {
   "cell_type": "code",
   "execution_count": 11,
   "id": "01485d4d-2567-48ba-8dde-b6c48aaf82d1",
   "metadata": {},
   "outputs": [],
   "source": [
    "# Plot history\n",
    "from typing import Tuple, Dict, List\n",
    "def plot_history(results: Dict[str, List[float]]):\n",
    "    loss = results[\"Train Loss\"]\n",
    "    val_loss = results[\"Val Loss\"]\n",
    "    acc = results[\"Train Accuracy\"]\n",
    "    val_acc = results[\"Val Accuracy\"]\n",
    "    \n",
    "    epochs = range(len(results[\"Train Loss\"]))\n",
    "    \n",
    "    plt.figure()\n",
    "    # Plot loss and accuracy\n",
    "    plt.plot(epochs, loss, label=\"Train Loss\")\n",
    "    plt.plot(epochs, acc, label=\"Train Accuracy\")\n",
    "    plt.plot(epochs, val_acc, label=\"Val Accuracy\")\n",
    "    plt.title(\"Model History\")\n",
    "    plt.xlabel(\"Epochs\")\n",
    "    plt.legend()"
   ]
  },
  {
   "cell_type": "markdown",
   "id": "586a678d-4eb0-4236-82fc-47e41493736a",
   "metadata": {},
   "source": [
    "## ResNet-18"
   ]
  },
  {
   "cell_type": "code",
   "execution_count": 18,
   "id": "7ba57e70-d7a7-414a-baf1-3d09a0e73851",
   "metadata": {},
   "outputs": [],
   "source": [
    "# Build ResNet version from lecture, using D2L code\n",
    "class Residual(nn.Module):\n",
    "    def __init__(self, num_channels, use_1x1conv=False, strides=1):\n",
    "        super().__init__()\n",
    "        self.conv1 = nn.LazyConv2d(num_channels, kernel_size=3, padding=1,\n",
    "                                   stride=strides)\n",
    "        self.conv2 = nn.LazyConv2d(num_channels, kernel_size=3, padding=1)\n",
    "        if use_1x1conv:\n",
    "            self.conv3 = nn.LazyConv2d(num_channels, kernel_size=1,\n",
    "                                       stride=strides)\n",
    "        else:\n",
    "            self.conv3 = None\n",
    "        self.bn1 = nn.LazyBatchNorm2d()\n",
    "        self.bn2 = nn.LazyBatchNorm2d()\n",
    "\n",
    "    def forward(self, X):\n",
    "        Y = F.relu(self.bn1(self.conv1(X)))\n",
    "        Y = self.bn2(self.conv2(Y))\n",
    "        if self.conv3:\n",
    "            X = self.conv3(X)\n",
    "        Y += X\n",
    "        return F.relu(Y)"
   ]
  },
  {
   "cell_type": "code",
   "execution_count": 19,
   "id": "8708fe5e-b5bc-4405-9c8e-c76887b03860",
   "metadata": {},
   "outputs": [],
   "source": [
    "class ResNet(nn.Module):\n",
    "    def block(self, num_residuals, num_channels, first_block=False):\n",
    "        blk = []\n",
    "        for i in range(num_residuals):\n",
    "            if i == 0 and not first_block:\n",
    "                blk.append(Residual(num_channels, use_1x1conv=True, strides=2))\n",
    "            else:\n",
    "                blk.append(Residual(num_channels))\n",
    "        return nn.Sequential(*blk)\n",
    "\n",
    "    def __init__(self, arch, lr=0.1, num_classes=10, ):\n",
    "        super().__init__()\n",
    "        self.stem = nn.Sequential(\n",
    "            nn.LazyConv2d(64, kernel_size=7, stride=2, padding=3),\n",
    "            nn.LazyBatchNorm2d(), nn.ReLU(),\n",
    "            nn.MaxPool2d(kernel_size=3, stride=2, padding=1)\n",
    "        )\n",
    "        \n",
    "        self.body = nn.Sequential()\n",
    "        for i, b in enumerate(arch):\n",
    "            self.body.add_module(f'b{i+2}', self.block(*b, first_block=(i==0)))\n",
    "        self.body.add_module(\"AVG Adaptive Pool\", nn.AdaptiveAvgPool2d((1, 1)))\n",
    "        \n",
    "        self.head = nn.Sequential(\n",
    "            nn.Flatten(),\n",
    "            nn.LazyLinear(num_classes)\n",
    "        )\n",
    "        \n",
    "        self.net = nn.Sequential(\n",
    "            self.stem,\n",
    "            self.body,\n",
    "            self.head,\n",
    "        )\n",
    "    def forward(self, x):\n",
    "        x = self.stem(x)\n",
    "        x = self.body(x)\n",
    "        x = self.head(x)\n",
    "        return x"
   ]
  },
  {
   "cell_type": "code",
   "execution_count": 15,
   "id": "bfacd419-c153-4b0f-b568-68b995b28de5",
   "metadata": {},
   "outputs": [
    {
     "data": {
      "text/plain": [
       "tensor([[-0.2125, -0.5688,  0.1475,  0.6222,  0.0256, -0.4285,  0.3562, -0.0945,\n",
       "          0.0902,  0.1118]], device='cuda:0', grad_fn=<AddmmBackward0>)"
      ]
     },
     "execution_count": 15,
     "metadata": {},
     "output_type": "execute_result"
    }
   ],
   "source": [
    "P3a_model = ResNet(((2, 64), (2, 128), (2, 256), (2, 512))).to(device)\n",
    "P3a_model(torch.randn(1, 3, 64, 64).to(device))"
   ]
  },
  {
   "cell_type": "code",
   "execution_count": 19,
   "id": "c799503a-5613-43b1-a279-bf4913ad176d",
   "metadata": {},
   "outputs": [
    {
     "name": "stderr",
     "output_type": "stream",
     "text": [
      " 10%|████████▎                                                                          | 1/10 [00:35<05:20, 35.63s/it]"
     ]
    },
    {
     "name": "stdout",
     "output_type": "stream",
     "text": [
      "Epoch: 1\n",
      "--------------- Train Loss: 1.5410, Train Accuracy: 0.4345, Val Loss: 1.2523, Val Accuracy: 0.5479\n"
     ]
    },
    {
     "name": "stderr",
     "output_type": "stream",
     "text": [
      " 20%|████████████████▌                                                                  | 2/10 [01:10<04:42, 35.35s/it]"
     ]
    },
    {
     "name": "stdout",
     "output_type": "stream",
     "text": [
      "Epoch: 2\n",
      "--------------- Train Loss: 1.0868, Train Accuracy: 0.6090, Val Loss: 1.0442, Val Accuracy: 0.6158\n"
     ]
    },
    {
     "name": "stderr",
     "output_type": "stream",
     "text": [
      " 30%|████████████████████████▉                                                          | 3/10 [01:45<04:05, 35.12s/it]"
     ]
    },
    {
     "name": "stdout",
     "output_type": "stream",
     "text": [
      "Epoch: 3\n",
      "--------------- Train Loss: 0.8484, Train Accuracy: 0.6885, Val Loss: 0.9218, Val Accuracy: 0.6736\n"
     ]
    },
    {
     "name": "stderr",
     "output_type": "stream",
     "text": [
      " 40%|█████████████████████████████████▏                                                 | 4/10 [02:22<03:33, 35.61s/it]"
     ]
    },
    {
     "name": "stdout",
     "output_type": "stream",
     "text": [
      "Epoch: 4\n",
      "--------------- Train Loss: 0.6743, Train Accuracy: 0.7489, Val Loss: 0.8411, Val Accuracy: 0.6869\n"
     ]
    },
    {
     "name": "stderr",
     "output_type": "stream",
     "text": [
      " 50%|█████████████████████████████████████████▌                                         | 5/10 [02:56<02:56, 35.23s/it]"
     ]
    },
    {
     "name": "stdout",
     "output_type": "stream",
     "text": [
      "Epoch: 5\n",
      "--------------- Train Loss: 0.5299, Train Accuracy: 0.7977, Val Loss: 0.7499, Val Accuracy: 0.7256\n"
     ]
    },
    {
     "name": "stderr",
     "output_type": "stream",
     "text": [
      " 60%|█████████████████████████████████████████████████▊                                 | 6/10 [03:31<02:20, 35.09s/it]"
     ]
    },
    {
     "name": "stdout",
     "output_type": "stream",
     "text": [
      "Epoch: 6\n",
      "--------------- Train Loss: 0.4049, Train Accuracy: 0.8366, Val Loss: 0.7569, Val Accuracy: 0.7288\n"
     ]
    },
    {
     "name": "stderr",
     "output_type": "stream",
     "text": [
      " 70%|██████████████████████████████████████████████████████████                         | 7/10 [04:06<01:45, 35.10s/it]"
     ]
    },
    {
     "name": "stdout",
     "output_type": "stream",
     "text": [
      "Epoch: 7\n",
      "--------------- Train Loss: 0.3029, Train Accuracy: 0.8693, Val Loss: 0.9208, Val Accuracy: 0.7049\n"
     ]
    },
    {
     "name": "stderr",
     "output_type": "stream",
     "text": [
      " 80%|██████████████████████████████████████████████████████████████████▍                | 8/10 [04:41<01:09, 34.98s/it]"
     ]
    },
    {
     "name": "stdout",
     "output_type": "stream",
     "text": [
      "Epoch: 8\n",
      "--------------- Train Loss: 0.2295, Train Accuracy: 0.8946, Val Loss: 0.8587, Val Accuracy: 0.7353\n"
     ]
    },
    {
     "name": "stderr",
     "output_type": "stream",
     "text": [
      " 90%|██████████████████████████████████████████████████████████████████████████▋        | 9/10 [05:15<00:34, 34.86s/it]"
     ]
    },
    {
     "name": "stdout",
     "output_type": "stream",
     "text": [
      "Epoch: 9\n",
      "--------------- Train Loss: 0.1612, Train Accuracy: 0.9149, Val Loss: 0.9522, Val Accuracy: 0.7245\n"
     ]
    },
    {
     "name": "stderr",
     "output_type": "stream",
     "text": [
      "100%|██████████████████████████████████████████████████████████████████████████████████| 10/10 [05:50<00:00, 35.06s/it]"
     ]
    },
    {
     "name": "stdout",
     "output_type": "stream",
     "text": [
      "Epoch: 10\n",
      "--------------- Train Loss: 0.1271, Train Accuracy: 0.9292, Val Loss: 0.9186, Val Accuracy: 0.7448\n",
      "Training Time: 0:05:50.575383\n"
     ]
    },
    {
     "name": "stderr",
     "output_type": "stream",
     "text": [
      "\n"
     ]
    },
    {
     "data": {
      "image/png": "[encoded data removed]",
      "text/plain": [
       "<Figure size 640x480 with 1 Axes>"
      ]
     },
     "metadata": {},
     "output_type": "display_data"
    }
   ],
   "source": [
    "loss_fn = nn.CrossEntropyLoss()\n",
    "optimizer = torch.optim.SGD(params=P3a_model.parameters(),\n",
    "                            lr=0.1)\n",
    "accuracy_fn = MulticlassAccuracy(num_classes=10).to(device)\n",
    "epochs = 10\n",
    "\n",
    "start_time = datetime.now()\n",
    "P3a_model_history = train(model=P3a_model,\n",
    "                     train_dataloader=trainLoader,\n",
    "                     val_dataloader=valLoader,\n",
    "                     optim=optimizer,\n",
    "                     loss_fn=loss_fn,\n",
    "                     accuracy_fn=accuracy_fn,\n",
    "                     epochs=epochs,\n",
    "                     device=device,\n",
    "                     verbose=False)\n",
    "stop_time = datetime.now()\n",
    "print(f\"Training Time: {stop_time - start_time}\")\n",
    "plot_history(P3a_model_history)"
   ]
  },
  {
   "cell_type": "code",
   "execution_count": null,
   "id": "d7e160b9-18fd-42b7-b074-07b17185ac7b",
   "metadata": {},
   "outputs": [],
   "source": [
    "# CLEARED OUTPUT FOR SUBMISSION DUE TO LONG WARNING MESSAGE\n",
    "with torch.cuda.device(0):\n",
    "  macs, params = get_model_complexity_info(P3a_model, (3, 64, 64), as_strings=True,\n",
    "                                           print_per_layer_stat=False, verbose=True)\n",
    "  print('{:<30}  {:<8}'.format('Computational complexity: ', macs))\n",
    "  print('{:<30}  {:<8}'.format('Number of parameters: ', params))"
   ]
  },
  {
   "cell_type": "markdown",
   "id": "7ed2b69f-1dd6-4c48-8280-43e8434d5e16",
   "metadata": {
    "tags": []
   },
   "source": [
    "## DenseNet"
   ]
  },
  {
   "cell_type": "code",
   "execution_count": 12,
   "id": "78f127ae-f334-42c9-869d-d35c5593b41c",
   "metadata": {},
   "outputs": [],
   "source": [
    "# Build DenseNet model from D2L textbook code\n",
    "def conv_block(num_channels):\n",
    "    return nn.Sequential(\n",
    "        nn.LazyBatchNorm2d(), nn.ReLU(),\n",
    "        nn.LazyConv2d(num_channels, kernel_size=3, padding=1))\n",
    "class DenseBlock(nn.Module):\n",
    "    def __init__(self, num_convs, num_channels):\n",
    "        super(DenseBlock, self).__init__()\n",
    "        layer = []\n",
    "        for i in range(num_convs):\n",
    "            layer.append(conv_block(num_channels))\n",
    "        self.net = nn.Sequential(*layer)\n",
    "\n",
    "    def forward(self, X):\n",
    "        for blk in self.net:\n",
    "            Y = blk(X)\n",
    "            # Concatenate input and output of each block along the channels\n",
    "            X = torch.cat((X, Y), dim=1)\n",
    "        return X\n",
    "def transition_block(num_channels):\n",
    "    return nn.Sequential(\n",
    "        nn.LazyBatchNorm2d(), nn.ReLU(),\n",
    "        nn.LazyConv2d(num_channels, kernel_size=1),\n",
    "        nn.AvgPool2d(kernel_size=2, stride=2))"
   ]
  },
  {
   "cell_type": "code",
   "execution_count": 13,
   "id": "4a262aaf-761a-46d5-ad3a-803dc5d71902",
   "metadata": {},
   "outputs": [
    {
     "name": "stderr",
     "output_type": "stream",
     "text": [
      "C:\\Users\\stanl\\anaconda3\\envs\\pytorch_cuda\\lib\\site-packages\\torch\\nn\\modules\\lazy.py:180: UserWarning: Lazy modules are a new feature under heavy development so changes to the API or functionality can happen at any moment.\n",
      "  warnings.warn('Lazy modules are a new feature under heavy development '\n"
     ]
    },
    {
     "data": {
      "text/plain": [
       "torch.Size([4, 23, 8, 8])"
      ]
     },
     "execution_count": 13,
     "metadata": {},
     "output_type": "execute_result"
    }
   ],
   "source": [
    "blk = DenseBlock(2, 10)\n",
    "X = torch.randn(4, 3, 8, 8)\n",
    "Y = blk(X)\n",
    "Y.shape"
   ]
  },
  {
   "cell_type": "code",
   "execution_count": 14,
   "id": "c4fbdd7c-6e57-43c1-905d-fe844bf3d315",
   "metadata": {},
   "outputs": [],
   "source": [
    "class DenseNet(nn.Module):\n",
    "    def b1(self):\n",
    "        return nn.Sequential(\n",
    "            nn.LazyConv2d(64, kernel_size=7, stride=2, padding=3),\n",
    "            nn.LazyBatchNorm2d(), nn.ReLU(),\n",
    "            nn.MaxPool2d(kernel_size=3, stride=2, padding=1))\n",
    "    def __init__(self, num_channels=64, growth_rate=32, arch=(4, 4, 4, 4),\n",
    "             lr=0.1, num_classes=10):\n",
    "        super().__init__()\n",
    "        self.net = nn.Sequential(self.b1())\n",
    "        for i, num_convs in enumerate(arch):\n",
    "            self.net.add_module(f'dense_blk{i+1}', DenseBlock(num_convs,\n",
    "                                                              growth_rate))\n",
    "            # The number of output channels in the previous dense block\n",
    "            num_channels += num_convs * growth_rate\n",
    "            # A transition layer that halves the number of channels is added\n",
    "            # between the dense blocks\n",
    "            if i != len(arch) - 1:\n",
    "                num_channels //= 2\n",
    "                self.net.add_module(f'tran_blk{i+1}', transition_block(\n",
    "                    num_channels))\n",
    "        self.net.add_module('last', nn.Sequential(\n",
    "            nn.LazyBatchNorm2d(), nn.ReLU(),\n",
    "            nn.AdaptiveAvgPool2d((1, 1)), nn.Flatten(),\n",
    "            nn.LazyLinear(num_classes))\n",
    "                           )\n",
    "    def forward(self, x):\n",
    "        x = self.net(x)\n",
    "        return x"
   ]
  },
  {
   "cell_type": "code",
   "execution_count": 22,
   "id": "65952c78-ee75-43de-b57f-e75770b3fda1",
   "metadata": {},
   "outputs": [
    {
     "data": {
      "text/plain": [
       "tensor([[ 0.4171, -0.2354,  0.0058, -0.3055,  0.2153, -0.1027,  0.2784, -0.2422,\n",
       "         -0.1048, -0.0803]], device='cuda:0', grad_fn=<AddmmBackward0>)"
      ]
     },
     "execution_count": 22,
     "metadata": {},
     "output_type": "execute_result"
    }
   ],
   "source": [
    "# NEED TO DEBUG DENSENET MODEL, WILL SEND WHEN FINISHED\n",
    "DenseNet_model = DenseNet(arch=(6, 16, 18, 24)).to(device)\n",
    "DenseNet_model(torch.randn(1, 3, 64, 64).to(device))"
   ]
  },
  {
   "cell_type": "code",
   "execution_count": 23,
   "id": "3fbaa3d5-5e5c-4d74-8de7-d3237cf5995f",
   "metadata": {},
   "outputs": [
    {
     "name": "stdout",
     "output_type": "stream",
     "text": [
      "Warning: module DenseBlock is treated as a zero-op.\n",
      "Warning: module Flatten is treated as a zero-op.\n",
      "Warning: module DenseNet is treated as a zero-op.\n",
      "Computational complexity:       284.92 MMac\n",
      "Number of parameters:           11.4 M  \n"
     ]
    }
   ],
   "source": [
    "# CLEARED OUTPUT FOR SUBMISSION DUE TO LONG WARNING MESSAGE\n",
    "with torch.cuda.device(0):\n",
    "  macs, params = get_model_complexity_info(DenseNet_model, (3, 64, 64), as_strings=True,\n",
    "                                           print_per_layer_stat=False, verbose=True)\n",
    "  print('{:<30}  {:<8}'.format('Computational complexity: ', macs))\n",
    "  print('{:<30}  {:<8}'.format('Number of parameters: ', params))"
   ]
  },
  {
   "cell_type": "code",
   "execution_count": 24,
   "id": "8d9bc9ed-0a22-4762-a4f5-bbebfb770b00",
   "metadata": {},
   "outputs": [
    {
     "name": "stderr",
     "output_type": "stream",
     "text": [
      " 10%|████████▎                                                                          | 1/10 [01:21<12:11, 81.27s/it]"
     ]
    },
    {
     "name": "stdout",
     "output_type": "stream",
     "text": [
      "Epoch: 1\n",
      "--------------- Train Loss: 1.5973, Train Accuracy: 0.4200, Val Loss: 1.3099, Val Accuracy: 0.5135\n"
     ]
    },
    {
     "name": "stderr",
     "output_type": "stream",
     "text": [
      " 20%|████████████████▌                                                                  | 2/10 [02:42<10:50, 81.29s/it]"
     ]
    },
    {
     "name": "stdout",
     "output_type": "stream",
     "text": [
      "Epoch: 2\n",
      "--------------- Train Loss: 1.1371, Train Accuracy: 0.5878, Val Loss: 0.9877, Val Accuracy: 0.6281\n"
     ]
    },
    {
     "name": "stderr",
     "output_type": "stream",
     "text": [
      " 30%|████████████████████████▉                                                          | 3/10 [04:05<09:35, 82.20s/it]"
     ]
    },
    {
     "name": "stdout",
     "output_type": "stream",
     "text": [
      "Epoch: 3\n",
      "--------------- Train Loss: 0.8866, Train Accuracy: 0.6776, Val Loss: 0.8047, Val Accuracy: 0.6954\n"
     ]
    },
    {
     "name": "stderr",
     "output_type": "stream",
     "text": [
      " 40%|█████████████████████████████████▏                                                 | 4/10 [05:27<08:12, 82.17s/it]"
     ]
    },
    {
     "name": "stdout",
     "output_type": "stream",
     "text": [
      "Epoch: 4\n",
      "--------------- Train Loss: 0.7214, Train Accuracy: 0.7352, Val Loss: 0.8668, Val Accuracy: 0.6803\n"
     ]
    },
    {
     "name": "stderr",
     "output_type": "stream",
     "text": [
      " 50%|█████████████████████████████████████████▌                                         | 5/10 [06:49<06:49, 81.96s/it]"
     ]
    },
    {
     "name": "stdout",
     "output_type": "stream",
     "text": [
      "Epoch: 5\n",
      "--------------- Train Loss: 0.6129, Train Accuracy: 0.7722, Val Loss: 0.7087, Val Accuracy: 0.7345\n"
     ]
    },
    {
     "name": "stderr",
     "output_type": "stream",
     "text": [
      " 60%|█████████████████████████████████████████████████▊                                 | 6/10 [08:11<05:28, 82.05s/it]"
     ]
    },
    {
     "name": "stdout",
     "output_type": "stream",
     "text": [
      "Epoch: 6\n",
      "--------------- Train Loss: 0.5242, Train Accuracy: 0.8013, Val Loss: 0.7083, Val Accuracy: 0.7400\n"
     ]
    },
    {
     "name": "stderr",
     "output_type": "stream",
     "text": [
      " 70%|██████████████████████████████████████████████████████████                         | 7/10 [09:32<04:04, 81.59s/it]"
     ]
    },
    {
     "name": "stdout",
     "output_type": "stream",
     "text": [
      "Epoch: 7\n",
      "--------------- Train Loss: 0.4493, Train Accuracy: 0.8250, Val Loss: 0.6094, Val Accuracy: 0.7720\n"
     ]
    },
    {
     "name": "stderr",
     "output_type": "stream",
     "text": [
      " 80%|██████████████████████████████████████████████████████████████████▍                | 8/10 [10:54<02:43, 81.70s/it]"
     ]
    },
    {
     "name": "stdout",
     "output_type": "stream",
     "text": [
      "Epoch: 8\n",
      "--------------- Train Loss: 0.3910, Train Accuracy: 0.8491, Val Loss: 0.6320, Val Accuracy: 0.7675\n"
     ]
    },
    {
     "name": "stderr",
     "output_type": "stream",
     "text": [
      " 90%|██████████████████████████████████████████████████████████████████████████▋        | 9/10 [12:18<01:22, 82.50s/it]"
     ]
    },
    {
     "name": "stdout",
     "output_type": "stream",
     "text": [
      "Epoch: 9\n",
      "--------------- Train Loss: 0.3255, Train Accuracy: 0.8668, Val Loss: 0.6206, Val Accuracy: 0.7711\n"
     ]
    },
    {
     "name": "stderr",
     "output_type": "stream",
     "text": [
      "100%|██████████████████████████████████████████████████████████████████████████████████| 10/10 [13:43<00:00, 82.37s/it]"
     ]
    },
    {
     "name": "stdout",
     "output_type": "stream",
     "text": [
      "Epoch: 10\n",
      "--------------- Train Loss: 0.2770, Train Accuracy: 0.8795, Val Loss: 0.5878, Val Accuracy: 0.7910\n",
      "Training Time: 0:13:43.704113\n"
     ]
    },
    {
     "name": "stderr",
     "output_type": "stream",
     "text": [
      "\n"
     ]
    },
    {
     "data": {
      "image/png": "[encoded data removed]",
      "text/plain": [
       "<Figure size 640x480 with 1 Axes>"
      ]
     },
     "metadata": {},
     "output_type": "display_data"
    }
   ],
   "source": [
    "loss_fn = nn.CrossEntropyLoss()\n",
    "optimizer = torch.optim.SGD(params=DenseNet_model.parameters(),\n",
    "                            lr=0.1)\n",
    "accuracy_fn = MulticlassAccuracy(num_classes=10).to(device)\n",
    "epochs = 10\n",
    "\n",
    "start_time = datetime.now()\n",
    "DenseNet_model_history = train(model=DenseNet_model,\n",
    "                     train_dataloader=trainLoader,\n",
    "                     val_dataloader=valLoader,\n",
    "                     optim=optimizer,\n",
    "                     loss_fn=loss_fn,\n",
    "                     accuracy_fn=accuracy_fn,\n",
    "                     epochs=epochs,\n",
    "                     device=device,\n",
    "                     verbose=False)\n",
    "stop_time = datetime.now()\n",
    "print(f\"Training Time: {stop_time - start_time}\")\n",
    "plot_history(DenseNet_model_history)"
   ]
  }
 ],
 "metadata": {
  "kernelspec": {
   "display_name": "Python 3 (ipykernel)",
   "language": "python",
   "name": "python3"
  },
  "language_info": {
   "codemirror_mode": {
    "name": "ipython",
    "version": 3
   },
   "file_extension": ".py",
   "mimetype": "text/x-python",
   "name": "python",
   "nbconvert_exporter": "python",
   "pygments_lexer": "ipython3",
   "version": "3.9.16"
  }
 },
 "nbformat": 4,
 "nbformat_minor": 5
}
