{
 "cells": [
  {
   "cell_type": "markdown",
   "id": "9e2e1610-40f7-4d77-b740-d744a694d007",
   "metadata": {
    "tags": []
   },
   "source": [
    "# Homework 4\n",
    "\n",
    "Name: Stanly Gomes\n",
    "\n",
    "Student ID: 801118166\n",
    "\n",
    "GitHub Repository: https://github.com/stanlygomes/RealTimeML"
   ]
  },
  {
   "cell_type": "code",
   "execution_count": 30,
   "id": "d4cdd46f-1cd3-4deb-ba71-bea2cad11b12",
   "metadata": {},
   "outputs": [],
   "source": [
    "from tqdm import tqdm\n",
    "import torch\n",
    "from torch import nn\n",
    "from torch.nn import functional as F\n",
    "from torch.utils.data import Dataset, DataLoader, random_split, Subset\n",
    "\n",
    "import numpy as np\n",
    "import pandas as pd\n",
    "import cv2\n",
    "from matplotlib import pyplot as plt\n",
    "from ptflops import get_model_complexity_info\n",
    "\n",
    "import torchvision\n",
    "from torchvision import transforms, datasets\n",
    "from torchmetrics.classification import MulticlassAccuracy, BinaryAccuracy\n",
    "from torchmetrics import ConfusionMatrix\n",
    "from datetime import datetime"
   ]
  },
  {
   "cell_type": "markdown",
   "id": "9dbaab67-19db-4f7f-8a12-490de652fd7e",
   "metadata": {},
   "source": [
    "## Import and preprocess TimeMachine.txt Dataset"
   ]
  },
  {
   "cell_type": "code",
   "execution_count": 7,
   "id": "79c1fdd6-119b-4408-a5b3-aaf3664ce1e6",
   "metadata": {},
   "outputs": [
    {
     "name": "stdout",
     "output_type": "stream",
     "text": [
      "File exists already!\n",
      "# text lines: 3229\n",
      "\n",
      "lights in the lilies of silver caught the bubbles that flashed and\n"
     ]
    }
   ],
   "source": [
    "import urllib.request\n",
    "import os\n",
    "import re\n",
    "import collections\n",
    "\n",
    "url = 'https://www.gutenberg.org/files/35/old/35.txt'\n",
    "start_string = 'The Time Machine, by H. G. Wells [1898]\\r\\n\\r\\n'\n",
    "\n",
    "with urllib.request.urlopen(url) as response:\n",
    "    text = response.read().decode('utf-8')\n",
    "\n",
    "# Find the index of the start string\n",
    "start_idx = text.find(start_string)\n",
    "if start_idx == -1:\n",
    "    raise ValueError('Start string not found')\n",
    "\n",
    "# Extract the text after the start string\n",
    "text = text[start_idx+len(start_string):]\n",
    "\n",
    "# Remove any remaining metadata at the end of the file\n",
    "end_string = '*** END OF THIS PROJECT GUTENBERG EBOOK THE TIME MACHINE ***'\n",
    "end_idx = text.find(end_string)\n",
    "if end_idx != -1:\n",
    "    text = text[:end_idx]\n",
    "    \n",
    "# Saving unprocessed dataset\n",
    "if not os.path.exists('timemachine.txt'):\n",
    "    with open('timemachine.txt', 'w') as f:\n",
    "        f.write(text)\n",
    "else:\n",
    "    print('File exists already!')\n",
    "\n",
    "# Preprocess the text\n",
    "lines = [re.sub('[^A-Za-z]+', ' ', line).strip().lower() for line in text.split('\\n')]\n",
    "\n",
    "print(f'# text lines: {len(lines)}')\n",
    "print(lines[0])\n",
    "print(lines[10])"
   ]
  },
  {
   "cell_type": "code",
   "execution_count": 32,
   "id": "6bc63f86-3b7c-4b1a-b12a-1843ffca5583",
   "metadata": {},
   "outputs": [
    {
     "name": "stdout",
     "output_type": "stream",
     "text": [
      "File exists already!\n"
     ]
    },
    {
     "data": {
      "text/plain": [
       "'\\n'"
      ]
     },
     "execution_count": 32,
     "metadata": {},
     "output_type": "execute_result"
    }
   ],
   "source": [
    "class TimeMachine(Dataset):\n",
    "    def _download(self):\n",
    "        url = 'https://www.gutenberg.org/files/35/old/35.txt'\n",
    "        start_string = 'The Time Machine, by H. G. Wells [1898]\\r\\n\\r\\n'\n",
    "\n",
    "        with urllib.request.urlopen(url) as response:\n",
    "            text = response.read().decode('utf-8')\n",
    "\n",
    "        # Find the index of the start string\n",
    "        start_idx = text.find(start_string)\n",
    "        if start_idx == -1:\n",
    "            raise ValueError('Start string not found')\n",
    "\n",
    "        # Extract the text after the start string\n",
    "        text = text[start_idx+len(start_string):]\n",
    "\n",
    "        # Remove any remaining metadata at the end of the file\n",
    "        end_string = '*** END OF THIS PROJECT GUTENBERG EBOOK THE TIME MACHINE ***'\n",
    "        end_idx = text.find(end_string)\n",
    "        if end_idx != -1:\n",
    "            text = text[:end_idx]\n",
    "\n",
    "        # Saving unprocessed dataset\n",
    "        if not os.path.exists('timemachine.txt'):\n",
    "            with open('timemachine.txt', 'w') as f:\n",
    "                f.write(text)\n",
    "        else:\n",
    "            print('File exists already!')\n",
    "        \n",
    "        return text\n",
    "data = TimeMachine()\n",
    "raw_text = data._download()\n",
    "raw_text[10]"
   ]
  },
  {
   "cell_type": "code",
   "execution_count": 25,
   "id": "e3387662-bc85-46eb-aeb2-a834b8dc5036",
   "metadata": {},
   "outputs": [
    {
     "name": "stdout",
     "output_type": "stream",
     "text": [
      "i\n",
      "the\n",
      "time\n",
      "traveller\n",
      "for\n",
      "so\n",
      "it\n",
      "will\n",
      "be\n",
      "convenient\n",
      "to\n"
     ]
    }
   ],
   "source": [
    "def tokenize(lines, token='word'):\n",
    "    if token == 'word':\n",
    "        return [token for line in lines for token in line.split()]\n",
    "    elif token == 'char':\n",
    "        return [char for line in lines for char in list(line)]\n",
    "    else:\n",
    "        print('Error: Unknown token type: ' + token)\n",
    "\n",
    "tokens = tokenize(lines)\n",
    "for i in range(11):\n",
    "    print(tokens[i])"
   ]
  },
  {
   "cell_type": "code",
   "execution_count": 26,
   "id": "27feb2f8-d06c-4abe-9d50-942b01c8a112",
   "metadata": {},
   "outputs": [],
   "source": [
    "def count_corpus(tokens):\n",
    "    # Here `tokens` is a 1D list or 2D list\n",
    "    if len(tokens) == 0 or isinstance(tokens[0], list):\n",
    "        # Flatten a list of token lists into a list of tokens\n",
    "        tokens = [token for line in tokens for token in line]\n",
    "    return collections.Counter(tokens)"
   ]
  },
  {
   "cell_type": "code",
   "execution_count": 27,
   "id": "54a4a03e-4a6f-4482-845e-19c0f16f5992",
   "metadata": {},
   "outputs": [],
   "source": [
    "# Implement vocabulary\n",
    "class Vocab:\n",
    "    def __init__(self, tokens=[], min_freq=0, reserved_tokens=[]):\n",
    "        if tokens and isinstance(tokens[0], list):\n",
    "            tokens = [token for line in tokens for token in line]\n",
    "        \n",
    "        # Count token frequencies\n",
    "        counter = collections.Counter(tokens)\n",
    "        self.token_freqs = sorted(counter.items(), key=lambda x: x[1],\n",
    "                                   reverse=True)\n",
    "        # List of unique tokens\n",
    "        self.idx_to_token = list(sorted(set(['<unk>'] + reserved_tokens + [\n",
    "            token for token, freq in self.token_freqs if freq >= min_freq])))\n",
    "        self.token_to_idx = {token: idx\n",
    "                             for idx, token in enumerate(self.idx_to_token)}\n",
    "        # for token, freq in self._token_freqs:\n",
    "        #     if freq < min_freq:\n",
    "        #         break\n",
    "        #     if token not in self.token_to_idx:\n",
    "        #         self.idx_to_token.append(token)\n",
    "        #         self.token_to_idx[token] = len(self.idx_to_token) - 1\n",
    "                \n",
    "    def unk(self):\n",
    "        return self.token_to_idx['<unk>']\n",
    "    \n",
    "    def __len__(self):\n",
    "        return len(self.idx_to_token)\n",
    "    \n",
    "    # def __getitem__(self, tokens):\n",
    "    #     if not isinstance(tokens, (list, tuple)):\n",
    "    #         return self.token_to_idx(tokens, self.unk)\n",
    "    #     return [self.__getitem__(token) for token in tokens]\n",
    "    \n",
    "    def __getitem__(self, tokens):\n",
    "        if not isinstance(tokens, (list, tuple)):\n",
    "            return self.token_to_idx.get(tokens, self.token_to_idx['<unk>'])\n",
    "        return [self.token_to_idx.get(token, self.token_to_idx['<unk>']) for token in tokens]\n",
    "\n",
    "    \n",
    "    def to_tokens(self, indices):\n",
    "        if hasattr(indices, '__len__') and len(indices) > 1:\n",
    "            return [self.idx_to_token[int(index)] for index in indices]\n",
    "        return self.idx_to_token[indices]\n",
    "    \n",
    "    # def token_freqs(self):\n",
    "    #     return self._token_freqs"
   ]
  },
  {
   "cell_type": "code",
   "execution_count": 28,
   "id": "b75d7483-af70-4d8e-882e-6b2349047c39",
   "metadata": {},
   "outputs": [
    {
     "name": "stdout",
     "output_type": "stream",
     "text": [
      "indices: [1995, 4045, 4112, 4171, 1568, 3694, 2185, 4492, 319, 795]\n",
      "words: ['i', 'the', 'time', 'traveller', 'for', 'so', 'it', 'will', 'be', 'convenient']\n"
     ]
    }
   ],
   "source": [
    "vocab = Vocab(tokens)\n",
    "indices = vocab[tokens[:10]]\n",
    "print('indices:', indices)\n",
    "print('words:', vocab.to_tokens(indices))"
   ]
  },
  {
   "cell_type": "code",
   "execution_count": 29,
   "id": "ac5b5cb7-eda7-47e5-bcdc-ccb48736145f",
   "metadata": {},
   "outputs": [
    {
     "name": "stdout",
     "output_type": "stream",
     "text": [
      "words: i\n",
      "indices: 1995\n",
      "words: to\n",
      "indices: 4122\n"
     ]
    }
   ],
   "source": []
  },
  {
   "cell_type": "markdown",
   "id": "9502520f-056c-443d-b35a-ccfce6dc3713",
   "metadata": {},
   "source": [
    "## Problem 1: Train RNN, LSTM, and GRU on varying hyperparameters"
   ]
  },
  {
   "cell_type": "code",
   "execution_count": 4,
   "id": "7516122e-2ef4-4bc3-87c5-fdf02edd0e18",
   "metadata": {},
   "outputs": [],
   "source": [
    "# Implement GRU architecture from lecture/D2L textbook\n",
    "class GRUScratch(nn.Module):\n",
    "    def __init__(self, num_inputs, hidden_states, sigma=0.01):\n",
    "        super().__init__()\n",
    "        \n",
    "        # Draw the weights from a Gaussian distribution with standard deviation to be sigma, setting bias to 0\n",
    "        initial_weight = lambda *shape: nn.Parameter(torch.randn(*shape) * sigma)\n",
    "        triple = lambda: (initial_weight(num_inputs, hidden_states),\n",
    "                          initial_weight(hidden_states, hidden_states),\n",
    "                          nn.Parameter(torch.zeroes(hidden_states)))\n",
    "        \n",
    "        self.W_xz, self.W_hz, self.b_z = triple()  # Update gate\n",
    "        self.W_xr, self.W_hr, self.b_r = triple()  # Reset gate\n",
    "        self.W_xh, self.W_hh, self.b_h = triple()  # Candidate hidden state\n",
    "    \n",
    "    def forward(self, inputs, H=None):\n",
    "        if H is None:\n",
    "            # Initial state with shape: (batch_size, num_hiddens)\n",
    "            H = torch.zeros((inputs.shape[1], self.hidden_states),\n",
    "                          device=inputs.device)\n",
    "        outputs = []\n",
    "        for X in inputs:\n",
    "            Z = torch.sigmoid(torch.matmul(X, self.W_xz) +\n",
    "                            torch.matmul(H, self.W_hz) + self.b_z)\n",
    "            R = torch.sigmoid(torch.matmul(X, self.W_xr) +\n",
    "                            torch.matmul(H, self.W_hr) + self.b_r)\n",
    "            H_tilde = torch.tanh(torch.matmul(X, self.W_xh) +\n",
    "                            torch.matmul(R * H, self.W_hh) + self.b_h)\n",
    "            H = Z * H + (1 - Z) * H_tilde\n",
    "            outputs.append(H)\n",
    "        return outputs, H"
   ]
  },
  {
   "cell_type": "code",
   "execution_count": null,
   "id": "30df0150-7a85-471c-b518-1d5fa79692d7",
   "metadata": {},
   "outputs": [],
   "source": []
  }
 ],
 "metadata": {
  "kernelspec": {
   "display_name": "Python 3 (ipykernel)",
   "language": "python",
   "name": "python3"
  },
  "language_info": {
   "codemirror_mode": {
    "name": "ipython",
    "version": 3
   },
   "file_extension": ".py",
   "mimetype": "text/x-python",
   "name": "python",
   "nbconvert_exporter": "python",
   "pygments_lexer": "ipython3",
   "version": "3.9.16"
  }
 },
 "nbformat": 4,
 "nbformat_minor": 5
}
