{
  "cells": [
    {
      "cell_type": "markdown",
      "id": "b8e157c7-5547-427d-905e-460578bb079d",
      "metadata": {
        "tags": [],
        "id": "b8e157c7-5547-427d-905e-460578bb079d"
      },
      "source": [
        "# Problem 1\n",
        "Develop a multi-layer perceptron with two hidden layers (you pick the dimensions of the hidden layers) for Fashionmnst dataset.\n",
        "\n",
        "1.a. train the model from scratch (with randomized parameters) and plot the results (training loss and accuracy, validation accuracy) after 20 epochs. Does your network need more epochs for full training? Do you observe overfitting? Make sure to save the trained parameters and model.  (10pts)\n",
        "\n",
        "1.b Report section a; this time add weight penalties (weight decays). Report and plot your training results. how do the training results change compared to the baseline? (15pts)\n",
        "\n",
        "1.c Report section a; this time add dropout (dropout = 0.3). Report and plot your training results. how do the training results change compared to the baseline? How the training results change compared to the weight penalties. (15pts)\n",
        "\n",
        "1.d. repeat problems 1.b and 1.c; this time, load the pre-trained parameters from the storage. Plot the training results, and compare the training time and number of epochs needed against 1.b and 1.c. (20pts)"
      ]
    },
    {
      "cell_type": "code",
      "source": [
        "!pip install torchmetrics\n",
        "!pip install d2l==1.0.0b0"
      ],
      "metadata": {
        "id": "PaJdN9LAqwTc"
      },
      "id": "PaJdN9LAqwTc",
      "execution_count": null,
      "outputs": []
    },
    {
      "cell_type": "code",
      "execution_count": 2,
      "id": "b2c9847a-aac0-46f9-ad68-8a3dd18d86ca",
      "metadata": {
        "id": "b2c9847a-aac0-46f9-ad68-8a3dd18d86ca"
      },
      "outputs": [],
      "source": [
        "import numpy as np\n",
        "import pandas as pd\n",
        "from matplotlib import pyplot as plt\n",
        "\n",
        "import torch\n",
        "import torchvision\n",
        "from torch import nn\n",
        "from torch.nn import functional as F\n",
        "from torch.utils.data import DataLoader, random_split, Subset\n",
        "\n",
        "from torchvision import transforms, datasets\n",
        "from torchmetrics.classification import MulticlassAccuracy, BinaryAccuracy\n",
        "from torchmetrics import ConfusionMatrix\n",
        "\n",
        "from d2l import torch as d2l"
      ]
    },
    {
      "cell_type": "code",
      "execution_count": 3,
      "id": "c0881537-c5d7-47b9-b191-732138e7244d",
      "metadata": {
        "colab": {
          "base_uri": "https://localhost:8080/"
        },
        "id": "c0881537-c5d7-47b9-b191-732138e7244d",
        "outputId": "d45ad16e-28ff-4074-c91b-379cc65db354"
      },
      "outputs": [
        {
          "output_type": "execute_result",
          "data": {
            "text/plain": [
              "(device(type='cpu'),\n",
              " device(type='cuda', index=0),\n",
              " device(type='cuda', index=1))"
            ]
          },
          "metadata": {},
          "execution_count": 3
        }
      ],
      "source": [
        "def cpu():  #@save\n",
        "    return torch.device('cpu')\n",
        "def gpu(i=0):  #@save\n",
        "    return torch.device(f'cuda:{i}')\n",
        "cpu(), gpu(), gpu(1)"
      ]
    },
    {
      "cell_type": "code",
      "execution_count": 4,
      "id": "9d0053ba-1cdc-47b7-b8d7-1148bbf7b6c1",
      "metadata": {
        "colab": {
          "base_uri": "https://localhost:8080/"
        },
        "id": "9d0053ba-1cdc-47b7-b8d7-1148bbf7b6c1",
        "outputId": "f5e467e7-a662-4024-ed46-227ffd366adc"
      },
      "outputs": [
        {
          "output_type": "execute_result",
          "data": {
            "text/plain": [
              "1"
            ]
          },
          "metadata": {},
          "execution_count": 4
        }
      ],
      "source": [
        "def num_gpus():  #@save\n",
        "    return torch.cuda.device_count()\n",
        "num_gpus()"
      ]
    },
    {
      "cell_type": "code",
      "execution_count": 5,
      "id": "7f3075a4-87ad-4511-a032-18e6ec33d4e7",
      "metadata": {
        "id": "7f3075a4-87ad-4511-a032-18e6ec33d4e7"
      },
      "outputs": [],
      "source": [
        "def try_gpu(i=0):  #@save\n",
        "    \"\"\"Return gpu(i) if exists, otherwise return cpu().\"\"\"\n",
        "    if num_gpus() >= i + 1:\n",
        "        return gpu(i)\n",
        "    return cpu()"
      ]
    },
    {
      "cell_type": "code",
      "execution_count": 6,
      "id": "7e6b8061-b0b7-4950-a744-56afe0297c3f",
      "metadata": {
        "id": "7e6b8061-b0b7-4950-a744-56afe0297c3f"
      },
      "outputs": [],
      "source": [
        "d2l.use_svg_display()"
      ]
    },
    {
      "cell_type": "code",
      "execution_count": 7,
      "id": "b4e916fc-dfe9-4778-b82d-e818d1c8a458",
      "metadata": {
        "id": "b4e916fc-dfe9-4778-b82d-e818d1c8a458"
      },
      "outputs": [],
      "source": [
        "class FashionMNIST(d2l.DataModule):  #@save\n",
        "    def __init__(self, batch_size=64, resize=(28, 28)):\n",
        "        super().__init__()\n",
        "        self.save_hyperparameters()\n",
        "        trans = transforms.Compose([transforms.Resize(resize),\n",
        "                                    transforms.ToTensor()])\n",
        "        self.train = torchvision.datasets.FashionMNIST(\n",
        "            root=self.root, train=True, transform=trans, download=True)\n",
        "        self.val = torchvision.datasets.FashionMNIST(\n",
        "            root=self.root, train=False, transform=trans, download=True)"
      ]
    },
    {
      "cell_type": "code",
      "execution_count": 8,
      "id": "2fd42e41-e12e-4a0c-99d7-f553475397e3",
      "metadata": {
        "colab": {
          "base_uri": "https://localhost:8080/",
          "height": 460,
          "referenced_widgets": [
            "4b702ef815544b02b7918f53b6574c1a",
            "74d345892c684136bc90358ba02ecdd5",
            "b6e378ae51a94da6b20da0eb789777b4",
            "b67028c1a4454d558899ed944cfdfdbc",
            "c976a0d55e0846379cc177d0fe1bedb1",
            "2136ba3357bb49989cb85ebae88351e5",
            "c75f8c272061484a864906c101b3e89c",
            "a70ffd21e5b94479806c47cc921b8f70",
            "5394935dc82740d6aa95e3a715921a8b",
            "74a1391df59e44a3b306ae272ff5e5d1",
            "7b5b4ca6777442a593ef2b7cb6715ede",
            "5b9b1f760e494097a6800383d7186ca9",
            "746c4830d4a542f282e12136055ec57d",
            "84fdbe2da4984621baeae3e102638e59",
            "0ebb76d3b1ed40c6be04b0df50a07dad",
            "c13b30cdca5c4ce891d463d0daa2dc14",
            "db59288a80c54a458ca9c91fe134834b",
            "5c3067994c2746b2a33d93ca3a9b5e97",
            "fd314b3f742948aaa1aaabb4e6eb8ca6",
            "b6b441322a8147f5b63ba2c97011c0df",
            "f99f7fc660e641e483d1b1a260d3342c",
            "e27a6b226e934bf3bade3af7b20d88b1",
            "aaacca3d3b344faa8c1db19b92c2083e",
            "5902b1f76a294a5b9aa28536acf71f78",
            "fde830c246e04a07a4798aa667b9ca28",
            "d6c3414a05be436da6a9ccd10d5282b3",
            "f80efa5483064edaa013be4d649cc797",
            "5fb993d65bd8419aa9e0d735d6c0b8ba",
            "5b97c8b7f6f744ffa79c406d4da1613d",
            "282471d2774648e49aecb912a1b8d7a5",
            "1a8408a021e249ca8076cb47dc02293d",
            "46a6d31b177d4b32aefe77a4779d1bd8",
            "5e368aadafb64a90b25fd7d3a8efe93c",
            "efa119688026476facf4589b31068ab8",
            "8d5bb2941c1742cab2f53f1473195d66",
            "bfb9aa2992094fc9a2336f3ae596d67d",
            "94bbf1329cce46bc83b3386c4655d313",
            "a3cf30db280048ae92342a389a8694c0",
            "63f13c0b06a54a2986de88adef28720d",
            "7eca8be7f6c140cc8f9489cc41e3f39d",
            "769ac592d84641a8b9120e8232294edb",
            "439f34ed2b444603ac2a958cfa1737ed",
            "3d42740468454e16a86bfe90bc2a847c",
            "b9181693d51849aab18139ec3f412331"
          ]
        },
        "id": "2fd42e41-e12e-4a0c-99d7-f553475397e3",
        "outputId": "2b547400-6c93-46e2-bd61-4a0217f1e0c9"
      },
      "outputs": [
        {
          "output_type": "stream",
          "name": "stdout",
          "text": [
            "Downloading http://fashion-mnist.s3-website.eu-central-1.amazonaws.com/train-images-idx3-ubyte.gz\n",
            "Downloading http://fashion-mnist.s3-website.eu-central-1.amazonaws.com/train-images-idx3-ubyte.gz to ../data/FashionMNIST/raw/train-images-idx3-ubyte.gz\n"
          ]
        },
        {
          "output_type": "display_data",
          "data": {
            "text/plain": [
              "  0%|          | 0/26421880 [00:00<?, ?it/s]"
            ],
            "application/vnd.jupyter.widget-view+json": {
              "version_major": 2,
              "version_minor": 0,
              "model_id": "4b702ef815544b02b7918f53b6574c1a"
            }
          },
          "metadata": {}
        },
        {
          "output_type": "stream",
          "name": "stdout",
          "text": [
            "Extracting ../data/FashionMNIST/raw/train-images-idx3-ubyte.gz to ../data/FashionMNIST/raw\n",
            "\n",
            "Downloading http://fashion-mnist.s3-website.eu-central-1.amazonaws.com/train-labels-idx1-ubyte.gz\n",
            "Downloading http://fashion-mnist.s3-website.eu-central-1.amazonaws.com/train-labels-idx1-ubyte.gz to ../data/FashionMNIST/raw/train-labels-idx1-ubyte.gz\n"
          ]
        },
        {
          "output_type": "display_data",
          "data": {
            "text/plain": [
              "  0%|          | 0/29515 [00:00<?, ?it/s]"
            ],
            "application/vnd.jupyter.widget-view+json": {
              "version_major": 2,
              "version_minor": 0,
              "model_id": "5b9b1f760e494097a6800383d7186ca9"
            }
          },
          "metadata": {}
        },
        {
          "output_type": "stream",
          "name": "stdout",
          "text": [
            "Extracting ../data/FashionMNIST/raw/train-labels-idx1-ubyte.gz to ../data/FashionMNIST/raw\n",
            "\n",
            "Downloading http://fashion-mnist.s3-website.eu-central-1.amazonaws.com/t10k-images-idx3-ubyte.gz\n",
            "Downloading http://fashion-mnist.s3-website.eu-central-1.amazonaws.com/t10k-images-idx3-ubyte.gz to ../data/FashionMNIST/raw/t10k-images-idx3-ubyte.gz\n"
          ]
        },
        {
          "output_type": "display_data",
          "data": {
            "text/plain": [
              "  0%|          | 0/4422102 [00:00<?, ?it/s]"
            ],
            "application/vnd.jupyter.widget-view+json": {
              "version_major": 2,
              "version_minor": 0,
              "model_id": "aaacca3d3b344faa8c1db19b92c2083e"
            }
          },
          "metadata": {}
        },
        {
          "output_type": "stream",
          "name": "stdout",
          "text": [
            "Extracting ../data/FashionMNIST/raw/t10k-images-idx3-ubyte.gz to ../data/FashionMNIST/raw\n",
            "\n",
            "Downloading http://fashion-mnist.s3-website.eu-central-1.amazonaws.com/t10k-labels-idx1-ubyte.gz\n",
            "Downloading http://fashion-mnist.s3-website.eu-central-1.amazonaws.com/t10k-labels-idx1-ubyte.gz to ../data/FashionMNIST/raw/t10k-labels-idx1-ubyte.gz\n"
          ]
        },
        {
          "output_type": "display_data",
          "data": {
            "text/plain": [
              "  0%|          | 0/5148 [00:00<?, ?it/s]"
            ],
            "application/vnd.jupyter.widget-view+json": {
              "version_major": 2,
              "version_minor": 0,
              "model_id": "efa119688026476facf4589b31068ab8"
            }
          },
          "metadata": {}
        },
        {
          "output_type": "stream",
          "name": "stdout",
          "text": [
            "Extracting ../data/FashionMNIST/raw/t10k-labels-idx1-ubyte.gz to ../data/FashionMNIST/raw\n",
            "\n"
          ]
        },
        {
          "output_type": "execute_result",
          "data": {
            "text/plain": [
              "(60000, 10000)"
            ]
          },
          "metadata": {},
          "execution_count": 8
        }
      ],
      "source": [
        "data = FashionMNIST(resize=(32, 32))\n",
        "len(data.train), len(data.val)"
      ]
    },
    {
      "cell_type": "code",
      "execution_count": 19,
      "id": "be351ab8-cc19-4b4b-a157-8d3dc8b4109d",
      "metadata": {
        "id": "be351ab8-cc19-4b4b-a157-8d3dc8b4109d"
      },
      "outputs": [],
      "source": [
        "class MLPScratch(d2l.Classifier):\n",
        "    def __init__(self, num_inputs, num_outputs, num_hiddens, lr, sigma=0.01):\n",
        "        super().__init__()\n",
        "        self.save_hyperparameters()\n",
        "        self.W1 = nn.Parameter(torch.randn(num_inputs, num_hiddens) * sigma)\n",
        "        self.b1 = nn.Parameter(torch.zeros(num_hiddens))\n",
        "        self.W2 = nn.Parameter(torch.randn(num_hiddens, num_outputs) * sigma)\n",
        "        self.b2 = nn.Parameter(torch.zeros(num_outputs))"
      ]
    },
    {
      "cell_type": "code",
      "execution_count": 20,
      "id": "c2c4c698-5147-4a70-9e49-aac112c7192a",
      "metadata": {
        "id": "c2c4c698-5147-4a70-9e49-aac112c7192a"
      },
      "outputs": [],
      "source": [
        "def relu(X):\n",
        "    a = torch.zeros_like(X)\n",
        "    return torch.max(X, a)"
      ]
    },
    {
      "cell_type": "code",
      "execution_count": 21,
      "id": "8096918f-e993-48e1-914a-3faa63727975",
      "metadata": {
        "id": "8096918f-e993-48e1-914a-3faa63727975"
      },
      "outputs": [],
      "source": [
        "@d2l.add_to_class(MLPScratch)\n",
        "def forward(self, X):\n",
        "    X = X.reshape((-1, self.num_inputs))\n",
        "    H = relu(torch.matmul(X, self.W1) + self.b1)\n",
        "    return torch.matmul(H, self.W2) + self.b2"
      ]
    },
    {
      "cell_type": "code",
      "execution_count": 25,
      "id": "4c8467bd-65e2-49e7-a981-05792d5493c9",
      "metadata": {
        "colab": {
          "base_uri": "https://localhost:8080/",
          "height": 1000
        },
        "id": "4c8467bd-65e2-49e7-a981-05792d5493c9",
        "outputId": "4410aeab-0d9f-43cd-b2f9-4173b8171e97"
      },
      "outputs": [
        {
          "output_type": "stream",
          "name": "stderr",
          "text": [
            "ERROR:root:Internal Python error in the inspect module.\n",
            "Below is the traceback from this internal error.\n",
            "\n"
          ]
        },
        {
          "output_type": "stream",
          "name": "stdout",
          "text": [
            "Traceback (most recent call last):\n",
            "  File \"/usr/local/lib/python3.8/dist-packages/IPython/core/interactiveshell.py\", line 3326, in run_code\n",
            "    exec(code_obj, self.user_global_ns, self.user_ns)\n",
            "  File \"<ipython-input-25-30c732ea413e>\", line 4, in <module>\n",
            "    trainer.fit(model, data)\n",
            "  File \"/usr/local/lib/python3.8/dist-packages/d2l/torch.py\", line 274, in fit\n",
            "    self.fit_epoch()\n",
            "  File \"/usr/local/lib/python3.8/dist-packages/d2l/torch.py\", line 286, in fit_epoch\n",
            "    for batch in self.train_dataloader:\n",
            "  File \"/usr/local/lib/python3.8/dist-packages/torch/utils/data/dataloader.py\", line 628, in __next__\n",
            "    data = self._next_data()\n",
            "  File \"/usr/local/lib/python3.8/dist-packages/torch/utils/data/dataloader.py\", line 1316, in _next_data\n",
            "    idx, data = self._get_data()\n",
            "  File \"/usr/local/lib/python3.8/dist-packages/torch/utils/data/dataloader.py\", line 1282, in _get_data\n",
            "    success, data = self._try_get_data()\n",
            "  File \"/usr/local/lib/python3.8/dist-packages/torch/utils/data/dataloader.py\", line 1120, in _try_get_data\n",
            "    data = self._data_queue.get(timeout=timeout)\n",
            "  File \"/usr/lib/python3.8/multiprocessing/queues.py\", line 116, in get\n",
            "    return _ForkingPickler.loads(res)\n",
            "  File \"/usr/local/lib/python3.8/dist-packages/torch/multiprocessing/reductions.py\", line 305, in rebuild_storage_fd\n",
            "    fd = df.detach()\n",
            "  File \"/usr/lib/python3.8/multiprocessing/resource_sharer.py\", line 57, in detach\n",
            "    with _resource_sharer.get_connection(self._id) as conn:\n",
            "  File \"/usr/lib/python3.8/multiprocessing/resource_sharer.py\", line 87, in get_connection\n",
            "    c = Client(address, authkey=process.current_process().authkey)\n",
            "  File \"/usr/lib/python3.8/multiprocessing/connection.py\", line 508, in Client\n",
            "    answer_challenge(c, authkey)\n",
            "  File \"/usr/lib/python3.8/multiprocessing/connection.py\", line 752, in answer_challenge\n",
            "    message = connection.recv_bytes(256)         # reject large message\n",
            "  File \"/usr/lib/python3.8/multiprocessing/connection.py\", line 216, in recv_bytes\n",
            "    buf = self._recv_bytes(maxlength)\n",
            "  File \"/usr/lib/python3.8/multiprocessing/connection.py\", line 414, in _recv_bytes\n",
            "    buf = self._recv(4)\n",
            "  File \"/usr/lib/python3.8/multiprocessing/connection.py\", line 379, in _recv\n",
            "    chunk = read(handle, remaining)\n",
            "KeyboardInterrupt\n",
            "\n",
            "During handling of the above exception, another exception occurred:\n",
            "\n",
            "Traceback (most recent call last):\n",
            "  File \"/usr/local/lib/python3.8/dist-packages/IPython/core/interactiveshell.py\", line 2040, in showtraceback\n",
            "    stb = value._render_traceback_()\n",
            "AttributeError: 'KeyboardInterrupt' object has no attribute '_render_traceback_'\n",
            "\n",
            "During handling of the above exception, another exception occurred:\n",
            "\n",
            "Traceback (most recent call last):\n",
            "  File \"/usr/local/lib/python3.8/dist-packages/IPython/core/ultratb.py\", line 1101, in get_records\n",
            "    return _fixed_getinnerframes(etb, number_of_lines_of_context, tb_offset)\n",
            "  File \"/usr/local/lib/python3.8/dist-packages/IPython/core/ultratb.py\", line 319, in wrapped\n",
            "    return f(*args, **kwargs)\n",
            "  File \"/usr/local/lib/python3.8/dist-packages/IPython/core/ultratb.py\", line 353, in _fixed_getinnerframes\n",
            "    records = fix_frame_records_filenames(inspect.getinnerframes(etb, context))\n",
            "  File \"/usr/lib/python3.8/inspect.py\", line 1515, in getinnerframes\n",
            "    frameinfo = (tb.tb_frame,) + getframeinfo(tb, context)\n",
            "  File \"/usr/lib/python3.8/inspect.py\", line 1477, in getframeinfo\n",
            "    lines, lnum = findsource(frame)\n",
            "  File \"/usr/local/lib/python3.8/dist-packages/IPython/core/ultratb.py\", line 173, in findsource\n",
            "    file = getsourcefile(object) or getfile(object)\n",
            "  File \"/usr/lib/python3.8/inspect.py\", line 708, in getsourcefile\n",
            "    if getattr(getmodule(object, filename), '__loader__', None) is not None:\n",
            "  File \"/usr/lib/python3.8/inspect.py\", line 745, in getmodule\n",
            "    if ismodule(module) and hasattr(module, '__file__'):\n",
            "  File \"/usr/local/lib/python3.8/dist-packages/torch/utils/data/_utils/signal_handling.py\", line 66, in handler\n",
            "    _error_if_any_worker_fails()\n",
            "RuntimeError: DataLoader worker (pid 8025) exited unexpectedly with exit code 1. Details are lost due to multiprocessing. Rerunning with num_workers=0 may give better error trace.\n"
          ]
        },
        {
          "output_type": "error",
          "ename": "KeyboardInterrupt",
          "evalue": "ignored",
          "traceback": [
            "\u001b[0;31m---------------------------------------------------------------------------\u001b[0m"
          ]
        },
        {
          "output_type": "display_data",
          "data": {
            "text/plain": [
              "<Figure size 252x180 with 1 Axes>"
            ],
            "image/svg+xml": "<?xml version=\"1.0\" encoding=\"utf-8\" standalone=\"no\"?>\n<!DOCTYPE svg PUBLIC \"-//W3C//DTD SVG 1.1//EN\"\n  \"http://www.w3.org/Graphics/SVG/1.1/DTD/svg11.dtd\">\n<!-- Created with matplotlib (https://matplotlib.org/) -->\n<svg height=\"180.65625pt\" version=\"1.1\" viewBox=\"0 0 238.965625 180.65625\" width=\"238.965625pt\" xmlns=\"http://www.w3.org/2000/svg\" xmlns:xlink=\"http://www.w3.org/1999/xlink\">\n <defs>\n  <style type=\"text/css\">\n*{stroke-linecap:butt;stroke-linejoin:round;}\n  </style>\n </defs>\n <g id=\"figure_1\">\n  <g id=\"patch_1\">\n   <path d=\"M 0 180.65625 \nL 238.965625 180.65625 \nL 238.965625 0 \nL 0 0 \nz\n\" style=\"fill:none;\"/>\n  </g>\n  <g id=\"axes_1\">\n   <g id=\"patch_2\">\n    <path d=\"M 30.103125 143.1 \nL 225.403125 143.1 \nL 225.403125 7.2 \nL 30.103125 7.2 \nz\n\" style=\"fill:#ffffff;\"/>\n   </g>\n   <g id=\"matplotlib.axis_1\">\n    <g id=\"xtick_1\">\n     <g id=\"line2d_1\">\n      <defs>\n       <path d=\"M 0 0 \nL 0 3.5 \n\" id=\"mff53b7dc08\" style=\"stroke:#000000;stroke-width:0.8;\"/>\n      </defs>\n      <g>\n       <use style=\"stroke:#000000;stroke-width:0.8;\" x=\"30.103125\" xlink:href=\"#mff53b7dc08\" y=\"143.1\"/>\n      </g>\n     </g>\n     <g id=\"text_1\">\n      <!-- 0 -->\n      <defs>\n       <path d=\"M 31.78125 66.40625 \nQ 24.171875 66.40625 20.328125 58.90625 \nQ 16.5 51.421875 16.5 36.375 \nQ 16.5 21.390625 20.328125 13.890625 \nQ 24.171875 6.390625 31.78125 6.390625 \nQ 39.453125 6.390625 43.28125 13.890625 \nQ 47.125 21.390625 47.125 36.375 \nQ 47.125 51.421875 43.28125 58.90625 \nQ 39.453125 66.40625 31.78125 66.40625 \nz\nM 31.78125 74.21875 \nQ 44.046875 74.21875 50.515625 64.515625 \nQ 56.984375 54.828125 56.984375 36.375 \nQ 56.984375 17.96875 50.515625 8.265625 \nQ 44.046875 -1.421875 31.78125 -1.421875 \nQ 19.53125 -1.421875 13.0625 8.265625 \nQ 6.59375 17.96875 6.59375 36.375 \nQ 6.59375 54.828125 13.0625 64.515625 \nQ 19.53125 74.21875 31.78125 74.21875 \nz\n\" id=\"DejaVuSans-48\"/>\n      </defs>\n      <g transform=\"translate(26.921875 157.698438)scale(0.1 -0.1)\">\n       <use xlink:href=\"#DejaVuSans-48\"/>\n      </g>\n     </g>\n    </g>\n    <g id=\"xtick_2\">\n     <g id=\"line2d_2\">\n      <g>\n       <use style=\"stroke:#000000;stroke-width:0.8;\" x=\"69.163125\" xlink:href=\"#mff53b7dc08\" y=\"143.1\"/>\n      </g>\n     </g>\n     <g id=\"text_2\">\n      <!-- 2 -->\n      <defs>\n       <path d=\"M 19.1875 8.296875 \nL 53.609375 8.296875 \nL 53.609375 0 \nL 7.328125 0 \nL 7.328125 8.296875 \nQ 12.9375 14.109375 22.625 23.890625 \nQ 32.328125 33.6875 34.8125 36.53125 \nQ 39.546875 41.84375 41.421875 45.53125 \nQ 43.3125 49.21875 43.3125 52.78125 \nQ 43.3125 58.59375 39.234375 62.25 \nQ 35.15625 65.921875 28.609375 65.921875 \nQ 23.96875 65.921875 18.8125 64.3125 \nQ 13.671875 62.703125 7.8125 59.421875 \nL 7.8125 69.390625 \nQ 13.765625 71.78125 18.9375 73 \nQ 24.125 74.21875 28.421875 74.21875 \nQ 39.75 74.21875 46.484375 68.546875 \nQ 53.21875 62.890625 53.21875 53.421875 \nQ 53.21875 48.921875 51.53125 44.890625 \nQ 49.859375 40.875 45.40625 35.40625 \nQ 44.1875 33.984375 37.640625 27.21875 \nQ 31.109375 20.453125 19.1875 8.296875 \nz\n\" id=\"DejaVuSans-50\"/>\n      </defs>\n      <g transform=\"translate(65.981875 157.698438)scale(0.1 -0.1)\">\n       <use xlink:href=\"#DejaVuSans-50\"/>\n      </g>\n     </g>\n    </g>\n    <g id=\"xtick_3\">\n     <g id=\"line2d_3\">\n      <g>\n       <use style=\"stroke:#000000;stroke-width:0.8;\" x=\"108.223125\" xlink:href=\"#mff53b7dc08\" y=\"143.1\"/>\n      </g>\n     </g>\n     <g id=\"text_3\">\n      <!-- 4 -->\n      <defs>\n       <path d=\"M 37.796875 64.3125 \nL 12.890625 25.390625 \nL 37.796875 25.390625 \nz\nM 35.203125 72.90625 \nL 47.609375 72.90625 \nL 47.609375 25.390625 \nL 58.015625 25.390625 \nL 58.015625 17.1875 \nL 47.609375 17.1875 \nL 47.609375 0 \nL 37.796875 0 \nL 37.796875 17.1875 \nL 4.890625 17.1875 \nL 4.890625 26.703125 \nz\n\" id=\"DejaVuSans-52\"/>\n      </defs>\n      <g transform=\"translate(105.041875 157.698438)scale(0.1 -0.1)\">\n       <use xlink:href=\"#DejaVuSans-52\"/>\n      </g>\n     </g>\n    </g>\n    <g id=\"xtick_4\">\n     <g id=\"line2d_4\">\n      <g>\n       <use style=\"stroke:#000000;stroke-width:0.8;\" x=\"147.283125\" xlink:href=\"#mff53b7dc08\" y=\"143.1\"/>\n      </g>\n     </g>\n     <g id=\"text_4\">\n      <!-- 6 -->\n      <defs>\n       <path d=\"M 33.015625 40.375 \nQ 26.375 40.375 22.484375 35.828125 \nQ 18.609375 31.296875 18.609375 23.390625 \nQ 18.609375 15.53125 22.484375 10.953125 \nQ 26.375 6.390625 33.015625 6.390625 \nQ 39.65625 6.390625 43.53125 10.953125 \nQ 47.40625 15.53125 47.40625 23.390625 \nQ 47.40625 31.296875 43.53125 35.828125 \nQ 39.65625 40.375 33.015625 40.375 \nz\nM 52.59375 71.296875 \nL 52.59375 62.3125 \nQ 48.875 64.0625 45.09375 64.984375 \nQ 41.3125 65.921875 37.59375 65.921875 \nQ 27.828125 65.921875 22.671875 59.328125 \nQ 17.53125 52.734375 16.796875 39.40625 \nQ 19.671875 43.65625 24.015625 45.921875 \nQ 28.375 48.1875 33.59375 48.1875 \nQ 44.578125 48.1875 50.953125 41.515625 \nQ 57.328125 34.859375 57.328125 23.390625 \nQ 57.328125 12.15625 50.6875 5.359375 \nQ 44.046875 -1.421875 33.015625 -1.421875 \nQ 20.359375 -1.421875 13.671875 8.265625 \nQ 6.984375 17.96875 6.984375 36.375 \nQ 6.984375 53.65625 15.1875 63.9375 \nQ 23.390625 74.21875 37.203125 74.21875 \nQ 40.921875 74.21875 44.703125 73.484375 \nQ 48.484375 72.75 52.59375 71.296875 \nz\n\" id=\"DejaVuSans-54\"/>\n      </defs>\n      <g transform=\"translate(144.101875 157.698438)scale(0.1 -0.1)\">\n       <use xlink:href=\"#DejaVuSans-54\"/>\n      </g>\n     </g>\n    </g>\n    <g id=\"xtick_5\">\n     <g id=\"line2d_5\">\n      <g>\n       <use style=\"stroke:#000000;stroke-width:0.8;\" x=\"186.343125\" xlink:href=\"#mff53b7dc08\" y=\"143.1\"/>\n      </g>\n     </g>\n     <g id=\"text_5\">\n      <!-- 8 -->\n      <defs>\n       <path d=\"M 31.78125 34.625 \nQ 24.75 34.625 20.71875 30.859375 \nQ 16.703125 27.09375 16.703125 20.515625 \nQ 16.703125 13.921875 20.71875 10.15625 \nQ 24.75 6.390625 31.78125 6.390625 \nQ 38.8125 6.390625 42.859375 10.171875 \nQ 46.921875 13.96875 46.921875 20.515625 \nQ 46.921875 27.09375 42.890625 30.859375 \nQ 38.875 34.625 31.78125 34.625 \nz\nM 21.921875 38.8125 \nQ 15.578125 40.375 12.03125 44.71875 \nQ 8.5 49.078125 8.5 55.328125 \nQ 8.5 64.0625 14.71875 69.140625 \nQ 20.953125 74.21875 31.78125 74.21875 \nQ 42.671875 74.21875 48.875 69.140625 \nQ 55.078125 64.0625 55.078125 55.328125 \nQ 55.078125 49.078125 51.53125 44.71875 \nQ 48 40.375 41.703125 38.8125 \nQ 48.828125 37.15625 52.796875 32.3125 \nQ 56.78125 27.484375 56.78125 20.515625 \nQ 56.78125 9.90625 50.3125 4.234375 \nQ 43.84375 -1.421875 31.78125 -1.421875 \nQ 19.734375 -1.421875 13.25 4.234375 \nQ 6.78125 9.90625 6.78125 20.515625 \nQ 6.78125 27.484375 10.78125 32.3125 \nQ 14.796875 37.15625 21.921875 38.8125 \nz\nM 18.3125 54.390625 \nQ 18.3125 48.734375 21.84375 45.5625 \nQ 25.390625 42.390625 31.78125 42.390625 \nQ 38.140625 42.390625 41.71875 45.5625 \nQ 45.3125 48.734375 45.3125 54.390625 \nQ 45.3125 60.0625 41.71875 63.234375 \nQ 38.140625 66.40625 31.78125 66.40625 \nQ 25.390625 66.40625 21.84375 63.234375 \nQ 18.3125 60.0625 18.3125 54.390625 \nz\n\" id=\"DejaVuSans-56\"/>\n      </defs>\n      <g transform=\"translate(183.161875 157.698438)scale(0.1 -0.1)\">\n       <use xlink:href=\"#DejaVuSans-56\"/>\n      </g>\n     </g>\n    </g>\n    <g id=\"xtick_6\">\n     <g id=\"line2d_6\">\n      <g>\n       <use style=\"stroke:#000000;stroke-width:0.8;\" x=\"225.403125\" xlink:href=\"#mff53b7dc08\" y=\"143.1\"/>\n      </g>\n     </g>\n     <g id=\"text_6\">\n      <!-- 10 -->\n      <defs>\n       <path d=\"M 12.40625 8.296875 \nL 28.515625 8.296875 \nL 28.515625 63.921875 \nL 10.984375 60.40625 \nL 10.984375 69.390625 \nL 28.421875 72.90625 \nL 38.28125 72.90625 \nL 38.28125 8.296875 \nL 54.390625 8.296875 \nL 54.390625 0 \nL 12.40625 0 \nz\n\" id=\"DejaVuSans-49\"/>\n      </defs>\n      <g transform=\"translate(219.040625 157.698438)scale(0.1 -0.1)\">\n       <use xlink:href=\"#DejaVuSans-49\"/>\n       <use x=\"63.623047\" xlink:href=\"#DejaVuSans-48\"/>\n      </g>\n     </g>\n    </g>\n    <g id=\"text_7\">\n     <!-- epoch -->\n     <defs>\n      <path d=\"M 56.203125 29.59375 \nL 56.203125 25.203125 \nL 14.890625 25.203125 \nQ 15.484375 15.921875 20.484375 11.0625 \nQ 25.484375 6.203125 34.421875 6.203125 \nQ 39.59375 6.203125 44.453125 7.46875 \nQ 49.3125 8.734375 54.109375 11.28125 \nL 54.109375 2.78125 \nQ 49.265625 0.734375 44.1875 -0.34375 \nQ 39.109375 -1.421875 33.890625 -1.421875 \nQ 20.796875 -1.421875 13.15625 6.1875 \nQ 5.515625 13.8125 5.515625 26.8125 \nQ 5.515625 40.234375 12.765625 48.109375 \nQ 20.015625 56 32.328125 56 \nQ 43.359375 56 49.78125 48.890625 \nQ 56.203125 41.796875 56.203125 29.59375 \nz\nM 47.21875 32.234375 \nQ 47.125 39.59375 43.09375 43.984375 \nQ 39.0625 48.390625 32.421875 48.390625 \nQ 24.90625 48.390625 20.390625 44.140625 \nQ 15.875 39.890625 15.1875 32.171875 \nz\n\" id=\"DejaVuSans-101\"/>\n      <path d=\"M 18.109375 8.203125 \nL 18.109375 -20.796875 \nL 9.078125 -20.796875 \nL 9.078125 54.6875 \nL 18.109375 54.6875 \nL 18.109375 46.390625 \nQ 20.953125 51.265625 25.265625 53.625 \nQ 29.59375 56 35.59375 56 \nQ 45.5625 56 51.78125 48.09375 \nQ 58.015625 40.1875 58.015625 27.296875 \nQ 58.015625 14.40625 51.78125 6.484375 \nQ 45.5625 -1.421875 35.59375 -1.421875 \nQ 29.59375 -1.421875 25.265625 0.953125 \nQ 20.953125 3.328125 18.109375 8.203125 \nz\nM 48.6875 27.296875 \nQ 48.6875 37.203125 44.609375 42.84375 \nQ 40.53125 48.484375 33.40625 48.484375 \nQ 26.265625 48.484375 22.1875 42.84375 \nQ 18.109375 37.203125 18.109375 27.296875 \nQ 18.109375 17.390625 22.1875 11.75 \nQ 26.265625 6.109375 33.40625 6.109375 \nQ 40.53125 6.109375 44.609375 11.75 \nQ 48.6875 17.390625 48.6875 27.296875 \nz\n\" id=\"DejaVuSans-112\"/>\n      <path d=\"M 30.609375 48.390625 \nQ 23.390625 48.390625 19.1875 42.75 \nQ 14.984375 37.109375 14.984375 27.296875 \nQ 14.984375 17.484375 19.15625 11.84375 \nQ 23.34375 6.203125 30.609375 6.203125 \nQ 37.796875 6.203125 41.984375 11.859375 \nQ 46.1875 17.53125 46.1875 27.296875 \nQ 46.1875 37.015625 41.984375 42.703125 \nQ 37.796875 48.390625 30.609375 48.390625 \nz\nM 30.609375 56 \nQ 42.328125 56 49.015625 48.375 \nQ 55.71875 40.765625 55.71875 27.296875 \nQ 55.71875 13.875 49.015625 6.21875 \nQ 42.328125 -1.421875 30.609375 -1.421875 \nQ 18.84375 -1.421875 12.171875 6.21875 \nQ 5.515625 13.875 5.515625 27.296875 \nQ 5.515625 40.765625 12.171875 48.375 \nQ 18.84375 56 30.609375 56 \nz\n\" id=\"DejaVuSans-111\"/>\n      <path d=\"M 48.78125 52.59375 \nL 48.78125 44.1875 \nQ 44.96875 46.296875 41.140625 47.34375 \nQ 37.3125 48.390625 33.40625 48.390625 \nQ 24.65625 48.390625 19.8125 42.84375 \nQ 14.984375 37.3125 14.984375 27.296875 \nQ 14.984375 17.28125 19.8125 11.734375 \nQ 24.65625 6.203125 33.40625 6.203125 \nQ 37.3125 6.203125 41.140625 7.25 \nQ 44.96875 8.296875 48.78125 10.40625 \nL 48.78125 2.09375 \nQ 45.015625 0.34375 40.984375 -0.53125 \nQ 36.96875 -1.421875 32.421875 -1.421875 \nQ 20.0625 -1.421875 12.78125 6.34375 \nQ 5.515625 14.109375 5.515625 27.296875 \nQ 5.515625 40.671875 12.859375 48.328125 \nQ 20.21875 56 33.015625 56 \nQ 37.15625 56 41.109375 55.140625 \nQ 45.0625 54.296875 48.78125 52.59375 \nz\n\" id=\"DejaVuSans-99\"/>\n      <path d=\"M 54.890625 33.015625 \nL 54.890625 0 \nL 45.90625 0 \nL 45.90625 32.71875 \nQ 45.90625 40.484375 42.875 44.328125 \nQ 39.84375 48.1875 33.796875 48.1875 \nQ 26.515625 48.1875 22.3125 43.546875 \nQ 18.109375 38.921875 18.109375 30.90625 \nL 18.109375 0 \nL 9.078125 0 \nL 9.078125 75.984375 \nL 18.109375 75.984375 \nL 18.109375 46.1875 \nQ 21.34375 51.125 25.703125 53.5625 \nQ 30.078125 56 35.796875 56 \nQ 45.21875 56 50.046875 50.171875 \nQ 54.890625 44.34375 54.890625 33.015625 \nz\n\" id=\"DejaVuSans-104\"/>\n     </defs>\n     <g transform=\"translate(112.525 171.376563)scale(0.1 -0.1)\">\n      <use xlink:href=\"#DejaVuSans-101\"/>\n      <use x=\"61.523438\" xlink:href=\"#DejaVuSans-112\"/>\n      <use x=\"125\" xlink:href=\"#DejaVuSans-111\"/>\n      <use x=\"186.181641\" xlink:href=\"#DejaVuSans-99\"/>\n      <use x=\"241.162109\" xlink:href=\"#DejaVuSans-104\"/>\n     </g>\n    </g>\n   </g>\n   <g id=\"matplotlib.axis_2\">\n    <g id=\"ytick_1\">\n     <g id=\"line2d_7\">\n      <defs>\n       <path d=\"M 0 0 \nL -3.5 0 \n\" id=\"mbd04809e2b\" style=\"stroke:#000000;stroke-width:0.8;\"/>\n      </defs>\n      <g>\n       <use style=\"stroke:#000000;stroke-width:0.8;\" x=\"30.103125\" xlink:href=\"#mbd04809e2b\" y=\"122.838529\"/>\n      </g>\n     </g>\n     <g id=\"text_8\">\n      <!-- 0.6 -->\n      <defs>\n       <path d=\"M 10.6875 12.40625 \nL 21 12.40625 \nL 21 0 \nL 10.6875 0 \nz\n\" id=\"DejaVuSans-46\"/>\n      </defs>\n      <g transform=\"translate(7.2 126.637748)scale(0.1 -0.1)\">\n       <use xlink:href=\"#DejaVuSans-48\"/>\n       <use x=\"63.623047\" xlink:href=\"#DejaVuSans-46\"/>\n       <use x=\"95.410156\" xlink:href=\"#DejaVuSans-54\"/>\n      </g>\n     </g>\n    </g>\n    <g id=\"ytick_2\">\n     <g id=\"line2d_8\">\n      <g>\n       <use style=\"stroke:#000000;stroke-width:0.8;\" x=\"30.103125\" xlink:href=\"#mbd04809e2b\" y=\"93.777375\"/>\n      </g>\n     </g>\n     <g id=\"text_9\">\n      <!-- 0.8 -->\n      <g transform=\"translate(7.2 97.576593)scale(0.1 -0.1)\">\n       <use xlink:href=\"#DejaVuSans-48\"/>\n       <use x=\"63.623047\" xlink:href=\"#DejaVuSans-46\"/>\n       <use x=\"95.410156\" xlink:href=\"#DejaVuSans-56\"/>\n      </g>\n     </g>\n    </g>\n    <g id=\"ytick_3\">\n     <g id=\"line2d_9\">\n      <g>\n       <use style=\"stroke:#000000;stroke-width:0.8;\" x=\"30.103125\" xlink:href=\"#mbd04809e2b\" y=\"64.71622\"/>\n      </g>\n     </g>\n     <g id=\"text_10\">\n      <!-- 1.0 -->\n      <g transform=\"translate(7.2 68.515439)scale(0.1 -0.1)\">\n       <use xlink:href=\"#DejaVuSans-49\"/>\n       <use x=\"63.623047\" xlink:href=\"#DejaVuSans-46\"/>\n       <use x=\"95.410156\" xlink:href=\"#DejaVuSans-48\"/>\n      </g>\n     </g>\n    </g>\n    <g id=\"ytick_4\">\n     <g id=\"line2d_10\">\n      <g>\n       <use style=\"stroke:#000000;stroke-width:0.8;\" x=\"30.103125\" xlink:href=\"#mbd04809e2b\" y=\"35.655066\"/>\n      </g>\n     </g>\n     <g id=\"text_11\">\n      <!-- 1.2 -->\n      <g transform=\"translate(7.2 39.454284)scale(0.1 -0.1)\">\n       <use xlink:href=\"#DejaVuSans-49\"/>\n       <use x=\"63.623047\" xlink:href=\"#DejaVuSans-46\"/>\n       <use x=\"95.410156\" xlink:href=\"#DejaVuSans-50\"/>\n      </g>\n     </g>\n    </g>\n   </g>\n   <g id=\"line2d_11\">\n    <path clip-path=\"url(#pfb03335ebd)\" d=\"M 34.923295 13.377273 \n\" style=\"fill:none;stroke:#1f77b4;stroke-linecap:square;stroke-width:1.5;\"/>\n   </g>\n   <g id=\"line2d_12\"/>\n   <g id=\"line2d_13\">\n    <path clip-path=\"url(#pfb03335ebd)\" d=\"M 34.923295 13.377273 \n\" style=\"fill:none;stroke:#1f77b4;stroke-linecap:square;stroke-width:1.5;\"/>\n   </g>\n   <g id=\"line2d_14\">\n    <path clip-path=\"url(#pfb03335ebd)\" d=\"M 34.923295 128.864799 \n\" style=\"fill:none;stroke:#ff7f0e;stroke-dasharray:5.55,2.4;stroke-dashoffset:0;stroke-width:1.5;\"/>\n   </g>\n   <g id=\"line2d_15\">\n    <path clip-path=\"url(#pfb03335ebd)\" d=\"M 34.923295 13.377273 \nL 44.646742 100.883054 \n\" style=\"fill:none;stroke:#1f77b4;stroke-linecap:square;stroke-width:1.5;\"/>\n   </g>\n   <g id=\"line2d_16\">\n    <path clip-path=\"url(#pfb03335ebd)\" d=\"M 34.923295 128.864799 \n\" style=\"fill:none;stroke:#ff7f0e;stroke-dasharray:5.55,2.4;stroke-dashoffset:0;stroke-width:1.5;\"/>\n   </g>\n   <g id=\"line2d_17\">\n    <path clip-path=\"url(#pfb03335ebd)\" d=\"M 34.923295 13.377273 \nL 44.646742 100.883054 \n\" style=\"fill:none;stroke:#1f77b4;stroke-linecap:square;stroke-width:1.5;\"/>\n   </g>\n   <g id=\"line2d_18\">\n    <path clip-path=\"url(#pfb03335ebd)\" d=\"M 34.923295 128.864799 \nL 44.646742 104.75875 \n\" style=\"fill:none;stroke:#ff7f0e;stroke-dasharray:5.55,2.4;stroke-dashoffset:0;stroke-width:1.5;\"/>\n   </g>\n   <g id=\"line2d_19\">\n    <path clip-path=\"url(#pfb03335ebd)\" d=\"M 34.923295 13.377273 \nL 44.646742 100.883054 \n\" style=\"fill:none;stroke:#1f77b4;stroke-linecap:square;stroke-width:1.5;\"/>\n   </g>\n   <g id=\"line2d_20\">\n    <path clip-path=\"url(#pfb03335ebd)\" d=\"M 34.923295 128.864799 \nL 44.646742 104.75875 \n\" style=\"fill:none;stroke:#ff7f0e;stroke-dasharray:5.55,2.4;stroke-dashoffset:0;stroke-width:1.5;\"/>\n   </g>\n   <g id=\"line2d_21\">\n    <path clip-path=\"url(#pfb03335ebd)\" d=\"M 49.633125 111.022622 \n\" style=\"fill:none;stroke:#2ca02c;stroke-dasharray:9.6,2.4,1.5,2.4;stroke-dashoffset:0;stroke-width:1.5;\"/>\n   </g>\n   <g id=\"line2d_22\"/>\n   <g id=\"line2d_23\">\n    <path clip-path=\"url(#pfb03335ebd)\" d=\"M 34.923295 13.377273 \nL 44.646742 100.883054 \n\" style=\"fill:none;stroke:#1f77b4;stroke-linecap:square;stroke-width:1.5;\"/>\n   </g>\n   <g id=\"line2d_24\">\n    <path clip-path=\"url(#pfb03335ebd)\" d=\"M 34.923295 128.864799 \nL 44.646742 104.75875 \n\" style=\"fill:none;stroke:#ff7f0e;stroke-dasharray:5.55,2.4;stroke-dashoffset:0;stroke-width:1.5;\"/>\n   </g>\n   <g id=\"line2d_25\">\n    <path clip-path=\"url(#pfb03335ebd)\" d=\"M 49.633125 111.022622 \n\" style=\"fill:none;stroke:#2ca02c;stroke-dasharray:9.6,2.4,1.5,2.4;stroke-dashoffset:0;stroke-width:1.5;\"/>\n   </g>\n   <g id=\"line2d_26\">\n    <path clip-path=\"url(#pfb03335ebd)\" d=\"M 49.633125 99.566902 \n\" style=\"fill:none;stroke:#d62728;stroke-dasharray:1.5,2.475;stroke-dashoffset:0;stroke-width:1.5;\"/>\n   </g>\n   <g id=\"line2d_27\">\n    <path clip-path=\"url(#pfb03335ebd)\" d=\"M 34.923295 13.377273 \nL 44.646742 100.883054 \nL 54.370189 120.290921 \n\" style=\"fill:none;stroke:#1f77b4;stroke-linecap:square;stroke-width:1.5;\"/>\n   </g>\n   <g id=\"line2d_28\">\n    <path clip-path=\"url(#pfb03335ebd)\" d=\"M 34.923295 128.864799 \nL 44.646742 104.75875 \n\" style=\"fill:none;stroke:#ff7f0e;stroke-dasharray:5.55,2.4;stroke-dashoffset:0;stroke-width:1.5;\"/>\n   </g>\n   <g id=\"line2d_29\">\n    <path clip-path=\"url(#pfb03335ebd)\" d=\"M 49.633125 111.022622 \n\" style=\"fill:none;stroke:#2ca02c;stroke-dasharray:9.6,2.4,1.5,2.4;stroke-dashoffset:0;stroke-width:1.5;\"/>\n   </g>\n   <g id=\"line2d_30\">\n    <path clip-path=\"url(#pfb03335ebd)\" d=\"M 49.633125 99.566902 \n\" style=\"fill:none;stroke:#d62728;stroke-dasharray:1.5,2.475;stroke-dashoffset:0;stroke-width:1.5;\"/>\n   </g>\n   <g id=\"line2d_31\">\n    <path clip-path=\"url(#pfb03335ebd)\" d=\"M 34.923295 13.377273 \nL 44.646742 100.883054 \nL 54.370189 120.290921 \n\" style=\"fill:none;stroke:#1f77b4;stroke-linecap:square;stroke-width:1.5;\"/>\n   </g>\n   <g id=\"line2d_32\">\n    <path clip-path=\"url(#pfb03335ebd)\" d=\"M 34.923295 128.864799 \nL 44.646742 104.75875 \nL 54.370189 96.503475 \n\" style=\"fill:none;stroke:#ff7f0e;stroke-dasharray:5.55,2.4;stroke-dashoffset:0;stroke-width:1.5;\"/>\n   </g>\n   <g id=\"line2d_33\">\n    <path clip-path=\"url(#pfb03335ebd)\" d=\"M 49.633125 111.022622 \n\" style=\"fill:none;stroke:#2ca02c;stroke-dasharray:9.6,2.4,1.5,2.4;stroke-dashoffset:0;stroke-width:1.5;\"/>\n   </g>\n   <g id=\"line2d_34\">\n    <path clip-path=\"url(#pfb03335ebd)\" d=\"M 49.633125 99.566902 \n\" style=\"fill:none;stroke:#d62728;stroke-dasharray:1.5,2.475;stroke-dashoffset:0;stroke-width:1.5;\"/>\n   </g>\n   <g id=\"line2d_35\">\n    <path clip-path=\"url(#pfb03335ebd)\" d=\"M 34.923295 13.377273 \nL 44.646742 100.883054 \nL 54.370189 120.290921 \nL 64.093636 126.559984 \n\" style=\"fill:none;stroke:#1f77b4;stroke-linecap:square;stroke-width:1.5;\"/>\n   </g>\n   <g id=\"line2d_36\">\n    <path clip-path=\"url(#pfb03335ebd)\" d=\"M 34.923295 128.864799 \nL 44.646742 104.75875 \nL 54.370189 96.503475 \n\" style=\"fill:none;stroke:#ff7f0e;stroke-dasharray:5.55,2.4;stroke-dashoffset:0;stroke-width:1.5;\"/>\n   </g>\n   <g id=\"line2d_37\">\n    <path clip-path=\"url(#pfb03335ebd)\" d=\"M 49.633125 111.022622 \n\" style=\"fill:none;stroke:#2ca02c;stroke-dasharray:9.6,2.4,1.5,2.4;stroke-dashoffset:0;stroke-width:1.5;\"/>\n   </g>\n   <g id=\"line2d_38\">\n    <path clip-path=\"url(#pfb03335ebd)\" d=\"M 49.633125 99.566902 \n\" style=\"fill:none;stroke:#d62728;stroke-dasharray:1.5,2.475;stroke-dashoffset:0;stroke-width:1.5;\"/>\n   </g>\n   <g id=\"line2d_39\">\n    <path clip-path=\"url(#pfb03335ebd)\" d=\"M 34.923295 13.377273 \nL 44.646742 100.883054 \nL 54.370189 120.290921 \nL 64.093636 126.559984 \n\" style=\"fill:none;stroke:#1f77b4;stroke-linecap:square;stroke-width:1.5;\"/>\n   </g>\n   <g id=\"line2d_40\">\n    <path clip-path=\"url(#pfb03335ebd)\" d=\"M 34.923295 128.864799 \nL 44.646742 104.75875 \nL 54.370189 96.503475 \nL 64.093636 93.717219 \n\" style=\"fill:none;stroke:#ff7f0e;stroke-dasharray:5.55,2.4;stroke-dashoffset:0;stroke-width:1.5;\"/>\n   </g>\n   <g id=\"line2d_41\">\n    <path clip-path=\"url(#pfb03335ebd)\" d=\"M 49.633125 111.022622 \n\" style=\"fill:none;stroke:#2ca02c;stroke-dasharray:9.6,2.4,1.5,2.4;stroke-dashoffset:0;stroke-width:1.5;\"/>\n   </g>\n   <g id=\"line2d_42\">\n    <path clip-path=\"url(#pfb03335ebd)\" d=\"M 49.633125 99.566902 \n\" style=\"fill:none;stroke:#d62728;stroke-dasharray:1.5,2.475;stroke-dashoffset:0;stroke-width:1.5;\"/>\n   </g>\n   <g id=\"line2d_43\">\n    <path clip-path=\"url(#pfb03335ebd)\" d=\"M 34.923295 13.377273 \nL 44.646742 100.883054 \nL 54.370189 120.290921 \nL 64.093636 126.559984 \n\" style=\"fill:none;stroke:#1f77b4;stroke-linecap:square;stroke-width:1.5;\"/>\n   </g>\n   <g id=\"line2d_44\">\n    <path clip-path=\"url(#pfb03335ebd)\" d=\"M 34.923295 128.864799 \nL 44.646742 104.75875 \nL 54.370189 96.503475 \nL 64.093636 93.717219 \n\" style=\"fill:none;stroke:#ff7f0e;stroke-dasharray:5.55,2.4;stroke-dashoffset:0;stroke-width:1.5;\"/>\n   </g>\n   <g id=\"line2d_45\">\n    <path clip-path=\"url(#pfb03335ebd)\" d=\"M 49.633125 111.022622 \nL 69.163125 126.466225 \n\" style=\"fill:none;stroke:#2ca02c;stroke-dasharray:9.6,2.4,1.5,2.4;stroke-dashoffset:0;stroke-width:1.5;\"/>\n   </g>\n   <g id=\"line2d_46\">\n    <path clip-path=\"url(#pfb03335ebd)\" d=\"M 49.633125 99.566902 \n\" style=\"fill:none;stroke:#d62728;stroke-dasharray:1.5,2.475;stroke-dashoffset:0;stroke-width:1.5;\"/>\n   </g>\n   <g id=\"line2d_47\">\n    <path clip-path=\"url(#pfb03335ebd)\" d=\"M 34.923295 13.377273 \nL 44.646742 100.883054 \nL 54.370189 120.290921 \nL 64.093636 126.559984 \n\" style=\"fill:none;stroke:#1f77b4;stroke-linecap:square;stroke-width:1.5;\"/>\n   </g>\n   <g id=\"line2d_48\">\n    <path clip-path=\"url(#pfb03335ebd)\" d=\"M 34.923295 128.864799 \nL 44.646742 104.75875 \nL 54.370189 96.503475 \nL 64.093636 93.717219 \n\" style=\"fill:none;stroke:#ff7f0e;stroke-dasharray:5.55,2.4;stroke-dashoffset:0;stroke-width:1.5;\"/>\n   </g>\n   <g id=\"line2d_49\">\n    <path clip-path=\"url(#pfb03335ebd)\" d=\"M 49.633125 111.022622 \nL 69.163125 126.466225 \n\" style=\"fill:none;stroke:#2ca02c;stroke-dasharray:9.6,2.4,1.5,2.4;stroke-dashoffset:0;stroke-width:1.5;\"/>\n   </g>\n   <g id=\"line2d_50\">\n    <path clip-path=\"url(#pfb03335ebd)\" d=\"M 49.633125 99.566902 \nL 69.163125 94.458496 \n\" style=\"fill:none;stroke:#d62728;stroke-dasharray:1.5,2.475;stroke-dashoffset:0;stroke-width:1.5;\"/>\n   </g>\n   <g id=\"line2d_51\">\n    <path clip-path=\"url(#pfb03335ebd)\" d=\"M 34.923295 13.377273 \nL 44.646742 100.883054 \nL 54.370189 120.290921 \nL 64.093636 126.559984 \nL 73.817082 132.387326 \n\" style=\"fill:none;stroke:#1f77b4;stroke-linecap:square;stroke-width:1.5;\"/>\n   </g>\n   <g id=\"line2d_52\">\n    <path clip-path=\"url(#pfb03335ebd)\" d=\"M 34.923295 128.864799 \nL 44.646742 104.75875 \nL 54.370189 96.503475 \nL 64.093636 93.717219 \n\" style=\"fill:none;stroke:#ff7f0e;stroke-dasharray:5.55,2.4;stroke-dashoffset:0;stroke-width:1.5;\"/>\n   </g>\n   <g id=\"line2d_53\">\n    <path clip-path=\"url(#pfb03335ebd)\" d=\"M 49.633125 111.022622 \nL 69.163125 126.466225 \n\" style=\"fill:none;stroke:#2ca02c;stroke-dasharray:9.6,2.4,1.5,2.4;stroke-dashoffset:0;stroke-width:1.5;\"/>\n   </g>\n   <g id=\"line2d_54\">\n    <path clip-path=\"url(#pfb03335ebd)\" d=\"M 49.633125 99.566902 \nL 69.163125 94.458496 \n\" style=\"fill:none;stroke:#d62728;stroke-dasharray:1.5,2.475;stroke-dashoffset:0;stroke-width:1.5;\"/>\n   </g>\n   <g id=\"line2d_55\">\n    <path clip-path=\"url(#pfb03335ebd)\" d=\"M 34.923295 13.377273 \nL 44.646742 100.883054 \nL 54.370189 120.290921 \nL 64.093636 126.559984 \nL 73.817082 132.387326 \n\" style=\"fill:none;stroke:#1f77b4;stroke-linecap:square;stroke-width:1.5;\"/>\n   </g>\n   <g id=\"line2d_56\">\n    <path clip-path=\"url(#pfb03335ebd)\" d=\"M 34.923295 128.864799 \nL 44.646742 104.75875 \nL 54.370189 96.503475 \nL 64.093636 93.717219 \nL 73.817082 91.826834 \n\" style=\"fill:none;stroke:#ff7f0e;stroke-dasharray:5.55,2.4;stroke-dashoffset:0;stroke-width:1.5;\"/>\n   </g>\n   <g id=\"line2d_57\">\n    <path clip-path=\"url(#pfb03335ebd)\" d=\"M 49.633125 111.022622 \nL 69.163125 126.466225 \n\" style=\"fill:none;stroke:#2ca02c;stroke-dasharray:9.6,2.4,1.5,2.4;stroke-dashoffset:0;stroke-width:1.5;\"/>\n   </g>\n   <g id=\"line2d_58\">\n    <path clip-path=\"url(#pfb03335ebd)\" d=\"M 49.633125 99.566902 \nL 69.163125 94.458496 \n\" style=\"fill:none;stroke:#d62728;stroke-dasharray:1.5,2.475;stroke-dashoffset:0;stroke-width:1.5;\"/>\n   </g>\n   <g id=\"line2d_59\">\n    <path clip-path=\"url(#pfb03335ebd)\" d=\"M 34.923295 13.377273 \nL 44.646742 100.883054 \nL 54.370189 120.290921 \nL 64.093636 126.559984 \nL 73.817082 132.387326 \nL 83.540529 136.922727 \n\" style=\"fill:none;stroke:#1f77b4;stroke-linecap:square;stroke-width:1.5;\"/>\n   </g>\n   <g id=\"line2d_60\">\n    <path clip-path=\"url(#pfb03335ebd)\" d=\"M 34.923295 128.864799 \nL 44.646742 104.75875 \nL 54.370189 96.503475 \nL 64.093636 93.717219 \nL 73.817082 91.826834 \n\" style=\"fill:none;stroke:#ff7f0e;stroke-dasharray:5.55,2.4;stroke-dashoffset:0;stroke-width:1.5;\"/>\n   </g>\n   <g id=\"line2d_61\">\n    <path clip-path=\"url(#pfb03335ebd)\" d=\"M 49.633125 111.022622 \nL 69.163125 126.466225 \n\" style=\"fill:none;stroke:#2ca02c;stroke-dasharray:9.6,2.4,1.5,2.4;stroke-dashoffset:0;stroke-width:1.5;\"/>\n   </g>\n   <g id=\"line2d_62\">\n    <path clip-path=\"url(#pfb03335ebd)\" d=\"M 49.633125 99.566902 \nL 69.163125 94.458496 \n\" style=\"fill:none;stroke:#d62728;stroke-dasharray:1.5,2.475;stroke-dashoffset:0;stroke-width:1.5;\"/>\n   </g>\n   <g id=\"line2d_63\">\n    <path clip-path=\"url(#pfb03335ebd)\" d=\"M 34.923295 13.377273 \nL 44.646742 100.883054 \nL 54.370189 120.290921 \nL 64.093636 126.559984 \nL 73.817082 132.387326 \nL 83.540529 136.922727 \n\" style=\"fill:none;stroke:#1f77b4;stroke-linecap:square;stroke-width:1.5;\"/>\n   </g>\n   <g id=\"line2d_64\">\n    <path clip-path=\"url(#pfb03335ebd)\" d=\"M 34.923295 128.864799 \nL 44.646742 104.75875 \nL 54.370189 96.503475 \nL 64.093636 93.717219 \nL 73.817082 91.826834 \nL 83.540529 90.311615 \n\" style=\"fill:none;stroke:#ff7f0e;stroke-dasharray:5.55,2.4;stroke-dashoffset:0;stroke-width:1.5;\"/>\n   </g>\n   <g id=\"line2d_65\">\n    <path clip-path=\"url(#pfb03335ebd)\" d=\"M 49.633125 111.022622 \nL 69.163125 126.466225 \n\" style=\"fill:none;stroke:#2ca02c;stroke-dasharray:9.6,2.4,1.5,2.4;stroke-dashoffset:0;stroke-width:1.5;\"/>\n   </g>\n   <g id=\"line2d_66\">\n    <path clip-path=\"url(#pfb03335ebd)\" d=\"M 49.633125 99.566902 \nL 69.163125 94.458496 \n\" style=\"fill:none;stroke:#d62728;stroke-dasharray:1.5,2.475;stroke-dashoffset:0;stroke-width:1.5;\"/>\n   </g>\n   <g id=\"line2d_67\">\n    <path clip-path=\"url(#pfb03335ebd)\" d=\"M 34.923295 13.377273 \nL 44.646742 100.883054 \nL 54.370189 120.290921 \nL 64.093636 126.559984 \nL 73.817082 132.387326 \nL 83.540529 136.922727 \n\" style=\"fill:none;stroke:#1f77b4;stroke-linecap:square;stroke-width:1.5;\"/>\n   </g>\n   <g id=\"line2d_68\">\n    <path clip-path=\"url(#pfb03335ebd)\" d=\"M 34.923295 128.864799 \nL 44.646742 104.75875 \nL 54.370189 96.503475 \nL 64.093636 93.717219 \nL 73.817082 91.826834 \nL 83.540529 90.311615 \n\" style=\"fill:none;stroke:#ff7f0e;stroke-dasharray:5.55,2.4;stroke-dashoffset:0;stroke-width:1.5;\"/>\n   </g>\n   <g id=\"line2d_69\">\n    <path clip-path=\"url(#pfb03335ebd)\" d=\"M 49.633125 111.022622 \nL 69.163125 126.466225 \nL 88.693125 120.020559 \n\" style=\"fill:none;stroke:#2ca02c;stroke-dasharray:9.6,2.4,1.5,2.4;stroke-dashoffset:0;stroke-width:1.5;\"/>\n   </g>\n   <g id=\"line2d_70\">\n    <path clip-path=\"url(#pfb03335ebd)\" d=\"M 49.633125 99.566902 \nL 69.163125 94.458496 \n\" style=\"fill:none;stroke:#d62728;stroke-dasharray:1.5,2.475;stroke-dashoffset:0;stroke-width:1.5;\"/>\n   </g>\n   <g id=\"line2d_71\">\n    <path clip-path=\"url(#pfb03335ebd)\" d=\"M 34.923295 13.377273 \nL 44.646742 100.883054 \nL 54.370189 120.290921 \nL 64.093636 126.559984 \nL 73.817082 132.387326 \nL 83.540529 136.922727 \n\" style=\"fill:none;stroke:#1f77b4;stroke-linecap:square;stroke-width:1.5;\"/>\n   </g>\n   <g id=\"line2d_72\">\n    <path clip-path=\"url(#pfb03335ebd)\" d=\"M 34.923295 128.864799 \nL 44.646742 104.75875 \nL 54.370189 96.503475 \nL 64.093636 93.717219 \nL 73.817082 91.826834 \nL 83.540529 90.311615 \n\" style=\"fill:none;stroke:#ff7f0e;stroke-dasharray:5.55,2.4;stroke-dashoffset:0;stroke-width:1.5;\"/>\n   </g>\n   <g id=\"line2d_73\">\n    <path clip-path=\"url(#pfb03335ebd)\" d=\"M 49.633125 111.022622 \nL 69.163125 126.466225 \nL 88.693125 120.020559 \n\" style=\"fill:none;stroke:#2ca02c;stroke-dasharray:9.6,2.4,1.5,2.4;stroke-dashoffset:0;stroke-width:1.5;\"/>\n   </g>\n   <g id=\"line2d_74\">\n    <path clip-path=\"url(#pfb03335ebd)\" d=\"M 49.633125 99.566902 \nL 69.163125 94.458496 \nL 88.693125 99.396621 \n\" style=\"fill:none;stroke:#d62728;stroke-dasharray:1.5,2.475;stroke-dashoffset:0;stroke-width:1.5;\"/>\n   </g>\n   <g id=\"patch_3\">\n    <path d=\"M 30.103125 143.1 \nL 30.103125 7.2 \n\" style=\"fill:none;stroke:#000000;stroke-linecap:square;stroke-linejoin:miter;stroke-width:0.8;\"/>\n   </g>\n   <g id=\"patch_4\">\n    <path d=\"M 225.403125 143.1 \nL 225.403125 7.2 \n\" style=\"fill:none;stroke:#000000;stroke-linecap:square;stroke-linejoin:miter;stroke-width:0.8;\"/>\n   </g>\n   <g id=\"patch_5\">\n    <path d=\"M 30.103125 143.1 \nL 225.403125 143.1 \n\" style=\"fill:none;stroke:#000000;stroke-linecap:square;stroke-linejoin:miter;stroke-width:0.8;\"/>\n   </g>\n   <g id=\"patch_6\">\n    <path d=\"M 30.103125 7.2 \nL 225.403125 7.2 \n\" style=\"fill:none;stroke:#000000;stroke-linecap:square;stroke-linejoin:miter;stroke-width:0.8;\"/>\n   </g>\n   <g id=\"legend_1\">\n    <g id=\"patch_7\">\n     <path d=\"M 138.8125 75.025 \nL 218.403125 75.025 \nQ 220.403125 75.025 220.403125 73.025 \nL 220.403125 14.2 \nQ 220.403125 12.2 218.403125 12.2 \nL 138.8125 12.2 \nQ 136.8125 12.2 136.8125 14.2 \nL 136.8125 73.025 \nQ 136.8125 75.025 138.8125 75.025 \nz\n\" style=\"fill:#ffffff;opacity:0.8;stroke:#cccccc;stroke-linejoin:miter;\"/>\n    </g>\n    <g id=\"line2d_75\">\n     <path d=\"M 140.8125 20.298437 \nL 160.8125 20.298437 \n\" style=\"fill:none;stroke:#1f77b4;stroke-linecap:square;stroke-width:1.5;\"/>\n    </g>\n    <g id=\"line2d_76\"/>\n    <g id=\"text_12\">\n     <!-- train_loss -->\n     <defs>\n      <path d=\"M 18.3125 70.21875 \nL 18.3125 54.6875 \nL 36.8125 54.6875 \nL 36.8125 47.703125 \nL 18.3125 47.703125 \nL 18.3125 18.015625 \nQ 18.3125 11.328125 20.140625 9.421875 \nQ 21.96875 7.515625 27.59375 7.515625 \nL 36.8125 7.515625 \nL 36.8125 0 \nL 27.59375 0 \nQ 17.1875 0 13.234375 3.875 \nQ 9.28125 7.765625 9.28125 18.015625 \nL 9.28125 47.703125 \nL 2.6875 47.703125 \nL 2.6875 54.6875 \nL 9.28125 54.6875 \nL 9.28125 70.21875 \nz\n\" id=\"DejaVuSans-116\"/>\n      <path d=\"M 41.109375 46.296875 \nQ 39.59375 47.171875 37.8125 47.578125 \nQ 36.03125 48 33.890625 48 \nQ 26.265625 48 22.1875 43.046875 \nQ 18.109375 38.09375 18.109375 28.8125 \nL 18.109375 0 \nL 9.078125 0 \nL 9.078125 54.6875 \nL 18.109375 54.6875 \nL 18.109375 46.1875 \nQ 20.953125 51.171875 25.484375 53.578125 \nQ 30.03125 56 36.53125 56 \nQ 37.453125 56 38.578125 55.875 \nQ 39.703125 55.765625 41.0625 55.515625 \nz\n\" id=\"DejaVuSans-114\"/>\n      <path d=\"M 34.28125 27.484375 \nQ 23.390625 27.484375 19.1875 25 \nQ 14.984375 22.515625 14.984375 16.5 \nQ 14.984375 11.71875 18.140625 8.90625 \nQ 21.296875 6.109375 26.703125 6.109375 \nQ 34.1875 6.109375 38.703125 11.40625 \nQ 43.21875 16.703125 43.21875 25.484375 \nL 43.21875 27.484375 \nz\nM 52.203125 31.203125 \nL 52.203125 0 \nL 43.21875 0 \nL 43.21875 8.296875 \nQ 40.140625 3.328125 35.546875 0.953125 \nQ 30.953125 -1.421875 24.3125 -1.421875 \nQ 15.921875 -1.421875 10.953125 3.296875 \nQ 6 8.015625 6 15.921875 \nQ 6 25.140625 12.171875 29.828125 \nQ 18.359375 34.515625 30.609375 34.515625 \nL 43.21875 34.515625 \nL 43.21875 35.40625 \nQ 43.21875 41.609375 39.140625 45 \nQ 35.0625 48.390625 27.6875 48.390625 \nQ 23 48.390625 18.546875 47.265625 \nQ 14.109375 46.140625 10.015625 43.890625 \nL 10.015625 52.203125 \nQ 14.9375 54.109375 19.578125 55.046875 \nQ 24.21875 56 28.609375 56 \nQ 40.484375 56 46.34375 49.84375 \nQ 52.203125 43.703125 52.203125 31.203125 \nz\n\" id=\"DejaVuSans-97\"/>\n      <path d=\"M 9.421875 54.6875 \nL 18.40625 54.6875 \nL 18.40625 0 \nL 9.421875 0 \nz\nM 9.421875 75.984375 \nL 18.40625 75.984375 \nL 18.40625 64.59375 \nL 9.421875 64.59375 \nz\n\" id=\"DejaVuSans-105\"/>\n      <path d=\"M 54.890625 33.015625 \nL 54.890625 0 \nL 45.90625 0 \nL 45.90625 32.71875 \nQ 45.90625 40.484375 42.875 44.328125 \nQ 39.84375 48.1875 33.796875 48.1875 \nQ 26.515625 48.1875 22.3125 43.546875 \nQ 18.109375 38.921875 18.109375 30.90625 \nL 18.109375 0 \nL 9.078125 0 \nL 9.078125 54.6875 \nL 18.109375 54.6875 \nL 18.109375 46.1875 \nQ 21.34375 51.125 25.703125 53.5625 \nQ 30.078125 56 35.796875 56 \nQ 45.21875 56 50.046875 50.171875 \nQ 54.890625 44.34375 54.890625 33.015625 \nz\n\" id=\"DejaVuSans-110\"/>\n      <path d=\"M 50.984375 -16.609375 \nL 50.984375 -23.578125 \nL -0.984375 -23.578125 \nL -0.984375 -16.609375 \nz\n\" id=\"DejaVuSans-95\"/>\n      <path d=\"M 9.421875 75.984375 \nL 18.40625 75.984375 \nL 18.40625 0 \nL 9.421875 0 \nz\n\" id=\"DejaVuSans-108\"/>\n      <path d=\"M 44.28125 53.078125 \nL 44.28125 44.578125 \nQ 40.484375 46.53125 36.375 47.5 \nQ 32.28125 48.484375 27.875 48.484375 \nQ 21.1875 48.484375 17.84375 46.4375 \nQ 14.5 44.390625 14.5 40.28125 \nQ 14.5 37.15625 16.890625 35.375 \nQ 19.28125 33.59375 26.515625 31.984375 \nL 29.59375 31.296875 \nQ 39.15625 29.25 43.1875 25.515625 \nQ 47.21875 21.78125 47.21875 15.09375 \nQ 47.21875 7.46875 41.1875 3.015625 \nQ 35.15625 -1.421875 24.609375 -1.421875 \nQ 20.21875 -1.421875 15.453125 -0.5625 \nQ 10.6875 0.296875 5.421875 2 \nL 5.421875 11.28125 \nQ 10.40625 8.6875 15.234375 7.390625 \nQ 20.0625 6.109375 24.8125 6.109375 \nQ 31.15625 6.109375 34.5625 8.28125 \nQ 37.984375 10.453125 37.984375 14.40625 \nQ 37.984375 18.0625 35.515625 20.015625 \nQ 33.0625 21.96875 24.703125 23.78125 \nL 21.578125 24.515625 \nQ 13.234375 26.265625 9.515625 29.90625 \nQ 5.8125 33.546875 5.8125 39.890625 \nQ 5.8125 47.609375 11.28125 51.796875 \nQ 16.75 56 26.8125 56 \nQ 31.78125 56 36.171875 55.265625 \nQ 40.578125 54.546875 44.28125 53.078125 \nz\n\" id=\"DejaVuSans-115\"/>\n     </defs>\n     <g transform=\"translate(168.8125 23.798437)scale(0.1 -0.1)\">\n      <use xlink:href=\"#DejaVuSans-116\"/>\n      <use x=\"39.208984\" xlink:href=\"#DejaVuSans-114\"/>\n      <use x=\"80.322266\" xlink:href=\"#DejaVuSans-97\"/>\n      <use x=\"141.601562\" xlink:href=\"#DejaVuSans-105\"/>\n      <use x=\"169.384766\" xlink:href=\"#DejaVuSans-110\"/>\n      <use x=\"232.763672\" xlink:href=\"#DejaVuSans-95\"/>\n      <use x=\"282.763672\" xlink:href=\"#DejaVuSans-108\"/>\n      <use x=\"310.546875\" xlink:href=\"#DejaVuSans-111\"/>\n      <use x=\"371.728516\" xlink:href=\"#DejaVuSans-115\"/>\n      <use x=\"423.828125\" xlink:href=\"#DejaVuSans-115\"/>\n     </g>\n    </g>\n    <g id=\"line2d_77\">\n     <path d=\"M 140.8125 35.254687 \nL 160.8125 35.254687 \n\" style=\"fill:none;stroke:#ff7f0e;stroke-dasharray:5.55,2.4;stroke-dashoffset:0;stroke-width:1.5;\"/>\n    </g>\n    <g id=\"line2d_78\"/>\n    <g id=\"text_13\">\n     <!-- train_acc -->\n     <g transform=\"translate(168.8125 38.754687)scale(0.1 -0.1)\">\n      <use xlink:href=\"#DejaVuSans-116\"/>\n      <use x=\"39.208984\" xlink:href=\"#DejaVuSans-114\"/>\n      <use x=\"80.322266\" xlink:href=\"#DejaVuSans-97\"/>\n      <use x=\"141.601562\" xlink:href=\"#DejaVuSans-105\"/>\n      <use x=\"169.384766\" xlink:href=\"#DejaVuSans-110\"/>\n      <use x=\"232.763672\" xlink:href=\"#DejaVuSans-95\"/>\n      <use x=\"282.763672\" xlink:href=\"#DejaVuSans-97\"/>\n      <use x=\"344.042969\" xlink:href=\"#DejaVuSans-99\"/>\n      <use x=\"399.023438\" xlink:href=\"#DejaVuSans-99\"/>\n     </g>\n    </g>\n    <g id=\"line2d_79\">\n     <path d=\"M 140.8125 50.210937 \nL 160.8125 50.210937 \n\" style=\"fill:none;stroke:#2ca02c;stroke-dasharray:9.6,2.4,1.5,2.4;stroke-dashoffset:0;stroke-width:1.5;\"/>\n    </g>\n    <g id=\"line2d_80\"/>\n    <g id=\"text_14\">\n     <!-- val_loss -->\n     <defs>\n      <path d=\"M 2.984375 54.6875 \nL 12.5 54.6875 \nL 29.59375 8.796875 \nL 46.6875 54.6875 \nL 56.203125 54.6875 \nL 35.6875 0 \nL 23.484375 0 \nz\n\" id=\"DejaVuSans-118\"/>\n     </defs>\n     <g transform=\"translate(168.8125 53.710937)scale(0.1 -0.1)\">\n      <use xlink:href=\"#DejaVuSans-118\"/>\n      <use x=\"59.179688\" xlink:href=\"#DejaVuSans-97\"/>\n      <use x=\"120.458984\" xlink:href=\"#DejaVuSans-108\"/>\n      <use x=\"148.242188\" xlink:href=\"#DejaVuSans-95\"/>\n      <use x=\"198.242188\" xlink:href=\"#DejaVuSans-108\"/>\n      <use x=\"226.025391\" xlink:href=\"#DejaVuSans-111\"/>\n      <use x=\"287.207031\" xlink:href=\"#DejaVuSans-115\"/>\n      <use x=\"339.306641\" xlink:href=\"#DejaVuSans-115\"/>\n     </g>\n    </g>\n    <g id=\"line2d_81\">\n     <path d=\"M 140.8125 65.167187 \nL 160.8125 65.167187 \n\" style=\"fill:none;stroke:#d62728;stroke-dasharray:1.5,2.475;stroke-dashoffset:0;stroke-width:1.5;\"/>\n    </g>\n    <g id=\"line2d_82\"/>\n    <g id=\"text_15\">\n     <!-- val_acc -->\n     <g transform=\"translate(168.8125 68.667187)scale(0.1 -0.1)\">\n      <use xlink:href=\"#DejaVuSans-118\"/>\n      <use x=\"59.179688\" xlink:href=\"#DejaVuSans-97\"/>\n      <use x=\"120.458984\" xlink:href=\"#DejaVuSans-108\"/>\n      <use x=\"148.242188\" xlink:href=\"#DejaVuSans-95\"/>\n      <use x=\"198.242188\" xlink:href=\"#DejaVuSans-97\"/>\n      <use x=\"259.521484\" xlink:href=\"#DejaVuSans-99\"/>\n      <use x=\"314.501953\" xlink:href=\"#DejaVuSans-99\"/>\n     </g>\n    </g>\n   </g>\n  </g>\n </g>\n <defs>\n  <clipPath id=\"pfb03335ebd\">\n   <rect height=\"135.9\" width=\"195.3\" x=\"30.103125\" y=\"7.2\"/>\n  </clipPath>\n </defs>\n</svg>\n"
          },
          "metadata": {
            "needs_background": "light"
          }
        }
      ],
      "source": [
        "model = MLPScratch(num_inputs=784, num_outputs=10, num_hiddens=256, lr=0.1)\n",
        "data = d2l.FashionMNIST(batch_size=256)\n",
        "trainer = d2l.Trainer(max_epochs=10)\n",
        "trainer.fit(model, data)"
      ]
    },
    {
      "cell_type": "code",
      "execution_count": 26,
      "id": "c2d08c80-793e-476b-85cb-c11e9ef66fec",
      "metadata": {
        "id": "c2d08c80-793e-476b-85cb-c11e9ef66fec"
      },
      "outputs": [],
      "source": [
        "# class MLPScratch(d2l.Classifier):\n",
        "#     def __init__(self, num_inputs, num_outputs, num_hiddens, lr, sigma=0.01):\n",
        "#         super().__init__()\n",
        "#         self.save_hyperparameters()\n",
        "#         self.W1 = nn.Parameter(torch.randn(num_inputs, num_hiddens) * sigma)\n",
        "#         self.b1 = nn.Parameter(torch.zeros(num_hiddens))\n",
        "#         self.W2 = nn.Parameter(torch.randn(num_hiddens, num_outputs) * sigma)\n",
        "#         self.b2 = nn.Parameter(torch.zeros(num_outputs))\n",
        "class MLP(d2l.Classifier):\n",
        "    def __init__(self, num_outputs, num_hiddens, lr):\n",
        "        super().__init__()\n",
        "        self.save_hyperparameters()\n",
        "        self.net = nn.Sequential(nn.Flatten(), nn.LazyLinear(num_hiddens),\n",
        "                                 nn.ReLU(), nn.LazyLinear(num_outputs))"
      ]
    },
    {
      "cell_type": "code",
      "source": [
        "@d2l.add_to_class(d2l.Classifier)\n",
        "def training_step(self, batch):\n",
        "  l = self.loss(self(*batch[:-1]), batch[-1])\n",
        "  Y_hat = self(*batch[:-1])\n",
        "  self.plot('loss', l, train=True)\n",
        "  self.plot('acc', self.accuracy(Y_hat, batch[-1]), train=True)\n",
        "  return l"
      ],
      "metadata": {
        "id": "kOAGRb5xtIuo"
      },
      "id": "kOAGRb5xtIuo",
      "execution_count": 27,
      "outputs": []
    },
    {
      "cell_type": "code",
      "source": [
        "@d2l.add_to_class(d2l.Classifier)\n",
        "def validation_step(self, batch):\n",
        "  Y_hat = self(*batch[:-1])\n",
        "  # self.plot('loss', self.loss(Y_hat, batch[-1]), train=False)\n",
        "  self.plot('acc', self.accuracy(Y_hat, batch[-1]), train=False)"
      ],
      "metadata": {
        "id": "LHEGfyGIxgvt"
      },
      "id": "LHEGfyGIxgvt",
      "execution_count": 29,
      "outputs": []
    },
    {
      "cell_type": "code",
      "execution_count": 30,
      "id": "c9c7333e-f1ae-4744-8e9d-f130d67be522",
      "metadata": {
        "colab": {
          "base_uri": "https://localhost:8080/",
          "height": 262
        },
        "id": "c9c7333e-f1ae-4744-8e9d-f130d67be522",
        "outputId": "a9e3bc8a-5602-4e27-c0ff-56f1ef3f059f"
      },
      "outputs": [
        {
          "output_type": "display_data",
          "data": {
            "text/plain": [
              "<Figure size 252x180 with 1 Axes>"
            ],
            "image/svg+xml": "<?xml version=\"1.0\" encoding=\"utf-8\" standalone=\"no\"?>\n<!DOCTYPE svg PUBLIC \"-//W3C//DTD SVG 1.1//EN\"\n  \"http://www.w3.org/Graphics/SVG/1.1/DTD/svg11.dtd\">\n<!-- Created with matplotlib (https://matplotlib.org/) -->\n<svg height=\"180.65625pt\" version=\"1.1\" viewBox=\"0 0 238.965625 180.65625\" width=\"238.965625pt\" xmlns=\"http://www.w3.org/2000/svg\" xmlns:xlink=\"http://www.w3.org/1999/xlink\">\n <defs>\n  <style type=\"text/css\">\n*{stroke-linecap:butt;stroke-linejoin:round;}\n  </style>\n </defs>\n <g id=\"figure_1\">\n  <g id=\"patch_1\">\n   <path d=\"M 0 180.65625 \nL 238.965625 180.65625 \nL 238.965625 0 \nL 0 0 \nz\n\" style=\"fill:none;\"/>\n  </g>\n  <g id=\"axes_1\">\n   <g id=\"patch_2\">\n    <path d=\"M 30.103125 143.1 \nL 225.403125 143.1 \nL 225.403125 7.2 \nL 30.103125 7.2 \nz\n\" style=\"fill:#ffffff;\"/>\n   </g>\n   <g id=\"matplotlib.axis_1\">\n    <g id=\"xtick_1\">\n     <g id=\"line2d_1\">\n      <defs>\n       <path d=\"M 0 0 \nL 0 3.5 \n\" id=\"m57371a5fe4\" style=\"stroke:#000000;stroke-width:0.8;\"/>\n      </defs>\n      <g>\n       <use style=\"stroke:#000000;stroke-width:0.8;\" x=\"30.103125\" xlink:href=\"#m57371a5fe4\" y=\"143.1\"/>\n      </g>\n     </g>\n     <g id=\"text_1\">\n      <!-- 0 -->\n      <defs>\n       <path d=\"M 31.78125 66.40625 \nQ 24.171875 66.40625 20.328125 58.90625 \nQ 16.5 51.421875 16.5 36.375 \nQ 16.5 21.390625 20.328125 13.890625 \nQ 24.171875 6.390625 31.78125 6.390625 \nQ 39.453125 6.390625 43.28125 13.890625 \nQ 47.125 21.390625 47.125 36.375 \nQ 47.125 51.421875 43.28125 58.90625 \nQ 39.453125 66.40625 31.78125 66.40625 \nz\nM 31.78125 74.21875 \nQ 44.046875 74.21875 50.515625 64.515625 \nQ 56.984375 54.828125 56.984375 36.375 \nQ 56.984375 17.96875 50.515625 8.265625 \nQ 44.046875 -1.421875 31.78125 -1.421875 \nQ 19.53125 -1.421875 13.0625 8.265625 \nQ 6.59375 17.96875 6.59375 36.375 \nQ 6.59375 54.828125 13.0625 64.515625 \nQ 19.53125 74.21875 31.78125 74.21875 \nz\n\" id=\"DejaVuSans-48\"/>\n      </defs>\n      <g transform=\"translate(26.921875 157.698438)scale(0.1 -0.1)\">\n       <use xlink:href=\"#DejaVuSans-48\"/>\n      </g>\n     </g>\n    </g>\n    <g id=\"xtick_2\">\n     <g id=\"line2d_2\">\n      <g>\n       <use style=\"stroke:#000000;stroke-width:0.8;\" x=\"78.928125\" xlink:href=\"#m57371a5fe4\" y=\"143.1\"/>\n      </g>\n     </g>\n     <g id=\"text_2\">\n      <!-- 5 -->\n      <defs>\n       <path d=\"M 10.796875 72.90625 \nL 49.515625 72.90625 \nL 49.515625 64.59375 \nL 19.828125 64.59375 \nL 19.828125 46.734375 \nQ 21.96875 47.46875 24.109375 47.828125 \nQ 26.265625 48.1875 28.421875 48.1875 \nQ 40.625 48.1875 47.75 41.5 \nQ 54.890625 34.8125 54.890625 23.390625 \nQ 54.890625 11.625 47.5625 5.09375 \nQ 40.234375 -1.421875 26.90625 -1.421875 \nQ 22.3125 -1.421875 17.546875 -0.640625 \nQ 12.796875 0.140625 7.71875 1.703125 \nL 7.71875 11.625 \nQ 12.109375 9.234375 16.796875 8.0625 \nQ 21.484375 6.890625 26.703125 6.890625 \nQ 35.15625 6.890625 40.078125 11.328125 \nQ 45.015625 15.765625 45.015625 23.390625 \nQ 45.015625 31 40.078125 35.4375 \nQ 35.15625 39.890625 26.703125 39.890625 \nQ 22.75 39.890625 18.8125 39.015625 \nQ 14.890625 38.140625 10.796875 36.28125 \nz\n\" id=\"DejaVuSans-53\"/>\n      </defs>\n      <g transform=\"translate(75.746875 157.698438)scale(0.1 -0.1)\">\n       <use xlink:href=\"#DejaVuSans-53\"/>\n      </g>\n     </g>\n    </g>\n    <g id=\"xtick_3\">\n     <g id=\"line2d_3\">\n      <g>\n       <use style=\"stroke:#000000;stroke-width:0.8;\" x=\"127.753125\" xlink:href=\"#m57371a5fe4\" y=\"143.1\"/>\n      </g>\n     </g>\n     <g id=\"text_3\">\n      <!-- 10 -->\n      <defs>\n       <path d=\"M 12.40625 8.296875 \nL 28.515625 8.296875 \nL 28.515625 63.921875 \nL 10.984375 60.40625 \nL 10.984375 69.390625 \nL 28.421875 72.90625 \nL 38.28125 72.90625 \nL 38.28125 8.296875 \nL 54.390625 8.296875 \nL 54.390625 0 \nL 12.40625 0 \nz\n\" id=\"DejaVuSans-49\"/>\n      </defs>\n      <g transform=\"translate(121.390625 157.698438)scale(0.1 -0.1)\">\n       <use xlink:href=\"#DejaVuSans-49\"/>\n       <use x=\"63.623047\" xlink:href=\"#DejaVuSans-48\"/>\n      </g>\n     </g>\n    </g>\n    <g id=\"xtick_4\">\n     <g id=\"line2d_4\">\n      <g>\n       <use style=\"stroke:#000000;stroke-width:0.8;\" x=\"176.578125\" xlink:href=\"#m57371a5fe4\" y=\"143.1\"/>\n      </g>\n     </g>\n     <g id=\"text_4\">\n      <!-- 15 -->\n      <g transform=\"translate(170.215625 157.698438)scale(0.1 -0.1)\">\n       <use xlink:href=\"#DejaVuSans-49\"/>\n       <use x=\"63.623047\" xlink:href=\"#DejaVuSans-53\"/>\n      </g>\n     </g>\n    </g>\n    <g id=\"xtick_5\">\n     <g id=\"line2d_5\">\n      <g>\n       <use style=\"stroke:#000000;stroke-width:0.8;\" x=\"225.403125\" xlink:href=\"#m57371a5fe4\" y=\"143.1\"/>\n      </g>\n     </g>\n     <g id=\"text_5\">\n      <!-- 20 -->\n      <defs>\n       <path d=\"M 19.1875 8.296875 \nL 53.609375 8.296875 \nL 53.609375 0 \nL 7.328125 0 \nL 7.328125 8.296875 \nQ 12.9375 14.109375 22.625 23.890625 \nQ 32.328125 33.6875 34.8125 36.53125 \nQ 39.546875 41.84375 41.421875 45.53125 \nQ 43.3125 49.21875 43.3125 52.78125 \nQ 43.3125 58.59375 39.234375 62.25 \nQ 35.15625 65.921875 28.609375 65.921875 \nQ 23.96875 65.921875 18.8125 64.3125 \nQ 13.671875 62.703125 7.8125 59.421875 \nL 7.8125 69.390625 \nQ 13.765625 71.78125 18.9375 73 \nQ 24.125 74.21875 28.421875 74.21875 \nQ 39.75 74.21875 46.484375 68.546875 \nQ 53.21875 62.890625 53.21875 53.421875 \nQ 53.21875 48.921875 51.53125 44.890625 \nQ 49.859375 40.875 45.40625 35.40625 \nQ 44.1875 33.984375 37.640625 27.21875 \nQ 31.109375 20.453125 19.1875 8.296875 \nz\n\" id=\"DejaVuSans-50\"/>\n      </defs>\n      <g transform=\"translate(219.040625 157.698438)scale(0.1 -0.1)\">\n       <use xlink:href=\"#DejaVuSans-50\"/>\n       <use x=\"63.623047\" xlink:href=\"#DejaVuSans-48\"/>\n      </g>\n     </g>\n    </g>\n    <g id=\"text_6\">\n     <!-- epoch -->\n     <defs>\n      <path d=\"M 56.203125 29.59375 \nL 56.203125 25.203125 \nL 14.890625 25.203125 \nQ 15.484375 15.921875 20.484375 11.0625 \nQ 25.484375 6.203125 34.421875 6.203125 \nQ 39.59375 6.203125 44.453125 7.46875 \nQ 49.3125 8.734375 54.109375 11.28125 \nL 54.109375 2.78125 \nQ 49.265625 0.734375 44.1875 -0.34375 \nQ 39.109375 -1.421875 33.890625 -1.421875 \nQ 20.796875 -1.421875 13.15625 6.1875 \nQ 5.515625 13.8125 5.515625 26.8125 \nQ 5.515625 40.234375 12.765625 48.109375 \nQ 20.015625 56 32.328125 56 \nQ 43.359375 56 49.78125 48.890625 \nQ 56.203125 41.796875 56.203125 29.59375 \nz\nM 47.21875 32.234375 \nQ 47.125 39.59375 43.09375 43.984375 \nQ 39.0625 48.390625 32.421875 48.390625 \nQ 24.90625 48.390625 20.390625 44.140625 \nQ 15.875 39.890625 15.1875 32.171875 \nz\n\" id=\"DejaVuSans-101\"/>\n      <path d=\"M 18.109375 8.203125 \nL 18.109375 -20.796875 \nL 9.078125 -20.796875 \nL 9.078125 54.6875 \nL 18.109375 54.6875 \nL 18.109375 46.390625 \nQ 20.953125 51.265625 25.265625 53.625 \nQ 29.59375 56 35.59375 56 \nQ 45.5625 56 51.78125 48.09375 \nQ 58.015625 40.1875 58.015625 27.296875 \nQ 58.015625 14.40625 51.78125 6.484375 \nQ 45.5625 -1.421875 35.59375 -1.421875 \nQ 29.59375 -1.421875 25.265625 0.953125 \nQ 20.953125 3.328125 18.109375 8.203125 \nz\nM 48.6875 27.296875 \nQ 48.6875 37.203125 44.609375 42.84375 \nQ 40.53125 48.484375 33.40625 48.484375 \nQ 26.265625 48.484375 22.1875 42.84375 \nQ 18.109375 37.203125 18.109375 27.296875 \nQ 18.109375 17.390625 22.1875 11.75 \nQ 26.265625 6.109375 33.40625 6.109375 \nQ 40.53125 6.109375 44.609375 11.75 \nQ 48.6875 17.390625 48.6875 27.296875 \nz\n\" id=\"DejaVuSans-112\"/>\n      <path d=\"M 30.609375 48.390625 \nQ 23.390625 48.390625 19.1875 42.75 \nQ 14.984375 37.109375 14.984375 27.296875 \nQ 14.984375 17.484375 19.15625 11.84375 \nQ 23.34375 6.203125 30.609375 6.203125 \nQ 37.796875 6.203125 41.984375 11.859375 \nQ 46.1875 17.53125 46.1875 27.296875 \nQ 46.1875 37.015625 41.984375 42.703125 \nQ 37.796875 48.390625 30.609375 48.390625 \nz\nM 30.609375 56 \nQ 42.328125 56 49.015625 48.375 \nQ 55.71875 40.765625 55.71875 27.296875 \nQ 55.71875 13.875 49.015625 6.21875 \nQ 42.328125 -1.421875 30.609375 -1.421875 \nQ 18.84375 -1.421875 12.171875 6.21875 \nQ 5.515625 13.875 5.515625 27.296875 \nQ 5.515625 40.765625 12.171875 48.375 \nQ 18.84375 56 30.609375 56 \nz\n\" id=\"DejaVuSans-111\"/>\n      <path d=\"M 48.78125 52.59375 \nL 48.78125 44.1875 \nQ 44.96875 46.296875 41.140625 47.34375 \nQ 37.3125 48.390625 33.40625 48.390625 \nQ 24.65625 48.390625 19.8125 42.84375 \nQ 14.984375 37.3125 14.984375 27.296875 \nQ 14.984375 17.28125 19.8125 11.734375 \nQ 24.65625 6.203125 33.40625 6.203125 \nQ 37.3125 6.203125 41.140625 7.25 \nQ 44.96875 8.296875 48.78125 10.40625 \nL 48.78125 2.09375 \nQ 45.015625 0.34375 40.984375 -0.53125 \nQ 36.96875 -1.421875 32.421875 -1.421875 \nQ 20.0625 -1.421875 12.78125 6.34375 \nQ 5.515625 14.109375 5.515625 27.296875 \nQ 5.515625 40.671875 12.859375 48.328125 \nQ 20.21875 56 33.015625 56 \nQ 37.15625 56 41.109375 55.140625 \nQ 45.0625 54.296875 48.78125 52.59375 \nz\n\" id=\"DejaVuSans-99\"/>\n      <path d=\"M 54.890625 33.015625 \nL 54.890625 0 \nL 45.90625 0 \nL 45.90625 32.71875 \nQ 45.90625 40.484375 42.875 44.328125 \nQ 39.84375 48.1875 33.796875 48.1875 \nQ 26.515625 48.1875 22.3125 43.546875 \nQ 18.109375 38.921875 18.109375 30.90625 \nL 18.109375 0 \nL 9.078125 0 \nL 9.078125 75.984375 \nL 18.109375 75.984375 \nL 18.109375 46.1875 \nQ 21.34375 51.125 25.703125 53.5625 \nQ 30.078125 56 35.796875 56 \nQ 45.21875 56 50.046875 50.171875 \nQ 54.890625 44.34375 54.890625 33.015625 \nz\n\" id=\"DejaVuSans-104\"/>\n     </defs>\n     <g transform=\"translate(112.525 171.376563)scale(0.1 -0.1)\">\n      <use xlink:href=\"#DejaVuSans-101\"/>\n      <use x=\"61.523438\" xlink:href=\"#DejaVuSans-112\"/>\n      <use x=\"125\" xlink:href=\"#DejaVuSans-111\"/>\n      <use x=\"186.181641\" xlink:href=\"#DejaVuSans-99\"/>\n      <use x=\"241.162109\" xlink:href=\"#DejaVuSans-104\"/>\n     </g>\n    </g>\n   </g>\n   <g id=\"matplotlib.axis_2\">\n    <g id=\"ytick_1\">\n     <g id=\"line2d_6\">\n      <defs>\n       <path d=\"M 0 0 \nL -3.5 0 \n\" id=\"m4165221957\" style=\"stroke:#000000;stroke-width:0.8;\"/>\n      </defs>\n      <g>\n       <use style=\"stroke:#000000;stroke-width:0.8;\" x=\"30.103125\" xlink:href=\"#m4165221957\" y=\"122.44767\"/>\n      </g>\n     </g>\n     <g id=\"text_7\">\n      <!-- 0.4 -->\n      <defs>\n       <path d=\"M 10.6875 12.40625 \nL 21 12.40625 \nL 21 0 \nL 10.6875 0 \nz\n\" id=\"DejaVuSans-46\"/>\n       <path d=\"M 37.796875 64.3125 \nL 12.890625 25.390625 \nL 37.796875 25.390625 \nz\nM 35.203125 72.90625 \nL 47.609375 72.90625 \nL 47.609375 25.390625 \nL 58.015625 25.390625 \nL 58.015625 17.1875 \nL 47.609375 17.1875 \nL 47.609375 0 \nL 37.796875 0 \nL 37.796875 17.1875 \nL 4.890625 17.1875 \nL 4.890625 26.703125 \nz\n\" id=\"DejaVuSans-52\"/>\n      </defs>\n      <g transform=\"translate(7.2 126.246889)scale(0.1 -0.1)\">\n       <use xlink:href=\"#DejaVuSans-48\"/>\n       <use x=\"63.623047\" xlink:href=\"#DejaVuSans-46\"/>\n       <use x=\"95.410156\" xlink:href=\"#DejaVuSans-52\"/>\n      </g>\n     </g>\n    </g>\n    <g id=\"ytick_2\">\n     <g id=\"line2d_7\">\n      <g>\n       <use style=\"stroke:#000000;stroke-width:0.8;\" x=\"30.103125\" xlink:href=\"#m4165221957\" y=\"89.457461\"/>\n      </g>\n     </g>\n     <g id=\"text_8\">\n      <!-- 0.6 -->\n      <defs>\n       <path d=\"M 33.015625 40.375 \nQ 26.375 40.375 22.484375 35.828125 \nQ 18.609375 31.296875 18.609375 23.390625 \nQ 18.609375 15.53125 22.484375 10.953125 \nQ 26.375 6.390625 33.015625 6.390625 \nQ 39.65625 6.390625 43.53125 10.953125 \nQ 47.40625 15.53125 47.40625 23.390625 \nQ 47.40625 31.296875 43.53125 35.828125 \nQ 39.65625 40.375 33.015625 40.375 \nz\nM 52.59375 71.296875 \nL 52.59375 62.3125 \nQ 48.875 64.0625 45.09375 64.984375 \nQ 41.3125 65.921875 37.59375 65.921875 \nQ 27.828125 65.921875 22.671875 59.328125 \nQ 17.53125 52.734375 16.796875 39.40625 \nQ 19.671875 43.65625 24.015625 45.921875 \nQ 28.375 48.1875 33.59375 48.1875 \nQ 44.578125 48.1875 50.953125 41.515625 \nQ 57.328125 34.859375 57.328125 23.390625 \nQ 57.328125 12.15625 50.6875 5.359375 \nQ 44.046875 -1.421875 33.015625 -1.421875 \nQ 20.359375 -1.421875 13.671875 8.265625 \nQ 6.984375 17.96875 6.984375 36.375 \nQ 6.984375 53.65625 15.1875 63.9375 \nQ 23.390625 74.21875 37.203125 74.21875 \nQ 40.921875 74.21875 44.703125 73.484375 \nQ 48.484375 72.75 52.59375 71.296875 \nz\n\" id=\"DejaVuSans-54\"/>\n      </defs>\n      <g transform=\"translate(7.2 93.25668)scale(0.1 -0.1)\">\n       <use xlink:href=\"#DejaVuSans-48\"/>\n       <use x=\"63.623047\" xlink:href=\"#DejaVuSans-46\"/>\n       <use x=\"95.410156\" xlink:href=\"#DejaVuSans-54\"/>\n      </g>\n     </g>\n    </g>\n    <g id=\"ytick_3\">\n     <g id=\"line2d_8\">\n      <g>\n       <use style=\"stroke:#000000;stroke-width:0.8;\" x=\"30.103125\" xlink:href=\"#m4165221957\" y=\"56.467252\"/>\n      </g>\n     </g>\n     <g id=\"text_9\">\n      <!-- 0.8 -->\n      <defs>\n       <path d=\"M 31.78125 34.625 \nQ 24.75 34.625 20.71875 30.859375 \nQ 16.703125 27.09375 16.703125 20.515625 \nQ 16.703125 13.921875 20.71875 10.15625 \nQ 24.75 6.390625 31.78125 6.390625 \nQ 38.8125 6.390625 42.859375 10.171875 \nQ 46.921875 13.96875 46.921875 20.515625 \nQ 46.921875 27.09375 42.890625 30.859375 \nQ 38.875 34.625 31.78125 34.625 \nz\nM 21.921875 38.8125 \nQ 15.578125 40.375 12.03125 44.71875 \nQ 8.5 49.078125 8.5 55.328125 \nQ 8.5 64.0625 14.71875 69.140625 \nQ 20.953125 74.21875 31.78125 74.21875 \nQ 42.671875 74.21875 48.875 69.140625 \nQ 55.078125 64.0625 55.078125 55.328125 \nQ 55.078125 49.078125 51.53125 44.71875 \nQ 48 40.375 41.703125 38.8125 \nQ 48.828125 37.15625 52.796875 32.3125 \nQ 56.78125 27.484375 56.78125 20.515625 \nQ 56.78125 9.90625 50.3125 4.234375 \nQ 43.84375 -1.421875 31.78125 -1.421875 \nQ 19.734375 -1.421875 13.25 4.234375 \nQ 6.78125 9.90625 6.78125 20.515625 \nQ 6.78125 27.484375 10.78125 32.3125 \nQ 14.796875 37.15625 21.921875 38.8125 \nz\nM 18.3125 54.390625 \nQ 18.3125 48.734375 21.84375 45.5625 \nQ 25.390625 42.390625 31.78125 42.390625 \nQ 38.140625 42.390625 41.71875 45.5625 \nQ 45.3125 48.734375 45.3125 54.390625 \nQ 45.3125 60.0625 41.71875 63.234375 \nQ 38.140625 66.40625 31.78125 66.40625 \nQ 25.390625 66.40625 21.84375 63.234375 \nQ 18.3125 60.0625 18.3125 54.390625 \nz\n\" id=\"DejaVuSans-56\"/>\n      </defs>\n      <g transform=\"translate(7.2 60.266471)scale(0.1 -0.1)\">\n       <use xlink:href=\"#DejaVuSans-48\"/>\n       <use x=\"63.623047\" xlink:href=\"#DejaVuSans-46\"/>\n       <use x=\"95.410156\" xlink:href=\"#DejaVuSans-56\"/>\n      </g>\n     </g>\n    </g>\n    <g id=\"ytick_4\">\n     <g id=\"line2d_9\">\n      <g>\n       <use style=\"stroke:#000000;stroke-width:0.8;\" x=\"30.103125\" xlink:href=\"#m4165221957\" y=\"23.477043\"/>\n      </g>\n     </g>\n     <g id=\"text_10\">\n      <!-- 1.0 -->\n      <g transform=\"translate(7.2 27.276262)scale(0.1 -0.1)\">\n       <use xlink:href=\"#DejaVuSans-49\"/>\n       <use x=\"63.623047\" xlink:href=\"#DejaVuSans-46\"/>\n       <use x=\"95.410156\" xlink:href=\"#DejaVuSans-48\"/>\n      </g>\n     </g>\n    </g>\n   </g>\n   <g id=\"line2d_10\">\n    <path clip-path=\"url(#pe1c7531032)\" d=\"M 32.51321 13.377273 \n\" style=\"fill:none;stroke:#1f77b4;stroke-linecap:square;stroke-width:1.5;\"/>\n   </g>\n   <g id=\"line2d_11\"/>\n   <g id=\"line2d_12\">\n    <path clip-path=\"url(#pe1c7531032)\" d=\"M 32.51321 13.377273 \n\" style=\"fill:none;stroke:#1f77b4;stroke-linecap:square;stroke-width:1.5;\"/>\n   </g>\n   <g id=\"line2d_13\">\n    <path clip-path=\"url(#pe1c7531032)\" d=\"M 32.51321 78.846228 \n\" style=\"fill:none;stroke:#ff7f0e;stroke-dasharray:5.55,2.4;stroke-dashoffset:0;stroke-width:1.5;\"/>\n   </g>\n   <g id=\"line2d_14\">\n    <path clip-path=\"url(#pe1c7531032)\" d=\"M 32.51321 13.377273 \nL 37.374934 78.9334 \n\" style=\"fill:none;stroke:#1f77b4;stroke-linecap:square;stroke-width:1.5;\"/>\n   </g>\n   <g id=\"line2d_15\">\n    <path clip-path=\"url(#pe1c7531032)\" d=\"M 32.51321 78.846228 \n\" style=\"fill:none;stroke:#ff7f0e;stroke-dasharray:5.55,2.4;stroke-dashoffset:0;stroke-width:1.5;\"/>\n   </g>\n   <g id=\"line2d_16\">\n    <path clip-path=\"url(#pe1c7531032)\" d=\"M 32.51321 13.377273 \nL 37.374934 78.9334 \n\" style=\"fill:none;stroke:#1f77b4;stroke-linecap:square;stroke-width:1.5;\"/>\n   </g>\n   <g id=\"line2d_17\">\n    <path clip-path=\"url(#pe1c7531032)\" d=\"M 32.51321 78.846228 \nL 37.374934 61.746435 \n\" style=\"fill:none;stroke:#ff7f0e;stroke-dasharray:5.55,2.4;stroke-dashoffset:0;stroke-width:1.5;\"/>\n   </g>\n   <g id=\"line2d_18\">\n    <path clip-path=\"url(#pe1c7531032)\" d=\"M 32.51321 13.377273 \nL 37.374934 78.9334 \n\" style=\"fill:none;stroke:#1f77b4;stroke-linecap:square;stroke-width:1.5;\"/>\n   </g>\n   <g id=\"line2d_19\">\n    <path clip-path=\"url(#pe1c7531032)\" d=\"M 32.51321 78.846228 \nL 37.374934 61.746435 \n\" style=\"fill:none;stroke:#ff7f0e;stroke-dasharray:5.55,2.4;stroke-dashoffset:0;stroke-width:1.5;\"/>\n   </g>\n   <g id=\"line2d_20\">\n    <path clip-path=\"url(#pe1c7531032)\" d=\"M 39.868125 64.070465 \n\" style=\"fill:none;stroke:#2ca02c;stroke-dasharray:9.6,2.4,1.5,2.4;stroke-dashoffset:0;stroke-width:1.5;\"/>\n   </g>\n   <g id=\"line2d_21\">\n    <path clip-path=\"url(#pe1c7531032)\" d=\"M 32.51321 13.377273 \nL 37.374934 78.9334 \nL 42.236657 92.437961 \n\" style=\"fill:none;stroke:#1f77b4;stroke-linecap:square;stroke-width:1.5;\"/>\n   </g>\n   <g id=\"line2d_22\">\n    <path clip-path=\"url(#pe1c7531032)\" d=\"M 32.51321 78.846228 \nL 37.374934 61.746435 \n\" style=\"fill:none;stroke:#ff7f0e;stroke-dasharray:5.55,2.4;stroke-dashoffset:0;stroke-width:1.5;\"/>\n   </g>\n   <g id=\"line2d_23\">\n    <path clip-path=\"url(#pe1c7531032)\" d=\"M 39.868125 64.070465 \n\" style=\"fill:none;stroke:#2ca02c;stroke-dasharray:9.6,2.4,1.5,2.4;stroke-dashoffset:0;stroke-width:1.5;\"/>\n   </g>\n   <g id=\"line2d_24\">\n    <path clip-path=\"url(#pe1c7531032)\" d=\"M 32.51321 13.377273 \nL 37.374934 78.9334 \nL 42.236657 92.437961 \n\" style=\"fill:none;stroke:#1f77b4;stroke-linecap:square;stroke-width:1.5;\"/>\n   </g>\n   <g id=\"line2d_25\">\n    <path clip-path=\"url(#pe1c7531032)\" d=\"M 32.51321 78.846228 \nL 37.374934 61.746435 \nL 42.236657 56.789973 \n\" style=\"fill:none;stroke:#ff7f0e;stroke-dasharray:5.55,2.4;stroke-dashoffset:0;stroke-width:1.5;\"/>\n   </g>\n   <g id=\"line2d_26\">\n    <path clip-path=\"url(#pe1c7531032)\" d=\"M 39.868125 64.070465 \n\" style=\"fill:none;stroke:#2ca02c;stroke-dasharray:9.6,2.4,1.5,2.4;stroke-dashoffset:0;stroke-width:1.5;\"/>\n   </g>\n   <g id=\"line2d_27\">\n    <path clip-path=\"url(#pe1c7531032)\" d=\"M 32.51321 13.377273 \nL 37.374934 78.9334 \nL 42.236657 92.437961 \nL 47.09838 100.983291 \n\" style=\"fill:none;stroke:#1f77b4;stroke-linecap:square;stroke-width:1.5;\"/>\n   </g>\n   <g id=\"line2d_28\">\n    <path clip-path=\"url(#pe1c7531032)\" d=\"M 32.51321 78.846228 \nL 37.374934 61.746435 \nL 42.236657 56.789973 \n\" style=\"fill:none;stroke:#ff7f0e;stroke-dasharray:5.55,2.4;stroke-dashoffset:0;stroke-width:1.5;\"/>\n   </g>\n   <g id=\"line2d_29\">\n    <path clip-path=\"url(#pe1c7531032)\" d=\"M 39.868125 64.070465 \n\" style=\"fill:none;stroke:#2ca02c;stroke-dasharray:9.6,2.4,1.5,2.4;stroke-dashoffset:0;stroke-width:1.5;\"/>\n   </g>\n   <g id=\"line2d_30\">\n    <path clip-path=\"url(#pe1c7531032)\" d=\"M 32.51321 13.377273 \nL 37.374934 78.9334 \nL 42.236657 92.437961 \nL 47.09838 100.983291 \n\" style=\"fill:none;stroke:#1f77b4;stroke-linecap:square;stroke-width:1.5;\"/>\n   </g>\n   <g id=\"line2d_31\">\n    <path clip-path=\"url(#pe1c7531032)\" d=\"M 32.51321 78.846228 \nL 37.374934 61.746435 \nL 42.236657 56.789973 \nL 47.09838 54.008847 \n\" style=\"fill:none;stroke:#ff7f0e;stroke-dasharray:5.55,2.4;stroke-dashoffset:0;stroke-width:1.5;\"/>\n   </g>\n   <g id=\"line2d_32\">\n    <path clip-path=\"url(#pe1c7531032)\" d=\"M 39.868125 64.070465 \n\" style=\"fill:none;stroke:#2ca02c;stroke-dasharray:9.6,2.4,1.5,2.4;stroke-dashoffset:0;stroke-width:1.5;\"/>\n   </g>\n   <g id=\"line2d_33\">\n    <path clip-path=\"url(#pe1c7531032)\" d=\"M 32.51321 13.377273 \nL 37.374934 78.9334 \nL 42.236657 92.437961 \nL 47.09838 100.983291 \n\" style=\"fill:none;stroke:#1f77b4;stroke-linecap:square;stroke-width:1.5;\"/>\n   </g>\n   <g id=\"line2d_34\">\n    <path clip-path=\"url(#pe1c7531032)\" d=\"M 32.51321 78.846228 \nL 37.374934 61.746435 \nL 42.236657 56.789973 \nL 47.09838 54.008847 \n\" style=\"fill:none;stroke:#ff7f0e;stroke-dasharray:5.55,2.4;stroke-dashoffset:0;stroke-width:1.5;\"/>\n   </g>\n   <g id=\"line2d_35\">\n    <path clip-path=\"url(#pe1c7531032)\" d=\"M 39.868125 64.070465 \nL 49.633125 53.616048 \n\" style=\"fill:none;stroke:#2ca02c;stroke-dasharray:9.6,2.4,1.5,2.4;stroke-dashoffset:0;stroke-width:1.5;\"/>\n   </g>\n   <g id=\"line2d_36\">\n    <path clip-path=\"url(#pe1c7531032)\" d=\"M 32.51321 13.377273 \nL 37.374934 78.9334 \nL 42.236657 92.437961 \nL 47.09838 100.983291 \nL 51.960104 105.345809 \n\" style=\"fill:none;stroke:#1f77b4;stroke-linecap:square;stroke-width:1.5;\"/>\n   </g>\n   <g id=\"line2d_37\">\n    <path clip-path=\"url(#pe1c7531032)\" d=\"M 32.51321 78.846228 \nL 37.374934 61.746435 \nL 42.236657 56.789973 \nL 47.09838 54.008847 \n\" style=\"fill:none;stroke:#ff7f0e;stroke-dasharray:5.55,2.4;stroke-dashoffset:0;stroke-width:1.5;\"/>\n   </g>\n   <g id=\"line2d_38\">\n    <path clip-path=\"url(#pe1c7531032)\" d=\"M 39.868125 64.070465 \nL 49.633125 53.616048 \n\" style=\"fill:none;stroke:#2ca02c;stroke-dasharray:9.6,2.4,1.5,2.4;stroke-dashoffset:0;stroke-width:1.5;\"/>\n   </g>\n   <g id=\"line2d_39\">\n    <path clip-path=\"url(#pe1c7531032)\" d=\"M 32.51321 13.377273 \nL 37.374934 78.9334 \nL 42.236657 92.437961 \nL 47.09838 100.983291 \nL 51.960104 105.345809 \n\" style=\"fill:none;stroke:#1f77b4;stroke-linecap:square;stroke-width:1.5;\"/>\n   </g>\n   <g id=\"line2d_40\">\n    <path clip-path=\"url(#pe1c7531032)\" d=\"M 32.51321 78.846228 \nL 37.374934 61.746435 \nL 42.236657 56.789973 \nL 47.09838 54.008847 \nL 51.960104 52.494373 \n\" style=\"fill:none;stroke:#ff7f0e;stroke-dasharray:5.55,2.4;stroke-dashoffset:0;stroke-width:1.5;\"/>\n   </g>\n   <g id=\"line2d_41\">\n    <path clip-path=\"url(#pe1c7531032)\" d=\"M 39.868125 64.070465 \nL 49.633125 53.616048 \n\" style=\"fill:none;stroke:#2ca02c;stroke-dasharray:9.6,2.4,1.5,2.4;stroke-dashoffset:0;stroke-width:1.5;\"/>\n   </g>\n   <g id=\"line2d_42\">\n    <path clip-path=\"url(#pe1c7531032)\" d=\"M 32.51321 13.377273 \nL 37.374934 78.9334 \nL 42.236657 92.437961 \nL 47.09838 100.983291 \nL 51.960104 105.345809 \nL 56.821827 108.245256 \n\" style=\"fill:none;stroke:#1f77b4;stroke-linecap:square;stroke-width:1.5;\"/>\n   </g>\n   <g id=\"line2d_43\">\n    <path clip-path=\"url(#pe1c7531032)\" d=\"M 32.51321 78.846228 \nL 37.374934 61.746435 \nL 42.236657 56.789973 \nL 47.09838 54.008847 \nL 51.960104 52.494373 \n\" style=\"fill:none;stroke:#ff7f0e;stroke-dasharray:5.55,2.4;stroke-dashoffset:0;stroke-width:1.5;\"/>\n   </g>\n   <g id=\"line2d_44\">\n    <path clip-path=\"url(#pe1c7531032)\" d=\"M 39.868125 64.070465 \nL 49.633125 53.616048 \n\" style=\"fill:none;stroke:#2ca02c;stroke-dasharray:9.6,2.4,1.5,2.4;stroke-dashoffset:0;stroke-width:1.5;\"/>\n   </g>\n   <g id=\"line2d_45\">\n    <path clip-path=\"url(#pe1c7531032)\" d=\"M 32.51321 13.377273 \nL 37.374934 78.9334 \nL 42.236657 92.437961 \nL 47.09838 100.983291 \nL 51.960104 105.345809 \nL 56.821827 108.245256 \n\" style=\"fill:none;stroke:#1f77b4;stroke-linecap:square;stroke-width:1.5;\"/>\n   </g>\n   <g id=\"line2d_46\">\n    <path clip-path=\"url(#pe1c7531032)\" d=\"M 32.51321 78.846228 \nL 37.374934 61.746435 \nL 42.236657 56.789973 \nL 47.09838 54.008847 \nL 51.960104 52.494373 \nL 56.821827 51.409459 \n\" style=\"fill:none;stroke:#ff7f0e;stroke-dasharray:5.55,2.4;stroke-dashoffset:0;stroke-width:1.5;\"/>\n   </g>\n   <g id=\"line2d_47\">\n    <path clip-path=\"url(#pe1c7531032)\" d=\"M 39.868125 64.070465 \nL 49.633125 53.616048 \n\" style=\"fill:none;stroke:#2ca02c;stroke-dasharray:9.6,2.4,1.5,2.4;stroke-dashoffset:0;stroke-width:1.5;\"/>\n   </g>\n   <g id=\"line2d_48\">\n    <path clip-path=\"url(#pe1c7531032)\" d=\"M 32.51321 13.377273 \nL 37.374934 78.9334 \nL 42.236657 92.437961 \nL 47.09838 100.983291 \nL 51.960104 105.345809 \nL 56.821827 108.245256 \n\" style=\"fill:none;stroke:#1f77b4;stroke-linecap:square;stroke-width:1.5;\"/>\n   </g>\n   <g id=\"line2d_49\">\n    <path clip-path=\"url(#pe1c7531032)\" d=\"M 32.51321 78.846228 \nL 37.374934 61.746435 \nL 42.236657 56.789973 \nL 47.09838 54.008847 \nL 51.960104 52.494373 \nL 56.821827 51.409459 \n\" style=\"fill:none;stroke:#ff7f0e;stroke-dasharray:5.55,2.4;stroke-dashoffset:0;stroke-width:1.5;\"/>\n   </g>\n   <g id=\"line2d_50\">\n    <path clip-path=\"url(#pe1c7531032)\" d=\"M 39.868125 64.070465 \nL 49.633125 53.616048 \nL 59.398125 60.752113 \n\" style=\"fill:none;stroke:#2ca02c;stroke-dasharray:9.6,2.4,1.5,2.4;stroke-dashoffset:0;stroke-width:1.5;\"/>\n   </g>\n   <g id=\"line2d_51\">\n    <path clip-path=\"url(#pe1c7531032)\" d=\"M 32.51321 13.377273 \nL 37.374934 78.9334 \nL 42.236657 92.437961 \nL 47.09838 100.983291 \nL 51.960104 105.345809 \nL 56.821827 108.245256 \nL 61.683551 111.764973 \n\" style=\"fill:none;stroke:#1f77b4;stroke-linecap:square;stroke-width:1.5;\"/>\n   </g>\n   <g id=\"line2d_52\">\n    <path clip-path=\"url(#pe1c7531032)\" d=\"M 32.51321 78.846228 \nL 37.374934 61.746435 \nL 42.236657 56.789973 \nL 47.09838 54.008847 \nL 51.960104 52.494373 \nL 56.821827 51.409459 \n\" style=\"fill:none;stroke:#ff7f0e;stroke-dasharray:5.55,2.4;stroke-dashoffset:0;stroke-width:1.5;\"/>\n   </g>\n   <g id=\"line2d_53\">\n    <path clip-path=\"url(#pe1c7531032)\" d=\"M 39.868125 64.070465 \nL 49.633125 53.616048 \nL 59.398125 60.752113 \n\" style=\"fill:none;stroke:#2ca02c;stroke-dasharray:9.6,2.4,1.5,2.4;stroke-dashoffset:0;stroke-width:1.5;\"/>\n   </g>\n   <g id=\"line2d_54\">\n    <path clip-path=\"url(#pe1c7531032)\" d=\"M 32.51321 13.377273 \nL 37.374934 78.9334 \nL 42.236657 92.437961 \nL 47.09838 100.983291 \nL 51.960104 105.345809 \nL 56.821827 108.245256 \nL 61.683551 111.764973 \n\" style=\"fill:none;stroke:#1f77b4;stroke-linecap:square;stroke-width:1.5;\"/>\n   </g>\n   <g id=\"line2d_55\">\n    <path clip-path=\"url(#pe1c7531032)\" d=\"M 32.51321 78.846228 \nL 37.374934 61.746435 \nL 42.236657 56.789973 \nL 47.09838 54.008847 \nL 51.960104 52.494373 \nL 56.821827 51.409459 \nL 61.683551 50.414495 \n\" style=\"fill:none;stroke:#ff7f0e;stroke-dasharray:5.55,2.4;stroke-dashoffset:0;stroke-width:1.5;\"/>\n   </g>\n   <g id=\"line2d_56\">\n    <path clip-path=\"url(#pe1c7531032)\" d=\"M 39.868125 64.070465 \nL 49.633125 53.616048 \nL 59.398125 60.752113 \n\" style=\"fill:none;stroke:#2ca02c;stroke-dasharray:9.6,2.4,1.5,2.4;stroke-dashoffset:0;stroke-width:1.5;\"/>\n   </g>\n   <g id=\"line2d_57\">\n    <path clip-path=\"url(#pe1c7531032)\" d=\"M 32.51321 13.377273 \nL 37.374934 78.9334 \nL 42.236657 92.437961 \nL 47.09838 100.983291 \nL 51.960104 105.345809 \nL 56.821827 108.245256 \nL 61.683551 111.764973 \nL 66.545274 113.439427 \n\" style=\"fill:none;stroke:#1f77b4;stroke-linecap:square;stroke-width:1.5;\"/>\n   </g>\n   <g id=\"line2d_58\">\n    <path clip-path=\"url(#pe1c7531032)\" d=\"M 32.51321 78.846228 \nL 37.374934 61.746435 \nL 42.236657 56.789973 \nL 47.09838 54.008847 \nL 51.960104 52.494373 \nL 56.821827 51.409459 \nL 61.683551 50.414495 \n\" style=\"fill:none;stroke:#ff7f0e;stroke-dasharray:5.55,2.4;stroke-dashoffset:0;stroke-width:1.5;\"/>\n   </g>\n   <g id=\"line2d_59\">\n    <path clip-path=\"url(#pe1c7531032)\" d=\"M 39.868125 64.070465 \nL 49.633125 53.616048 \nL 59.398125 60.752113 \n\" style=\"fill:none;stroke:#2ca02c;stroke-dasharray:9.6,2.4,1.5,2.4;stroke-dashoffset:0;stroke-width:1.5;\"/>\n   </g>\n   <g id=\"line2d_60\">\n    <path clip-path=\"url(#pe1c7531032)\" d=\"M 32.51321 13.377273 \nL 37.374934 78.9334 \nL 42.236657 92.437961 \nL 47.09838 100.983291 \nL 51.960104 105.345809 \nL 56.821827 108.245256 \nL 61.683551 111.764973 \nL 66.545274 113.439427 \n\" style=\"fill:none;stroke:#1f77b4;stroke-linecap:square;stroke-width:1.5;\"/>\n   </g>\n   <g id=\"line2d_61\">\n    <path clip-path=\"url(#pe1c7531032)\" d=\"M 32.51321 78.846228 \nL 37.374934 61.746435 \nL 42.236657 56.789973 \nL 47.09838 54.008847 \nL 51.960104 52.494373 \nL 56.821827 51.409459 \nL 61.683551 50.414495 \nL 66.545274 49.856434 \n\" style=\"fill:none;stroke:#ff7f0e;stroke-dasharray:5.55,2.4;stroke-dashoffset:0;stroke-width:1.5;\"/>\n   </g>\n   <g id=\"line2d_62\">\n    <path clip-path=\"url(#pe1c7531032)\" d=\"M 39.868125 64.070465 \nL 49.633125 53.616048 \nL 59.398125 60.752113 \n\" style=\"fill:none;stroke:#2ca02c;stroke-dasharray:9.6,2.4,1.5,2.4;stroke-dashoffset:0;stroke-width:1.5;\"/>\n   </g>\n   <g id=\"line2d_63\">\n    <path clip-path=\"url(#pe1c7531032)\" d=\"M 32.51321 13.377273 \nL 37.374934 78.9334 \nL 42.236657 92.437961 \nL 47.09838 100.983291 \nL 51.960104 105.345809 \nL 56.821827 108.245256 \nL 61.683551 111.764973 \nL 66.545274 113.439427 \n\" style=\"fill:none;stroke:#1f77b4;stroke-linecap:square;stroke-width:1.5;\"/>\n   </g>\n   <g id=\"line2d_64\">\n    <path clip-path=\"url(#pe1c7531032)\" d=\"M 32.51321 78.846228 \nL 37.374934 61.746435 \nL 42.236657 56.789973 \nL 47.09838 54.008847 \nL 51.960104 52.494373 \nL 56.821827 51.409459 \nL 61.683551 50.414495 \nL 66.545274 49.856434 \n\" style=\"fill:none;stroke:#ff7f0e;stroke-dasharray:5.55,2.4;stroke-dashoffset:0;stroke-width:1.5;\"/>\n   </g>\n   <g id=\"line2d_65\">\n    <path clip-path=\"url(#pe1c7531032)\" d=\"M 39.868125 64.070465 \nL 49.633125 53.616048 \nL 59.398125 60.752113 \nL 69.163125 62.475723 \n\" style=\"fill:none;stroke:#2ca02c;stroke-dasharray:9.6,2.4,1.5,2.4;stroke-dashoffset:0;stroke-width:1.5;\"/>\n   </g>\n   <g id=\"line2d_66\">\n    <path clip-path=\"url(#pe1c7531032)\" d=\"M 32.51321 13.377273 \nL 37.374934 78.9334 \nL 42.236657 92.437961 \nL 47.09838 100.983291 \nL 51.960104 105.345809 \nL 56.821827 108.245256 \nL 61.683551 111.764973 \nL 66.545274 113.439427 \nL 71.406997 115.111259 \n\" style=\"fill:none;stroke:#1f77b4;stroke-linecap:square;stroke-width:1.5;\"/>\n   </g>\n   <g id=\"line2d_67\">\n    <path clip-path=\"url(#pe1c7531032)\" d=\"M 32.51321 78.846228 \nL 37.374934 61.746435 \nL 42.236657 56.789973 \nL 47.09838 54.008847 \nL 51.960104 52.494373 \nL 56.821827 51.409459 \nL 61.683551 50.414495 \nL 66.545274 49.856434 \n\" style=\"fill:none;stroke:#ff7f0e;stroke-dasharray:5.55,2.4;stroke-dashoffset:0;stroke-width:1.5;\"/>\n   </g>\n   <g id=\"line2d_68\">\n    <path clip-path=\"url(#pe1c7531032)\" d=\"M 39.868125 64.070465 \nL 49.633125 53.616048 \nL 59.398125 60.752113 \nL 69.163125 62.475723 \n\" style=\"fill:none;stroke:#2ca02c;stroke-dasharray:9.6,2.4,1.5,2.4;stroke-dashoffset:0;stroke-width:1.5;\"/>\n   </g>\n   <g id=\"line2d_69\">\n    <path clip-path=\"url(#pe1c7531032)\" d=\"M 32.51321 13.377273 \nL 37.374934 78.9334 \nL 42.236657 92.437961 \nL 47.09838 100.983291 \nL 51.960104 105.345809 \nL 56.821827 108.245256 \nL 61.683551 111.764973 \nL 66.545274 113.439427 \nL 71.406997 115.111259 \n\" style=\"fill:none;stroke:#1f77b4;stroke-linecap:square;stroke-width:1.5;\"/>\n   </g>\n   <g id=\"line2d_70\">\n    <path clip-path=\"url(#pe1c7531032)\" d=\"M 32.51321 78.846228 \nL 37.374934 61.746435 \nL 42.236657 56.789973 \nL 47.09838 54.008847 \nL 51.960104 52.494373 \nL 56.821827 51.409459 \nL 61.683551 50.414495 \nL 66.545274 49.856434 \nL 71.406997 49.186394 \n\" style=\"fill:none;stroke:#ff7f0e;stroke-dasharray:5.55,2.4;stroke-dashoffset:0;stroke-width:1.5;\"/>\n   </g>\n   <g id=\"line2d_71\">\n    <path clip-path=\"url(#pe1c7531032)\" d=\"M 39.868125 64.070465 \nL 49.633125 53.616048 \nL 59.398125 60.752113 \nL 69.163125 62.475723 \n\" style=\"fill:none;stroke:#2ca02c;stroke-dasharray:9.6,2.4,1.5,2.4;stroke-dashoffset:0;stroke-width:1.5;\"/>\n   </g>\n   <g id=\"line2d_72\">\n    <path clip-path=\"url(#pe1c7531032)\" d=\"M 32.51321 13.377273 \nL 37.374934 78.9334 \nL 42.236657 92.437961 \nL 47.09838 100.983291 \nL 51.960104 105.345809 \nL 56.821827 108.245256 \nL 61.683551 111.764973 \nL 66.545274 113.439427 \nL 71.406997 115.111259 \nL 76.268721 117.768675 \n\" style=\"fill:none;stroke:#1f77b4;stroke-linecap:square;stroke-width:1.5;\"/>\n   </g>\n   <g id=\"line2d_73\">\n    <path clip-path=\"url(#pe1c7531032)\" d=\"M 32.51321 78.846228 \nL 37.374934 61.746435 \nL 42.236657 56.789973 \nL 47.09838 54.008847 \nL 51.960104 52.494373 \nL 56.821827 51.409459 \nL 61.683551 50.414495 \nL 66.545274 49.856434 \nL 71.406997 49.186394 \n\" style=\"fill:none;stroke:#ff7f0e;stroke-dasharray:5.55,2.4;stroke-dashoffset:0;stroke-width:1.5;\"/>\n   </g>\n   <g id=\"line2d_74\">\n    <path clip-path=\"url(#pe1c7531032)\" d=\"M 39.868125 64.070465 \nL 49.633125 53.616048 \nL 59.398125 60.752113 \nL 69.163125 62.475723 \n\" style=\"fill:none;stroke:#2ca02c;stroke-dasharray:9.6,2.4,1.5,2.4;stroke-dashoffset:0;stroke-width:1.5;\"/>\n   </g>\n   <g id=\"line2d_75\">\n    <path clip-path=\"url(#pe1c7531032)\" d=\"M 32.51321 13.377273 \nL 37.374934 78.9334 \nL 42.236657 92.437961 \nL 47.09838 100.983291 \nL 51.960104 105.345809 \nL 56.821827 108.245256 \nL 61.683551 111.764973 \nL 66.545274 113.439427 \nL 71.406997 115.111259 \nL 76.268721 117.768675 \n\" style=\"fill:none;stroke:#1f77b4;stroke-linecap:square;stroke-width:1.5;\"/>\n   </g>\n   <g id=\"line2d_76\">\n    <path clip-path=\"url(#pe1c7531032)\" d=\"M 32.51321 78.846228 \nL 37.374934 61.746435 \nL 42.236657 56.789973 \nL 47.09838 54.008847 \nL 51.960104 52.494373 \nL 56.821827 51.409459 \nL 61.683551 50.414495 \nL 66.545274 49.856434 \nL 71.406997 49.186394 \nL 76.268721 48.110658 \n\" style=\"fill:none;stroke:#ff7f0e;stroke-dasharray:5.55,2.4;stroke-dashoffset:0;stroke-width:1.5;\"/>\n   </g>\n   <g id=\"line2d_77\">\n    <path clip-path=\"url(#pe1c7531032)\" d=\"M 39.868125 64.070465 \nL 49.633125 53.616048 \nL 59.398125 60.752113 \nL 69.163125 62.475723 \n\" style=\"fill:none;stroke:#2ca02c;stroke-dasharray:9.6,2.4,1.5,2.4;stroke-dashoffset:0;stroke-width:1.5;\"/>\n   </g>\n   <g id=\"line2d_78\">\n    <path clip-path=\"url(#pe1c7531032)\" d=\"M 32.51321 13.377273 \nL 37.374934 78.9334 \nL 42.236657 92.437961 \nL 47.09838 100.983291 \nL 51.960104 105.345809 \nL 56.821827 108.245256 \nL 61.683551 111.764973 \nL 66.545274 113.439427 \nL 71.406997 115.111259 \nL 76.268721 117.768675 \n\" style=\"fill:none;stroke:#1f77b4;stroke-linecap:square;stroke-width:1.5;\"/>\n   </g>\n   <g id=\"line2d_79\">\n    <path clip-path=\"url(#pe1c7531032)\" d=\"M 32.51321 78.846228 \nL 37.374934 61.746435 \nL 42.236657 56.789973 \nL 47.09838 54.008847 \nL 51.960104 52.494373 \nL 56.821827 51.409459 \nL 61.683551 50.414495 \nL 66.545274 49.856434 \nL 71.406997 49.186394 \nL 76.268721 48.110658 \n\" style=\"fill:none;stroke:#ff7f0e;stroke-dasharray:5.55,2.4;stroke-dashoffset:0;stroke-width:1.5;\"/>\n   </g>\n   <g id=\"line2d_80\">\n    <path clip-path=\"url(#pe1c7531032)\" d=\"M 39.868125 64.070465 \nL 49.633125 53.616048 \nL 59.398125 60.752113 \nL 69.163125 62.475723 \nL 78.928125 51.618594 \n\" style=\"fill:none;stroke:#2ca02c;stroke-dasharray:9.6,2.4,1.5,2.4;stroke-dashoffset:0;stroke-width:1.5;\"/>\n   </g>\n   <g id=\"line2d_81\">\n    <path clip-path=\"url(#pe1c7531032)\" d=\"M 32.51321 13.377273 \nL 37.374934 78.9334 \nL 42.236657 92.437961 \nL 47.09838 100.983291 \nL 51.960104 105.345809 \nL 56.821827 108.245256 \nL 61.683551 111.764973 \nL 66.545274 113.439427 \nL 71.406997 115.111259 \nL 76.268721 117.768675 \nL 81.130444 118.375748 \n\" style=\"fill:none;stroke:#1f77b4;stroke-linecap:square;stroke-width:1.5;\"/>\n   </g>\n   <g id=\"line2d_82\">\n    <path clip-path=\"url(#pe1c7531032)\" d=\"M 32.51321 78.846228 \nL 37.374934 61.746435 \nL 42.236657 56.789973 \nL 47.09838 54.008847 \nL 51.960104 52.494373 \nL 56.821827 51.409459 \nL 61.683551 50.414495 \nL 66.545274 49.856434 \nL 71.406997 49.186394 \nL 76.268721 48.110658 \n\" style=\"fill:none;stroke:#ff7f0e;stroke-dasharray:5.55,2.4;stroke-dashoffset:0;stroke-width:1.5;\"/>\n   </g>\n   <g id=\"line2d_83\">\n    <path clip-path=\"url(#pe1c7531032)\" d=\"M 39.868125 64.070465 \nL 49.633125 53.616048 \nL 59.398125 60.752113 \nL 69.163125 62.475723 \nL 78.928125 51.618594 \n\" style=\"fill:none;stroke:#2ca02c;stroke-dasharray:9.6,2.4,1.5,2.4;stroke-dashoffset:0;stroke-width:1.5;\"/>\n   </g>\n   <g id=\"line2d_84\">\n    <path clip-path=\"url(#pe1c7531032)\" d=\"M 32.51321 13.377273 \nL 37.374934 78.9334 \nL 42.236657 92.437961 \nL 47.09838 100.983291 \nL 51.960104 105.345809 \nL 56.821827 108.245256 \nL 61.683551 111.764973 \nL 66.545274 113.439427 \nL 71.406997 115.111259 \nL 76.268721 117.768675 \nL 81.130444 118.375748 \n\" style=\"fill:none;stroke:#1f77b4;stroke-linecap:square;stroke-width:1.5;\"/>\n   </g>\n   <g id=\"line2d_85\">\n    <path clip-path=\"url(#pe1c7531032)\" d=\"M 32.51321 78.846228 \nL 37.374934 61.746435 \nL 42.236657 56.789973 \nL 47.09838 54.008847 \nL 51.960104 52.494373 \nL 56.821827 51.409459 \nL 61.683551 50.414495 \nL 66.545274 49.856434 \nL 71.406997 49.186394 \nL 76.268721 48.110658 \nL 81.130444 47.833463 \n\" style=\"fill:none;stroke:#ff7f0e;stroke-dasharray:5.55,2.4;stroke-dashoffset:0;stroke-width:1.5;\"/>\n   </g>\n   <g id=\"line2d_86\">\n    <path clip-path=\"url(#pe1c7531032)\" d=\"M 39.868125 64.070465 \nL 49.633125 53.616048 \nL 59.398125 60.752113 \nL 69.163125 62.475723 \nL 78.928125 51.618594 \n\" style=\"fill:none;stroke:#2ca02c;stroke-dasharray:9.6,2.4,1.5,2.4;stroke-dashoffset:0;stroke-width:1.5;\"/>\n   </g>\n   <g id=\"line2d_87\">\n    <path clip-path=\"url(#pe1c7531032)\" d=\"M 32.51321 13.377273 \nL 37.374934 78.9334 \nL 42.236657 92.437961 \nL 47.09838 100.983291 \nL 51.960104 105.345809 \nL 56.821827 108.245256 \nL 61.683551 111.764973 \nL 66.545274 113.439427 \nL 71.406997 115.111259 \nL 76.268721 117.768675 \nL 81.130444 118.375748 \nL 85.992168 120.242322 \n\" style=\"fill:none;stroke:#1f77b4;stroke-linecap:square;stroke-width:1.5;\"/>\n   </g>\n   <g id=\"line2d_88\">\n    <path clip-path=\"url(#pe1c7531032)\" d=\"M 32.51321 78.846228 \nL 37.374934 61.746435 \nL 42.236657 56.789973 \nL 47.09838 54.008847 \nL 51.960104 52.494373 \nL 56.821827 51.409459 \nL 61.683551 50.414495 \nL 66.545274 49.856434 \nL 71.406997 49.186394 \nL 76.268721 48.110658 \nL 81.130444 47.833463 \n\" style=\"fill:none;stroke:#ff7f0e;stroke-dasharray:5.55,2.4;stroke-dashoffset:0;stroke-width:1.5;\"/>\n   </g>\n   <g id=\"line2d_89\">\n    <path clip-path=\"url(#pe1c7531032)\" d=\"M 39.868125 64.070465 \nL 49.633125 53.616048 \nL 59.398125 60.752113 \nL 69.163125 62.475723 \nL 78.928125 51.618594 \n\" style=\"fill:none;stroke:#2ca02c;stroke-dasharray:9.6,2.4,1.5,2.4;stroke-dashoffset:0;stroke-width:1.5;\"/>\n   </g>\n   <g id=\"line2d_90\">\n    <path clip-path=\"url(#pe1c7531032)\" d=\"M 32.51321 13.377273 \nL 37.374934 78.9334 \nL 42.236657 92.437961 \nL 47.09838 100.983291 \nL 51.960104 105.345809 \nL 56.821827 108.245256 \nL 61.683551 111.764973 \nL 66.545274 113.439427 \nL 71.406997 115.111259 \nL 76.268721 117.768675 \nL 81.130444 118.375748 \nL 85.992168 120.242322 \n\" style=\"fill:none;stroke:#1f77b4;stroke-linecap:square;stroke-width:1.5;\"/>\n   </g>\n   <g id=\"line2d_91\">\n    <path clip-path=\"url(#pe1c7531032)\" d=\"M 32.51321 78.846228 \nL 37.374934 61.746435 \nL 42.236657 56.789973 \nL 47.09838 54.008847 \nL 51.960104 52.494373 \nL 56.821827 51.409459 \nL 61.683551 50.414495 \nL 66.545274 49.856434 \nL 71.406997 49.186394 \nL 76.268721 48.110658 \nL 81.130444 47.833463 \nL 85.992168 47.482839 \n\" style=\"fill:none;stroke:#ff7f0e;stroke-dasharray:5.55,2.4;stroke-dashoffset:0;stroke-width:1.5;\"/>\n   </g>\n   <g id=\"line2d_92\">\n    <path clip-path=\"url(#pe1c7531032)\" d=\"M 39.868125 64.070465 \nL 49.633125 53.616048 \nL 59.398125 60.752113 \nL 69.163125 62.475723 \nL 78.928125 51.618594 \n\" style=\"fill:none;stroke:#2ca02c;stroke-dasharray:9.6,2.4,1.5,2.4;stroke-dashoffset:0;stroke-width:1.5;\"/>\n   </g>\n   <g id=\"line2d_93\">\n    <path clip-path=\"url(#pe1c7531032)\" d=\"M 32.51321 13.377273 \nL 37.374934 78.9334 \nL 42.236657 92.437961 \nL 47.09838 100.983291 \nL 51.960104 105.345809 \nL 56.821827 108.245256 \nL 61.683551 111.764973 \nL 66.545274 113.439427 \nL 71.406997 115.111259 \nL 76.268721 117.768675 \nL 81.130444 118.375748 \nL 85.992168 120.242322 \n\" style=\"fill:none;stroke:#1f77b4;stroke-linecap:square;stroke-width:1.5;\"/>\n   </g>\n   <g id=\"line2d_94\">\n    <path clip-path=\"url(#pe1c7531032)\" d=\"M 32.51321 78.846228 \nL 37.374934 61.746435 \nL 42.236657 56.789973 \nL 47.09838 54.008847 \nL 51.960104 52.494373 \nL 56.821827 51.409459 \nL 61.683551 50.414495 \nL 66.545274 49.856434 \nL 71.406997 49.186394 \nL 76.268721 48.110658 \nL 81.130444 47.833463 \nL 85.992168 47.482839 \n\" style=\"fill:none;stroke:#ff7f0e;stroke-dasharray:5.55,2.4;stroke-dashoffset:0;stroke-width:1.5;\"/>\n   </g>\n   <g id=\"line2d_95\">\n    <path clip-path=\"url(#pe1c7531032)\" d=\"M 39.868125 64.070465 \nL 49.633125 53.616048 \nL 59.398125 60.752113 \nL 69.163125 62.475723 \nL 78.928125 51.618594 \nL 88.693125 49.170102 \n\" style=\"fill:none;stroke:#2ca02c;stroke-dasharray:9.6,2.4,1.5,2.4;stroke-dashoffset:0;stroke-width:1.5;\"/>\n   </g>\n   <g id=\"line2d_96\">\n    <path clip-path=\"url(#pe1c7531032)\" d=\"M 32.51321 13.377273 \nL 37.374934 78.9334 \nL 42.236657 92.437961 \nL 47.09838 100.983291 \nL 51.960104 105.345809 \nL 56.821827 108.245256 \nL 61.683551 111.764973 \nL 66.545274 113.439427 \nL 71.406997 115.111259 \nL 76.268721 117.768675 \nL 81.130444 118.375748 \nL 85.992168 120.242322 \nL 90.853891 121.562725 \n\" style=\"fill:none;stroke:#1f77b4;stroke-linecap:square;stroke-width:1.5;\"/>\n   </g>\n   <g id=\"line2d_97\">\n    <path clip-path=\"url(#pe1c7531032)\" d=\"M 32.51321 78.846228 \nL 37.374934 61.746435 \nL 42.236657 56.789973 \nL 47.09838 54.008847 \nL 51.960104 52.494373 \nL 56.821827 51.409459 \nL 61.683551 50.414495 \nL 66.545274 49.856434 \nL 71.406997 49.186394 \nL 76.268721 48.110658 \nL 81.130444 47.833463 \nL 85.992168 47.482839 \n\" style=\"fill:none;stroke:#ff7f0e;stroke-dasharray:5.55,2.4;stroke-dashoffset:0;stroke-width:1.5;\"/>\n   </g>\n   <g id=\"line2d_98\">\n    <path clip-path=\"url(#pe1c7531032)\" d=\"M 39.868125 64.070465 \nL 49.633125 53.616048 \nL 59.398125 60.752113 \nL 69.163125 62.475723 \nL 78.928125 51.618594 \nL 88.693125 49.170102 \n\" style=\"fill:none;stroke:#2ca02c;stroke-dasharray:9.6,2.4,1.5,2.4;stroke-dashoffset:0;stroke-width:1.5;\"/>\n   </g>\n   <g id=\"line2d_99\">\n    <path clip-path=\"url(#pe1c7531032)\" d=\"M 32.51321 13.377273 \nL 37.374934 78.9334 \nL 42.236657 92.437961 \nL 47.09838 100.983291 \nL 51.960104 105.345809 \nL 56.821827 108.245256 \nL 61.683551 111.764973 \nL 66.545274 113.439427 \nL 71.406997 115.111259 \nL 76.268721 117.768675 \nL 81.130444 118.375748 \nL 85.992168 120.242322 \nL 90.853891 121.562725 \n\" style=\"fill:none;stroke:#1f77b4;stroke-linecap:square;stroke-width:1.5;\"/>\n   </g>\n   <g id=\"line2d_100\">\n    <path clip-path=\"url(#pe1c7531032)\" d=\"M 32.51321 78.846228 \nL 37.374934 61.746435 \nL 42.236657 56.789973 \nL 47.09838 54.008847 \nL 51.960104 52.494373 \nL 56.821827 51.409459 \nL 61.683551 50.414495 \nL 66.545274 49.856434 \nL 71.406997 49.186394 \nL 76.268721 48.110658 \nL 81.130444 47.833463 \nL 85.992168 47.482839 \nL 90.853891 46.792606 \n\" style=\"fill:none;stroke:#ff7f0e;stroke-dasharray:5.55,2.4;stroke-dashoffset:0;stroke-width:1.5;\"/>\n   </g>\n   <g id=\"line2d_101\">\n    <path clip-path=\"url(#pe1c7531032)\" d=\"M 39.868125 64.070465 \nL 49.633125 53.616048 \nL 59.398125 60.752113 \nL 69.163125 62.475723 \nL 78.928125 51.618594 \nL 88.693125 49.170102 \n\" style=\"fill:none;stroke:#2ca02c;stroke-dasharray:9.6,2.4,1.5,2.4;stroke-dashoffset:0;stroke-width:1.5;\"/>\n   </g>\n   <g id=\"line2d_102\">\n    <path clip-path=\"url(#pe1c7531032)\" d=\"M 32.51321 13.377273 \nL 37.374934 78.9334 \nL 42.236657 92.437961 \nL 47.09838 100.983291 \nL 51.960104 105.345809 \nL 56.821827 108.245256 \nL 61.683551 111.764973 \nL 66.545274 113.439427 \nL 71.406997 115.111259 \nL 76.268721 117.768675 \nL 81.130444 118.375748 \nL 85.992168 120.242322 \nL 90.853891 121.562725 \nL 95.715614 121.945193 \n\" style=\"fill:none;stroke:#1f77b4;stroke-linecap:square;stroke-width:1.5;\"/>\n   </g>\n   <g id=\"line2d_103\">\n    <path clip-path=\"url(#pe1c7531032)\" d=\"M 32.51321 78.846228 \nL 37.374934 61.746435 \nL 42.236657 56.789973 \nL 47.09838 54.008847 \nL 51.960104 52.494373 \nL 56.821827 51.409459 \nL 61.683551 50.414495 \nL 66.545274 49.856434 \nL 71.406997 49.186394 \nL 76.268721 48.110658 \nL 81.130444 47.833463 \nL 85.992168 47.482839 \nL 90.853891 46.792606 \n\" style=\"fill:none;stroke:#ff7f0e;stroke-dasharray:5.55,2.4;stroke-dashoffset:0;stroke-width:1.5;\"/>\n   </g>\n   <g id=\"line2d_104\">\n    <path clip-path=\"url(#pe1c7531032)\" d=\"M 39.868125 64.070465 \nL 49.633125 53.616048 \nL 59.398125 60.752113 \nL 69.163125 62.475723 \nL 78.928125 51.618594 \nL 88.693125 49.170102 \n\" style=\"fill:none;stroke:#2ca02c;stroke-dasharray:9.6,2.4,1.5,2.4;stroke-dashoffset:0;stroke-width:1.5;\"/>\n   </g>\n   <g id=\"line2d_105\">\n    <path clip-path=\"url(#pe1c7531032)\" d=\"M 32.51321 13.377273 \nL 37.374934 78.9334 \nL 42.236657 92.437961 \nL 47.09838 100.983291 \nL 51.960104 105.345809 \nL 56.821827 108.245256 \nL 61.683551 111.764973 \nL 66.545274 113.439427 \nL 71.406997 115.111259 \nL 76.268721 117.768675 \nL 81.130444 118.375748 \nL 85.992168 120.242322 \nL 90.853891 121.562725 \nL 95.715614 121.945193 \n\" style=\"fill:none;stroke:#1f77b4;stroke-linecap:square;stroke-width:1.5;\"/>\n   </g>\n   <g id=\"line2d_106\">\n    <path clip-path=\"url(#pe1c7531032)\" d=\"M 32.51321 78.846228 \nL 37.374934 61.746435 \nL 42.236657 56.789973 \nL 47.09838 54.008847 \nL 51.960104 52.494373 \nL 56.821827 51.409459 \nL 61.683551 50.414495 \nL 66.545274 49.856434 \nL 71.406997 49.186394 \nL 76.268721 48.110658 \nL 81.130444 47.833463 \nL 85.992168 47.482839 \nL 90.853891 46.792606 \nL 95.715614 47.025743 \n\" style=\"fill:none;stroke:#ff7f0e;stroke-dasharray:5.55,2.4;stroke-dashoffset:0;stroke-width:1.5;\"/>\n   </g>\n   <g id=\"line2d_107\">\n    <path clip-path=\"url(#pe1c7531032)\" d=\"M 39.868125 64.070465 \nL 49.633125 53.616048 \nL 59.398125 60.752113 \nL 69.163125 62.475723 \nL 78.928125 51.618594 \nL 88.693125 49.170102 \n\" style=\"fill:none;stroke:#2ca02c;stroke-dasharray:9.6,2.4,1.5,2.4;stroke-dashoffset:0;stroke-width:1.5;\"/>\n   </g>\n   <g id=\"line2d_108\">\n    <path clip-path=\"url(#pe1c7531032)\" d=\"M 32.51321 13.377273 \nL 37.374934 78.9334 \nL 42.236657 92.437961 \nL 47.09838 100.983291 \nL 51.960104 105.345809 \nL 56.821827 108.245256 \nL 61.683551 111.764973 \nL 66.545274 113.439427 \nL 71.406997 115.111259 \nL 76.268721 117.768675 \nL 81.130444 118.375748 \nL 85.992168 120.242322 \nL 90.853891 121.562725 \nL 95.715614 121.945193 \n\" style=\"fill:none;stroke:#1f77b4;stroke-linecap:square;stroke-width:1.5;\"/>\n   </g>\n   <g id=\"line2d_109\">\n    <path clip-path=\"url(#pe1c7531032)\" d=\"M 32.51321 78.846228 \nL 37.374934 61.746435 \nL 42.236657 56.789973 \nL 47.09838 54.008847 \nL 51.960104 52.494373 \nL 56.821827 51.409459 \nL 61.683551 50.414495 \nL 66.545274 49.856434 \nL 71.406997 49.186394 \nL 76.268721 48.110658 \nL 81.130444 47.833463 \nL 85.992168 47.482839 \nL 90.853891 46.792606 \nL 95.715614 47.025743 \n\" style=\"fill:none;stroke:#ff7f0e;stroke-dasharray:5.55,2.4;stroke-dashoffset:0;stroke-width:1.5;\"/>\n   </g>\n   <g id=\"line2d_110\">\n    <path clip-path=\"url(#pe1c7531032)\" d=\"M 39.868125 64.070465 \nL 49.633125 53.616048 \nL 59.398125 60.752113 \nL 69.163125 62.475723 \nL 78.928125 51.618594 \nL 88.693125 49.170102 \nL 98.458125 49.524489 \n\" style=\"fill:none;stroke:#2ca02c;stroke-dasharray:9.6,2.4,1.5,2.4;stroke-dashoffset:0;stroke-width:1.5;\"/>\n   </g>\n   <g id=\"line2d_111\">\n    <path clip-path=\"url(#pe1c7531032)\" d=\"M 32.51321 13.377273 \nL 37.374934 78.9334 \nL 42.236657 92.437961 \nL 47.09838 100.983291 \nL 51.960104 105.345809 \nL 56.821827 108.245256 \nL 61.683551 111.764973 \nL 66.545274 113.439427 \nL 71.406997 115.111259 \nL 76.268721 117.768675 \nL 81.130444 118.375748 \nL 85.992168 120.242322 \nL 90.853891 121.562725 \nL 95.715614 121.945193 \nL 100.577338 124.520726 \n\" style=\"fill:none;stroke:#1f77b4;stroke-linecap:square;stroke-width:1.5;\"/>\n   </g>\n   <g id=\"line2d_112\">\n    <path clip-path=\"url(#pe1c7531032)\" d=\"M 32.51321 78.846228 \nL 37.374934 61.746435 \nL 42.236657 56.789973 \nL 47.09838 54.008847 \nL 51.960104 52.494373 \nL 56.821827 51.409459 \nL 61.683551 50.414495 \nL 66.545274 49.856434 \nL 71.406997 49.186394 \nL 76.268721 48.110658 \nL 81.130444 47.833463 \nL 85.992168 47.482839 \nL 90.853891 46.792606 \nL 95.715614 47.025743 \n\" style=\"fill:none;stroke:#ff7f0e;stroke-dasharray:5.55,2.4;stroke-dashoffset:0;stroke-width:1.5;\"/>\n   </g>\n   <g id=\"line2d_113\">\n    <path clip-path=\"url(#pe1c7531032)\" d=\"M 39.868125 64.070465 \nL 49.633125 53.616048 \nL 59.398125 60.752113 \nL 69.163125 62.475723 \nL 78.928125 51.618594 \nL 88.693125 49.170102 \nL 98.458125 49.524489 \n\" style=\"fill:none;stroke:#2ca02c;stroke-dasharray:9.6,2.4,1.5,2.4;stroke-dashoffset:0;stroke-width:1.5;\"/>\n   </g>\n   <g id=\"line2d_114\">\n    <path clip-path=\"url(#pe1c7531032)\" d=\"M 32.51321 13.377273 \nL 37.374934 78.9334 \nL 42.236657 92.437961 \nL 47.09838 100.983291 \nL 51.960104 105.345809 \nL 56.821827 108.245256 \nL 61.683551 111.764973 \nL 66.545274 113.439427 \nL 71.406997 115.111259 \nL 76.268721 117.768675 \nL 81.130444 118.375748 \nL 85.992168 120.242322 \nL 90.853891 121.562725 \nL 95.715614 121.945193 \nL 100.577338 124.520726 \n\" style=\"fill:none;stroke:#1f77b4;stroke-linecap:square;stroke-width:1.5;\"/>\n   </g>\n   <g id=\"line2d_115\">\n    <path clip-path=\"url(#pe1c7531032)\" d=\"M 32.51321 78.846228 \nL 37.374934 61.746435 \nL 42.236657 56.789973 \nL 47.09838 54.008847 \nL 51.960104 52.494373 \nL 56.821827 51.409459 \nL 61.683551 50.414495 \nL 66.545274 49.856434 \nL 71.406997 49.186394 \nL 76.268721 48.110658 \nL 81.130444 47.833463 \nL 85.992168 47.482839 \nL 90.853891 46.792606 \nL 95.715614 47.025743 \nL 100.577338 45.894936 \n\" style=\"fill:none;stroke:#ff7f0e;stroke-dasharray:5.55,2.4;stroke-dashoffset:0;stroke-width:1.5;\"/>\n   </g>\n   <g id=\"line2d_116\">\n    <path clip-path=\"url(#pe1c7531032)\" d=\"M 39.868125 64.070465 \nL 49.633125 53.616048 \nL 59.398125 60.752113 \nL 69.163125 62.475723 \nL 78.928125 51.618594 \nL 88.693125 49.170102 \nL 98.458125 49.524489 \n\" style=\"fill:none;stroke:#2ca02c;stroke-dasharray:9.6,2.4,1.5,2.4;stroke-dashoffset:0;stroke-width:1.5;\"/>\n   </g>\n   <g id=\"line2d_117\">\n    <path clip-path=\"url(#pe1c7531032)\" d=\"M 32.51321 13.377273 \nL 37.374934 78.9334 \nL 42.236657 92.437961 \nL 47.09838 100.983291 \nL 51.960104 105.345809 \nL 56.821827 108.245256 \nL 61.683551 111.764973 \nL 66.545274 113.439427 \nL 71.406997 115.111259 \nL 76.268721 117.768675 \nL 81.130444 118.375748 \nL 85.992168 120.242322 \nL 90.853891 121.562725 \nL 95.715614 121.945193 \nL 100.577338 124.520726 \nL 105.439061 124.113094 \n\" style=\"fill:none;stroke:#1f77b4;stroke-linecap:square;stroke-width:1.5;\"/>\n   </g>\n   <g id=\"line2d_118\">\n    <path clip-path=\"url(#pe1c7531032)\" d=\"M 32.51321 78.846228 \nL 37.374934 61.746435 \nL 42.236657 56.789973 \nL 47.09838 54.008847 \nL 51.960104 52.494373 \nL 56.821827 51.409459 \nL 61.683551 50.414495 \nL 66.545274 49.856434 \nL 71.406997 49.186394 \nL 76.268721 48.110658 \nL 81.130444 47.833463 \nL 85.992168 47.482839 \nL 90.853891 46.792606 \nL 95.715614 47.025743 \nL 100.577338 45.894936 \n\" style=\"fill:none;stroke:#ff7f0e;stroke-dasharray:5.55,2.4;stroke-dashoffset:0;stroke-width:1.5;\"/>\n   </g>\n   <g id=\"line2d_119\">\n    <path clip-path=\"url(#pe1c7531032)\" d=\"M 39.868125 64.070465 \nL 49.633125 53.616048 \nL 59.398125 60.752113 \nL 69.163125 62.475723 \nL 78.928125 51.618594 \nL 88.693125 49.170102 \nL 98.458125 49.524489 \n\" style=\"fill:none;stroke:#2ca02c;stroke-dasharray:9.6,2.4,1.5,2.4;stroke-dashoffset:0;stroke-width:1.5;\"/>\n   </g>\n   <g id=\"line2d_120\">\n    <path clip-path=\"url(#pe1c7531032)\" d=\"M 32.51321 13.377273 \nL 37.374934 78.9334 \nL 42.236657 92.437961 \nL 47.09838 100.983291 \nL 51.960104 105.345809 \nL 56.821827 108.245256 \nL 61.683551 111.764973 \nL 66.545274 113.439427 \nL 71.406997 115.111259 \nL 76.268721 117.768675 \nL 81.130444 118.375748 \nL 85.992168 120.242322 \nL 90.853891 121.562725 \nL 95.715614 121.945193 \nL 100.577338 124.520726 \nL 105.439061 124.113094 \n\" style=\"fill:none;stroke:#1f77b4;stroke-linecap:square;stroke-width:1.5;\"/>\n   </g>\n   <g id=\"line2d_121\">\n    <path clip-path=\"url(#pe1c7531032)\" d=\"M 32.51321 78.846228 \nL 37.374934 61.746435 \nL 42.236657 56.789973 \nL 47.09838 54.008847 \nL 51.960104 52.494373 \nL 56.821827 51.409459 \nL 61.683551 50.414495 \nL 66.545274 49.856434 \nL 71.406997 49.186394 \nL 76.268721 48.110658 \nL 81.130444 47.833463 \nL 85.992168 47.482839 \nL 90.853891 46.792606 \nL 95.715614 47.025743 \nL 100.577338 45.894936 \nL 105.439061 46.199667 \n\" style=\"fill:none;stroke:#ff7f0e;stroke-dasharray:5.55,2.4;stroke-dashoffset:0;stroke-width:1.5;\"/>\n   </g>\n   <g id=\"line2d_122\">\n    <path clip-path=\"url(#pe1c7531032)\" d=\"M 39.868125 64.070465 \nL 49.633125 53.616048 \nL 59.398125 60.752113 \nL 69.163125 62.475723 \nL 78.928125 51.618594 \nL 88.693125 49.170102 \nL 98.458125 49.524489 \n\" style=\"fill:none;stroke:#2ca02c;stroke-dasharray:9.6,2.4,1.5,2.4;stroke-dashoffset:0;stroke-width:1.5;\"/>\n   </g>\n   <g id=\"line2d_123\">\n    <path clip-path=\"url(#pe1c7531032)\" d=\"M 32.51321 13.377273 \nL 37.374934 78.9334 \nL 42.236657 92.437961 \nL 47.09838 100.983291 \nL 51.960104 105.345809 \nL 56.821827 108.245256 \nL 61.683551 111.764973 \nL 66.545274 113.439427 \nL 71.406997 115.111259 \nL 76.268721 117.768675 \nL 81.130444 118.375748 \nL 85.992168 120.242322 \nL 90.853891 121.562725 \nL 95.715614 121.945193 \nL 100.577338 124.520726 \nL 105.439061 124.113094 \n\" style=\"fill:none;stroke:#1f77b4;stroke-linecap:square;stroke-width:1.5;\"/>\n   </g>\n   <g id=\"line2d_124\">\n    <path clip-path=\"url(#pe1c7531032)\" d=\"M 32.51321 78.846228 \nL 37.374934 61.746435 \nL 42.236657 56.789973 \nL 47.09838 54.008847 \nL 51.960104 52.494373 \nL 56.821827 51.409459 \nL 61.683551 50.414495 \nL 66.545274 49.856434 \nL 71.406997 49.186394 \nL 76.268721 48.110658 \nL 81.130444 47.833463 \nL 85.992168 47.482839 \nL 90.853891 46.792606 \nL 95.715614 47.025743 \nL 100.577338 45.894936 \nL 105.439061 46.199667 \n\" style=\"fill:none;stroke:#ff7f0e;stroke-dasharray:5.55,2.4;stroke-dashoffset:0;stroke-width:1.5;\"/>\n   </g>\n   <g id=\"line2d_125\">\n    <path clip-path=\"url(#pe1c7531032)\" d=\"M 39.868125 64.070465 \nL 49.633125 53.616048 \nL 59.398125 60.752113 \nL 69.163125 62.475723 \nL 78.928125 51.618594 \nL 88.693125 49.170102 \nL 98.458125 49.524489 \nL 108.223125 50.104395 \n\" style=\"fill:none;stroke:#2ca02c;stroke-dasharray:9.6,2.4,1.5,2.4;stroke-dashoffset:0;stroke-width:1.5;\"/>\n   </g>\n   <g id=\"line2d_126\">\n    <path clip-path=\"url(#pe1c7531032)\" d=\"M 32.51321 13.377273 \nL 37.374934 78.9334 \nL 42.236657 92.437961 \nL 47.09838 100.983291 \nL 51.960104 105.345809 \nL 56.821827 108.245256 \nL 61.683551 111.764973 \nL 66.545274 113.439427 \nL 71.406997 115.111259 \nL 76.268721 117.768675 \nL 81.130444 118.375748 \nL 85.992168 120.242322 \nL 90.853891 121.562725 \nL 95.715614 121.945193 \nL 100.577338 124.520726 \nL 105.439061 124.113094 \nL 110.300785 125.336475 \n\" style=\"fill:none;stroke:#1f77b4;stroke-linecap:square;stroke-width:1.5;\"/>\n   </g>\n   <g id=\"line2d_127\">\n    <path clip-path=\"url(#pe1c7531032)\" d=\"M 32.51321 78.846228 \nL 37.374934 61.746435 \nL 42.236657 56.789973 \nL 47.09838 54.008847 \nL 51.960104 52.494373 \nL 56.821827 51.409459 \nL 61.683551 50.414495 \nL 66.545274 49.856434 \nL 71.406997 49.186394 \nL 76.268721 48.110658 \nL 81.130444 47.833463 \nL 85.992168 47.482839 \nL 90.853891 46.792606 \nL 95.715614 47.025743 \nL 100.577338 45.894936 \nL 105.439061 46.199667 \n\" style=\"fill:none;stroke:#ff7f0e;stroke-dasharray:5.55,2.4;stroke-dashoffset:0;stroke-width:1.5;\"/>\n   </g>\n   <g id=\"line2d_128\">\n    <path clip-path=\"url(#pe1c7531032)\" d=\"M 39.868125 64.070465 \nL 49.633125 53.616048 \nL 59.398125 60.752113 \nL 69.163125 62.475723 \nL 78.928125 51.618594 \nL 88.693125 49.170102 \nL 98.458125 49.524489 \nL 108.223125 50.104395 \n\" style=\"fill:none;stroke:#2ca02c;stroke-dasharray:9.6,2.4,1.5,2.4;stroke-dashoffset:0;stroke-width:1.5;\"/>\n   </g>\n   <g id=\"line2d_129\">\n    <path clip-path=\"url(#pe1c7531032)\" d=\"M 32.51321 13.377273 \nL 37.374934 78.9334 \nL 42.236657 92.437961 \nL 47.09838 100.983291 \nL 51.960104 105.345809 \nL 56.821827 108.245256 \nL 61.683551 111.764973 \nL 66.545274 113.439427 \nL 71.406997 115.111259 \nL 76.268721 117.768675 \nL 81.130444 118.375748 \nL 85.992168 120.242322 \nL 90.853891 121.562725 \nL 95.715614 121.945193 \nL 100.577338 124.520726 \nL 105.439061 124.113094 \nL 110.300785 125.336475 \n\" style=\"fill:none;stroke:#1f77b4;stroke-linecap:square;stroke-width:1.5;\"/>\n   </g>\n   <g id=\"line2d_130\">\n    <path clip-path=\"url(#pe1c7531032)\" d=\"M 32.51321 78.846228 \nL 37.374934 61.746435 \nL 42.236657 56.789973 \nL 47.09838 54.008847 \nL 51.960104 52.494373 \nL 56.821827 51.409459 \nL 61.683551 50.414495 \nL 66.545274 49.856434 \nL 71.406997 49.186394 \nL 76.268721 48.110658 \nL 81.130444 47.833463 \nL 85.992168 47.482839 \nL 90.853891 46.792606 \nL 95.715614 47.025743 \nL 100.577338 45.894936 \nL 105.439061 46.199667 \nL 110.300785 45.722378 \n\" style=\"fill:none;stroke:#ff7f0e;stroke-dasharray:5.55,2.4;stroke-dashoffset:0;stroke-width:1.5;\"/>\n   </g>\n   <g id=\"line2d_131\">\n    <path clip-path=\"url(#pe1c7531032)\" d=\"M 39.868125 64.070465 \nL 49.633125 53.616048 \nL 59.398125 60.752113 \nL 69.163125 62.475723 \nL 78.928125 51.618594 \nL 88.693125 49.170102 \nL 98.458125 49.524489 \nL 108.223125 50.104395 \n\" style=\"fill:none;stroke:#2ca02c;stroke-dasharray:9.6,2.4,1.5,2.4;stroke-dashoffset:0;stroke-width:1.5;\"/>\n   </g>\n   <g id=\"line2d_132\">\n    <path clip-path=\"url(#pe1c7531032)\" d=\"M 32.51321 13.377273 \nL 37.374934 78.9334 \nL 42.236657 92.437961 \nL 47.09838 100.983291 \nL 51.960104 105.345809 \nL 56.821827 108.245256 \nL 61.683551 111.764973 \nL 66.545274 113.439427 \nL 71.406997 115.111259 \nL 76.268721 117.768675 \nL 81.130444 118.375748 \nL 85.992168 120.242322 \nL 90.853891 121.562725 \nL 95.715614 121.945193 \nL 100.577338 124.520726 \nL 105.439061 124.113094 \nL 110.300785 125.336475 \nL 115.162508 125.509835 \n\" style=\"fill:none;stroke:#1f77b4;stroke-linecap:square;stroke-width:1.5;\"/>\n   </g>\n   <g id=\"line2d_133\">\n    <path clip-path=\"url(#pe1c7531032)\" d=\"M 32.51321 78.846228 \nL 37.374934 61.746435 \nL 42.236657 56.789973 \nL 47.09838 54.008847 \nL 51.960104 52.494373 \nL 56.821827 51.409459 \nL 61.683551 50.414495 \nL 66.545274 49.856434 \nL 71.406997 49.186394 \nL 76.268721 48.110658 \nL 81.130444 47.833463 \nL 85.992168 47.482839 \nL 90.853891 46.792606 \nL 95.715614 47.025743 \nL 100.577338 45.894936 \nL 105.439061 46.199667 \nL 110.300785 45.722378 \n\" style=\"fill:none;stroke:#ff7f0e;stroke-dasharray:5.55,2.4;stroke-dashoffset:0;stroke-width:1.5;\"/>\n   </g>\n   <g id=\"line2d_134\">\n    <path clip-path=\"url(#pe1c7531032)\" d=\"M 39.868125 64.070465 \nL 49.633125 53.616048 \nL 59.398125 60.752113 \nL 69.163125 62.475723 \nL 78.928125 51.618594 \nL 88.693125 49.170102 \nL 98.458125 49.524489 \nL 108.223125 50.104395 \n\" style=\"fill:none;stroke:#2ca02c;stroke-dasharray:9.6,2.4,1.5,2.4;stroke-dashoffset:0;stroke-width:1.5;\"/>\n   </g>\n   <g id=\"line2d_135\">\n    <path clip-path=\"url(#pe1c7531032)\" d=\"M 32.51321 13.377273 \nL 37.374934 78.9334 \nL 42.236657 92.437961 \nL 47.09838 100.983291 \nL 51.960104 105.345809 \nL 56.821827 108.245256 \nL 61.683551 111.764973 \nL 66.545274 113.439427 \nL 71.406997 115.111259 \nL 76.268721 117.768675 \nL 81.130444 118.375748 \nL 85.992168 120.242322 \nL 90.853891 121.562725 \nL 95.715614 121.945193 \nL 100.577338 124.520726 \nL 105.439061 124.113094 \nL 110.300785 125.336475 \nL 115.162508 125.509835 \n\" style=\"fill:none;stroke:#1f77b4;stroke-linecap:square;stroke-width:1.5;\"/>\n   </g>\n   <g id=\"line2d_136\">\n    <path clip-path=\"url(#pe1c7531032)\" d=\"M 32.51321 78.846228 \nL 37.374934 61.746435 \nL 42.236657 56.789973 \nL 47.09838 54.008847 \nL 51.960104 52.494373 \nL 56.821827 51.409459 \nL 61.683551 50.414495 \nL 66.545274 49.856434 \nL 71.406997 49.186394 \nL 76.268721 48.110658 \nL 81.130444 47.833463 \nL 85.992168 47.482839 \nL 90.853891 46.792606 \nL 95.715614 47.025743 \nL 100.577338 45.894936 \nL 105.439061 46.199667 \nL 110.300785 45.722378 \nL 115.162508 45.770107 \n\" style=\"fill:none;stroke:#ff7f0e;stroke-dasharray:5.55,2.4;stroke-dashoffset:0;stroke-width:1.5;\"/>\n   </g>\n   <g id=\"line2d_137\">\n    <path clip-path=\"url(#pe1c7531032)\" d=\"M 39.868125 64.070465 \nL 49.633125 53.616048 \nL 59.398125 60.752113 \nL 69.163125 62.475723 \nL 78.928125 51.618594 \nL 88.693125 49.170102 \nL 98.458125 49.524489 \nL 108.223125 50.104395 \n\" style=\"fill:none;stroke:#2ca02c;stroke-dasharray:9.6,2.4,1.5,2.4;stroke-dashoffset:0;stroke-width:1.5;\"/>\n   </g>\n   <g id=\"line2d_138\">\n    <path clip-path=\"url(#pe1c7531032)\" d=\"M 32.51321 13.377273 \nL 37.374934 78.9334 \nL 42.236657 92.437961 \nL 47.09838 100.983291 \nL 51.960104 105.345809 \nL 56.821827 108.245256 \nL 61.683551 111.764973 \nL 66.545274 113.439427 \nL 71.406997 115.111259 \nL 76.268721 117.768675 \nL 81.130444 118.375748 \nL 85.992168 120.242322 \nL 90.853891 121.562725 \nL 95.715614 121.945193 \nL 100.577338 124.520726 \nL 105.439061 124.113094 \nL 110.300785 125.336475 \nL 115.162508 125.509835 \n\" style=\"fill:none;stroke:#1f77b4;stroke-linecap:square;stroke-width:1.5;\"/>\n   </g>\n   <g id=\"line2d_139\">\n    <path clip-path=\"url(#pe1c7531032)\" d=\"M 32.51321 78.846228 \nL 37.374934 61.746435 \nL 42.236657 56.789973 \nL 47.09838 54.008847 \nL 51.960104 52.494373 \nL 56.821827 51.409459 \nL 61.683551 50.414495 \nL 66.545274 49.856434 \nL 71.406997 49.186394 \nL 76.268721 48.110658 \nL 81.130444 47.833463 \nL 85.992168 47.482839 \nL 90.853891 46.792606 \nL 95.715614 47.025743 \nL 100.577338 45.894936 \nL 105.439061 46.199667 \nL 110.300785 45.722378 \nL 115.162508 45.770107 \n\" style=\"fill:none;stroke:#ff7f0e;stroke-dasharray:5.55,2.4;stroke-dashoffset:0;stroke-width:1.5;\"/>\n   </g>\n   <g id=\"line2d_140\">\n    <path clip-path=\"url(#pe1c7531032)\" d=\"M 39.868125 64.070465 \nL 49.633125 53.616048 \nL 59.398125 60.752113 \nL 69.163125 62.475723 \nL 78.928125 51.618594 \nL 88.693125 49.170102 \nL 98.458125 49.524489 \nL 108.223125 50.104395 \nL 117.988125 49.83055 \n\" style=\"fill:none;stroke:#2ca02c;stroke-dasharray:9.6,2.4,1.5,2.4;stroke-dashoffset:0;stroke-width:1.5;\"/>\n   </g>\n   <g id=\"line2d_141\">\n    <path clip-path=\"url(#pe1c7531032)\" d=\"M 32.51321 13.377273 \nL 37.374934 78.9334 \nL 42.236657 92.437961 \nL 47.09838 100.983291 \nL 51.960104 105.345809 \nL 56.821827 108.245256 \nL 61.683551 111.764973 \nL 66.545274 113.439427 \nL 71.406997 115.111259 \nL 76.268721 117.768675 \nL 81.130444 118.375748 \nL 85.992168 120.242322 \nL 90.853891 121.562725 \nL 95.715614 121.945193 \nL 100.577338 124.520726 \nL 105.439061 124.113094 \nL 110.300785 125.336475 \nL 115.162508 125.509835 \nL 120.024231 127.353936 \n\" style=\"fill:none;stroke:#1f77b4;stroke-linecap:square;stroke-width:1.5;\"/>\n   </g>\n   <g id=\"line2d_142\">\n    <path clip-path=\"url(#pe1c7531032)\" d=\"M 32.51321 78.846228 \nL 37.374934 61.746435 \nL 42.236657 56.789973 \nL 47.09838 54.008847 \nL 51.960104 52.494373 \nL 56.821827 51.409459 \nL 61.683551 50.414495 \nL 66.545274 49.856434 \nL 71.406997 49.186394 \nL 76.268721 48.110658 \nL 81.130444 47.833463 \nL 85.992168 47.482839 \nL 90.853891 46.792606 \nL 95.715614 47.025743 \nL 100.577338 45.894936 \nL 105.439061 46.199667 \nL 110.300785 45.722378 \nL 115.162508 45.770107 \n\" style=\"fill:none;stroke:#ff7f0e;stroke-dasharray:5.55,2.4;stroke-dashoffset:0;stroke-width:1.5;\"/>\n   </g>\n   <g id=\"line2d_143\">\n    <path clip-path=\"url(#pe1c7531032)\" d=\"M 39.868125 64.070465 \nL 49.633125 53.616048 \nL 59.398125 60.752113 \nL 69.163125 62.475723 \nL 78.928125 51.618594 \nL 88.693125 49.170102 \nL 98.458125 49.524489 \nL 108.223125 50.104395 \nL 117.988125 49.83055 \n\" style=\"fill:none;stroke:#2ca02c;stroke-dasharray:9.6,2.4,1.5,2.4;stroke-dashoffset:0;stroke-width:1.5;\"/>\n   </g>\n   <g id=\"line2d_144\">\n    <path clip-path=\"url(#pe1c7531032)\" d=\"M 32.51321 13.377273 \nL 37.374934 78.9334 \nL 42.236657 92.437961 \nL 47.09838 100.983291 \nL 51.960104 105.345809 \nL 56.821827 108.245256 \nL 61.683551 111.764973 \nL 66.545274 113.439427 \nL 71.406997 115.111259 \nL 76.268721 117.768675 \nL 81.130444 118.375748 \nL 85.992168 120.242322 \nL 90.853891 121.562725 \nL 95.715614 121.945193 \nL 100.577338 124.520726 \nL 105.439061 124.113094 \nL 110.300785 125.336475 \nL 115.162508 125.509835 \nL 120.024231 127.353936 \n\" style=\"fill:none;stroke:#1f77b4;stroke-linecap:square;stroke-width:1.5;\"/>\n   </g>\n   <g id=\"line2d_145\">\n    <path clip-path=\"url(#pe1c7531032)\" d=\"M 32.51321 78.846228 \nL 37.374934 61.746435 \nL 42.236657 56.789973 \nL 47.09838 54.008847 \nL 51.960104 52.494373 \nL 56.821827 51.409459 \nL 61.683551 50.414495 \nL 66.545274 49.856434 \nL 71.406997 49.186394 \nL 76.268721 48.110658 \nL 81.130444 47.833463 \nL 85.992168 47.482839 \nL 90.853891 46.792606 \nL 95.715614 47.025743 \nL 100.577338 45.894936 \nL 105.439061 46.199667 \nL 110.300785 45.722378 \nL 115.162508 45.770107 \nL 120.024231 44.98258 \n\" style=\"fill:none;stroke:#ff7f0e;stroke-dasharray:5.55,2.4;stroke-dashoffset:0;stroke-width:1.5;\"/>\n   </g>\n   <g id=\"line2d_146\">\n    <path clip-path=\"url(#pe1c7531032)\" d=\"M 39.868125 64.070465 \nL 49.633125 53.616048 \nL 59.398125 60.752113 \nL 69.163125 62.475723 \nL 78.928125 51.618594 \nL 88.693125 49.170102 \nL 98.458125 49.524489 \nL 108.223125 50.104395 \nL 117.988125 49.83055 \n\" style=\"fill:none;stroke:#2ca02c;stroke-dasharray:9.6,2.4,1.5,2.4;stroke-dashoffset:0;stroke-width:1.5;\"/>\n   </g>\n   <g id=\"line2d_147\">\n    <path clip-path=\"url(#pe1c7531032)\" d=\"M 32.51321 13.377273 \nL 37.374934 78.9334 \nL 42.236657 92.437961 \nL 47.09838 100.983291 \nL 51.960104 105.345809 \nL 56.821827 108.245256 \nL 61.683551 111.764973 \nL 66.545274 113.439427 \nL 71.406997 115.111259 \nL 76.268721 117.768675 \nL 81.130444 118.375748 \nL 85.992168 120.242322 \nL 90.853891 121.562725 \nL 95.715614 121.945193 \nL 100.577338 124.520726 \nL 105.439061 124.113094 \nL 110.300785 125.336475 \nL 115.162508 125.509835 \nL 120.024231 127.353936 \nL 124.885955 127.28714 \n\" style=\"fill:none;stroke:#1f77b4;stroke-linecap:square;stroke-width:1.5;\"/>\n   </g>\n   <g id=\"line2d_148\">\n    <path clip-path=\"url(#pe1c7531032)\" d=\"M 32.51321 78.846228 \nL 37.374934 61.746435 \nL 42.236657 56.789973 \nL 47.09838 54.008847 \nL 51.960104 52.494373 \nL 56.821827 51.409459 \nL 61.683551 50.414495 \nL 66.545274 49.856434 \nL 71.406997 49.186394 \nL 76.268721 48.110658 \nL 81.130444 47.833463 \nL 85.992168 47.482839 \nL 90.853891 46.792606 \nL 95.715614 47.025743 \nL 100.577338 45.894936 \nL 105.439061 46.199667 \nL 110.300785 45.722378 \nL 115.162508 45.770107 \nL 120.024231 44.98258 \n\" style=\"fill:none;stroke:#ff7f0e;stroke-dasharray:5.55,2.4;stroke-dashoffset:0;stroke-width:1.5;\"/>\n   </g>\n   <g id=\"line2d_149\">\n    <path clip-path=\"url(#pe1c7531032)\" d=\"M 39.868125 64.070465 \nL 49.633125 53.616048 \nL 59.398125 60.752113 \nL 69.163125 62.475723 \nL 78.928125 51.618594 \nL 88.693125 49.170102 \nL 98.458125 49.524489 \nL 108.223125 50.104395 \nL 117.988125 49.83055 \n\" style=\"fill:none;stroke:#2ca02c;stroke-dasharray:9.6,2.4,1.5,2.4;stroke-dashoffset:0;stroke-width:1.5;\"/>\n   </g>\n   <g id=\"line2d_150\">\n    <path clip-path=\"url(#pe1c7531032)\" d=\"M 32.51321 13.377273 \nL 37.374934 78.9334 \nL 42.236657 92.437961 \nL 47.09838 100.983291 \nL 51.960104 105.345809 \nL 56.821827 108.245256 \nL 61.683551 111.764973 \nL 66.545274 113.439427 \nL 71.406997 115.111259 \nL 76.268721 117.768675 \nL 81.130444 118.375748 \nL 85.992168 120.242322 \nL 90.853891 121.562725 \nL 95.715614 121.945193 \nL 100.577338 124.520726 \nL 105.439061 124.113094 \nL 110.300785 125.336475 \nL 115.162508 125.509835 \nL 120.024231 127.353936 \nL 124.885955 127.28714 \n\" style=\"fill:none;stroke:#1f77b4;stroke-linecap:square;stroke-width:1.5;\"/>\n   </g>\n   <g id=\"line2d_151\">\n    <path clip-path=\"url(#pe1c7531032)\" d=\"M 32.51321 78.846228 \nL 37.374934 61.746435 \nL 42.236657 56.789973 \nL 47.09838 54.008847 \nL 51.960104 52.494373 \nL 56.821827 51.409459 \nL 61.683551 50.414495 \nL 66.545274 49.856434 \nL 71.406997 49.186394 \nL 76.268721 48.110658 \nL 81.130444 47.833463 \nL 85.992168 47.482839 \nL 90.853891 46.792606 \nL 95.715614 47.025743 \nL 100.577338 45.894936 \nL 105.439061 46.199667 \nL 110.300785 45.722378 \nL 115.162508 45.770107 \nL 120.024231 44.98258 \nL 124.885955 45.379097 \n\" style=\"fill:none;stroke:#ff7f0e;stroke-dasharray:5.55,2.4;stroke-dashoffset:0;stroke-width:1.5;\"/>\n   </g>\n   <g id=\"line2d_152\">\n    <path clip-path=\"url(#pe1c7531032)\" d=\"M 39.868125 64.070465 \nL 49.633125 53.616048 \nL 59.398125 60.752113 \nL 69.163125 62.475723 \nL 78.928125 51.618594 \nL 88.693125 49.170102 \nL 98.458125 49.524489 \nL 108.223125 50.104395 \nL 117.988125 49.83055 \n\" style=\"fill:none;stroke:#2ca02c;stroke-dasharray:9.6,2.4,1.5,2.4;stroke-dashoffset:0;stroke-width:1.5;\"/>\n   </g>\n   <g id=\"line2d_153\">\n    <path clip-path=\"url(#pe1c7531032)\" d=\"M 32.51321 13.377273 \nL 37.374934 78.9334 \nL 42.236657 92.437961 \nL 47.09838 100.983291 \nL 51.960104 105.345809 \nL 56.821827 108.245256 \nL 61.683551 111.764973 \nL 66.545274 113.439427 \nL 71.406997 115.111259 \nL 76.268721 117.768675 \nL 81.130444 118.375748 \nL 85.992168 120.242322 \nL 90.853891 121.562725 \nL 95.715614 121.945193 \nL 100.577338 124.520726 \nL 105.439061 124.113094 \nL 110.300785 125.336475 \nL 115.162508 125.509835 \nL 120.024231 127.353936 \nL 124.885955 127.28714 \n\" style=\"fill:none;stroke:#1f77b4;stroke-linecap:square;stroke-width:1.5;\"/>\n   </g>\n   <g id=\"line2d_154\">\n    <path clip-path=\"url(#pe1c7531032)\" d=\"M 32.51321 78.846228 \nL 37.374934 61.746435 \nL 42.236657 56.789973 \nL 47.09838 54.008847 \nL 51.960104 52.494373 \nL 56.821827 51.409459 \nL 61.683551 50.414495 \nL 66.545274 49.856434 \nL 71.406997 49.186394 \nL 76.268721 48.110658 \nL 81.130444 47.833463 \nL 85.992168 47.482839 \nL 90.853891 46.792606 \nL 95.715614 47.025743 \nL 100.577338 45.894936 \nL 105.439061 46.199667 \nL 110.300785 45.722378 \nL 115.162508 45.770107 \nL 120.024231 44.98258 \nL 124.885955 45.379097 \n\" style=\"fill:none;stroke:#ff7f0e;stroke-dasharray:5.55,2.4;stroke-dashoffset:0;stroke-width:1.5;\"/>\n   </g>\n   <g id=\"line2d_155\">\n    <path clip-path=\"url(#pe1c7531032)\" d=\"M 39.868125 64.070465 \nL 49.633125 53.616048 \nL 59.398125 60.752113 \nL 69.163125 62.475723 \nL 78.928125 51.618594 \nL 88.693125 49.170102 \nL 98.458125 49.524489 \nL 108.223125 50.104395 \nL 117.988125 49.83055 \nL 127.753125 47.237082 \n\" style=\"fill:none;stroke:#2ca02c;stroke-dasharray:9.6,2.4,1.5,2.4;stroke-dashoffset:0;stroke-width:1.5;\"/>\n   </g>\n   <g id=\"line2d_156\">\n    <path clip-path=\"url(#pe1c7531032)\" d=\"M 32.51321 13.377273 \nL 37.374934 78.9334 \nL 42.236657 92.437961 \nL 47.09838 100.983291 \nL 51.960104 105.345809 \nL 56.821827 108.245256 \nL 61.683551 111.764973 \nL 66.545274 113.439427 \nL 71.406997 115.111259 \nL 76.268721 117.768675 \nL 81.130444 118.375748 \nL 85.992168 120.242322 \nL 90.853891 121.562725 \nL 95.715614 121.945193 \nL 100.577338 124.520726 \nL 105.439061 124.113094 \nL 110.300785 125.336475 \nL 115.162508 125.509835 \nL 120.024231 127.353936 \nL 124.885955 127.28714 \nL 129.747678 128.396891 \n\" style=\"fill:none;stroke:#1f77b4;stroke-linecap:square;stroke-width:1.5;\"/>\n   </g>\n   <g id=\"line2d_157\">\n    <path clip-path=\"url(#pe1c7531032)\" d=\"M 32.51321 78.846228 \nL 37.374934 61.746435 \nL 42.236657 56.789973 \nL 47.09838 54.008847 \nL 51.960104 52.494373 \nL 56.821827 51.409459 \nL 61.683551 50.414495 \nL 66.545274 49.856434 \nL 71.406997 49.186394 \nL 76.268721 48.110658 \nL 81.130444 47.833463 \nL 85.992168 47.482839 \nL 90.853891 46.792606 \nL 95.715614 47.025743 \nL 100.577338 45.894936 \nL 105.439061 46.199667 \nL 110.300785 45.722378 \nL 115.162508 45.770107 \nL 120.024231 44.98258 \nL 124.885955 45.379097 \n\" style=\"fill:none;stroke:#ff7f0e;stroke-dasharray:5.55,2.4;stroke-dashoffset:0;stroke-width:1.5;\"/>\n   </g>\n   <g id=\"line2d_158\">\n    <path clip-path=\"url(#pe1c7531032)\" d=\"M 39.868125 64.070465 \nL 49.633125 53.616048 \nL 59.398125 60.752113 \nL 69.163125 62.475723 \nL 78.928125 51.618594 \nL 88.693125 49.170102 \nL 98.458125 49.524489 \nL 108.223125 50.104395 \nL 117.988125 49.83055 \nL 127.753125 47.237082 \n\" style=\"fill:none;stroke:#2ca02c;stroke-dasharray:9.6,2.4,1.5,2.4;stroke-dashoffset:0;stroke-width:1.5;\"/>\n   </g>\n   <g id=\"line2d_159\">\n    <path clip-path=\"url(#pe1c7531032)\" d=\"M 32.51321 13.377273 \nL 37.374934 78.9334 \nL 42.236657 92.437961 \nL 47.09838 100.983291 \nL 51.960104 105.345809 \nL 56.821827 108.245256 \nL 61.683551 111.764973 \nL 66.545274 113.439427 \nL 71.406997 115.111259 \nL 76.268721 117.768675 \nL 81.130444 118.375748 \nL 85.992168 120.242322 \nL 90.853891 121.562725 \nL 95.715614 121.945193 \nL 100.577338 124.520726 \nL 105.439061 124.113094 \nL 110.300785 125.336475 \nL 115.162508 125.509835 \nL 120.024231 127.353936 \nL 124.885955 127.28714 \nL 129.747678 128.396891 \n\" style=\"fill:none;stroke:#1f77b4;stroke-linecap:square;stroke-width:1.5;\"/>\n   </g>\n   <g id=\"line2d_160\">\n    <path clip-path=\"url(#pe1c7531032)\" d=\"M 32.51321 78.846228 \nL 37.374934 61.746435 \nL 42.236657 56.789973 \nL 47.09838 54.008847 \nL 51.960104 52.494373 \nL 56.821827 51.409459 \nL 61.683551 50.414495 \nL 66.545274 49.856434 \nL 71.406997 49.186394 \nL 76.268721 48.110658 \nL 81.130444 47.833463 \nL 85.992168 47.482839 \nL 90.853891 46.792606 \nL 95.715614 47.025743 \nL 100.577338 45.894936 \nL 105.439061 46.199667 \nL 110.300785 45.722378 \nL 115.162508 45.770107 \nL 120.024231 44.98258 \nL 124.885955 45.379097 \nL 129.747678 44.404326 \n\" style=\"fill:none;stroke:#ff7f0e;stroke-dasharray:5.55,2.4;stroke-dashoffset:0;stroke-width:1.5;\"/>\n   </g>\n   <g id=\"line2d_161\">\n    <path clip-path=\"url(#pe1c7531032)\" d=\"M 39.868125 64.070465 \nL 49.633125 53.616048 \nL 59.398125 60.752113 \nL 69.163125 62.475723 \nL 78.928125 51.618594 \nL 88.693125 49.170102 \nL 98.458125 49.524489 \nL 108.223125 50.104395 \nL 117.988125 49.83055 \nL 127.753125 47.237082 \n\" style=\"fill:none;stroke:#2ca02c;stroke-dasharray:9.6,2.4,1.5,2.4;stroke-dashoffset:0;stroke-width:1.5;\"/>\n   </g>\n   <g id=\"line2d_162\">\n    <path clip-path=\"url(#pe1c7531032)\" d=\"M 32.51321 13.377273 \nL 37.374934 78.9334 \nL 42.236657 92.437961 \nL 47.09838 100.983291 \nL 51.960104 105.345809 \nL 56.821827 108.245256 \nL 61.683551 111.764973 \nL 66.545274 113.439427 \nL 71.406997 115.111259 \nL 76.268721 117.768675 \nL 81.130444 118.375748 \nL 85.992168 120.242322 \nL 90.853891 121.562725 \nL 95.715614 121.945193 \nL 100.577338 124.520726 \nL 105.439061 124.113094 \nL 110.300785 125.336475 \nL 115.162508 125.509835 \nL 120.024231 127.353936 \nL 124.885955 127.28714 \nL 129.747678 128.396891 \nL 134.609402 128.236278 \n\" style=\"fill:none;stroke:#1f77b4;stroke-linecap:square;stroke-width:1.5;\"/>\n   </g>\n   <g id=\"line2d_163\">\n    <path clip-path=\"url(#pe1c7531032)\" d=\"M 32.51321 78.846228 \nL 37.374934 61.746435 \nL 42.236657 56.789973 \nL 47.09838 54.008847 \nL 51.960104 52.494373 \nL 56.821827 51.409459 \nL 61.683551 50.414495 \nL 66.545274 49.856434 \nL 71.406997 49.186394 \nL 76.268721 48.110658 \nL 81.130444 47.833463 \nL 85.992168 47.482839 \nL 90.853891 46.792606 \nL 95.715614 47.025743 \nL 100.577338 45.894936 \nL 105.439061 46.199667 \nL 110.300785 45.722378 \nL 115.162508 45.770107 \nL 120.024231 44.98258 \nL 124.885955 45.379097 \nL 129.747678 44.404326 \n\" style=\"fill:none;stroke:#ff7f0e;stroke-dasharray:5.55,2.4;stroke-dashoffset:0;stroke-width:1.5;\"/>\n   </g>\n   <g id=\"line2d_164\">\n    <path clip-path=\"url(#pe1c7531032)\" d=\"M 39.868125 64.070465 \nL 49.633125 53.616048 \nL 59.398125 60.752113 \nL 69.163125 62.475723 \nL 78.928125 51.618594 \nL 88.693125 49.170102 \nL 98.458125 49.524489 \nL 108.223125 50.104395 \nL 117.988125 49.83055 \nL 127.753125 47.237082 \n\" style=\"fill:none;stroke:#2ca02c;stroke-dasharray:9.6,2.4,1.5,2.4;stroke-dashoffset:0;stroke-width:1.5;\"/>\n   </g>\n   <g id=\"line2d_165\">\n    <path clip-path=\"url(#pe1c7531032)\" d=\"M 32.51321 13.377273 \nL 37.374934 78.9334 \nL 42.236657 92.437961 \nL 47.09838 100.983291 \nL 51.960104 105.345809 \nL 56.821827 108.245256 \nL 61.683551 111.764973 \nL 66.545274 113.439427 \nL 71.406997 115.111259 \nL 76.268721 117.768675 \nL 81.130444 118.375748 \nL 85.992168 120.242322 \nL 90.853891 121.562725 \nL 95.715614 121.945193 \nL 100.577338 124.520726 \nL 105.439061 124.113094 \nL 110.300785 125.336475 \nL 115.162508 125.509835 \nL 120.024231 127.353936 \nL 124.885955 127.28714 \nL 129.747678 128.396891 \nL 134.609402 128.236278 \n\" style=\"fill:none;stroke:#1f77b4;stroke-linecap:square;stroke-width:1.5;\"/>\n   </g>\n   <g id=\"line2d_166\">\n    <path clip-path=\"url(#pe1c7531032)\" d=\"M 32.51321 78.846228 \nL 37.374934 61.746435 \nL 42.236657 56.789973 \nL 47.09838 54.008847 \nL 51.960104 52.494373 \nL 56.821827 51.409459 \nL 61.683551 50.414495 \nL 66.545274 49.856434 \nL 71.406997 49.186394 \nL 76.268721 48.110658 \nL 81.130444 47.833463 \nL 85.992168 47.482839 \nL 90.853891 46.792606 \nL 95.715614 47.025743 \nL 100.577338 45.894936 \nL 105.439061 46.199667 \nL 110.300785 45.722378 \nL 115.162508 45.770107 \nL 120.024231 44.98258 \nL 124.885955 45.379097 \nL 129.747678 44.404326 \nL 134.609402 44.94403 \n\" style=\"fill:none;stroke:#ff7f0e;stroke-dasharray:5.55,2.4;stroke-dashoffset:0;stroke-width:1.5;\"/>\n   </g>\n   <g id=\"line2d_167\">\n    <path clip-path=\"url(#pe1c7531032)\" d=\"M 39.868125 64.070465 \nL 49.633125 53.616048 \nL 59.398125 60.752113 \nL 69.163125 62.475723 \nL 78.928125 51.618594 \nL 88.693125 49.170102 \nL 98.458125 49.524489 \nL 108.223125 50.104395 \nL 117.988125 49.83055 \nL 127.753125 47.237082 \n\" style=\"fill:none;stroke:#2ca02c;stroke-dasharray:9.6,2.4,1.5,2.4;stroke-dashoffset:0;stroke-width:1.5;\"/>\n   </g>\n   <g id=\"line2d_168\">\n    <path clip-path=\"url(#pe1c7531032)\" d=\"M 32.51321 13.377273 \nL 37.374934 78.9334 \nL 42.236657 92.437961 \nL 47.09838 100.983291 \nL 51.960104 105.345809 \nL 56.821827 108.245256 \nL 61.683551 111.764973 \nL 66.545274 113.439427 \nL 71.406997 115.111259 \nL 76.268721 117.768675 \nL 81.130444 118.375748 \nL 85.992168 120.242322 \nL 90.853891 121.562725 \nL 95.715614 121.945193 \nL 100.577338 124.520726 \nL 105.439061 124.113094 \nL 110.300785 125.336475 \nL 115.162508 125.509835 \nL 120.024231 127.353936 \nL 124.885955 127.28714 \nL 129.747678 128.396891 \nL 134.609402 128.236278 \n\" style=\"fill:none;stroke:#1f77b4;stroke-linecap:square;stroke-width:1.5;\"/>\n   </g>\n   <g id=\"line2d_169\">\n    <path clip-path=\"url(#pe1c7531032)\" d=\"M 32.51321 78.846228 \nL 37.374934 61.746435 \nL 42.236657 56.789973 \nL 47.09838 54.008847 \nL 51.960104 52.494373 \nL 56.821827 51.409459 \nL 61.683551 50.414495 \nL 66.545274 49.856434 \nL 71.406997 49.186394 \nL 76.268721 48.110658 \nL 81.130444 47.833463 \nL 85.992168 47.482839 \nL 90.853891 46.792606 \nL 95.715614 47.025743 \nL 100.577338 45.894936 \nL 105.439061 46.199667 \nL 110.300785 45.722378 \nL 115.162508 45.770107 \nL 120.024231 44.98258 \nL 124.885955 45.379097 \nL 129.747678 44.404326 \nL 134.609402 44.94403 \n\" style=\"fill:none;stroke:#ff7f0e;stroke-dasharray:5.55,2.4;stroke-dashoffset:0;stroke-width:1.5;\"/>\n   </g>\n   <g id=\"line2d_170\">\n    <path clip-path=\"url(#pe1c7531032)\" d=\"M 39.868125 64.070465 \nL 49.633125 53.616048 \nL 59.398125 60.752113 \nL 69.163125 62.475723 \nL 78.928125 51.618594 \nL 88.693125 49.170102 \nL 98.458125 49.524489 \nL 108.223125 50.104395 \nL 117.988125 49.83055 \nL 127.753125 47.237082 \nL 137.518125 47.543143 \n\" style=\"fill:none;stroke:#2ca02c;stroke-dasharray:9.6,2.4,1.5,2.4;stroke-dashoffset:0;stroke-width:1.5;\"/>\n   </g>\n   <g id=\"line2d_171\">\n    <path clip-path=\"url(#pe1c7531032)\" d=\"M 32.51321 13.377273 \nL 37.374934 78.9334 \nL 42.236657 92.437961 \nL 47.09838 100.983291 \nL 51.960104 105.345809 \nL 56.821827 108.245256 \nL 61.683551 111.764973 \nL 66.545274 113.439427 \nL 71.406997 115.111259 \nL 76.268721 117.768675 \nL 81.130444 118.375748 \nL 85.992168 120.242322 \nL 90.853891 121.562725 \nL 95.715614 121.945193 \nL 100.577338 124.520726 \nL 105.439061 124.113094 \nL 110.300785 125.336475 \nL 115.162508 125.509835 \nL 120.024231 127.353936 \nL 124.885955 127.28714 \nL 129.747678 128.396891 \nL 134.609402 128.236278 \nL 139.471125 128.526708 \n\" style=\"fill:none;stroke:#1f77b4;stroke-linecap:square;stroke-width:1.5;\"/>\n   </g>\n   <g id=\"line2d_172\">\n    <path clip-path=\"url(#pe1c7531032)\" d=\"M 32.51321 78.846228 \nL 37.374934 61.746435 \nL 42.236657 56.789973 \nL 47.09838 54.008847 \nL 51.960104 52.494373 \nL 56.821827 51.409459 \nL 61.683551 50.414495 \nL 66.545274 49.856434 \nL 71.406997 49.186394 \nL 76.268721 48.110658 \nL 81.130444 47.833463 \nL 85.992168 47.482839 \nL 90.853891 46.792606 \nL 95.715614 47.025743 \nL 100.577338 45.894936 \nL 105.439061 46.199667 \nL 110.300785 45.722378 \nL 115.162508 45.770107 \nL 120.024231 44.98258 \nL 124.885955 45.379097 \nL 129.747678 44.404326 \nL 134.609402 44.94403 \n\" style=\"fill:none;stroke:#ff7f0e;stroke-dasharray:5.55,2.4;stroke-dashoffset:0;stroke-width:1.5;\"/>\n   </g>\n   <g id=\"line2d_173\">\n    <path clip-path=\"url(#pe1c7531032)\" d=\"M 39.868125 64.070465 \nL 49.633125 53.616048 \nL 59.398125 60.752113 \nL 69.163125 62.475723 \nL 78.928125 51.618594 \nL 88.693125 49.170102 \nL 98.458125 49.524489 \nL 108.223125 50.104395 \nL 117.988125 49.83055 \nL 127.753125 47.237082 \nL 137.518125 47.543143 \n\" style=\"fill:none;stroke:#2ca02c;stroke-dasharray:9.6,2.4,1.5,2.4;stroke-dashoffset:0;stroke-width:1.5;\"/>\n   </g>\n   <g id=\"line2d_174\">\n    <path clip-path=\"url(#pe1c7531032)\" d=\"M 32.51321 13.377273 \nL 37.374934 78.9334 \nL 42.236657 92.437961 \nL 47.09838 100.983291 \nL 51.960104 105.345809 \nL 56.821827 108.245256 \nL 61.683551 111.764973 \nL 66.545274 113.439427 \nL 71.406997 115.111259 \nL 76.268721 117.768675 \nL 81.130444 118.375748 \nL 85.992168 120.242322 \nL 90.853891 121.562725 \nL 95.715614 121.945193 \nL 100.577338 124.520726 \nL 105.439061 124.113094 \nL 110.300785 125.336475 \nL 115.162508 125.509835 \nL 120.024231 127.353936 \nL 124.885955 127.28714 \nL 129.747678 128.396891 \nL 134.609402 128.236278 \nL 139.471125 128.526708 \n\" style=\"fill:none;stroke:#1f77b4;stroke-linecap:square;stroke-width:1.5;\"/>\n   </g>\n   <g id=\"line2d_175\">\n    <path clip-path=\"url(#pe1c7531032)\" d=\"M 32.51321 78.846228 \nL 37.374934 61.746435 \nL 42.236657 56.789973 \nL 47.09838 54.008847 \nL 51.960104 52.494373 \nL 56.821827 51.409459 \nL 61.683551 50.414495 \nL 66.545274 49.856434 \nL 71.406997 49.186394 \nL 76.268721 48.110658 \nL 81.130444 47.833463 \nL 85.992168 47.482839 \nL 90.853891 46.792606 \nL 95.715614 47.025743 \nL 100.577338 45.894936 \nL 105.439061 46.199667 \nL 110.300785 45.722378 \nL 115.162508 45.770107 \nL 120.024231 44.98258 \nL 124.885955 45.379097 \nL 129.747678 44.404326 \nL 134.609402 44.94403 \nL 139.471125 44.444712 \n\" style=\"fill:none;stroke:#ff7f0e;stroke-dasharray:5.55,2.4;stroke-dashoffset:0;stroke-width:1.5;\"/>\n   </g>\n   <g id=\"line2d_176\">\n    <path clip-path=\"url(#pe1c7531032)\" d=\"M 39.868125 64.070465 \nL 49.633125 53.616048 \nL 59.398125 60.752113 \nL 69.163125 62.475723 \nL 78.928125 51.618594 \nL 88.693125 49.170102 \nL 98.458125 49.524489 \nL 108.223125 50.104395 \nL 117.988125 49.83055 \nL 127.753125 47.237082 \nL 137.518125 47.543143 \n\" style=\"fill:none;stroke:#2ca02c;stroke-dasharray:9.6,2.4,1.5,2.4;stroke-dashoffset:0;stroke-width:1.5;\"/>\n   </g>\n   <g id=\"line2d_177\">\n    <path clip-path=\"url(#pe1c7531032)\" d=\"M 32.51321 13.377273 \nL 37.374934 78.9334 \nL 42.236657 92.437961 \nL 47.09838 100.983291 \nL 51.960104 105.345809 \nL 56.821827 108.245256 \nL 61.683551 111.764973 \nL 66.545274 113.439427 \nL 71.406997 115.111259 \nL 76.268721 117.768675 \nL 81.130444 118.375748 \nL 85.992168 120.242322 \nL 90.853891 121.562725 \nL 95.715614 121.945193 \nL 100.577338 124.520726 \nL 105.439061 124.113094 \nL 110.300785 125.336475 \nL 115.162508 125.509835 \nL 120.024231 127.353936 \nL 124.885955 127.28714 \nL 129.747678 128.396891 \nL 134.609402 128.236278 \nL 139.471125 128.526708 \nL 144.332848 130.231398 \n\" style=\"fill:none;stroke:#1f77b4;stroke-linecap:square;stroke-width:1.5;\"/>\n   </g>\n   <g id=\"line2d_178\">\n    <path clip-path=\"url(#pe1c7531032)\" d=\"M 32.51321 78.846228 \nL 37.374934 61.746435 \nL 42.236657 56.789973 \nL 47.09838 54.008847 \nL 51.960104 52.494373 \nL 56.821827 51.409459 \nL 61.683551 50.414495 \nL 66.545274 49.856434 \nL 71.406997 49.186394 \nL 76.268721 48.110658 \nL 81.130444 47.833463 \nL 85.992168 47.482839 \nL 90.853891 46.792606 \nL 95.715614 47.025743 \nL 100.577338 45.894936 \nL 105.439061 46.199667 \nL 110.300785 45.722378 \nL 115.162508 45.770107 \nL 120.024231 44.98258 \nL 124.885955 45.379097 \nL 129.747678 44.404326 \nL 134.609402 44.94403 \nL 139.471125 44.444712 \n\" style=\"fill:none;stroke:#ff7f0e;stroke-dasharray:5.55,2.4;stroke-dashoffset:0;stroke-width:1.5;\"/>\n   </g>\n   <g id=\"line2d_179\">\n    <path clip-path=\"url(#pe1c7531032)\" d=\"M 39.868125 64.070465 \nL 49.633125 53.616048 \nL 59.398125 60.752113 \nL 69.163125 62.475723 \nL 78.928125 51.618594 \nL 88.693125 49.170102 \nL 98.458125 49.524489 \nL 108.223125 50.104395 \nL 117.988125 49.83055 \nL 127.753125 47.237082 \nL 137.518125 47.543143 \n\" style=\"fill:none;stroke:#2ca02c;stroke-dasharray:9.6,2.4,1.5,2.4;stroke-dashoffset:0;stroke-width:1.5;\"/>\n   </g>\n   <g id=\"line2d_180\">\n    <path clip-path=\"url(#pe1c7531032)\" d=\"M 32.51321 13.377273 \nL 37.374934 78.9334 \nL 42.236657 92.437961 \nL 47.09838 100.983291 \nL 51.960104 105.345809 \nL 56.821827 108.245256 \nL 61.683551 111.764973 \nL 66.545274 113.439427 \nL 71.406997 115.111259 \nL 76.268721 117.768675 \nL 81.130444 118.375748 \nL 85.992168 120.242322 \nL 90.853891 121.562725 \nL 95.715614 121.945193 \nL 100.577338 124.520726 \nL 105.439061 124.113094 \nL 110.300785 125.336475 \nL 115.162508 125.509835 \nL 120.024231 127.353936 \nL 124.885955 127.28714 \nL 129.747678 128.396891 \nL 134.609402 128.236278 \nL 139.471125 128.526708 \nL 144.332848 130.231398 \n\" style=\"fill:none;stroke:#1f77b4;stroke-linecap:square;stroke-width:1.5;\"/>\n   </g>\n   <g id=\"line2d_181\">\n    <path clip-path=\"url(#pe1c7531032)\" d=\"M 32.51321 78.846228 \nL 37.374934 61.746435 \nL 42.236657 56.789973 \nL 47.09838 54.008847 \nL 51.960104 52.494373 \nL 56.821827 51.409459 \nL 61.683551 50.414495 \nL 66.545274 49.856434 \nL 71.406997 49.186394 \nL 76.268721 48.110658 \nL 81.130444 47.833463 \nL 85.992168 47.482839 \nL 90.853891 46.792606 \nL 95.715614 47.025743 \nL 100.577338 45.894936 \nL 105.439061 46.199667 \nL 110.300785 45.722378 \nL 115.162508 45.770107 \nL 120.024231 44.98258 \nL 124.885955 45.379097 \nL 129.747678 44.404326 \nL 134.609402 44.94403 \nL 139.471125 44.444712 \nL 144.332848 44.117953 \n\" style=\"fill:none;stroke:#ff7f0e;stroke-dasharray:5.55,2.4;stroke-dashoffset:0;stroke-width:1.5;\"/>\n   </g>\n   <g id=\"line2d_182\">\n    <path clip-path=\"url(#pe1c7531032)\" d=\"M 39.868125 64.070465 \nL 49.633125 53.616048 \nL 59.398125 60.752113 \nL 69.163125 62.475723 \nL 78.928125 51.618594 \nL 88.693125 49.170102 \nL 98.458125 49.524489 \nL 108.223125 50.104395 \nL 117.988125 49.83055 \nL 127.753125 47.237082 \nL 137.518125 47.543143 \n\" style=\"fill:none;stroke:#2ca02c;stroke-dasharray:9.6,2.4,1.5,2.4;stroke-dashoffset:0;stroke-width:1.5;\"/>\n   </g>\n   <g id=\"line2d_183\">\n    <path clip-path=\"url(#pe1c7531032)\" d=\"M 32.51321 13.377273 \nL 37.374934 78.9334 \nL 42.236657 92.437961 \nL 47.09838 100.983291 \nL 51.960104 105.345809 \nL 56.821827 108.245256 \nL 61.683551 111.764973 \nL 66.545274 113.439427 \nL 71.406997 115.111259 \nL 76.268721 117.768675 \nL 81.130444 118.375748 \nL 85.992168 120.242322 \nL 90.853891 121.562725 \nL 95.715614 121.945193 \nL 100.577338 124.520726 \nL 105.439061 124.113094 \nL 110.300785 125.336475 \nL 115.162508 125.509835 \nL 120.024231 127.353936 \nL 124.885955 127.28714 \nL 129.747678 128.396891 \nL 134.609402 128.236278 \nL 139.471125 128.526708 \nL 144.332848 130.231398 \n\" style=\"fill:none;stroke:#1f77b4;stroke-linecap:square;stroke-width:1.5;\"/>\n   </g>\n   <g id=\"line2d_184\">\n    <path clip-path=\"url(#pe1c7531032)\" d=\"M 32.51321 78.846228 \nL 37.374934 61.746435 \nL 42.236657 56.789973 \nL 47.09838 54.008847 \nL 51.960104 52.494373 \nL 56.821827 51.409459 \nL 61.683551 50.414495 \nL 66.545274 49.856434 \nL 71.406997 49.186394 \nL 76.268721 48.110658 \nL 81.130444 47.833463 \nL 85.992168 47.482839 \nL 90.853891 46.792606 \nL 95.715614 47.025743 \nL 100.577338 45.894936 \nL 105.439061 46.199667 \nL 110.300785 45.722378 \nL 115.162508 45.770107 \nL 120.024231 44.98258 \nL 124.885955 45.379097 \nL 129.747678 44.404326 \nL 134.609402 44.94403 \nL 139.471125 44.444712 \nL 144.332848 44.117953 \n\" style=\"fill:none;stroke:#ff7f0e;stroke-dasharray:5.55,2.4;stroke-dashoffset:0;stroke-width:1.5;\"/>\n   </g>\n   <g id=\"line2d_185\">\n    <path clip-path=\"url(#pe1c7531032)\" d=\"M 39.868125 64.070465 \nL 49.633125 53.616048 \nL 59.398125 60.752113 \nL 69.163125 62.475723 \nL 78.928125 51.618594 \nL 88.693125 49.170102 \nL 98.458125 49.524489 \nL 108.223125 50.104395 \nL 117.988125 49.83055 \nL 127.753125 47.237082 \nL 137.518125 47.543143 \nL 147.283125 46.125595 \n\" style=\"fill:none;stroke:#2ca02c;stroke-dasharray:9.6,2.4,1.5,2.4;stroke-dashoffset:0;stroke-width:1.5;\"/>\n   </g>\n   <g id=\"line2d_186\">\n    <path clip-path=\"url(#pe1c7531032)\" d=\"M 32.51321 13.377273 \nL 37.374934 78.9334 \nL 42.236657 92.437961 \nL 47.09838 100.983291 \nL 51.960104 105.345809 \nL 56.821827 108.245256 \nL 61.683551 111.764973 \nL 66.545274 113.439427 \nL 71.406997 115.111259 \nL 76.268721 117.768675 \nL 81.130444 118.375748 \nL 85.992168 120.242322 \nL 90.853891 121.562725 \nL 95.715614 121.945193 \nL 100.577338 124.520726 \nL 105.439061 124.113094 \nL 110.300785 125.336475 \nL 115.162508 125.509835 \nL 120.024231 127.353936 \nL 124.885955 127.28714 \nL 129.747678 128.396891 \nL 134.609402 128.236278 \nL 139.471125 128.526708 \nL 144.332848 130.231398 \nL 149.194572 129.868661 \n\" style=\"fill:none;stroke:#1f77b4;stroke-linecap:square;stroke-width:1.5;\"/>\n   </g>\n   <g id=\"line2d_187\">\n    <path clip-path=\"url(#pe1c7531032)\" d=\"M 32.51321 78.846228 \nL 37.374934 61.746435 \nL 42.236657 56.789973 \nL 47.09838 54.008847 \nL 51.960104 52.494373 \nL 56.821827 51.409459 \nL 61.683551 50.414495 \nL 66.545274 49.856434 \nL 71.406997 49.186394 \nL 76.268721 48.110658 \nL 81.130444 47.833463 \nL 85.992168 47.482839 \nL 90.853891 46.792606 \nL 95.715614 47.025743 \nL 100.577338 45.894936 \nL 105.439061 46.199667 \nL 110.300785 45.722378 \nL 115.162508 45.770107 \nL 120.024231 44.98258 \nL 124.885955 45.379097 \nL 129.747678 44.404326 \nL 134.609402 44.94403 \nL 139.471125 44.444712 \nL 144.332848 44.117953 \n\" style=\"fill:none;stroke:#ff7f0e;stroke-dasharray:5.55,2.4;stroke-dashoffset:0;stroke-width:1.5;\"/>\n   </g>\n   <g id=\"line2d_188\">\n    <path clip-path=\"url(#pe1c7531032)\" d=\"M 39.868125 64.070465 \nL 49.633125 53.616048 \nL 59.398125 60.752113 \nL 69.163125 62.475723 \nL 78.928125 51.618594 \nL 88.693125 49.170102 \nL 98.458125 49.524489 \nL 108.223125 50.104395 \nL 117.988125 49.83055 \nL 127.753125 47.237082 \nL 137.518125 47.543143 \nL 147.283125 46.125595 \n\" style=\"fill:none;stroke:#2ca02c;stroke-dasharray:9.6,2.4,1.5,2.4;stroke-dashoffset:0;stroke-width:1.5;\"/>\n   </g>\n   <g id=\"line2d_189\">\n    <path clip-path=\"url(#pe1c7531032)\" d=\"M 32.51321 13.377273 \nL 37.374934 78.9334 \nL 42.236657 92.437961 \nL 47.09838 100.983291 \nL 51.960104 105.345809 \nL 56.821827 108.245256 \nL 61.683551 111.764973 \nL 66.545274 113.439427 \nL 71.406997 115.111259 \nL 76.268721 117.768675 \nL 81.130444 118.375748 \nL 85.992168 120.242322 \nL 90.853891 121.562725 \nL 95.715614 121.945193 \nL 100.577338 124.520726 \nL 105.439061 124.113094 \nL 110.300785 125.336475 \nL 115.162508 125.509835 \nL 120.024231 127.353936 \nL 124.885955 127.28714 \nL 129.747678 128.396891 \nL 134.609402 128.236278 \nL 139.471125 128.526708 \nL 144.332848 130.231398 \nL 149.194572 129.868661 \n\" style=\"fill:none;stroke:#1f77b4;stroke-linecap:square;stroke-width:1.5;\"/>\n   </g>\n   <g id=\"line2d_190\">\n    <path clip-path=\"url(#pe1c7531032)\" d=\"M 32.51321 78.846228 \nL 37.374934 61.746435 \nL 42.236657 56.789973 \nL 47.09838 54.008847 \nL 51.960104 52.494373 \nL 56.821827 51.409459 \nL 61.683551 50.414495 \nL 66.545274 49.856434 \nL 71.406997 49.186394 \nL 76.268721 48.110658 \nL 81.130444 47.833463 \nL 85.992168 47.482839 \nL 90.853891 46.792606 \nL 95.715614 47.025743 \nL 100.577338 45.894936 \nL 105.439061 46.199667 \nL 110.300785 45.722378 \nL 115.162508 45.770107 \nL 120.024231 44.98258 \nL 124.885955 45.379097 \nL 129.747678 44.404326 \nL 134.609402 44.94403 \nL 139.471125 44.444712 \nL 144.332848 44.117953 \nL 149.194572 44.316211 \n\" style=\"fill:none;stroke:#ff7f0e;stroke-dasharray:5.55,2.4;stroke-dashoffset:0;stroke-width:1.5;\"/>\n   </g>\n   <g id=\"line2d_191\">\n    <path clip-path=\"url(#pe1c7531032)\" d=\"M 39.868125 64.070465 \nL 49.633125 53.616048 \nL 59.398125 60.752113 \nL 69.163125 62.475723 \nL 78.928125 51.618594 \nL 88.693125 49.170102 \nL 98.458125 49.524489 \nL 108.223125 50.104395 \nL 117.988125 49.83055 \nL 127.753125 47.237082 \nL 137.518125 47.543143 \nL 147.283125 46.125595 \n\" style=\"fill:none;stroke:#2ca02c;stroke-dasharray:9.6,2.4,1.5,2.4;stroke-dashoffset:0;stroke-width:1.5;\"/>\n   </g>\n   <g id=\"line2d_192\">\n    <path clip-path=\"url(#pe1c7531032)\" d=\"M 32.51321 13.377273 \nL 37.374934 78.9334 \nL 42.236657 92.437961 \nL 47.09838 100.983291 \nL 51.960104 105.345809 \nL 56.821827 108.245256 \nL 61.683551 111.764973 \nL 66.545274 113.439427 \nL 71.406997 115.111259 \nL 76.268721 117.768675 \nL 81.130444 118.375748 \nL 85.992168 120.242322 \nL 90.853891 121.562725 \nL 95.715614 121.945193 \nL 100.577338 124.520726 \nL 105.439061 124.113094 \nL 110.300785 125.336475 \nL 115.162508 125.509835 \nL 120.024231 127.353936 \nL 124.885955 127.28714 \nL 129.747678 128.396891 \nL 134.609402 128.236278 \nL 139.471125 128.526708 \nL 144.332848 130.231398 \nL 149.194572 129.868661 \nL 154.056295 131.613326 \n\" style=\"fill:none;stroke:#1f77b4;stroke-linecap:square;stroke-width:1.5;\"/>\n   </g>\n   <g id=\"line2d_193\">\n    <path clip-path=\"url(#pe1c7531032)\" d=\"M 32.51321 78.846228 \nL 37.374934 61.746435 \nL 42.236657 56.789973 \nL 47.09838 54.008847 \nL 51.960104 52.494373 \nL 56.821827 51.409459 \nL 61.683551 50.414495 \nL 66.545274 49.856434 \nL 71.406997 49.186394 \nL 76.268721 48.110658 \nL 81.130444 47.833463 \nL 85.992168 47.482839 \nL 90.853891 46.792606 \nL 95.715614 47.025743 \nL 100.577338 45.894936 \nL 105.439061 46.199667 \nL 110.300785 45.722378 \nL 115.162508 45.770107 \nL 120.024231 44.98258 \nL 124.885955 45.379097 \nL 129.747678 44.404326 \nL 134.609402 44.94403 \nL 139.471125 44.444712 \nL 144.332848 44.117953 \nL 149.194572 44.316211 \n\" style=\"fill:none;stroke:#ff7f0e;stroke-dasharray:5.55,2.4;stroke-dashoffset:0;stroke-width:1.5;\"/>\n   </g>\n   <g id=\"line2d_194\">\n    <path clip-path=\"url(#pe1c7531032)\" d=\"M 39.868125 64.070465 \nL 49.633125 53.616048 \nL 59.398125 60.752113 \nL 69.163125 62.475723 \nL 78.928125 51.618594 \nL 88.693125 49.170102 \nL 98.458125 49.524489 \nL 108.223125 50.104395 \nL 117.988125 49.83055 \nL 127.753125 47.237082 \nL 137.518125 47.543143 \nL 147.283125 46.125595 \n\" style=\"fill:none;stroke:#2ca02c;stroke-dasharray:9.6,2.4,1.5,2.4;stroke-dashoffset:0;stroke-width:1.5;\"/>\n   </g>\n   <g id=\"line2d_195\">\n    <path clip-path=\"url(#pe1c7531032)\" d=\"M 32.51321 13.377273 \nL 37.374934 78.9334 \nL 42.236657 92.437961 \nL 47.09838 100.983291 \nL 51.960104 105.345809 \nL 56.821827 108.245256 \nL 61.683551 111.764973 \nL 66.545274 113.439427 \nL 71.406997 115.111259 \nL 76.268721 117.768675 \nL 81.130444 118.375748 \nL 85.992168 120.242322 \nL 90.853891 121.562725 \nL 95.715614 121.945193 \nL 100.577338 124.520726 \nL 105.439061 124.113094 \nL 110.300785 125.336475 \nL 115.162508 125.509835 \nL 120.024231 127.353936 \nL 124.885955 127.28714 \nL 129.747678 128.396891 \nL 134.609402 128.236278 \nL 139.471125 128.526708 \nL 144.332848 130.231398 \nL 149.194572 129.868661 \nL 154.056295 131.613326 \n\" style=\"fill:none;stroke:#1f77b4;stroke-linecap:square;stroke-width:1.5;\"/>\n   </g>\n   <g id=\"line2d_196\">\n    <path clip-path=\"url(#pe1c7531032)\" d=\"M 32.51321 78.846228 \nL 37.374934 61.746435 \nL 42.236657 56.789973 \nL 47.09838 54.008847 \nL 51.960104 52.494373 \nL 56.821827 51.409459 \nL 61.683551 50.414495 \nL 66.545274 49.856434 \nL 71.406997 49.186394 \nL 76.268721 48.110658 \nL 81.130444 47.833463 \nL 85.992168 47.482839 \nL 90.853891 46.792606 \nL 95.715614 47.025743 \nL 100.577338 45.894936 \nL 105.439061 46.199667 \nL 110.300785 45.722378 \nL 115.162508 45.770107 \nL 120.024231 44.98258 \nL 124.885955 45.379097 \nL 129.747678 44.404326 \nL 134.609402 44.94403 \nL 139.471125 44.444712 \nL 144.332848 44.117953 \nL 149.194572 44.316211 \nL 154.056295 43.842594 \n\" style=\"fill:none;stroke:#ff7f0e;stroke-dasharray:5.55,2.4;stroke-dashoffset:0;stroke-width:1.5;\"/>\n   </g>\n   <g id=\"line2d_197\">\n    <path clip-path=\"url(#pe1c7531032)\" d=\"M 39.868125 64.070465 \nL 49.633125 53.616048 \nL 59.398125 60.752113 \nL 69.163125 62.475723 \nL 78.928125 51.618594 \nL 88.693125 49.170102 \nL 98.458125 49.524489 \nL 108.223125 50.104395 \nL 117.988125 49.83055 \nL 127.753125 47.237082 \nL 137.518125 47.543143 \nL 147.283125 46.125595 \n\" style=\"fill:none;stroke:#2ca02c;stroke-dasharray:9.6,2.4,1.5,2.4;stroke-dashoffset:0;stroke-width:1.5;\"/>\n   </g>\n   <g id=\"line2d_198\">\n    <path clip-path=\"url(#pe1c7531032)\" d=\"M 32.51321 13.377273 \nL 37.374934 78.9334 \nL 42.236657 92.437961 \nL 47.09838 100.983291 \nL 51.960104 105.345809 \nL 56.821827 108.245256 \nL 61.683551 111.764973 \nL 66.545274 113.439427 \nL 71.406997 115.111259 \nL 76.268721 117.768675 \nL 81.130444 118.375748 \nL 85.992168 120.242322 \nL 90.853891 121.562725 \nL 95.715614 121.945193 \nL 100.577338 124.520726 \nL 105.439061 124.113094 \nL 110.300785 125.336475 \nL 115.162508 125.509835 \nL 120.024231 127.353936 \nL 124.885955 127.28714 \nL 129.747678 128.396891 \nL 134.609402 128.236278 \nL 139.471125 128.526708 \nL 144.332848 130.231398 \nL 149.194572 129.868661 \nL 154.056295 131.613326 \n\" style=\"fill:none;stroke:#1f77b4;stroke-linecap:square;stroke-width:1.5;\"/>\n   </g>\n   <g id=\"line2d_199\">\n    <path clip-path=\"url(#pe1c7531032)\" d=\"M 32.51321 78.846228 \nL 37.374934 61.746435 \nL 42.236657 56.789973 \nL 47.09838 54.008847 \nL 51.960104 52.494373 \nL 56.821827 51.409459 \nL 61.683551 50.414495 \nL 66.545274 49.856434 \nL 71.406997 49.186394 \nL 76.268721 48.110658 \nL 81.130444 47.833463 \nL 85.992168 47.482839 \nL 90.853891 46.792606 \nL 95.715614 47.025743 \nL 100.577338 45.894936 \nL 105.439061 46.199667 \nL 110.300785 45.722378 \nL 115.162508 45.770107 \nL 120.024231 44.98258 \nL 124.885955 45.379097 \nL 129.747678 44.404326 \nL 134.609402 44.94403 \nL 139.471125 44.444712 \nL 144.332848 44.117953 \nL 149.194572 44.316211 \nL 154.056295 43.842594 \n\" style=\"fill:none;stroke:#ff7f0e;stroke-dasharray:5.55,2.4;stroke-dashoffset:0;stroke-width:1.5;\"/>\n   </g>\n   <g id=\"line2d_200\">\n    <path clip-path=\"url(#pe1c7531032)\" d=\"M 39.868125 64.070465 \nL 49.633125 53.616048 \nL 59.398125 60.752113 \nL 69.163125 62.475723 \nL 78.928125 51.618594 \nL 88.693125 49.170102 \nL 98.458125 49.524489 \nL 108.223125 50.104395 \nL 117.988125 49.83055 \nL 127.753125 47.237082 \nL 137.518125 47.543143 \nL 147.283125 46.125595 \nL 157.048125 46.705501 \n\" style=\"fill:none;stroke:#2ca02c;stroke-dasharray:9.6,2.4,1.5,2.4;stroke-dashoffset:0;stroke-width:1.5;\"/>\n   </g>\n   <g id=\"line2d_201\">\n    <path clip-path=\"url(#pe1c7531032)\" d=\"M 32.51321 13.377273 \nL 37.374934 78.9334 \nL 42.236657 92.437961 \nL 47.09838 100.983291 \nL 51.960104 105.345809 \nL 56.821827 108.245256 \nL 61.683551 111.764973 \nL 66.545274 113.439427 \nL 71.406997 115.111259 \nL 76.268721 117.768675 \nL 81.130444 118.375748 \nL 85.992168 120.242322 \nL 90.853891 121.562725 \nL 95.715614 121.945193 \nL 100.577338 124.520726 \nL 105.439061 124.113094 \nL 110.300785 125.336475 \nL 115.162508 125.509835 \nL 120.024231 127.353936 \nL 124.885955 127.28714 \nL 129.747678 128.396891 \nL 134.609402 128.236278 \nL 139.471125 128.526708 \nL 144.332848 130.231398 \nL 149.194572 129.868661 \nL 154.056295 131.613326 \nL 158.918019 132.238056 \n\" style=\"fill:none;stroke:#1f77b4;stroke-linecap:square;stroke-width:1.5;\"/>\n   </g>\n   <g id=\"line2d_202\">\n    <path clip-path=\"url(#pe1c7531032)\" d=\"M 32.51321 78.846228 \nL 37.374934 61.746435 \nL 42.236657 56.789973 \nL 47.09838 54.008847 \nL 51.960104 52.494373 \nL 56.821827 51.409459 \nL 61.683551 50.414495 \nL 66.545274 49.856434 \nL 71.406997 49.186394 \nL 76.268721 48.110658 \nL 81.130444 47.833463 \nL 85.992168 47.482839 \nL 90.853891 46.792606 \nL 95.715614 47.025743 \nL 100.577338 45.894936 \nL 105.439061 46.199667 \nL 110.300785 45.722378 \nL 115.162508 45.770107 \nL 120.024231 44.98258 \nL 124.885955 45.379097 \nL 129.747678 44.404326 \nL 134.609402 44.94403 \nL 139.471125 44.444712 \nL 144.332848 44.117953 \nL 149.194572 44.316211 \nL 154.056295 43.842594 \n\" style=\"fill:none;stroke:#ff7f0e;stroke-dasharray:5.55,2.4;stroke-dashoffset:0;stroke-width:1.5;\"/>\n   </g>\n   <g id=\"line2d_203\">\n    <path clip-path=\"url(#pe1c7531032)\" d=\"M 39.868125 64.070465 \nL 49.633125 53.616048 \nL 59.398125 60.752113 \nL 69.163125 62.475723 \nL 78.928125 51.618594 \nL 88.693125 49.170102 \nL 98.458125 49.524489 \nL 108.223125 50.104395 \nL 117.988125 49.83055 \nL 127.753125 47.237082 \nL 137.518125 47.543143 \nL 147.283125 46.125595 \nL 157.048125 46.705501 \n\" style=\"fill:none;stroke:#2ca02c;stroke-dasharray:9.6,2.4,1.5,2.4;stroke-dashoffset:0;stroke-width:1.5;\"/>\n   </g>\n   <g id=\"line2d_204\">\n    <path clip-path=\"url(#pe1c7531032)\" d=\"M 32.51321 13.377273 \nL 37.374934 78.9334 \nL 42.236657 92.437961 \nL 47.09838 100.983291 \nL 51.960104 105.345809 \nL 56.821827 108.245256 \nL 61.683551 111.764973 \nL 66.545274 113.439427 \nL 71.406997 115.111259 \nL 76.268721 117.768675 \nL 81.130444 118.375748 \nL 85.992168 120.242322 \nL 90.853891 121.562725 \nL 95.715614 121.945193 \nL 100.577338 124.520726 \nL 105.439061 124.113094 \nL 110.300785 125.336475 \nL 115.162508 125.509835 \nL 120.024231 127.353936 \nL 124.885955 127.28714 \nL 129.747678 128.396891 \nL 134.609402 128.236278 \nL 139.471125 128.526708 \nL 144.332848 130.231398 \nL 149.194572 129.868661 \nL 154.056295 131.613326 \nL 158.918019 132.238056 \n\" style=\"fill:none;stroke:#1f77b4;stroke-linecap:square;stroke-width:1.5;\"/>\n   </g>\n   <g id=\"line2d_205\">\n    <path clip-path=\"url(#pe1c7531032)\" d=\"M 32.51321 78.846228 \nL 37.374934 61.746435 \nL 42.236657 56.789973 \nL 47.09838 54.008847 \nL 51.960104 52.494373 \nL 56.821827 51.409459 \nL 61.683551 50.414495 \nL 66.545274 49.856434 \nL 71.406997 49.186394 \nL 76.268721 48.110658 \nL 81.130444 47.833463 \nL 85.992168 47.482839 \nL 90.853891 46.792606 \nL 95.715614 47.025743 \nL 100.577338 45.894936 \nL 105.439061 46.199667 \nL 110.300785 45.722378 \nL 115.162508 45.770107 \nL 120.024231 44.98258 \nL 124.885955 45.379097 \nL 129.747678 44.404326 \nL 134.609402 44.94403 \nL 139.471125 44.444712 \nL 144.332848 44.117953 \nL 149.194572 44.316211 \nL 154.056295 43.842594 \nL 158.918019 43.640664 \n\" style=\"fill:none;stroke:#ff7f0e;stroke-dasharray:5.55,2.4;stroke-dashoffset:0;stroke-width:1.5;\"/>\n   </g>\n   <g id=\"line2d_206\">\n    <path clip-path=\"url(#pe1c7531032)\" d=\"M 39.868125 64.070465 \nL 49.633125 53.616048 \nL 59.398125 60.752113 \nL 69.163125 62.475723 \nL 78.928125 51.618594 \nL 88.693125 49.170102 \nL 98.458125 49.524489 \nL 108.223125 50.104395 \nL 117.988125 49.83055 \nL 127.753125 47.237082 \nL 137.518125 47.543143 \nL 147.283125 46.125595 \nL 157.048125 46.705501 \n\" style=\"fill:none;stroke:#2ca02c;stroke-dasharray:9.6,2.4,1.5,2.4;stroke-dashoffset:0;stroke-width:1.5;\"/>\n   </g>\n   <g id=\"line2d_207\">\n    <path clip-path=\"url(#pe1c7531032)\" d=\"M 32.51321 13.377273 \nL 37.374934 78.9334 \nL 42.236657 92.437961 \nL 47.09838 100.983291 \nL 51.960104 105.345809 \nL 56.821827 108.245256 \nL 61.683551 111.764973 \nL 66.545274 113.439427 \nL 71.406997 115.111259 \nL 76.268721 117.768675 \nL 81.130444 118.375748 \nL 85.992168 120.242322 \nL 90.853891 121.562725 \nL 95.715614 121.945193 \nL 100.577338 124.520726 \nL 105.439061 124.113094 \nL 110.300785 125.336475 \nL 115.162508 125.509835 \nL 120.024231 127.353936 \nL 124.885955 127.28714 \nL 129.747678 128.396891 \nL 134.609402 128.236278 \nL 139.471125 128.526708 \nL 144.332848 130.231398 \nL 149.194572 129.868661 \nL 154.056295 131.613326 \nL 158.918019 132.238056 \nL 163.779742 130.465888 \n\" style=\"fill:none;stroke:#1f77b4;stroke-linecap:square;stroke-width:1.5;\"/>\n   </g>\n   <g id=\"line2d_208\">\n    <path clip-path=\"url(#pe1c7531032)\" d=\"M 32.51321 78.846228 \nL 37.374934 61.746435 \nL 42.236657 56.789973 \nL 47.09838 54.008847 \nL 51.960104 52.494373 \nL 56.821827 51.409459 \nL 61.683551 50.414495 \nL 66.545274 49.856434 \nL 71.406997 49.186394 \nL 76.268721 48.110658 \nL 81.130444 47.833463 \nL 85.992168 47.482839 \nL 90.853891 46.792606 \nL 95.715614 47.025743 \nL 100.577338 45.894936 \nL 105.439061 46.199667 \nL 110.300785 45.722378 \nL 115.162508 45.770107 \nL 120.024231 44.98258 \nL 124.885955 45.379097 \nL 129.747678 44.404326 \nL 134.609402 44.94403 \nL 139.471125 44.444712 \nL 144.332848 44.117953 \nL 149.194572 44.316211 \nL 154.056295 43.842594 \nL 158.918019 43.640664 \n\" style=\"fill:none;stroke:#ff7f0e;stroke-dasharray:5.55,2.4;stroke-dashoffset:0;stroke-width:1.5;\"/>\n   </g>\n   <g id=\"line2d_209\">\n    <path clip-path=\"url(#pe1c7531032)\" d=\"M 39.868125 64.070465 \nL 49.633125 53.616048 \nL 59.398125 60.752113 \nL 69.163125 62.475723 \nL 78.928125 51.618594 \nL 88.693125 49.170102 \nL 98.458125 49.524489 \nL 108.223125 50.104395 \nL 117.988125 49.83055 \nL 127.753125 47.237082 \nL 137.518125 47.543143 \nL 147.283125 46.125595 \nL 157.048125 46.705501 \n\" style=\"fill:none;stroke:#2ca02c;stroke-dasharray:9.6,2.4,1.5,2.4;stroke-dashoffset:0;stroke-width:1.5;\"/>\n   </g>\n   <g id=\"line2d_210\">\n    <path clip-path=\"url(#pe1c7531032)\" d=\"M 32.51321 13.377273 \nL 37.374934 78.9334 \nL 42.236657 92.437961 \nL 47.09838 100.983291 \nL 51.960104 105.345809 \nL 56.821827 108.245256 \nL 61.683551 111.764973 \nL 66.545274 113.439427 \nL 71.406997 115.111259 \nL 76.268721 117.768675 \nL 81.130444 118.375748 \nL 85.992168 120.242322 \nL 90.853891 121.562725 \nL 95.715614 121.945193 \nL 100.577338 124.520726 \nL 105.439061 124.113094 \nL 110.300785 125.336475 \nL 115.162508 125.509835 \nL 120.024231 127.353936 \nL 124.885955 127.28714 \nL 129.747678 128.396891 \nL 134.609402 128.236278 \nL 139.471125 128.526708 \nL 144.332848 130.231398 \nL 149.194572 129.868661 \nL 154.056295 131.613326 \nL 158.918019 132.238056 \nL 163.779742 130.465888 \n\" style=\"fill:none;stroke:#1f77b4;stroke-linecap:square;stroke-width:1.5;\"/>\n   </g>\n   <g id=\"line2d_211\">\n    <path clip-path=\"url(#pe1c7531032)\" d=\"M 32.51321 78.846228 \nL 37.374934 61.746435 \nL 42.236657 56.789973 \nL 47.09838 54.008847 \nL 51.960104 52.494373 \nL 56.821827 51.409459 \nL 61.683551 50.414495 \nL 66.545274 49.856434 \nL 71.406997 49.186394 \nL 76.268721 48.110658 \nL 81.130444 47.833463 \nL 85.992168 47.482839 \nL 90.853891 46.792606 \nL 95.715614 47.025743 \nL 100.577338 45.894936 \nL 105.439061 46.199667 \nL 110.300785 45.722378 \nL 115.162508 45.770107 \nL 120.024231 44.98258 \nL 124.885955 45.379097 \nL 129.747678 44.404326 \nL 134.609402 44.94403 \nL 139.471125 44.444712 \nL 144.332848 44.117953 \nL 149.194572 44.316211 \nL 154.056295 43.842594 \nL 158.918019 43.640664 \nL 163.779742 44.33824 \n\" style=\"fill:none;stroke:#ff7f0e;stroke-dasharray:5.55,2.4;stroke-dashoffset:0;stroke-width:1.5;\"/>\n   </g>\n   <g id=\"line2d_212\">\n    <path clip-path=\"url(#pe1c7531032)\" d=\"M 39.868125 64.070465 \nL 49.633125 53.616048 \nL 59.398125 60.752113 \nL 69.163125 62.475723 \nL 78.928125 51.618594 \nL 88.693125 49.170102 \nL 98.458125 49.524489 \nL 108.223125 50.104395 \nL 117.988125 49.83055 \nL 127.753125 47.237082 \nL 137.518125 47.543143 \nL 147.283125 46.125595 \nL 157.048125 46.705501 \n\" style=\"fill:none;stroke:#2ca02c;stroke-dasharray:9.6,2.4,1.5,2.4;stroke-dashoffset:0;stroke-width:1.5;\"/>\n   </g>\n   <g id=\"line2d_213\">\n    <path clip-path=\"url(#pe1c7531032)\" d=\"M 32.51321 13.377273 \nL 37.374934 78.9334 \nL 42.236657 92.437961 \nL 47.09838 100.983291 \nL 51.960104 105.345809 \nL 56.821827 108.245256 \nL 61.683551 111.764973 \nL 66.545274 113.439427 \nL 71.406997 115.111259 \nL 76.268721 117.768675 \nL 81.130444 118.375748 \nL 85.992168 120.242322 \nL 90.853891 121.562725 \nL 95.715614 121.945193 \nL 100.577338 124.520726 \nL 105.439061 124.113094 \nL 110.300785 125.336475 \nL 115.162508 125.509835 \nL 120.024231 127.353936 \nL 124.885955 127.28714 \nL 129.747678 128.396891 \nL 134.609402 128.236278 \nL 139.471125 128.526708 \nL 144.332848 130.231398 \nL 149.194572 129.868661 \nL 154.056295 131.613326 \nL 158.918019 132.238056 \nL 163.779742 130.465888 \n\" style=\"fill:none;stroke:#1f77b4;stroke-linecap:square;stroke-width:1.5;\"/>\n   </g>\n   <g id=\"line2d_214\">\n    <path clip-path=\"url(#pe1c7531032)\" d=\"M 32.51321 78.846228 \nL 37.374934 61.746435 \nL 42.236657 56.789973 \nL 47.09838 54.008847 \nL 51.960104 52.494373 \nL 56.821827 51.409459 \nL 61.683551 50.414495 \nL 66.545274 49.856434 \nL 71.406997 49.186394 \nL 76.268721 48.110658 \nL 81.130444 47.833463 \nL 85.992168 47.482839 \nL 90.853891 46.792606 \nL 95.715614 47.025743 \nL 100.577338 45.894936 \nL 105.439061 46.199667 \nL 110.300785 45.722378 \nL 115.162508 45.770107 \nL 120.024231 44.98258 \nL 124.885955 45.379097 \nL 129.747678 44.404326 \nL 134.609402 44.94403 \nL 139.471125 44.444712 \nL 144.332848 44.117953 \nL 149.194572 44.316211 \nL 154.056295 43.842594 \nL 158.918019 43.640664 \nL 163.779742 44.33824 \n\" style=\"fill:none;stroke:#ff7f0e;stroke-dasharray:5.55,2.4;stroke-dashoffset:0;stroke-width:1.5;\"/>\n   </g>\n   <g id=\"line2d_215\">\n    <path clip-path=\"url(#pe1c7531032)\" d=\"M 39.868125 64.070465 \nL 49.633125 53.616048 \nL 59.398125 60.752113 \nL 69.163125 62.475723 \nL 78.928125 51.618594 \nL 88.693125 49.170102 \nL 98.458125 49.524489 \nL 108.223125 50.104395 \nL 117.988125 49.83055 \nL 127.753125 47.237082 \nL 137.518125 47.543143 \nL 147.283125 46.125595 \nL 157.048125 46.705501 \nL 166.813125 46.254463 \n\" style=\"fill:none;stroke:#2ca02c;stroke-dasharray:9.6,2.4,1.5,2.4;stroke-dashoffset:0;stroke-width:1.5;\"/>\n   </g>\n   <g id=\"line2d_216\">\n    <path clip-path=\"url(#pe1c7531032)\" d=\"M 32.51321 13.377273 \nL 37.374934 78.9334 \nL 42.236657 92.437961 \nL 47.09838 100.983291 \nL 51.960104 105.345809 \nL 56.821827 108.245256 \nL 61.683551 111.764973 \nL 66.545274 113.439427 \nL 71.406997 115.111259 \nL 76.268721 117.768675 \nL 81.130444 118.375748 \nL 85.992168 120.242322 \nL 90.853891 121.562725 \nL 95.715614 121.945193 \nL 100.577338 124.520726 \nL 105.439061 124.113094 \nL 110.300785 125.336475 \nL 115.162508 125.509835 \nL 120.024231 127.353936 \nL 124.885955 127.28714 \nL 129.747678 128.396891 \nL 134.609402 128.236278 \nL 139.471125 128.526708 \nL 144.332848 130.231398 \nL 149.194572 129.868661 \nL 154.056295 131.613326 \nL 158.918019 132.238056 \nL 163.779742 130.465888 \nL 168.641465 133.118543 \n\" style=\"fill:none;stroke:#1f77b4;stroke-linecap:square;stroke-width:1.5;\"/>\n   </g>\n   <g id=\"line2d_217\">\n    <path clip-path=\"url(#pe1c7531032)\" d=\"M 32.51321 78.846228 \nL 37.374934 61.746435 \nL 42.236657 56.789973 \nL 47.09838 54.008847 \nL 51.960104 52.494373 \nL 56.821827 51.409459 \nL 61.683551 50.414495 \nL 66.545274 49.856434 \nL 71.406997 49.186394 \nL 76.268721 48.110658 \nL 81.130444 47.833463 \nL 85.992168 47.482839 \nL 90.853891 46.792606 \nL 95.715614 47.025743 \nL 100.577338 45.894936 \nL 105.439061 46.199667 \nL 110.300785 45.722378 \nL 115.162508 45.770107 \nL 120.024231 44.98258 \nL 124.885955 45.379097 \nL 129.747678 44.404326 \nL 134.609402 44.94403 \nL 139.471125 44.444712 \nL 144.332848 44.117953 \nL 149.194572 44.316211 \nL 154.056295 43.842594 \nL 158.918019 43.640664 \nL 163.779742 44.33824 \n\" style=\"fill:none;stroke:#ff7f0e;stroke-dasharray:5.55,2.4;stroke-dashoffset:0;stroke-width:1.5;\"/>\n   </g>\n   <g id=\"line2d_218\">\n    <path clip-path=\"url(#pe1c7531032)\" d=\"M 39.868125 64.070465 \nL 49.633125 53.616048 \nL 59.398125 60.752113 \nL 69.163125 62.475723 \nL 78.928125 51.618594 \nL 88.693125 49.170102 \nL 98.458125 49.524489 \nL 108.223125 50.104395 \nL 117.988125 49.83055 \nL 127.753125 47.237082 \nL 137.518125 47.543143 \nL 147.283125 46.125595 \nL 157.048125 46.705501 \nL 166.813125 46.254463 \n\" style=\"fill:none;stroke:#2ca02c;stroke-dasharray:9.6,2.4,1.5,2.4;stroke-dashoffset:0;stroke-width:1.5;\"/>\n   </g>\n   <g id=\"line2d_219\">\n    <path clip-path=\"url(#pe1c7531032)\" d=\"M 32.51321 13.377273 \nL 37.374934 78.9334 \nL 42.236657 92.437961 \nL 47.09838 100.983291 \nL 51.960104 105.345809 \nL 56.821827 108.245256 \nL 61.683551 111.764973 \nL 66.545274 113.439427 \nL 71.406997 115.111259 \nL 76.268721 117.768675 \nL 81.130444 118.375748 \nL 85.992168 120.242322 \nL 90.853891 121.562725 \nL 95.715614 121.945193 \nL 100.577338 124.520726 \nL 105.439061 124.113094 \nL 110.300785 125.336475 \nL 115.162508 125.509835 \nL 120.024231 127.353936 \nL 124.885955 127.28714 \nL 129.747678 128.396891 \nL 134.609402 128.236278 \nL 139.471125 128.526708 \nL 144.332848 130.231398 \nL 149.194572 129.868661 \nL 154.056295 131.613326 \nL 158.918019 132.238056 \nL 163.779742 130.465888 \nL 168.641465 133.118543 \n\" style=\"fill:none;stroke:#1f77b4;stroke-linecap:square;stroke-width:1.5;\"/>\n   </g>\n   <g id=\"line2d_220\">\n    <path clip-path=\"url(#pe1c7531032)\" d=\"M 32.51321 78.846228 \nL 37.374934 61.746435 \nL 42.236657 56.789973 \nL 47.09838 54.008847 \nL 51.960104 52.494373 \nL 56.821827 51.409459 \nL 61.683551 50.414495 \nL 66.545274 49.856434 \nL 71.406997 49.186394 \nL 76.268721 48.110658 \nL 81.130444 47.833463 \nL 85.992168 47.482839 \nL 90.853891 46.792606 \nL 95.715614 47.025743 \nL 100.577338 45.894936 \nL 105.439061 46.199667 \nL 110.300785 45.722378 \nL 115.162508 45.770107 \nL 120.024231 44.98258 \nL 124.885955 45.379097 \nL 129.747678 44.404326 \nL 134.609402 44.94403 \nL 139.471125 44.444712 \nL 144.332848 44.117953 \nL 149.194572 44.316211 \nL 154.056295 43.842594 \nL 158.918019 43.640664 \nL 163.779742 44.33824 \nL 168.641465 43.387333 \n\" style=\"fill:none;stroke:#ff7f0e;stroke-dasharray:5.55,2.4;stroke-dashoffset:0;stroke-width:1.5;\"/>\n   </g>\n   <g id=\"line2d_221\">\n    <path clip-path=\"url(#pe1c7531032)\" d=\"M 39.868125 64.070465 \nL 49.633125 53.616048 \nL 59.398125 60.752113 \nL 69.163125 62.475723 \nL 78.928125 51.618594 \nL 88.693125 49.170102 \nL 98.458125 49.524489 \nL 108.223125 50.104395 \nL 117.988125 49.83055 \nL 127.753125 47.237082 \nL 137.518125 47.543143 \nL 147.283125 46.125595 \nL 157.048125 46.705501 \nL 166.813125 46.254463 \n\" style=\"fill:none;stroke:#2ca02c;stroke-dasharray:9.6,2.4,1.5,2.4;stroke-dashoffset:0;stroke-width:1.5;\"/>\n   </g>\n   <g id=\"line2d_222\">\n    <path clip-path=\"url(#pe1c7531032)\" d=\"M 32.51321 13.377273 \nL 37.374934 78.9334 \nL 42.236657 92.437961 \nL 47.09838 100.983291 \nL 51.960104 105.345809 \nL 56.821827 108.245256 \nL 61.683551 111.764973 \nL 66.545274 113.439427 \nL 71.406997 115.111259 \nL 76.268721 117.768675 \nL 81.130444 118.375748 \nL 85.992168 120.242322 \nL 90.853891 121.562725 \nL 95.715614 121.945193 \nL 100.577338 124.520726 \nL 105.439061 124.113094 \nL 110.300785 125.336475 \nL 115.162508 125.509835 \nL 120.024231 127.353936 \nL 124.885955 127.28714 \nL 129.747678 128.396891 \nL 134.609402 128.236278 \nL 139.471125 128.526708 \nL 144.332848 130.231398 \nL 149.194572 129.868661 \nL 154.056295 131.613326 \nL 158.918019 132.238056 \nL 163.779742 130.465888 \nL 168.641465 133.118543 \nL 173.503189 132.459381 \n\" style=\"fill:none;stroke:#1f77b4;stroke-linecap:square;stroke-width:1.5;\"/>\n   </g>\n   <g id=\"line2d_223\">\n    <path clip-path=\"url(#pe1c7531032)\" d=\"M 32.51321 78.846228 \nL 37.374934 61.746435 \nL 42.236657 56.789973 \nL 47.09838 54.008847 \nL 51.960104 52.494373 \nL 56.821827 51.409459 \nL 61.683551 50.414495 \nL 66.545274 49.856434 \nL 71.406997 49.186394 \nL 76.268721 48.110658 \nL 81.130444 47.833463 \nL 85.992168 47.482839 \nL 90.853891 46.792606 \nL 95.715614 47.025743 \nL 100.577338 45.894936 \nL 105.439061 46.199667 \nL 110.300785 45.722378 \nL 115.162508 45.770107 \nL 120.024231 44.98258 \nL 124.885955 45.379097 \nL 129.747678 44.404326 \nL 134.609402 44.94403 \nL 139.471125 44.444712 \nL 144.332848 44.117953 \nL 149.194572 44.316211 \nL 154.056295 43.842594 \nL 158.918019 43.640664 \nL 163.779742 44.33824 \nL 168.641465 43.387333 \n\" style=\"fill:none;stroke:#ff7f0e;stroke-dasharray:5.55,2.4;stroke-dashoffset:0;stroke-width:1.5;\"/>\n   </g>\n   <g id=\"line2d_224\">\n    <path clip-path=\"url(#pe1c7531032)\" d=\"M 39.868125 64.070465 \nL 49.633125 53.616048 \nL 59.398125 60.752113 \nL 69.163125 62.475723 \nL 78.928125 51.618594 \nL 88.693125 49.170102 \nL 98.458125 49.524489 \nL 108.223125 50.104395 \nL 117.988125 49.83055 \nL 127.753125 47.237082 \nL 137.518125 47.543143 \nL 147.283125 46.125595 \nL 157.048125 46.705501 \nL 166.813125 46.254463 \n\" style=\"fill:none;stroke:#2ca02c;stroke-dasharray:9.6,2.4,1.5,2.4;stroke-dashoffset:0;stroke-width:1.5;\"/>\n   </g>\n   <g id=\"line2d_225\">\n    <path clip-path=\"url(#pe1c7531032)\" d=\"M 32.51321 13.377273 \nL 37.374934 78.9334 \nL 42.236657 92.437961 \nL 47.09838 100.983291 \nL 51.960104 105.345809 \nL 56.821827 108.245256 \nL 61.683551 111.764973 \nL 66.545274 113.439427 \nL 71.406997 115.111259 \nL 76.268721 117.768675 \nL 81.130444 118.375748 \nL 85.992168 120.242322 \nL 90.853891 121.562725 \nL 95.715614 121.945193 \nL 100.577338 124.520726 \nL 105.439061 124.113094 \nL 110.300785 125.336475 \nL 115.162508 125.509835 \nL 120.024231 127.353936 \nL 124.885955 127.28714 \nL 129.747678 128.396891 \nL 134.609402 128.236278 \nL 139.471125 128.526708 \nL 144.332848 130.231398 \nL 149.194572 129.868661 \nL 154.056295 131.613326 \nL 158.918019 132.238056 \nL 163.779742 130.465888 \nL 168.641465 133.118543 \nL 173.503189 132.459381 \n\" style=\"fill:none;stroke:#1f77b4;stroke-linecap:square;stroke-width:1.5;\"/>\n   </g>\n   <g id=\"line2d_226\">\n    <path clip-path=\"url(#pe1c7531032)\" d=\"M 32.51321 78.846228 \nL 37.374934 61.746435 \nL 42.236657 56.789973 \nL 47.09838 54.008847 \nL 51.960104 52.494373 \nL 56.821827 51.409459 \nL 61.683551 50.414495 \nL 66.545274 49.856434 \nL 71.406997 49.186394 \nL 76.268721 48.110658 \nL 81.130444 47.833463 \nL 85.992168 47.482839 \nL 90.853891 46.792606 \nL 95.715614 47.025743 \nL 100.577338 45.894936 \nL 105.439061 46.199667 \nL 110.300785 45.722378 \nL 115.162508 45.770107 \nL 120.024231 44.98258 \nL 124.885955 45.379097 \nL 129.747678 44.404326 \nL 134.609402 44.94403 \nL 139.471125 44.444712 \nL 144.332848 44.117953 \nL 149.194572 44.316211 \nL 154.056295 43.842594 \nL 158.918019 43.640664 \nL 163.779742 44.33824 \nL 168.641465 43.387333 \nL 173.503189 43.446077 \n\" style=\"fill:none;stroke:#ff7f0e;stroke-dasharray:5.55,2.4;stroke-dashoffset:0;stroke-width:1.5;\"/>\n   </g>\n   <g id=\"line2d_227\">\n    <path clip-path=\"url(#pe1c7531032)\" d=\"M 39.868125 64.070465 \nL 49.633125 53.616048 \nL 59.398125 60.752113 \nL 69.163125 62.475723 \nL 78.928125 51.618594 \nL 88.693125 49.170102 \nL 98.458125 49.524489 \nL 108.223125 50.104395 \nL 117.988125 49.83055 \nL 127.753125 47.237082 \nL 137.518125 47.543143 \nL 147.283125 46.125595 \nL 157.048125 46.705501 \nL 166.813125 46.254463 \n\" style=\"fill:none;stroke:#2ca02c;stroke-dasharray:9.6,2.4,1.5,2.4;stroke-dashoffset:0;stroke-width:1.5;\"/>\n   </g>\n   <g id=\"line2d_228\">\n    <path clip-path=\"url(#pe1c7531032)\" d=\"M 32.51321 13.377273 \nL 37.374934 78.9334 \nL 42.236657 92.437961 \nL 47.09838 100.983291 \nL 51.960104 105.345809 \nL 56.821827 108.245256 \nL 61.683551 111.764973 \nL 66.545274 113.439427 \nL 71.406997 115.111259 \nL 76.268721 117.768675 \nL 81.130444 118.375748 \nL 85.992168 120.242322 \nL 90.853891 121.562725 \nL 95.715614 121.945193 \nL 100.577338 124.520726 \nL 105.439061 124.113094 \nL 110.300785 125.336475 \nL 115.162508 125.509835 \nL 120.024231 127.353936 \nL 124.885955 127.28714 \nL 129.747678 128.396891 \nL 134.609402 128.236278 \nL 139.471125 128.526708 \nL 144.332848 130.231398 \nL 149.194572 129.868661 \nL 154.056295 131.613326 \nL 158.918019 132.238056 \nL 163.779742 130.465888 \nL 168.641465 133.118543 \nL 173.503189 132.459381 \n\" style=\"fill:none;stroke:#1f77b4;stroke-linecap:square;stroke-width:1.5;\"/>\n   </g>\n   <g id=\"line2d_229\">\n    <path clip-path=\"url(#pe1c7531032)\" d=\"M 32.51321 78.846228 \nL 37.374934 61.746435 \nL 42.236657 56.789973 \nL 47.09838 54.008847 \nL 51.960104 52.494373 \nL 56.821827 51.409459 \nL 61.683551 50.414495 \nL 66.545274 49.856434 \nL 71.406997 49.186394 \nL 76.268721 48.110658 \nL 81.130444 47.833463 \nL 85.992168 47.482839 \nL 90.853891 46.792606 \nL 95.715614 47.025743 \nL 100.577338 45.894936 \nL 105.439061 46.199667 \nL 110.300785 45.722378 \nL 115.162508 45.770107 \nL 120.024231 44.98258 \nL 124.885955 45.379097 \nL 129.747678 44.404326 \nL 134.609402 44.94403 \nL 139.471125 44.444712 \nL 144.332848 44.117953 \nL 149.194572 44.316211 \nL 154.056295 43.842594 \nL 158.918019 43.640664 \nL 163.779742 44.33824 \nL 168.641465 43.387333 \nL 173.503189 43.446077 \n\" style=\"fill:none;stroke:#ff7f0e;stroke-dasharray:5.55,2.4;stroke-dashoffset:0;stroke-width:1.5;\"/>\n   </g>\n   <g id=\"line2d_230\">\n    <path clip-path=\"url(#pe1c7531032)\" d=\"M 39.868125 64.070465 \nL 49.633125 53.616048 \nL 59.398125 60.752113 \nL 69.163125 62.475723 \nL 78.928125 51.618594 \nL 88.693125 49.170102 \nL 98.458125 49.524489 \nL 108.223125 50.104395 \nL 117.988125 49.83055 \nL 127.753125 47.237082 \nL 137.518125 47.543143 \nL 147.283125 46.125595 \nL 157.048125 46.705501 \nL 166.813125 46.254463 \nL 176.578125 46.222246 \n\" style=\"fill:none;stroke:#2ca02c;stroke-dasharray:9.6,2.4,1.5,2.4;stroke-dashoffset:0;stroke-width:1.5;\"/>\n   </g>\n   <g id=\"line2d_231\">\n    <path clip-path=\"url(#pe1c7531032)\" d=\"M 32.51321 13.377273 \nL 37.374934 78.9334 \nL 42.236657 92.437961 \nL 47.09838 100.983291 \nL 51.960104 105.345809 \nL 56.821827 108.245256 \nL 61.683551 111.764973 \nL 66.545274 113.439427 \nL 71.406997 115.111259 \nL 76.268721 117.768675 \nL 81.130444 118.375748 \nL 85.992168 120.242322 \nL 90.853891 121.562725 \nL 95.715614 121.945193 \nL 100.577338 124.520726 \nL 105.439061 124.113094 \nL 110.300785 125.336475 \nL 115.162508 125.509835 \nL 120.024231 127.353936 \nL 124.885955 127.28714 \nL 129.747678 128.396891 \nL 134.609402 128.236278 \nL 139.471125 128.526708 \nL 144.332848 130.231398 \nL 149.194572 129.868661 \nL 154.056295 131.613326 \nL 158.918019 132.238056 \nL 163.779742 130.465888 \nL 168.641465 133.118543 \nL 173.503189 132.459381 \nL 178.364912 134.44737 \n\" style=\"fill:none;stroke:#1f77b4;stroke-linecap:square;stroke-width:1.5;\"/>\n   </g>\n   <g id=\"line2d_232\">\n    <path clip-path=\"url(#pe1c7531032)\" d=\"M 32.51321 78.846228 \nL 37.374934 61.746435 \nL 42.236657 56.789973 \nL 47.09838 54.008847 \nL 51.960104 52.494373 \nL 56.821827 51.409459 \nL 61.683551 50.414495 \nL 66.545274 49.856434 \nL 71.406997 49.186394 \nL 76.268721 48.110658 \nL 81.130444 47.833463 \nL 85.992168 47.482839 \nL 90.853891 46.792606 \nL 95.715614 47.025743 \nL 100.577338 45.894936 \nL 105.439061 46.199667 \nL 110.300785 45.722378 \nL 115.162508 45.770107 \nL 120.024231 44.98258 \nL 124.885955 45.379097 \nL 129.747678 44.404326 \nL 134.609402 44.94403 \nL 139.471125 44.444712 \nL 144.332848 44.117953 \nL 149.194572 44.316211 \nL 154.056295 43.842594 \nL 158.918019 43.640664 \nL 163.779742 44.33824 \nL 168.641465 43.387333 \nL 173.503189 43.446077 \n\" style=\"fill:none;stroke:#ff7f0e;stroke-dasharray:5.55,2.4;stroke-dashoffset:0;stroke-width:1.5;\"/>\n   </g>\n   <g id=\"line2d_233\">\n    <path clip-path=\"url(#pe1c7531032)\" d=\"M 39.868125 64.070465 \nL 49.633125 53.616048 \nL 59.398125 60.752113 \nL 69.163125 62.475723 \nL 78.928125 51.618594 \nL 88.693125 49.170102 \nL 98.458125 49.524489 \nL 108.223125 50.104395 \nL 117.988125 49.83055 \nL 127.753125 47.237082 \nL 137.518125 47.543143 \nL 147.283125 46.125595 \nL 157.048125 46.705501 \nL 166.813125 46.254463 \nL 176.578125 46.222246 \n\" style=\"fill:none;stroke:#2ca02c;stroke-dasharray:9.6,2.4,1.5,2.4;stroke-dashoffset:0;stroke-width:1.5;\"/>\n   </g>\n   <g id=\"line2d_234\">\n    <path clip-path=\"url(#pe1c7531032)\" d=\"M 32.51321 13.377273 \nL 37.374934 78.9334 \nL 42.236657 92.437961 \nL 47.09838 100.983291 \nL 51.960104 105.345809 \nL 56.821827 108.245256 \nL 61.683551 111.764973 \nL 66.545274 113.439427 \nL 71.406997 115.111259 \nL 76.268721 117.768675 \nL 81.130444 118.375748 \nL 85.992168 120.242322 \nL 90.853891 121.562725 \nL 95.715614 121.945193 \nL 100.577338 124.520726 \nL 105.439061 124.113094 \nL 110.300785 125.336475 \nL 115.162508 125.509835 \nL 120.024231 127.353936 \nL 124.885955 127.28714 \nL 129.747678 128.396891 \nL 134.609402 128.236278 \nL 139.471125 128.526708 \nL 144.332848 130.231398 \nL 149.194572 129.868661 \nL 154.056295 131.613326 \nL 158.918019 132.238056 \nL 163.779742 130.465888 \nL 168.641465 133.118543 \nL 173.503189 132.459381 \nL 178.364912 134.44737 \n\" style=\"fill:none;stroke:#1f77b4;stroke-linecap:square;stroke-width:1.5;\"/>\n   </g>\n   <g id=\"line2d_235\">\n    <path clip-path=\"url(#pe1c7531032)\" d=\"M 32.51321 78.846228 \nL 37.374934 61.746435 \nL 42.236657 56.789973 \nL 47.09838 54.008847 \nL 51.960104 52.494373 \nL 56.821827 51.409459 \nL 61.683551 50.414495 \nL 66.545274 49.856434 \nL 71.406997 49.186394 \nL 76.268721 48.110658 \nL 81.130444 47.833463 \nL 85.992168 47.482839 \nL 90.853891 46.792606 \nL 95.715614 47.025743 \nL 100.577338 45.894936 \nL 105.439061 46.199667 \nL 110.300785 45.722378 \nL 115.162508 45.770107 \nL 120.024231 44.98258 \nL 124.885955 45.379097 \nL 129.747678 44.404326 \nL 134.609402 44.94403 \nL 139.471125 44.444712 \nL 144.332848 44.117953 \nL 149.194572 44.316211 \nL 154.056295 43.842594 \nL 158.918019 43.640664 \nL 163.779742 44.33824 \nL 168.641465 43.387333 \nL 173.503189 43.446077 \nL 178.364912 42.493335 \n\" style=\"fill:none;stroke:#ff7f0e;stroke-dasharray:5.55,2.4;stroke-dashoffset:0;stroke-width:1.5;\"/>\n   </g>\n   <g id=\"line2d_236\">\n    <path clip-path=\"url(#pe1c7531032)\" d=\"M 39.868125 64.070465 \nL 49.633125 53.616048 \nL 59.398125 60.752113 \nL 69.163125 62.475723 \nL 78.928125 51.618594 \nL 88.693125 49.170102 \nL 98.458125 49.524489 \nL 108.223125 50.104395 \nL 117.988125 49.83055 \nL 127.753125 47.237082 \nL 137.518125 47.543143 \nL 147.283125 46.125595 \nL 157.048125 46.705501 \nL 166.813125 46.254463 \nL 176.578125 46.222246 \n\" style=\"fill:none;stroke:#2ca02c;stroke-dasharray:9.6,2.4,1.5,2.4;stroke-dashoffset:0;stroke-width:1.5;\"/>\n   </g>\n   <g id=\"line2d_237\">\n    <path clip-path=\"url(#pe1c7531032)\" d=\"M 32.51321 13.377273 \nL 37.374934 78.9334 \nL 42.236657 92.437961 \nL 47.09838 100.983291 \nL 51.960104 105.345809 \nL 56.821827 108.245256 \nL 61.683551 111.764973 \nL 66.545274 113.439427 \nL 71.406997 115.111259 \nL 76.268721 117.768675 \nL 81.130444 118.375748 \nL 85.992168 120.242322 \nL 90.853891 121.562725 \nL 95.715614 121.945193 \nL 100.577338 124.520726 \nL 105.439061 124.113094 \nL 110.300785 125.336475 \nL 115.162508 125.509835 \nL 120.024231 127.353936 \nL 124.885955 127.28714 \nL 129.747678 128.396891 \nL 134.609402 128.236278 \nL 139.471125 128.526708 \nL 144.332848 130.231398 \nL 149.194572 129.868661 \nL 154.056295 131.613326 \nL 158.918019 132.238056 \nL 163.779742 130.465888 \nL 168.641465 133.118543 \nL 173.503189 132.459381 \nL 178.364912 134.44737 \nL 183.226636 132.338218 \n\" style=\"fill:none;stroke:#1f77b4;stroke-linecap:square;stroke-width:1.5;\"/>\n   </g>\n   <g id=\"line2d_238\">\n    <path clip-path=\"url(#pe1c7531032)\" d=\"M 32.51321 78.846228 \nL 37.374934 61.746435 \nL 42.236657 56.789973 \nL 47.09838 54.008847 \nL 51.960104 52.494373 \nL 56.821827 51.409459 \nL 61.683551 50.414495 \nL 66.545274 49.856434 \nL 71.406997 49.186394 \nL 76.268721 48.110658 \nL 81.130444 47.833463 \nL 85.992168 47.482839 \nL 90.853891 46.792606 \nL 95.715614 47.025743 \nL 100.577338 45.894936 \nL 105.439061 46.199667 \nL 110.300785 45.722378 \nL 115.162508 45.770107 \nL 120.024231 44.98258 \nL 124.885955 45.379097 \nL 129.747678 44.404326 \nL 134.609402 44.94403 \nL 139.471125 44.444712 \nL 144.332848 44.117953 \nL 149.194572 44.316211 \nL 154.056295 43.842594 \nL 158.918019 43.640664 \nL 163.779742 44.33824 \nL 168.641465 43.387333 \nL 173.503189 43.446077 \nL 178.364912 42.493335 \n\" style=\"fill:none;stroke:#ff7f0e;stroke-dasharray:5.55,2.4;stroke-dashoffset:0;stroke-width:1.5;\"/>\n   </g>\n   <g id=\"line2d_239\">\n    <path clip-path=\"url(#pe1c7531032)\" d=\"M 39.868125 64.070465 \nL 49.633125 53.616048 \nL 59.398125 60.752113 \nL 69.163125 62.475723 \nL 78.928125 51.618594 \nL 88.693125 49.170102 \nL 98.458125 49.524489 \nL 108.223125 50.104395 \nL 117.988125 49.83055 \nL 127.753125 47.237082 \nL 137.518125 47.543143 \nL 147.283125 46.125595 \nL 157.048125 46.705501 \nL 166.813125 46.254463 \nL 176.578125 46.222246 \n\" style=\"fill:none;stroke:#2ca02c;stroke-dasharray:9.6,2.4,1.5,2.4;stroke-dashoffset:0;stroke-width:1.5;\"/>\n   </g>\n   <g id=\"line2d_240\">\n    <path clip-path=\"url(#pe1c7531032)\" d=\"M 32.51321 13.377273 \nL 37.374934 78.9334 \nL 42.236657 92.437961 \nL 47.09838 100.983291 \nL 51.960104 105.345809 \nL 56.821827 108.245256 \nL 61.683551 111.764973 \nL 66.545274 113.439427 \nL 71.406997 115.111259 \nL 76.268721 117.768675 \nL 81.130444 118.375748 \nL 85.992168 120.242322 \nL 90.853891 121.562725 \nL 95.715614 121.945193 \nL 100.577338 124.520726 \nL 105.439061 124.113094 \nL 110.300785 125.336475 \nL 115.162508 125.509835 \nL 120.024231 127.353936 \nL 124.885955 127.28714 \nL 129.747678 128.396891 \nL 134.609402 128.236278 \nL 139.471125 128.526708 \nL 144.332848 130.231398 \nL 149.194572 129.868661 \nL 154.056295 131.613326 \nL 158.918019 132.238056 \nL 163.779742 130.465888 \nL 168.641465 133.118543 \nL 173.503189 132.459381 \nL 178.364912 134.44737 \nL 183.226636 132.338218 \n\" style=\"fill:none;stroke:#1f77b4;stroke-linecap:square;stroke-width:1.5;\"/>\n   </g>\n   <g id=\"line2d_241\">\n    <path clip-path=\"url(#pe1c7531032)\" d=\"M 32.51321 78.846228 \nL 37.374934 61.746435 \nL 42.236657 56.789973 \nL 47.09838 54.008847 \nL 51.960104 52.494373 \nL 56.821827 51.409459 \nL 61.683551 50.414495 \nL 66.545274 49.856434 \nL 71.406997 49.186394 \nL 76.268721 48.110658 \nL 81.130444 47.833463 \nL 85.992168 47.482839 \nL 90.853891 46.792606 \nL 95.715614 47.025743 \nL 100.577338 45.894936 \nL 105.439061 46.199667 \nL 110.300785 45.722378 \nL 115.162508 45.770107 \nL 120.024231 44.98258 \nL 124.885955 45.379097 \nL 129.747678 44.404326 \nL 134.609402 44.94403 \nL 139.471125 44.444712 \nL 144.332848 44.117953 \nL 149.194572 44.316211 \nL 154.056295 43.842594 \nL 158.918019 43.640664 \nL 163.779742 44.33824 \nL 168.641465 43.387333 \nL 173.503189 43.446077 \nL 178.364912 42.493335 \nL 183.226636 43.842594 \n\" style=\"fill:none;stroke:#ff7f0e;stroke-dasharray:5.55,2.4;stroke-dashoffset:0;stroke-width:1.5;\"/>\n   </g>\n   <g id=\"line2d_242\">\n    <path clip-path=\"url(#pe1c7531032)\" d=\"M 39.868125 64.070465 \nL 49.633125 53.616048 \nL 59.398125 60.752113 \nL 69.163125 62.475723 \nL 78.928125 51.618594 \nL 88.693125 49.170102 \nL 98.458125 49.524489 \nL 108.223125 50.104395 \nL 117.988125 49.83055 \nL 127.753125 47.237082 \nL 137.518125 47.543143 \nL 147.283125 46.125595 \nL 157.048125 46.705501 \nL 166.813125 46.254463 \nL 176.578125 46.222246 \n\" style=\"fill:none;stroke:#2ca02c;stroke-dasharray:9.6,2.4,1.5,2.4;stroke-dashoffset:0;stroke-width:1.5;\"/>\n   </g>\n   <g id=\"line2d_243\">\n    <path clip-path=\"url(#pe1c7531032)\" d=\"M 32.51321 13.377273 \nL 37.374934 78.9334 \nL 42.236657 92.437961 \nL 47.09838 100.983291 \nL 51.960104 105.345809 \nL 56.821827 108.245256 \nL 61.683551 111.764973 \nL 66.545274 113.439427 \nL 71.406997 115.111259 \nL 76.268721 117.768675 \nL 81.130444 118.375748 \nL 85.992168 120.242322 \nL 90.853891 121.562725 \nL 95.715614 121.945193 \nL 100.577338 124.520726 \nL 105.439061 124.113094 \nL 110.300785 125.336475 \nL 115.162508 125.509835 \nL 120.024231 127.353936 \nL 124.885955 127.28714 \nL 129.747678 128.396891 \nL 134.609402 128.236278 \nL 139.471125 128.526708 \nL 144.332848 130.231398 \nL 149.194572 129.868661 \nL 154.056295 131.613326 \nL 158.918019 132.238056 \nL 163.779742 130.465888 \nL 168.641465 133.118543 \nL 173.503189 132.459381 \nL 178.364912 134.44737 \nL 183.226636 132.338218 \n\" style=\"fill:none;stroke:#1f77b4;stroke-linecap:square;stroke-width:1.5;\"/>\n   </g>\n   <g id=\"line2d_244\">\n    <path clip-path=\"url(#pe1c7531032)\" d=\"M 32.51321 78.846228 \nL 37.374934 61.746435 \nL 42.236657 56.789973 \nL 47.09838 54.008847 \nL 51.960104 52.494373 \nL 56.821827 51.409459 \nL 61.683551 50.414495 \nL 66.545274 49.856434 \nL 71.406997 49.186394 \nL 76.268721 48.110658 \nL 81.130444 47.833463 \nL 85.992168 47.482839 \nL 90.853891 46.792606 \nL 95.715614 47.025743 \nL 100.577338 45.894936 \nL 105.439061 46.199667 \nL 110.300785 45.722378 \nL 115.162508 45.770107 \nL 120.024231 44.98258 \nL 124.885955 45.379097 \nL 129.747678 44.404326 \nL 134.609402 44.94403 \nL 139.471125 44.444712 \nL 144.332848 44.117953 \nL 149.194572 44.316211 \nL 154.056295 43.842594 \nL 158.918019 43.640664 \nL 163.779742 44.33824 \nL 168.641465 43.387333 \nL 173.503189 43.446077 \nL 178.364912 42.493335 \nL 183.226636 43.842594 \n\" style=\"fill:none;stroke:#ff7f0e;stroke-dasharray:5.55,2.4;stroke-dashoffset:0;stroke-width:1.5;\"/>\n   </g>\n   <g id=\"line2d_245\">\n    <path clip-path=\"url(#pe1c7531032)\" d=\"M 39.868125 64.070465 \nL 49.633125 53.616048 \nL 59.398125 60.752113 \nL 69.163125 62.475723 \nL 78.928125 51.618594 \nL 88.693125 49.170102 \nL 98.458125 49.524489 \nL 108.223125 50.104395 \nL 117.988125 49.83055 \nL 127.753125 47.237082 \nL 137.518125 47.543143 \nL 147.283125 46.125595 \nL 157.048125 46.705501 \nL 166.813125 46.254463 \nL 176.578125 46.222246 \nL 186.343125 46.624958 \n\" style=\"fill:none;stroke:#2ca02c;stroke-dasharray:9.6,2.4,1.5,2.4;stroke-dashoffset:0;stroke-width:1.5;\"/>\n   </g>\n   <g id=\"line2d_246\">\n    <path clip-path=\"url(#pe1c7531032)\" d=\"M 32.51321 13.377273 \nL 37.374934 78.9334 \nL 42.236657 92.437961 \nL 47.09838 100.983291 \nL 51.960104 105.345809 \nL 56.821827 108.245256 \nL 61.683551 111.764973 \nL 66.545274 113.439427 \nL 71.406997 115.111259 \nL 76.268721 117.768675 \nL 81.130444 118.375748 \nL 85.992168 120.242322 \nL 90.853891 121.562725 \nL 95.715614 121.945193 \nL 100.577338 124.520726 \nL 105.439061 124.113094 \nL 110.300785 125.336475 \nL 115.162508 125.509835 \nL 120.024231 127.353936 \nL 124.885955 127.28714 \nL 129.747678 128.396891 \nL 134.609402 128.236278 \nL 139.471125 128.526708 \nL 144.332848 130.231398 \nL 149.194572 129.868661 \nL 154.056295 131.613326 \nL 158.918019 132.238056 \nL 163.779742 130.465888 \nL 168.641465 133.118543 \nL 173.503189 132.459381 \nL 178.364912 134.44737 \nL 183.226636 132.338218 \nL 188.088359 134.574843 \n\" style=\"fill:none;stroke:#1f77b4;stroke-linecap:square;stroke-width:1.5;\"/>\n   </g>\n   <g id=\"line2d_247\">\n    <path clip-path=\"url(#pe1c7531032)\" d=\"M 32.51321 78.846228 \nL 37.374934 61.746435 \nL 42.236657 56.789973 \nL 47.09838 54.008847 \nL 51.960104 52.494373 \nL 56.821827 51.409459 \nL 61.683551 50.414495 \nL 66.545274 49.856434 \nL 71.406997 49.186394 \nL 76.268721 48.110658 \nL 81.130444 47.833463 \nL 85.992168 47.482839 \nL 90.853891 46.792606 \nL 95.715614 47.025743 \nL 100.577338 45.894936 \nL 105.439061 46.199667 \nL 110.300785 45.722378 \nL 115.162508 45.770107 \nL 120.024231 44.98258 \nL 124.885955 45.379097 \nL 129.747678 44.404326 \nL 134.609402 44.94403 \nL 139.471125 44.444712 \nL 144.332848 44.117953 \nL 149.194572 44.316211 \nL 154.056295 43.842594 \nL 158.918019 43.640664 \nL 163.779742 44.33824 \nL 168.641465 43.387333 \nL 173.503189 43.446077 \nL 178.364912 42.493335 \nL 183.226636 43.842594 \n\" style=\"fill:none;stroke:#ff7f0e;stroke-dasharray:5.55,2.4;stroke-dashoffset:0;stroke-width:1.5;\"/>\n   </g>\n   <g id=\"line2d_248\">\n    <path clip-path=\"url(#pe1c7531032)\" d=\"M 39.868125 64.070465 \nL 49.633125 53.616048 \nL 59.398125 60.752113 \nL 69.163125 62.475723 \nL 78.928125 51.618594 \nL 88.693125 49.170102 \nL 98.458125 49.524489 \nL 108.223125 50.104395 \nL 117.988125 49.83055 \nL 127.753125 47.237082 \nL 137.518125 47.543143 \nL 147.283125 46.125595 \nL 157.048125 46.705501 \nL 166.813125 46.254463 \nL 176.578125 46.222246 \nL 186.343125 46.624958 \n\" style=\"fill:none;stroke:#2ca02c;stroke-dasharray:9.6,2.4,1.5,2.4;stroke-dashoffset:0;stroke-width:1.5;\"/>\n   </g>\n   <g id=\"line2d_249\">\n    <path clip-path=\"url(#pe1c7531032)\" d=\"M 32.51321 13.377273 \nL 37.374934 78.9334 \nL 42.236657 92.437961 \nL 47.09838 100.983291 \nL 51.960104 105.345809 \nL 56.821827 108.245256 \nL 61.683551 111.764973 \nL 66.545274 113.439427 \nL 71.406997 115.111259 \nL 76.268721 117.768675 \nL 81.130444 118.375748 \nL 85.992168 120.242322 \nL 90.853891 121.562725 \nL 95.715614 121.945193 \nL 100.577338 124.520726 \nL 105.439061 124.113094 \nL 110.300785 125.336475 \nL 115.162508 125.509835 \nL 120.024231 127.353936 \nL 124.885955 127.28714 \nL 129.747678 128.396891 \nL 134.609402 128.236278 \nL 139.471125 128.526708 \nL 144.332848 130.231398 \nL 149.194572 129.868661 \nL 154.056295 131.613326 \nL 158.918019 132.238056 \nL 163.779742 130.465888 \nL 168.641465 133.118543 \nL 173.503189 132.459381 \nL 178.364912 134.44737 \nL 183.226636 132.338218 \nL 188.088359 134.574843 \n\" style=\"fill:none;stroke:#1f77b4;stroke-linecap:square;stroke-width:1.5;\"/>\n   </g>\n   <g id=\"line2d_250\">\n    <path clip-path=\"url(#pe1c7531032)\" d=\"M 32.51321 78.846228 \nL 37.374934 61.746435 \nL 42.236657 56.789973 \nL 47.09838 54.008847 \nL 51.960104 52.494373 \nL 56.821827 51.409459 \nL 61.683551 50.414495 \nL 66.545274 49.856434 \nL 71.406997 49.186394 \nL 76.268721 48.110658 \nL 81.130444 47.833463 \nL 85.992168 47.482839 \nL 90.853891 46.792606 \nL 95.715614 47.025743 \nL 100.577338 45.894936 \nL 105.439061 46.199667 \nL 110.300785 45.722378 \nL 115.162508 45.770107 \nL 120.024231 44.98258 \nL 124.885955 45.379097 \nL 129.747678 44.404326 \nL 134.609402 44.94403 \nL 139.471125 44.444712 \nL 144.332848 44.117953 \nL 149.194572 44.316211 \nL 154.056295 43.842594 \nL 158.918019 43.640664 \nL 163.779742 44.33824 \nL 168.641465 43.387333 \nL 173.503189 43.446077 \nL 178.364912 42.493335 \nL 183.226636 43.842594 \nL 188.088359 42.799901 \n\" style=\"fill:none;stroke:#ff7f0e;stroke-dasharray:5.55,2.4;stroke-dashoffset:0;stroke-width:1.5;\"/>\n   </g>\n   <g id=\"line2d_251\">\n    <path clip-path=\"url(#pe1c7531032)\" d=\"M 39.868125 64.070465 \nL 49.633125 53.616048 \nL 59.398125 60.752113 \nL 69.163125 62.475723 \nL 78.928125 51.618594 \nL 88.693125 49.170102 \nL 98.458125 49.524489 \nL 108.223125 50.104395 \nL 117.988125 49.83055 \nL 127.753125 47.237082 \nL 137.518125 47.543143 \nL 147.283125 46.125595 \nL 157.048125 46.705501 \nL 166.813125 46.254463 \nL 176.578125 46.222246 \nL 186.343125 46.624958 \n\" style=\"fill:none;stroke:#2ca02c;stroke-dasharray:9.6,2.4,1.5,2.4;stroke-dashoffset:0;stroke-width:1.5;\"/>\n   </g>\n   <g id=\"line2d_252\">\n    <path clip-path=\"url(#pe1c7531032)\" d=\"M 32.51321 13.377273 \nL 37.374934 78.9334 \nL 42.236657 92.437961 \nL 47.09838 100.983291 \nL 51.960104 105.345809 \nL 56.821827 108.245256 \nL 61.683551 111.764973 \nL 66.545274 113.439427 \nL 71.406997 115.111259 \nL 76.268721 117.768675 \nL 81.130444 118.375748 \nL 85.992168 120.242322 \nL 90.853891 121.562725 \nL 95.715614 121.945193 \nL 100.577338 124.520726 \nL 105.439061 124.113094 \nL 110.300785 125.336475 \nL 115.162508 125.509835 \nL 120.024231 127.353936 \nL 124.885955 127.28714 \nL 129.747678 128.396891 \nL 134.609402 128.236278 \nL 139.471125 128.526708 \nL 144.332848 130.231398 \nL 149.194572 129.868661 \nL 154.056295 131.613326 \nL 158.918019 132.238056 \nL 163.779742 130.465888 \nL 168.641465 133.118543 \nL 173.503189 132.459381 \nL 178.364912 134.44737 \nL 183.226636 132.338218 \nL 188.088359 134.574843 \nL 192.950082 135.02503 \n\" style=\"fill:none;stroke:#1f77b4;stroke-linecap:square;stroke-width:1.5;\"/>\n   </g>\n   <g id=\"line2d_253\">\n    <path clip-path=\"url(#pe1c7531032)\" d=\"M 32.51321 78.846228 \nL 37.374934 61.746435 \nL 42.236657 56.789973 \nL 47.09838 54.008847 \nL 51.960104 52.494373 \nL 56.821827 51.409459 \nL 61.683551 50.414495 \nL 66.545274 49.856434 \nL 71.406997 49.186394 \nL 76.268721 48.110658 \nL 81.130444 47.833463 \nL 85.992168 47.482839 \nL 90.853891 46.792606 \nL 95.715614 47.025743 \nL 100.577338 45.894936 \nL 105.439061 46.199667 \nL 110.300785 45.722378 \nL 115.162508 45.770107 \nL 120.024231 44.98258 \nL 124.885955 45.379097 \nL 129.747678 44.404326 \nL 134.609402 44.94403 \nL 139.471125 44.444712 \nL 144.332848 44.117953 \nL 149.194572 44.316211 \nL 154.056295 43.842594 \nL 158.918019 43.640664 \nL 163.779742 44.33824 \nL 168.641465 43.387333 \nL 173.503189 43.446077 \nL 178.364912 42.493335 \nL 183.226636 43.842594 \nL 188.088359 42.799901 \n\" style=\"fill:none;stroke:#ff7f0e;stroke-dasharray:5.55,2.4;stroke-dashoffset:0;stroke-width:1.5;\"/>\n   </g>\n   <g id=\"line2d_254\">\n    <path clip-path=\"url(#pe1c7531032)\" d=\"M 39.868125 64.070465 \nL 49.633125 53.616048 \nL 59.398125 60.752113 \nL 69.163125 62.475723 \nL 78.928125 51.618594 \nL 88.693125 49.170102 \nL 98.458125 49.524489 \nL 108.223125 50.104395 \nL 117.988125 49.83055 \nL 127.753125 47.237082 \nL 137.518125 47.543143 \nL 147.283125 46.125595 \nL 157.048125 46.705501 \nL 166.813125 46.254463 \nL 176.578125 46.222246 \nL 186.343125 46.624958 \n\" style=\"fill:none;stroke:#2ca02c;stroke-dasharray:9.6,2.4,1.5,2.4;stroke-dashoffset:0;stroke-width:1.5;\"/>\n   </g>\n   <g id=\"line2d_255\">\n    <path clip-path=\"url(#pe1c7531032)\" d=\"M 32.51321 13.377273 \nL 37.374934 78.9334 \nL 42.236657 92.437961 \nL 47.09838 100.983291 \nL 51.960104 105.345809 \nL 56.821827 108.245256 \nL 61.683551 111.764973 \nL 66.545274 113.439427 \nL 71.406997 115.111259 \nL 76.268721 117.768675 \nL 81.130444 118.375748 \nL 85.992168 120.242322 \nL 90.853891 121.562725 \nL 95.715614 121.945193 \nL 100.577338 124.520726 \nL 105.439061 124.113094 \nL 110.300785 125.336475 \nL 115.162508 125.509835 \nL 120.024231 127.353936 \nL 124.885955 127.28714 \nL 129.747678 128.396891 \nL 134.609402 128.236278 \nL 139.471125 128.526708 \nL 144.332848 130.231398 \nL 149.194572 129.868661 \nL 154.056295 131.613326 \nL 158.918019 132.238056 \nL 163.779742 130.465888 \nL 168.641465 133.118543 \nL 173.503189 132.459381 \nL 178.364912 134.44737 \nL 183.226636 132.338218 \nL 188.088359 134.574843 \nL 192.950082 135.02503 \n\" style=\"fill:none;stroke:#1f77b4;stroke-linecap:square;stroke-width:1.5;\"/>\n   </g>\n   <g id=\"line2d_256\">\n    <path clip-path=\"url(#pe1c7531032)\" d=\"M 32.51321 78.846228 \nL 37.374934 61.746435 \nL 42.236657 56.789973 \nL 47.09838 54.008847 \nL 51.960104 52.494373 \nL 56.821827 51.409459 \nL 61.683551 50.414495 \nL 66.545274 49.856434 \nL 71.406997 49.186394 \nL 76.268721 48.110658 \nL 81.130444 47.833463 \nL 85.992168 47.482839 \nL 90.853891 46.792606 \nL 95.715614 47.025743 \nL 100.577338 45.894936 \nL 105.439061 46.199667 \nL 110.300785 45.722378 \nL 115.162508 45.770107 \nL 120.024231 44.98258 \nL 124.885955 45.379097 \nL 129.747678 44.404326 \nL 134.609402 44.94403 \nL 139.471125 44.444712 \nL 144.332848 44.117953 \nL 149.194572 44.316211 \nL 154.056295 43.842594 \nL 158.918019 43.640664 \nL 163.779742 44.33824 \nL 168.641465 43.387333 \nL 173.503189 43.446077 \nL 178.364912 42.493335 \nL 183.226636 43.842594 \nL 188.088359 42.799901 \nL 192.950082 42.245512 \n\" style=\"fill:none;stroke:#ff7f0e;stroke-dasharray:5.55,2.4;stroke-dashoffset:0;stroke-width:1.5;\"/>\n   </g>\n   <g id=\"line2d_257\">\n    <path clip-path=\"url(#pe1c7531032)\" d=\"M 39.868125 64.070465 \nL 49.633125 53.616048 \nL 59.398125 60.752113 \nL 69.163125 62.475723 \nL 78.928125 51.618594 \nL 88.693125 49.170102 \nL 98.458125 49.524489 \nL 108.223125 50.104395 \nL 117.988125 49.83055 \nL 127.753125 47.237082 \nL 137.518125 47.543143 \nL 147.283125 46.125595 \nL 157.048125 46.705501 \nL 166.813125 46.254463 \nL 176.578125 46.222246 \nL 186.343125 46.624958 \n\" style=\"fill:none;stroke:#2ca02c;stroke-dasharray:9.6,2.4,1.5,2.4;stroke-dashoffset:0;stroke-width:1.5;\"/>\n   </g>\n   <g id=\"line2d_258\">\n    <path clip-path=\"url(#pe1c7531032)\" d=\"M 32.51321 13.377273 \nL 37.374934 78.9334 \nL 42.236657 92.437961 \nL 47.09838 100.983291 \nL 51.960104 105.345809 \nL 56.821827 108.245256 \nL 61.683551 111.764973 \nL 66.545274 113.439427 \nL 71.406997 115.111259 \nL 76.268721 117.768675 \nL 81.130444 118.375748 \nL 85.992168 120.242322 \nL 90.853891 121.562725 \nL 95.715614 121.945193 \nL 100.577338 124.520726 \nL 105.439061 124.113094 \nL 110.300785 125.336475 \nL 115.162508 125.509835 \nL 120.024231 127.353936 \nL 124.885955 127.28714 \nL 129.747678 128.396891 \nL 134.609402 128.236278 \nL 139.471125 128.526708 \nL 144.332848 130.231398 \nL 149.194572 129.868661 \nL 154.056295 131.613326 \nL 158.918019 132.238056 \nL 163.779742 130.465888 \nL 168.641465 133.118543 \nL 173.503189 132.459381 \nL 178.364912 134.44737 \nL 183.226636 132.338218 \nL 188.088359 134.574843 \nL 192.950082 135.02503 \n\" style=\"fill:none;stroke:#1f77b4;stroke-linecap:square;stroke-width:1.5;\"/>\n   </g>\n   <g id=\"line2d_259\">\n    <path clip-path=\"url(#pe1c7531032)\" d=\"M 32.51321 78.846228 \nL 37.374934 61.746435 \nL 42.236657 56.789973 \nL 47.09838 54.008847 \nL 51.960104 52.494373 \nL 56.821827 51.409459 \nL 61.683551 50.414495 \nL 66.545274 49.856434 \nL 71.406997 49.186394 \nL 76.268721 48.110658 \nL 81.130444 47.833463 \nL 85.992168 47.482839 \nL 90.853891 46.792606 \nL 95.715614 47.025743 \nL 100.577338 45.894936 \nL 105.439061 46.199667 \nL 110.300785 45.722378 \nL 115.162508 45.770107 \nL 120.024231 44.98258 \nL 124.885955 45.379097 \nL 129.747678 44.404326 \nL 134.609402 44.94403 \nL 139.471125 44.444712 \nL 144.332848 44.117953 \nL 149.194572 44.316211 \nL 154.056295 43.842594 \nL 158.918019 43.640664 \nL 163.779742 44.33824 \nL 168.641465 43.387333 \nL 173.503189 43.446077 \nL 178.364912 42.493335 \nL 183.226636 43.842594 \nL 188.088359 42.799901 \nL 192.950082 42.245512 \n\" style=\"fill:none;stroke:#ff7f0e;stroke-dasharray:5.55,2.4;stroke-dashoffset:0;stroke-width:1.5;\"/>\n   </g>\n   <g id=\"line2d_260\">\n    <path clip-path=\"url(#pe1c7531032)\" d=\"M 39.868125 64.070465 \nL 49.633125 53.616048 \nL 59.398125 60.752113 \nL 69.163125 62.475723 \nL 78.928125 51.618594 \nL 88.693125 49.170102 \nL 98.458125 49.524489 \nL 108.223125 50.104395 \nL 117.988125 49.83055 \nL 127.753125 47.237082 \nL 137.518125 47.543143 \nL 147.283125 46.125595 \nL 157.048125 46.705501 \nL 166.813125 46.254463 \nL 176.578125 46.222246 \nL 186.343125 46.624958 \nL 196.108125 46.689392 \n\" style=\"fill:none;stroke:#2ca02c;stroke-dasharray:9.6,2.4,1.5,2.4;stroke-dashoffset:0;stroke-width:1.5;\"/>\n   </g>\n   <g id=\"line2d_261\">\n    <path clip-path=\"url(#pe1c7531032)\" d=\"M 32.51321 13.377273 \nL 37.374934 78.9334 \nL 42.236657 92.437961 \nL 47.09838 100.983291 \nL 51.960104 105.345809 \nL 56.821827 108.245256 \nL 61.683551 111.764973 \nL 66.545274 113.439427 \nL 71.406997 115.111259 \nL 76.268721 117.768675 \nL 81.130444 118.375748 \nL 85.992168 120.242322 \nL 90.853891 121.562725 \nL 95.715614 121.945193 \nL 100.577338 124.520726 \nL 105.439061 124.113094 \nL 110.300785 125.336475 \nL 115.162508 125.509835 \nL 120.024231 127.353936 \nL 124.885955 127.28714 \nL 129.747678 128.396891 \nL 134.609402 128.236278 \nL 139.471125 128.526708 \nL 144.332848 130.231398 \nL 149.194572 129.868661 \nL 154.056295 131.613326 \nL 158.918019 132.238056 \nL 163.779742 130.465888 \nL 168.641465 133.118543 \nL 173.503189 132.459381 \nL 178.364912 134.44737 \nL 183.226636 132.338218 \nL 188.088359 134.574843 \nL 192.950082 135.02503 \nL 197.811806 135.284624 \n\" style=\"fill:none;stroke:#1f77b4;stroke-linecap:square;stroke-width:1.5;\"/>\n   </g>\n   <g id=\"line2d_262\">\n    <path clip-path=\"url(#pe1c7531032)\" d=\"M 32.51321 78.846228 \nL 37.374934 61.746435 \nL 42.236657 56.789973 \nL 47.09838 54.008847 \nL 51.960104 52.494373 \nL 56.821827 51.409459 \nL 61.683551 50.414495 \nL 66.545274 49.856434 \nL 71.406997 49.186394 \nL 76.268721 48.110658 \nL 81.130444 47.833463 \nL 85.992168 47.482839 \nL 90.853891 46.792606 \nL 95.715614 47.025743 \nL 100.577338 45.894936 \nL 105.439061 46.199667 \nL 110.300785 45.722378 \nL 115.162508 45.770107 \nL 120.024231 44.98258 \nL 124.885955 45.379097 \nL 129.747678 44.404326 \nL 134.609402 44.94403 \nL 139.471125 44.444712 \nL 144.332848 44.117953 \nL 149.194572 44.316211 \nL 154.056295 43.842594 \nL 158.918019 43.640664 \nL 163.779742 44.33824 \nL 168.641465 43.387333 \nL 173.503189 43.446077 \nL 178.364912 42.493335 \nL 183.226636 43.842594 \nL 188.088359 42.799901 \nL 192.950082 42.245512 \n\" style=\"fill:none;stroke:#ff7f0e;stroke-dasharray:5.55,2.4;stroke-dashoffset:0;stroke-width:1.5;\"/>\n   </g>\n   <g id=\"line2d_263\">\n    <path clip-path=\"url(#pe1c7531032)\" d=\"M 39.868125 64.070465 \nL 49.633125 53.616048 \nL 59.398125 60.752113 \nL 69.163125 62.475723 \nL 78.928125 51.618594 \nL 88.693125 49.170102 \nL 98.458125 49.524489 \nL 108.223125 50.104395 \nL 117.988125 49.83055 \nL 127.753125 47.237082 \nL 137.518125 47.543143 \nL 147.283125 46.125595 \nL 157.048125 46.705501 \nL 166.813125 46.254463 \nL 176.578125 46.222246 \nL 186.343125 46.624958 \nL 196.108125 46.689392 \n\" style=\"fill:none;stroke:#2ca02c;stroke-dasharray:9.6,2.4,1.5,2.4;stroke-dashoffset:0;stroke-width:1.5;\"/>\n   </g>\n   <g id=\"line2d_264\">\n    <path clip-path=\"url(#pe1c7531032)\" d=\"M 32.51321 13.377273 \nL 37.374934 78.9334 \nL 42.236657 92.437961 \nL 47.09838 100.983291 \nL 51.960104 105.345809 \nL 56.821827 108.245256 \nL 61.683551 111.764973 \nL 66.545274 113.439427 \nL 71.406997 115.111259 \nL 76.268721 117.768675 \nL 81.130444 118.375748 \nL 85.992168 120.242322 \nL 90.853891 121.562725 \nL 95.715614 121.945193 \nL 100.577338 124.520726 \nL 105.439061 124.113094 \nL 110.300785 125.336475 \nL 115.162508 125.509835 \nL 120.024231 127.353936 \nL 124.885955 127.28714 \nL 129.747678 128.396891 \nL 134.609402 128.236278 \nL 139.471125 128.526708 \nL 144.332848 130.231398 \nL 149.194572 129.868661 \nL 154.056295 131.613326 \nL 158.918019 132.238056 \nL 163.779742 130.465888 \nL 168.641465 133.118543 \nL 173.503189 132.459381 \nL 178.364912 134.44737 \nL 183.226636 132.338218 \nL 188.088359 134.574843 \nL 192.950082 135.02503 \nL 197.811806 135.284624 \n\" style=\"fill:none;stroke:#1f77b4;stroke-linecap:square;stroke-width:1.5;\"/>\n   </g>\n   <g id=\"line2d_265\">\n    <path clip-path=\"url(#pe1c7531032)\" d=\"M 32.51321 78.846228 \nL 37.374934 61.746435 \nL 42.236657 56.789973 \nL 47.09838 54.008847 \nL 51.960104 52.494373 \nL 56.821827 51.409459 \nL 61.683551 50.414495 \nL 66.545274 49.856434 \nL 71.406997 49.186394 \nL 76.268721 48.110658 \nL 81.130444 47.833463 \nL 85.992168 47.482839 \nL 90.853891 46.792606 \nL 95.715614 47.025743 \nL 100.577338 45.894936 \nL 105.439061 46.199667 \nL 110.300785 45.722378 \nL 115.162508 45.770107 \nL 120.024231 44.98258 \nL 124.885955 45.379097 \nL 129.747678 44.404326 \nL 134.609402 44.94403 \nL 139.471125 44.444712 \nL 144.332848 44.117953 \nL 149.194572 44.316211 \nL 154.056295 43.842594 \nL 158.918019 43.640664 \nL 163.779742 44.33824 \nL 168.641465 43.387333 \nL 173.503189 43.446077 \nL 178.364912 42.493335 \nL 183.226636 43.842594 \nL 188.088359 42.799901 \nL 192.950082 42.245512 \nL 197.811806 42.48232 \n\" style=\"fill:none;stroke:#ff7f0e;stroke-dasharray:5.55,2.4;stroke-dashoffset:0;stroke-width:1.5;\"/>\n   </g>\n   <g id=\"line2d_266\">\n    <path clip-path=\"url(#pe1c7531032)\" d=\"M 39.868125 64.070465 \nL 49.633125 53.616048 \nL 59.398125 60.752113 \nL 69.163125 62.475723 \nL 78.928125 51.618594 \nL 88.693125 49.170102 \nL 98.458125 49.524489 \nL 108.223125 50.104395 \nL 117.988125 49.83055 \nL 127.753125 47.237082 \nL 137.518125 47.543143 \nL 147.283125 46.125595 \nL 157.048125 46.705501 \nL 166.813125 46.254463 \nL 176.578125 46.222246 \nL 186.343125 46.624958 \nL 196.108125 46.689392 \n\" style=\"fill:none;stroke:#2ca02c;stroke-dasharray:9.6,2.4,1.5,2.4;stroke-dashoffset:0;stroke-width:1.5;\"/>\n   </g>\n   <g id=\"line2d_267\">\n    <path clip-path=\"url(#pe1c7531032)\" d=\"M 32.51321 13.377273 \nL 37.374934 78.9334 \nL 42.236657 92.437961 \nL 47.09838 100.983291 \nL 51.960104 105.345809 \nL 56.821827 108.245256 \nL 61.683551 111.764973 \nL 66.545274 113.439427 \nL 71.406997 115.111259 \nL 76.268721 117.768675 \nL 81.130444 118.375748 \nL 85.992168 120.242322 \nL 90.853891 121.562725 \nL 95.715614 121.945193 \nL 100.577338 124.520726 \nL 105.439061 124.113094 \nL 110.300785 125.336475 \nL 115.162508 125.509835 \nL 120.024231 127.353936 \nL 124.885955 127.28714 \nL 129.747678 128.396891 \nL 134.609402 128.236278 \nL 139.471125 128.526708 \nL 144.332848 130.231398 \nL 149.194572 129.868661 \nL 154.056295 131.613326 \nL 158.918019 132.238056 \nL 163.779742 130.465888 \nL 168.641465 133.118543 \nL 173.503189 132.459381 \nL 178.364912 134.44737 \nL 183.226636 132.338218 \nL 188.088359 134.574843 \nL 192.950082 135.02503 \nL 197.811806 135.284624 \nL 202.673529 134.438759 \n\" style=\"fill:none;stroke:#1f77b4;stroke-linecap:square;stroke-width:1.5;\"/>\n   </g>\n   <g id=\"line2d_268\">\n    <path clip-path=\"url(#pe1c7531032)\" d=\"M 32.51321 78.846228 \nL 37.374934 61.746435 \nL 42.236657 56.789973 \nL 47.09838 54.008847 \nL 51.960104 52.494373 \nL 56.821827 51.409459 \nL 61.683551 50.414495 \nL 66.545274 49.856434 \nL 71.406997 49.186394 \nL 76.268721 48.110658 \nL 81.130444 47.833463 \nL 85.992168 47.482839 \nL 90.853891 46.792606 \nL 95.715614 47.025743 \nL 100.577338 45.894936 \nL 105.439061 46.199667 \nL 110.300785 45.722378 \nL 115.162508 45.770107 \nL 120.024231 44.98258 \nL 124.885955 45.379097 \nL 129.747678 44.404326 \nL 134.609402 44.94403 \nL 139.471125 44.444712 \nL 144.332848 44.117953 \nL 149.194572 44.316211 \nL 154.056295 43.842594 \nL 158.918019 43.640664 \nL 163.779742 44.33824 \nL 168.641465 43.387333 \nL 173.503189 43.446077 \nL 178.364912 42.493335 \nL 183.226636 43.842594 \nL 188.088359 42.799901 \nL 192.950082 42.245512 \nL 197.811806 42.48232 \n\" style=\"fill:none;stroke:#ff7f0e;stroke-dasharray:5.55,2.4;stroke-dashoffset:0;stroke-width:1.5;\"/>\n   </g>\n   <g id=\"line2d_269\">\n    <path clip-path=\"url(#pe1c7531032)\" d=\"M 39.868125 64.070465 \nL 49.633125 53.616048 \nL 59.398125 60.752113 \nL 69.163125 62.475723 \nL 78.928125 51.618594 \nL 88.693125 49.170102 \nL 98.458125 49.524489 \nL 108.223125 50.104395 \nL 117.988125 49.83055 \nL 127.753125 47.237082 \nL 137.518125 47.543143 \nL 147.283125 46.125595 \nL 157.048125 46.705501 \nL 166.813125 46.254463 \nL 176.578125 46.222246 \nL 186.343125 46.624958 \nL 196.108125 46.689392 \n\" style=\"fill:none;stroke:#2ca02c;stroke-dasharray:9.6,2.4,1.5,2.4;stroke-dashoffset:0;stroke-width:1.5;\"/>\n   </g>\n   <g id=\"line2d_270\">\n    <path clip-path=\"url(#pe1c7531032)\" d=\"M 32.51321 13.377273 \nL 37.374934 78.9334 \nL 42.236657 92.437961 \nL 47.09838 100.983291 \nL 51.960104 105.345809 \nL 56.821827 108.245256 \nL 61.683551 111.764973 \nL 66.545274 113.439427 \nL 71.406997 115.111259 \nL 76.268721 117.768675 \nL 81.130444 118.375748 \nL 85.992168 120.242322 \nL 90.853891 121.562725 \nL 95.715614 121.945193 \nL 100.577338 124.520726 \nL 105.439061 124.113094 \nL 110.300785 125.336475 \nL 115.162508 125.509835 \nL 120.024231 127.353936 \nL 124.885955 127.28714 \nL 129.747678 128.396891 \nL 134.609402 128.236278 \nL 139.471125 128.526708 \nL 144.332848 130.231398 \nL 149.194572 129.868661 \nL 154.056295 131.613326 \nL 158.918019 132.238056 \nL 163.779742 130.465888 \nL 168.641465 133.118543 \nL 173.503189 132.459381 \nL 178.364912 134.44737 \nL 183.226636 132.338218 \nL 188.088359 134.574843 \nL 192.950082 135.02503 \nL 197.811806 135.284624 \nL 202.673529 134.438759 \n\" style=\"fill:none;stroke:#1f77b4;stroke-linecap:square;stroke-width:1.5;\"/>\n   </g>\n   <g id=\"line2d_271\">\n    <path clip-path=\"url(#pe1c7531032)\" d=\"M 32.51321 78.846228 \nL 37.374934 61.746435 \nL 42.236657 56.789973 \nL 47.09838 54.008847 \nL 51.960104 52.494373 \nL 56.821827 51.409459 \nL 61.683551 50.414495 \nL 66.545274 49.856434 \nL 71.406997 49.186394 \nL 76.268721 48.110658 \nL 81.130444 47.833463 \nL 85.992168 47.482839 \nL 90.853891 46.792606 \nL 95.715614 47.025743 \nL 100.577338 45.894936 \nL 105.439061 46.199667 \nL 110.300785 45.722378 \nL 115.162508 45.770107 \nL 120.024231 44.98258 \nL 124.885955 45.379097 \nL 129.747678 44.404326 \nL 134.609402 44.94403 \nL 139.471125 44.444712 \nL 144.332848 44.117953 \nL 149.194572 44.316211 \nL 154.056295 43.842594 \nL 158.918019 43.640664 \nL 163.779742 44.33824 \nL 168.641465 43.387333 \nL 173.503189 43.446077 \nL 178.364912 42.493335 \nL 183.226636 43.842594 \nL 188.088359 42.799901 \nL 192.950082 42.245512 \nL 197.811806 42.48232 \nL 202.673529 42.460292 \n\" style=\"fill:none;stroke:#ff7f0e;stroke-dasharray:5.55,2.4;stroke-dashoffset:0;stroke-width:1.5;\"/>\n   </g>\n   <g id=\"line2d_272\">\n    <path clip-path=\"url(#pe1c7531032)\" d=\"M 39.868125 64.070465 \nL 49.633125 53.616048 \nL 59.398125 60.752113 \nL 69.163125 62.475723 \nL 78.928125 51.618594 \nL 88.693125 49.170102 \nL 98.458125 49.524489 \nL 108.223125 50.104395 \nL 117.988125 49.83055 \nL 127.753125 47.237082 \nL 137.518125 47.543143 \nL 147.283125 46.125595 \nL 157.048125 46.705501 \nL 166.813125 46.254463 \nL 176.578125 46.222246 \nL 186.343125 46.624958 \nL 196.108125 46.689392 \n\" style=\"fill:none;stroke:#2ca02c;stroke-dasharray:9.6,2.4,1.5,2.4;stroke-dashoffset:0;stroke-width:1.5;\"/>\n   </g>\n   <g id=\"line2d_273\">\n    <path clip-path=\"url(#pe1c7531032)\" d=\"M 32.51321 13.377273 \nL 37.374934 78.9334 \nL 42.236657 92.437961 \nL 47.09838 100.983291 \nL 51.960104 105.345809 \nL 56.821827 108.245256 \nL 61.683551 111.764973 \nL 66.545274 113.439427 \nL 71.406997 115.111259 \nL 76.268721 117.768675 \nL 81.130444 118.375748 \nL 85.992168 120.242322 \nL 90.853891 121.562725 \nL 95.715614 121.945193 \nL 100.577338 124.520726 \nL 105.439061 124.113094 \nL 110.300785 125.336475 \nL 115.162508 125.509835 \nL 120.024231 127.353936 \nL 124.885955 127.28714 \nL 129.747678 128.396891 \nL 134.609402 128.236278 \nL 139.471125 128.526708 \nL 144.332848 130.231398 \nL 149.194572 129.868661 \nL 154.056295 131.613326 \nL 158.918019 132.238056 \nL 163.779742 130.465888 \nL 168.641465 133.118543 \nL 173.503189 132.459381 \nL 178.364912 134.44737 \nL 183.226636 132.338218 \nL 188.088359 134.574843 \nL 192.950082 135.02503 \nL 197.811806 135.284624 \nL 202.673529 134.438759 \n\" style=\"fill:none;stroke:#1f77b4;stroke-linecap:square;stroke-width:1.5;\"/>\n   </g>\n   <g id=\"line2d_274\">\n    <path clip-path=\"url(#pe1c7531032)\" d=\"M 32.51321 78.846228 \nL 37.374934 61.746435 \nL 42.236657 56.789973 \nL 47.09838 54.008847 \nL 51.960104 52.494373 \nL 56.821827 51.409459 \nL 61.683551 50.414495 \nL 66.545274 49.856434 \nL 71.406997 49.186394 \nL 76.268721 48.110658 \nL 81.130444 47.833463 \nL 85.992168 47.482839 \nL 90.853891 46.792606 \nL 95.715614 47.025743 \nL 100.577338 45.894936 \nL 105.439061 46.199667 \nL 110.300785 45.722378 \nL 115.162508 45.770107 \nL 120.024231 44.98258 \nL 124.885955 45.379097 \nL 129.747678 44.404326 \nL 134.609402 44.94403 \nL 139.471125 44.444712 \nL 144.332848 44.117953 \nL 149.194572 44.316211 \nL 154.056295 43.842594 \nL 158.918019 43.640664 \nL 163.779742 44.33824 \nL 168.641465 43.387333 \nL 173.503189 43.446077 \nL 178.364912 42.493335 \nL 183.226636 43.842594 \nL 188.088359 42.799901 \nL 192.950082 42.245512 \nL 197.811806 42.48232 \nL 202.673529 42.460292 \n\" style=\"fill:none;stroke:#ff7f0e;stroke-dasharray:5.55,2.4;stroke-dashoffset:0;stroke-width:1.5;\"/>\n   </g>\n   <g id=\"line2d_275\">\n    <path clip-path=\"url(#pe1c7531032)\" d=\"M 39.868125 64.070465 \nL 49.633125 53.616048 \nL 59.398125 60.752113 \nL 69.163125 62.475723 \nL 78.928125 51.618594 \nL 88.693125 49.170102 \nL 98.458125 49.524489 \nL 108.223125 50.104395 \nL 117.988125 49.83055 \nL 127.753125 47.237082 \nL 137.518125 47.543143 \nL 147.283125 46.125595 \nL 157.048125 46.705501 \nL 166.813125 46.254463 \nL 176.578125 46.222246 \nL 186.343125 46.624958 \nL 196.108125 46.689392 \nL 205.873125 45.175193 \n\" style=\"fill:none;stroke:#2ca02c;stroke-dasharray:9.6,2.4,1.5,2.4;stroke-dashoffset:0;stroke-width:1.5;\"/>\n   </g>\n   <g id=\"line2d_276\">\n    <path clip-path=\"url(#pe1c7531032)\" d=\"M 32.51321 13.377273 \nL 37.374934 78.9334 \nL 42.236657 92.437961 \nL 47.09838 100.983291 \nL 51.960104 105.345809 \nL 56.821827 108.245256 \nL 61.683551 111.764973 \nL 66.545274 113.439427 \nL 71.406997 115.111259 \nL 76.268721 117.768675 \nL 81.130444 118.375748 \nL 85.992168 120.242322 \nL 90.853891 121.562725 \nL 95.715614 121.945193 \nL 100.577338 124.520726 \nL 105.439061 124.113094 \nL 110.300785 125.336475 \nL 115.162508 125.509835 \nL 120.024231 127.353936 \nL 124.885955 127.28714 \nL 129.747678 128.396891 \nL 134.609402 128.236278 \nL 139.471125 128.526708 \nL 144.332848 130.231398 \nL 149.194572 129.868661 \nL 154.056295 131.613326 \nL 158.918019 132.238056 \nL 163.779742 130.465888 \nL 168.641465 133.118543 \nL 173.503189 132.459381 \nL 178.364912 134.44737 \nL 183.226636 132.338218 \nL 188.088359 134.574843 \nL 192.950082 135.02503 \nL 197.811806 135.284624 \nL 202.673529 134.438759 \nL 207.535253 135.881448 \n\" style=\"fill:none;stroke:#1f77b4;stroke-linecap:square;stroke-width:1.5;\"/>\n   </g>\n   <g id=\"line2d_277\">\n    <path clip-path=\"url(#pe1c7531032)\" d=\"M 32.51321 78.846228 \nL 37.374934 61.746435 \nL 42.236657 56.789973 \nL 47.09838 54.008847 \nL 51.960104 52.494373 \nL 56.821827 51.409459 \nL 61.683551 50.414495 \nL 66.545274 49.856434 \nL 71.406997 49.186394 \nL 76.268721 48.110658 \nL 81.130444 47.833463 \nL 85.992168 47.482839 \nL 90.853891 46.792606 \nL 95.715614 47.025743 \nL 100.577338 45.894936 \nL 105.439061 46.199667 \nL 110.300785 45.722378 \nL 115.162508 45.770107 \nL 120.024231 44.98258 \nL 124.885955 45.379097 \nL 129.747678 44.404326 \nL 134.609402 44.94403 \nL 139.471125 44.444712 \nL 144.332848 44.117953 \nL 149.194572 44.316211 \nL 154.056295 43.842594 \nL 158.918019 43.640664 \nL 163.779742 44.33824 \nL 168.641465 43.387333 \nL 173.503189 43.446077 \nL 178.364912 42.493335 \nL 183.226636 43.842594 \nL 188.088359 42.799901 \nL 192.950082 42.245512 \nL 197.811806 42.48232 \nL 202.673529 42.460292 \n\" style=\"fill:none;stroke:#ff7f0e;stroke-dasharray:5.55,2.4;stroke-dashoffset:0;stroke-width:1.5;\"/>\n   </g>\n   <g id=\"line2d_278\">\n    <path clip-path=\"url(#pe1c7531032)\" d=\"M 39.868125 64.070465 \nL 49.633125 53.616048 \nL 59.398125 60.752113 \nL 69.163125 62.475723 \nL 78.928125 51.618594 \nL 88.693125 49.170102 \nL 98.458125 49.524489 \nL 108.223125 50.104395 \nL 117.988125 49.83055 \nL 127.753125 47.237082 \nL 137.518125 47.543143 \nL 147.283125 46.125595 \nL 157.048125 46.705501 \nL 166.813125 46.254463 \nL 176.578125 46.222246 \nL 186.343125 46.624958 \nL 196.108125 46.689392 \nL 205.873125 45.175193 \n\" style=\"fill:none;stroke:#2ca02c;stroke-dasharray:9.6,2.4,1.5,2.4;stroke-dashoffset:0;stroke-width:1.5;\"/>\n   </g>\n   <g id=\"line2d_279\">\n    <path clip-path=\"url(#pe1c7531032)\" d=\"M 32.51321 13.377273 \nL 37.374934 78.9334 \nL 42.236657 92.437961 \nL 47.09838 100.983291 \nL 51.960104 105.345809 \nL 56.821827 108.245256 \nL 61.683551 111.764973 \nL 66.545274 113.439427 \nL 71.406997 115.111259 \nL 76.268721 117.768675 \nL 81.130444 118.375748 \nL 85.992168 120.242322 \nL 90.853891 121.562725 \nL 95.715614 121.945193 \nL 100.577338 124.520726 \nL 105.439061 124.113094 \nL 110.300785 125.336475 \nL 115.162508 125.509835 \nL 120.024231 127.353936 \nL 124.885955 127.28714 \nL 129.747678 128.396891 \nL 134.609402 128.236278 \nL 139.471125 128.526708 \nL 144.332848 130.231398 \nL 149.194572 129.868661 \nL 154.056295 131.613326 \nL 158.918019 132.238056 \nL 163.779742 130.465888 \nL 168.641465 133.118543 \nL 173.503189 132.459381 \nL 178.364912 134.44737 \nL 183.226636 132.338218 \nL 188.088359 134.574843 \nL 192.950082 135.02503 \nL 197.811806 135.284624 \nL 202.673529 134.438759 \nL 207.535253 135.881448 \n\" style=\"fill:none;stroke:#1f77b4;stroke-linecap:square;stroke-width:1.5;\"/>\n   </g>\n   <g id=\"line2d_280\">\n    <path clip-path=\"url(#pe1c7531032)\" d=\"M 32.51321 78.846228 \nL 37.374934 61.746435 \nL 42.236657 56.789973 \nL 47.09838 54.008847 \nL 51.960104 52.494373 \nL 56.821827 51.409459 \nL 61.683551 50.414495 \nL 66.545274 49.856434 \nL 71.406997 49.186394 \nL 76.268721 48.110658 \nL 81.130444 47.833463 \nL 85.992168 47.482839 \nL 90.853891 46.792606 \nL 95.715614 47.025743 \nL 100.577338 45.894936 \nL 105.439061 46.199667 \nL 110.300785 45.722378 \nL 115.162508 45.770107 \nL 120.024231 44.98258 \nL 124.885955 45.379097 \nL 129.747678 44.404326 \nL 134.609402 44.94403 \nL 139.471125 44.444712 \nL 144.332848 44.117953 \nL 149.194572 44.316211 \nL 154.056295 43.842594 \nL 158.918019 43.640664 \nL 163.779742 44.33824 \nL 168.641465 43.387333 \nL 173.503189 43.446077 \nL 178.364912 42.493335 \nL 183.226636 43.842594 \nL 188.088359 42.799901 \nL 192.950082 42.245512 \nL 197.811806 42.48232 \nL 202.673529 42.460292 \nL 207.535253 42.46947 \n\" style=\"fill:none;stroke:#ff7f0e;stroke-dasharray:5.55,2.4;stroke-dashoffset:0;stroke-width:1.5;\"/>\n   </g>\n   <g id=\"line2d_281\">\n    <path clip-path=\"url(#pe1c7531032)\" d=\"M 39.868125 64.070465 \nL 49.633125 53.616048 \nL 59.398125 60.752113 \nL 69.163125 62.475723 \nL 78.928125 51.618594 \nL 88.693125 49.170102 \nL 98.458125 49.524489 \nL 108.223125 50.104395 \nL 117.988125 49.83055 \nL 127.753125 47.237082 \nL 137.518125 47.543143 \nL 147.283125 46.125595 \nL 157.048125 46.705501 \nL 166.813125 46.254463 \nL 176.578125 46.222246 \nL 186.343125 46.624958 \nL 196.108125 46.689392 \nL 205.873125 45.175193 \n\" style=\"fill:none;stroke:#2ca02c;stroke-dasharray:9.6,2.4,1.5,2.4;stroke-dashoffset:0;stroke-width:1.5;\"/>\n   </g>\n   <g id=\"line2d_282\">\n    <path clip-path=\"url(#pe1c7531032)\" d=\"M 32.51321 13.377273 \nL 37.374934 78.9334 \nL 42.236657 92.437961 \nL 47.09838 100.983291 \nL 51.960104 105.345809 \nL 56.821827 108.245256 \nL 61.683551 111.764973 \nL 66.545274 113.439427 \nL 71.406997 115.111259 \nL 76.268721 117.768675 \nL 81.130444 118.375748 \nL 85.992168 120.242322 \nL 90.853891 121.562725 \nL 95.715614 121.945193 \nL 100.577338 124.520726 \nL 105.439061 124.113094 \nL 110.300785 125.336475 \nL 115.162508 125.509835 \nL 120.024231 127.353936 \nL 124.885955 127.28714 \nL 129.747678 128.396891 \nL 134.609402 128.236278 \nL 139.471125 128.526708 \nL 144.332848 130.231398 \nL 149.194572 129.868661 \nL 154.056295 131.613326 \nL 158.918019 132.238056 \nL 163.779742 130.465888 \nL 168.641465 133.118543 \nL 173.503189 132.459381 \nL 178.364912 134.44737 \nL 183.226636 132.338218 \nL 188.088359 134.574843 \nL 192.950082 135.02503 \nL 197.811806 135.284624 \nL 202.673529 134.438759 \nL 207.535253 135.881448 \nL 212.396976 136.543017 \n\" style=\"fill:none;stroke:#1f77b4;stroke-linecap:square;stroke-width:1.5;\"/>\n   </g>\n   <g id=\"line2d_283\">\n    <path clip-path=\"url(#pe1c7531032)\" d=\"M 32.51321 78.846228 \nL 37.374934 61.746435 \nL 42.236657 56.789973 \nL 47.09838 54.008847 \nL 51.960104 52.494373 \nL 56.821827 51.409459 \nL 61.683551 50.414495 \nL 66.545274 49.856434 \nL 71.406997 49.186394 \nL 76.268721 48.110658 \nL 81.130444 47.833463 \nL 85.992168 47.482839 \nL 90.853891 46.792606 \nL 95.715614 47.025743 \nL 100.577338 45.894936 \nL 105.439061 46.199667 \nL 110.300785 45.722378 \nL 115.162508 45.770107 \nL 120.024231 44.98258 \nL 124.885955 45.379097 \nL 129.747678 44.404326 \nL 134.609402 44.94403 \nL 139.471125 44.444712 \nL 144.332848 44.117953 \nL 149.194572 44.316211 \nL 154.056295 43.842594 \nL 158.918019 43.640664 \nL 163.779742 44.33824 \nL 168.641465 43.387333 \nL 173.503189 43.446077 \nL 178.364912 42.493335 \nL 183.226636 43.842594 \nL 188.088359 42.799901 \nL 192.950082 42.245512 \nL 197.811806 42.48232 \nL 202.673529 42.460292 \nL 207.535253 42.46947 \n\" style=\"fill:none;stroke:#ff7f0e;stroke-dasharray:5.55,2.4;stroke-dashoffset:0;stroke-width:1.5;\"/>\n   </g>\n   <g id=\"line2d_284\">\n    <path clip-path=\"url(#pe1c7531032)\" d=\"M 39.868125 64.070465 \nL 49.633125 53.616048 \nL 59.398125 60.752113 \nL 69.163125 62.475723 \nL 78.928125 51.618594 \nL 88.693125 49.170102 \nL 98.458125 49.524489 \nL 108.223125 50.104395 \nL 117.988125 49.83055 \nL 127.753125 47.237082 \nL 137.518125 47.543143 \nL 147.283125 46.125595 \nL 157.048125 46.705501 \nL 166.813125 46.254463 \nL 176.578125 46.222246 \nL 186.343125 46.624958 \nL 196.108125 46.689392 \nL 205.873125 45.175193 \n\" style=\"fill:none;stroke:#2ca02c;stroke-dasharray:9.6,2.4,1.5,2.4;stroke-dashoffset:0;stroke-width:1.5;\"/>\n   </g>\n   <g id=\"line2d_285\">\n    <path clip-path=\"url(#pe1c7531032)\" d=\"M 32.51321 13.377273 \nL 37.374934 78.9334 \nL 42.236657 92.437961 \nL 47.09838 100.983291 \nL 51.960104 105.345809 \nL 56.821827 108.245256 \nL 61.683551 111.764973 \nL 66.545274 113.439427 \nL 71.406997 115.111259 \nL 76.268721 117.768675 \nL 81.130444 118.375748 \nL 85.992168 120.242322 \nL 90.853891 121.562725 \nL 95.715614 121.945193 \nL 100.577338 124.520726 \nL 105.439061 124.113094 \nL 110.300785 125.336475 \nL 115.162508 125.509835 \nL 120.024231 127.353936 \nL 124.885955 127.28714 \nL 129.747678 128.396891 \nL 134.609402 128.236278 \nL 139.471125 128.526708 \nL 144.332848 130.231398 \nL 149.194572 129.868661 \nL 154.056295 131.613326 \nL 158.918019 132.238056 \nL 163.779742 130.465888 \nL 168.641465 133.118543 \nL 173.503189 132.459381 \nL 178.364912 134.44737 \nL 183.226636 132.338218 \nL 188.088359 134.574843 \nL 192.950082 135.02503 \nL 197.811806 135.284624 \nL 202.673529 134.438759 \nL 207.535253 135.881448 \nL 212.396976 136.543017 \n\" style=\"fill:none;stroke:#1f77b4;stroke-linecap:square;stroke-width:1.5;\"/>\n   </g>\n   <g id=\"line2d_286\">\n    <path clip-path=\"url(#pe1c7531032)\" d=\"M 32.51321 78.846228 \nL 37.374934 61.746435 \nL 42.236657 56.789973 \nL 47.09838 54.008847 \nL 51.960104 52.494373 \nL 56.821827 51.409459 \nL 61.683551 50.414495 \nL 66.545274 49.856434 \nL 71.406997 49.186394 \nL 76.268721 48.110658 \nL 81.130444 47.833463 \nL 85.992168 47.482839 \nL 90.853891 46.792606 \nL 95.715614 47.025743 \nL 100.577338 45.894936 \nL 105.439061 46.199667 \nL 110.300785 45.722378 \nL 115.162508 45.770107 \nL 120.024231 44.98258 \nL 124.885955 45.379097 \nL 129.747678 44.404326 \nL 134.609402 44.94403 \nL 139.471125 44.444712 \nL 144.332848 44.117953 \nL 149.194572 44.316211 \nL 154.056295 43.842594 \nL 158.918019 43.640664 \nL 163.779742 44.33824 \nL 168.641465 43.387333 \nL 173.503189 43.446077 \nL 178.364912 42.493335 \nL 183.226636 43.842594 \nL 188.088359 42.799901 \nL 192.950082 42.245512 \nL 197.811806 42.48232 \nL 202.673529 42.460292 \nL 207.535253 42.46947 \nL 212.396976 41.931602 \n\" style=\"fill:none;stroke:#ff7f0e;stroke-dasharray:5.55,2.4;stroke-dashoffset:0;stroke-width:1.5;\"/>\n   </g>\n   <g id=\"line2d_287\">\n    <path clip-path=\"url(#pe1c7531032)\" d=\"M 39.868125 64.070465 \nL 49.633125 53.616048 \nL 59.398125 60.752113 \nL 69.163125 62.475723 \nL 78.928125 51.618594 \nL 88.693125 49.170102 \nL 98.458125 49.524489 \nL 108.223125 50.104395 \nL 117.988125 49.83055 \nL 127.753125 47.237082 \nL 137.518125 47.543143 \nL 147.283125 46.125595 \nL 157.048125 46.705501 \nL 166.813125 46.254463 \nL 176.578125 46.222246 \nL 186.343125 46.624958 \nL 196.108125 46.689392 \nL 205.873125 45.175193 \n\" style=\"fill:none;stroke:#2ca02c;stroke-dasharray:9.6,2.4,1.5,2.4;stroke-dashoffset:0;stroke-width:1.5;\"/>\n   </g>\n   <g id=\"line2d_288\">\n    <path clip-path=\"url(#pe1c7531032)\" d=\"M 32.51321 13.377273 \nL 37.374934 78.9334 \nL 42.236657 92.437961 \nL 47.09838 100.983291 \nL 51.960104 105.345809 \nL 56.821827 108.245256 \nL 61.683551 111.764973 \nL 66.545274 113.439427 \nL 71.406997 115.111259 \nL 76.268721 117.768675 \nL 81.130444 118.375748 \nL 85.992168 120.242322 \nL 90.853891 121.562725 \nL 95.715614 121.945193 \nL 100.577338 124.520726 \nL 105.439061 124.113094 \nL 110.300785 125.336475 \nL 115.162508 125.509835 \nL 120.024231 127.353936 \nL 124.885955 127.28714 \nL 129.747678 128.396891 \nL 134.609402 128.236278 \nL 139.471125 128.526708 \nL 144.332848 130.231398 \nL 149.194572 129.868661 \nL 154.056295 131.613326 \nL 158.918019 132.238056 \nL 163.779742 130.465888 \nL 168.641465 133.118543 \nL 173.503189 132.459381 \nL 178.364912 134.44737 \nL 183.226636 132.338218 \nL 188.088359 134.574843 \nL 192.950082 135.02503 \nL 197.811806 135.284624 \nL 202.673529 134.438759 \nL 207.535253 135.881448 \nL 212.396976 136.543017 \n\" style=\"fill:none;stroke:#1f77b4;stroke-linecap:square;stroke-width:1.5;\"/>\n   </g>\n   <g id=\"line2d_289\">\n    <path clip-path=\"url(#pe1c7531032)\" d=\"M 32.51321 78.846228 \nL 37.374934 61.746435 \nL 42.236657 56.789973 \nL 47.09838 54.008847 \nL 51.960104 52.494373 \nL 56.821827 51.409459 \nL 61.683551 50.414495 \nL 66.545274 49.856434 \nL 71.406997 49.186394 \nL 76.268721 48.110658 \nL 81.130444 47.833463 \nL 85.992168 47.482839 \nL 90.853891 46.792606 \nL 95.715614 47.025743 \nL 100.577338 45.894936 \nL 105.439061 46.199667 \nL 110.300785 45.722378 \nL 115.162508 45.770107 \nL 120.024231 44.98258 \nL 124.885955 45.379097 \nL 129.747678 44.404326 \nL 134.609402 44.94403 \nL 139.471125 44.444712 \nL 144.332848 44.117953 \nL 149.194572 44.316211 \nL 154.056295 43.842594 \nL 158.918019 43.640664 \nL 163.779742 44.33824 \nL 168.641465 43.387333 \nL 173.503189 43.446077 \nL 178.364912 42.493335 \nL 183.226636 43.842594 \nL 188.088359 42.799901 \nL 192.950082 42.245512 \nL 197.811806 42.48232 \nL 202.673529 42.460292 \nL 207.535253 42.46947 \nL 212.396976 41.931602 \n\" style=\"fill:none;stroke:#ff7f0e;stroke-dasharray:5.55,2.4;stroke-dashoffset:0;stroke-width:1.5;\"/>\n   </g>\n   <g id=\"line2d_290\">\n    <path clip-path=\"url(#pe1c7531032)\" d=\"M 39.868125 64.070465 \nL 49.633125 53.616048 \nL 59.398125 60.752113 \nL 69.163125 62.475723 \nL 78.928125 51.618594 \nL 88.693125 49.170102 \nL 98.458125 49.524489 \nL 108.223125 50.104395 \nL 117.988125 49.83055 \nL 127.753125 47.237082 \nL 137.518125 47.543143 \nL 147.283125 46.125595 \nL 157.048125 46.705501 \nL 166.813125 46.254463 \nL 176.578125 46.222246 \nL 186.343125 46.624958 \nL 196.108125 46.689392 \nL 205.873125 45.175193 \nL 215.638125 50.313805 \n\" style=\"fill:none;stroke:#2ca02c;stroke-dasharray:9.6,2.4,1.5,2.4;stroke-dashoffset:0;stroke-width:1.5;\"/>\n   </g>\n   <g id=\"line2d_291\">\n    <path clip-path=\"url(#pe1c7531032)\" d=\"M 32.51321 13.377273 \nL 37.374934 78.9334 \nL 42.236657 92.437961 \nL 47.09838 100.983291 \nL 51.960104 105.345809 \nL 56.821827 108.245256 \nL 61.683551 111.764973 \nL 66.545274 113.439427 \nL 71.406997 115.111259 \nL 76.268721 117.768675 \nL 81.130444 118.375748 \nL 85.992168 120.242322 \nL 90.853891 121.562725 \nL 95.715614 121.945193 \nL 100.577338 124.520726 \nL 105.439061 124.113094 \nL 110.300785 125.336475 \nL 115.162508 125.509835 \nL 120.024231 127.353936 \nL 124.885955 127.28714 \nL 129.747678 128.396891 \nL 134.609402 128.236278 \nL 139.471125 128.526708 \nL 144.332848 130.231398 \nL 149.194572 129.868661 \nL 154.056295 131.613326 \nL 158.918019 132.238056 \nL 163.779742 130.465888 \nL 168.641465 133.118543 \nL 173.503189 132.459381 \nL 178.364912 134.44737 \nL 183.226636 132.338218 \nL 188.088359 134.574843 \nL 192.950082 135.02503 \nL 197.811806 135.284624 \nL 202.673529 134.438759 \nL 207.535253 135.881448 \nL 212.396976 136.543017 \nL 217.258699 136.922727 \n\" style=\"fill:none;stroke:#1f77b4;stroke-linecap:square;stroke-width:1.5;\"/>\n   </g>\n   <g id=\"line2d_292\">\n    <path clip-path=\"url(#pe1c7531032)\" d=\"M 32.51321 78.846228 \nL 37.374934 61.746435 \nL 42.236657 56.789973 \nL 47.09838 54.008847 \nL 51.960104 52.494373 \nL 56.821827 51.409459 \nL 61.683551 50.414495 \nL 66.545274 49.856434 \nL 71.406997 49.186394 \nL 76.268721 48.110658 \nL 81.130444 47.833463 \nL 85.992168 47.482839 \nL 90.853891 46.792606 \nL 95.715614 47.025743 \nL 100.577338 45.894936 \nL 105.439061 46.199667 \nL 110.300785 45.722378 \nL 115.162508 45.770107 \nL 120.024231 44.98258 \nL 124.885955 45.379097 \nL 129.747678 44.404326 \nL 134.609402 44.94403 \nL 139.471125 44.444712 \nL 144.332848 44.117953 \nL 149.194572 44.316211 \nL 154.056295 43.842594 \nL 158.918019 43.640664 \nL 163.779742 44.33824 \nL 168.641465 43.387333 \nL 173.503189 43.446077 \nL 178.364912 42.493335 \nL 183.226636 43.842594 \nL 188.088359 42.799901 \nL 192.950082 42.245512 \nL 197.811806 42.48232 \nL 202.673529 42.460292 \nL 207.535253 42.46947 \nL 212.396976 41.931602 \n\" style=\"fill:none;stroke:#ff7f0e;stroke-dasharray:5.55,2.4;stroke-dashoffset:0;stroke-width:1.5;\"/>\n   </g>\n   <g id=\"line2d_293\">\n    <path clip-path=\"url(#pe1c7531032)\" d=\"M 39.868125 64.070465 \nL 49.633125 53.616048 \nL 59.398125 60.752113 \nL 69.163125 62.475723 \nL 78.928125 51.618594 \nL 88.693125 49.170102 \nL 98.458125 49.524489 \nL 108.223125 50.104395 \nL 117.988125 49.83055 \nL 127.753125 47.237082 \nL 137.518125 47.543143 \nL 147.283125 46.125595 \nL 157.048125 46.705501 \nL 166.813125 46.254463 \nL 176.578125 46.222246 \nL 186.343125 46.624958 \nL 196.108125 46.689392 \nL 205.873125 45.175193 \nL 215.638125 50.313805 \n\" style=\"fill:none;stroke:#2ca02c;stroke-dasharray:9.6,2.4,1.5,2.4;stroke-dashoffset:0;stroke-width:1.5;\"/>\n   </g>\n   <g id=\"line2d_294\">\n    <path clip-path=\"url(#pe1c7531032)\" d=\"M 32.51321 13.377273 \nL 37.374934 78.9334 \nL 42.236657 92.437961 \nL 47.09838 100.983291 \nL 51.960104 105.345809 \nL 56.821827 108.245256 \nL 61.683551 111.764973 \nL 66.545274 113.439427 \nL 71.406997 115.111259 \nL 76.268721 117.768675 \nL 81.130444 118.375748 \nL 85.992168 120.242322 \nL 90.853891 121.562725 \nL 95.715614 121.945193 \nL 100.577338 124.520726 \nL 105.439061 124.113094 \nL 110.300785 125.336475 \nL 115.162508 125.509835 \nL 120.024231 127.353936 \nL 124.885955 127.28714 \nL 129.747678 128.396891 \nL 134.609402 128.236278 \nL 139.471125 128.526708 \nL 144.332848 130.231398 \nL 149.194572 129.868661 \nL 154.056295 131.613326 \nL 158.918019 132.238056 \nL 163.779742 130.465888 \nL 168.641465 133.118543 \nL 173.503189 132.459381 \nL 178.364912 134.44737 \nL 183.226636 132.338218 \nL 188.088359 134.574843 \nL 192.950082 135.02503 \nL 197.811806 135.284624 \nL 202.673529 134.438759 \nL 207.535253 135.881448 \nL 212.396976 136.543017 \nL 217.258699 136.922727 \n\" style=\"fill:none;stroke:#1f77b4;stroke-linecap:square;stroke-width:1.5;\"/>\n   </g>\n   <g id=\"line2d_295\">\n    <path clip-path=\"url(#pe1c7531032)\" d=\"M 32.51321 78.846228 \nL 37.374934 61.746435 \nL 42.236657 56.789973 \nL 47.09838 54.008847 \nL 51.960104 52.494373 \nL 56.821827 51.409459 \nL 61.683551 50.414495 \nL 66.545274 49.856434 \nL 71.406997 49.186394 \nL 76.268721 48.110658 \nL 81.130444 47.833463 \nL 85.992168 47.482839 \nL 90.853891 46.792606 \nL 95.715614 47.025743 \nL 100.577338 45.894936 \nL 105.439061 46.199667 \nL 110.300785 45.722378 \nL 115.162508 45.770107 \nL 120.024231 44.98258 \nL 124.885955 45.379097 \nL 129.747678 44.404326 \nL 134.609402 44.94403 \nL 139.471125 44.444712 \nL 144.332848 44.117953 \nL 149.194572 44.316211 \nL 154.056295 43.842594 \nL 158.918019 43.640664 \nL 163.779742 44.33824 \nL 168.641465 43.387333 \nL 173.503189 43.446077 \nL 178.364912 42.493335 \nL 183.226636 43.842594 \nL 188.088359 42.799901 \nL 192.950082 42.245512 \nL 197.811806 42.48232 \nL 202.673529 42.460292 \nL 207.535253 42.46947 \nL 212.396976 41.931602 \nL 217.258699 41.856337 \n\" style=\"fill:none;stroke:#ff7f0e;stroke-dasharray:5.55,2.4;stroke-dashoffset:0;stroke-width:1.5;\"/>\n   </g>\n   <g id=\"line2d_296\">\n    <path clip-path=\"url(#pe1c7531032)\" d=\"M 39.868125 64.070465 \nL 49.633125 53.616048 \nL 59.398125 60.752113 \nL 69.163125 62.475723 \nL 78.928125 51.618594 \nL 88.693125 49.170102 \nL 98.458125 49.524489 \nL 108.223125 50.104395 \nL 117.988125 49.83055 \nL 127.753125 47.237082 \nL 137.518125 47.543143 \nL 147.283125 46.125595 \nL 157.048125 46.705501 \nL 166.813125 46.254463 \nL 176.578125 46.222246 \nL 186.343125 46.624958 \nL 196.108125 46.689392 \nL 205.873125 45.175193 \nL 215.638125 50.313805 \n\" style=\"fill:none;stroke:#2ca02c;stroke-dasharray:9.6,2.4,1.5,2.4;stroke-dashoffset:0;stroke-width:1.5;\"/>\n   </g>\n   <g id=\"line2d_297\">\n    <path clip-path=\"url(#pe1c7531032)\" d=\"M 32.51321 13.377273 \nL 37.374934 78.9334 \nL 42.236657 92.437961 \nL 47.09838 100.983291 \nL 51.960104 105.345809 \nL 56.821827 108.245256 \nL 61.683551 111.764973 \nL 66.545274 113.439427 \nL 71.406997 115.111259 \nL 76.268721 117.768675 \nL 81.130444 118.375748 \nL 85.992168 120.242322 \nL 90.853891 121.562725 \nL 95.715614 121.945193 \nL 100.577338 124.520726 \nL 105.439061 124.113094 \nL 110.300785 125.336475 \nL 115.162508 125.509835 \nL 120.024231 127.353936 \nL 124.885955 127.28714 \nL 129.747678 128.396891 \nL 134.609402 128.236278 \nL 139.471125 128.526708 \nL 144.332848 130.231398 \nL 149.194572 129.868661 \nL 154.056295 131.613326 \nL 158.918019 132.238056 \nL 163.779742 130.465888 \nL 168.641465 133.118543 \nL 173.503189 132.459381 \nL 178.364912 134.44737 \nL 183.226636 132.338218 \nL 188.088359 134.574843 \nL 192.950082 135.02503 \nL 197.811806 135.284624 \nL 202.673529 134.438759 \nL 207.535253 135.881448 \nL 212.396976 136.543017 \nL 217.258699 136.922727 \nL 222.120423 136.563372 \n\" style=\"fill:none;stroke:#1f77b4;stroke-linecap:square;stroke-width:1.5;\"/>\n   </g>\n   <g id=\"line2d_298\">\n    <path clip-path=\"url(#pe1c7531032)\" d=\"M 32.51321 78.846228 \nL 37.374934 61.746435 \nL 42.236657 56.789973 \nL 47.09838 54.008847 \nL 51.960104 52.494373 \nL 56.821827 51.409459 \nL 61.683551 50.414495 \nL 66.545274 49.856434 \nL 71.406997 49.186394 \nL 76.268721 48.110658 \nL 81.130444 47.833463 \nL 85.992168 47.482839 \nL 90.853891 46.792606 \nL 95.715614 47.025743 \nL 100.577338 45.894936 \nL 105.439061 46.199667 \nL 110.300785 45.722378 \nL 115.162508 45.770107 \nL 120.024231 44.98258 \nL 124.885955 45.379097 \nL 129.747678 44.404326 \nL 134.609402 44.94403 \nL 139.471125 44.444712 \nL 144.332848 44.117953 \nL 149.194572 44.316211 \nL 154.056295 43.842594 \nL 158.918019 43.640664 \nL 163.779742 44.33824 \nL 168.641465 43.387333 \nL 173.503189 43.446077 \nL 178.364912 42.493335 \nL 183.226636 43.842594 \nL 188.088359 42.799901 \nL 192.950082 42.245512 \nL 197.811806 42.48232 \nL 202.673529 42.460292 \nL 207.535253 42.46947 \nL 212.396976 41.931602 \nL 217.258699 41.856337 \n\" style=\"fill:none;stroke:#ff7f0e;stroke-dasharray:5.55,2.4;stroke-dashoffset:0;stroke-width:1.5;\"/>\n   </g>\n   <g id=\"line2d_299\">\n    <path clip-path=\"url(#pe1c7531032)\" d=\"M 39.868125 64.070465 \nL 49.633125 53.616048 \nL 59.398125 60.752113 \nL 69.163125 62.475723 \nL 78.928125 51.618594 \nL 88.693125 49.170102 \nL 98.458125 49.524489 \nL 108.223125 50.104395 \nL 117.988125 49.83055 \nL 127.753125 47.237082 \nL 137.518125 47.543143 \nL 147.283125 46.125595 \nL 157.048125 46.705501 \nL 166.813125 46.254463 \nL 176.578125 46.222246 \nL 186.343125 46.624958 \nL 196.108125 46.689392 \nL 205.873125 45.175193 \nL 215.638125 50.313805 \n\" style=\"fill:none;stroke:#2ca02c;stroke-dasharray:9.6,2.4,1.5,2.4;stroke-dashoffset:0;stroke-width:1.5;\"/>\n   </g>\n   <g id=\"line2d_300\">\n    <path clip-path=\"url(#pe1c7531032)\" d=\"M 32.51321 13.377273 \nL 37.374934 78.9334 \nL 42.236657 92.437961 \nL 47.09838 100.983291 \nL 51.960104 105.345809 \nL 56.821827 108.245256 \nL 61.683551 111.764973 \nL 66.545274 113.439427 \nL 71.406997 115.111259 \nL 76.268721 117.768675 \nL 81.130444 118.375748 \nL 85.992168 120.242322 \nL 90.853891 121.562725 \nL 95.715614 121.945193 \nL 100.577338 124.520726 \nL 105.439061 124.113094 \nL 110.300785 125.336475 \nL 115.162508 125.509835 \nL 120.024231 127.353936 \nL 124.885955 127.28714 \nL 129.747678 128.396891 \nL 134.609402 128.236278 \nL 139.471125 128.526708 \nL 144.332848 130.231398 \nL 149.194572 129.868661 \nL 154.056295 131.613326 \nL 158.918019 132.238056 \nL 163.779742 130.465888 \nL 168.641465 133.118543 \nL 173.503189 132.459381 \nL 178.364912 134.44737 \nL 183.226636 132.338218 \nL 188.088359 134.574843 \nL 192.950082 135.02503 \nL 197.811806 135.284624 \nL 202.673529 134.438759 \nL 207.535253 135.881448 \nL 212.396976 136.543017 \nL 217.258699 136.922727 \nL 222.120423 136.563372 \n\" style=\"fill:none;stroke:#1f77b4;stroke-linecap:square;stroke-width:1.5;\"/>\n   </g>\n   <g id=\"line2d_301\">\n    <path clip-path=\"url(#pe1c7531032)\" d=\"M 32.51321 78.846228 \nL 37.374934 61.746435 \nL 42.236657 56.789973 \nL 47.09838 54.008847 \nL 51.960104 52.494373 \nL 56.821827 51.409459 \nL 61.683551 50.414495 \nL 66.545274 49.856434 \nL 71.406997 49.186394 \nL 76.268721 48.110658 \nL 81.130444 47.833463 \nL 85.992168 47.482839 \nL 90.853891 46.792606 \nL 95.715614 47.025743 \nL 100.577338 45.894936 \nL 105.439061 46.199667 \nL 110.300785 45.722378 \nL 115.162508 45.770107 \nL 120.024231 44.98258 \nL 124.885955 45.379097 \nL 129.747678 44.404326 \nL 134.609402 44.94403 \nL 139.471125 44.444712 \nL 144.332848 44.117953 \nL 149.194572 44.316211 \nL 154.056295 43.842594 \nL 158.918019 43.640664 \nL 163.779742 44.33824 \nL 168.641465 43.387333 \nL 173.503189 43.446077 \nL 178.364912 42.493335 \nL 183.226636 43.842594 \nL 188.088359 42.799901 \nL 192.950082 42.245512 \nL 197.811806 42.48232 \nL 202.673529 42.460292 \nL 207.535253 42.46947 \nL 212.396976 41.931602 \nL 217.258699 41.856337 \nL 222.120423 42.140875 \n\" style=\"fill:none;stroke:#ff7f0e;stroke-dasharray:5.55,2.4;stroke-dashoffset:0;stroke-width:1.5;\"/>\n   </g>\n   <g id=\"line2d_302\">\n    <path clip-path=\"url(#pe1c7531032)\" d=\"M 39.868125 64.070465 \nL 49.633125 53.616048 \nL 59.398125 60.752113 \nL 69.163125 62.475723 \nL 78.928125 51.618594 \nL 88.693125 49.170102 \nL 98.458125 49.524489 \nL 108.223125 50.104395 \nL 117.988125 49.83055 \nL 127.753125 47.237082 \nL 137.518125 47.543143 \nL 147.283125 46.125595 \nL 157.048125 46.705501 \nL 166.813125 46.254463 \nL 176.578125 46.222246 \nL 186.343125 46.624958 \nL 196.108125 46.689392 \nL 205.873125 45.175193 \nL 215.638125 50.313805 \n\" style=\"fill:none;stroke:#2ca02c;stroke-dasharray:9.6,2.4,1.5,2.4;stroke-dashoffset:0;stroke-width:1.5;\"/>\n   </g>\n   <g id=\"line2d_303\">\n    <path clip-path=\"url(#pe1c7531032)\" d=\"M 32.51321 13.377273 \nL 37.374934 78.9334 \nL 42.236657 92.437961 \nL 47.09838 100.983291 \nL 51.960104 105.345809 \nL 56.821827 108.245256 \nL 61.683551 111.764973 \nL 66.545274 113.439427 \nL 71.406997 115.111259 \nL 76.268721 117.768675 \nL 81.130444 118.375748 \nL 85.992168 120.242322 \nL 90.853891 121.562725 \nL 95.715614 121.945193 \nL 100.577338 124.520726 \nL 105.439061 124.113094 \nL 110.300785 125.336475 \nL 115.162508 125.509835 \nL 120.024231 127.353936 \nL 124.885955 127.28714 \nL 129.747678 128.396891 \nL 134.609402 128.236278 \nL 139.471125 128.526708 \nL 144.332848 130.231398 \nL 149.194572 129.868661 \nL 154.056295 131.613326 \nL 158.918019 132.238056 \nL 163.779742 130.465888 \nL 168.641465 133.118543 \nL 173.503189 132.459381 \nL 178.364912 134.44737 \nL 183.226636 132.338218 \nL 188.088359 134.574843 \nL 192.950082 135.02503 \nL 197.811806 135.284624 \nL 202.673529 134.438759 \nL 207.535253 135.881448 \nL 212.396976 136.543017 \nL 217.258699 136.922727 \nL 222.120423 136.563372 \n\" style=\"fill:none;stroke:#1f77b4;stroke-linecap:square;stroke-width:1.5;\"/>\n   </g>\n   <g id=\"line2d_304\">\n    <path clip-path=\"url(#pe1c7531032)\" d=\"M 32.51321 78.846228 \nL 37.374934 61.746435 \nL 42.236657 56.789973 \nL 47.09838 54.008847 \nL 51.960104 52.494373 \nL 56.821827 51.409459 \nL 61.683551 50.414495 \nL 66.545274 49.856434 \nL 71.406997 49.186394 \nL 76.268721 48.110658 \nL 81.130444 47.833463 \nL 85.992168 47.482839 \nL 90.853891 46.792606 \nL 95.715614 47.025743 \nL 100.577338 45.894936 \nL 105.439061 46.199667 \nL 110.300785 45.722378 \nL 115.162508 45.770107 \nL 120.024231 44.98258 \nL 124.885955 45.379097 \nL 129.747678 44.404326 \nL 134.609402 44.94403 \nL 139.471125 44.444712 \nL 144.332848 44.117953 \nL 149.194572 44.316211 \nL 154.056295 43.842594 \nL 158.918019 43.640664 \nL 163.779742 44.33824 \nL 168.641465 43.387333 \nL 173.503189 43.446077 \nL 178.364912 42.493335 \nL 183.226636 43.842594 \nL 188.088359 42.799901 \nL 192.950082 42.245512 \nL 197.811806 42.48232 \nL 202.673529 42.460292 \nL 207.535253 42.46947 \nL 212.396976 41.931602 \nL 217.258699 41.856337 \nL 222.120423 42.140875 \n\" style=\"fill:none;stroke:#ff7f0e;stroke-dasharray:5.55,2.4;stroke-dashoffset:0;stroke-width:1.5;\"/>\n   </g>\n   <g id=\"line2d_305\">\n    <path clip-path=\"url(#pe1c7531032)\" d=\"M 39.868125 64.070465 \nL 49.633125 53.616048 \nL 59.398125 60.752113 \nL 69.163125 62.475723 \nL 78.928125 51.618594 \nL 88.693125 49.170102 \nL 98.458125 49.524489 \nL 108.223125 50.104395 \nL 117.988125 49.83055 \nL 127.753125 47.237082 \nL 137.518125 47.543143 \nL 147.283125 46.125595 \nL 157.048125 46.705501 \nL 166.813125 46.254463 \nL 176.578125 46.222246 \nL 186.343125 46.624958 \nL 196.108125 46.689392 \nL 205.873125 45.175193 \nL 215.638125 50.313805 \nL 225.403125 47.075997 \n\" style=\"fill:none;stroke:#2ca02c;stroke-dasharray:9.6,2.4,1.5,2.4;stroke-dashoffset:0;stroke-width:1.5;\"/>\n   </g>\n   <g id=\"patch_3\">\n    <path d=\"M 30.103125 143.1 \nL 30.103125 7.2 \n\" style=\"fill:none;stroke:#000000;stroke-linecap:square;stroke-linejoin:miter;stroke-width:0.8;\"/>\n   </g>\n   <g id=\"patch_4\">\n    <path d=\"M 225.403125 143.1 \nL 225.403125 7.2 \n\" style=\"fill:none;stroke:#000000;stroke-linecap:square;stroke-linejoin:miter;stroke-width:0.8;\"/>\n   </g>\n   <g id=\"patch_5\">\n    <path d=\"M 30.103125 143.1 \nL 225.403125 143.1 \n\" style=\"fill:none;stroke:#000000;stroke-linecap:square;stroke-linejoin:miter;stroke-width:0.8;\"/>\n   </g>\n   <g id=\"patch_6\">\n    <path d=\"M 30.103125 7.2 \nL 225.403125 7.2 \n\" style=\"fill:none;stroke:#000000;stroke-linecap:square;stroke-linejoin:miter;stroke-width:0.8;\"/>\n   </g>\n   <g id=\"legend_1\">\n    <g id=\"patch_7\">\n     <path d=\"M 138.8125 99.084375 \nL 218.403125 99.084375 \nQ 220.403125 99.084375 220.403125 97.084375 \nL 220.403125 53.215625 \nQ 220.403125 51.215625 218.403125 51.215625 \nL 138.8125 51.215625 \nQ 136.8125 51.215625 136.8125 53.215625 \nL 136.8125 97.084375 \nQ 136.8125 99.084375 138.8125 99.084375 \nz\n\" style=\"fill:#ffffff;opacity:0.8;stroke:#cccccc;stroke-linejoin:miter;\"/>\n    </g>\n    <g id=\"line2d_306\">\n     <path d=\"M 140.8125 59.314062 \nL 160.8125 59.314062 \n\" style=\"fill:none;stroke:#1f77b4;stroke-linecap:square;stroke-width:1.5;\"/>\n    </g>\n    <g id=\"line2d_307\"/>\n    <g id=\"text_11\">\n     <!-- train_loss -->\n     <defs>\n      <path d=\"M 18.3125 70.21875 \nL 18.3125 54.6875 \nL 36.8125 54.6875 \nL 36.8125 47.703125 \nL 18.3125 47.703125 \nL 18.3125 18.015625 \nQ 18.3125 11.328125 20.140625 9.421875 \nQ 21.96875 7.515625 27.59375 7.515625 \nL 36.8125 7.515625 \nL 36.8125 0 \nL 27.59375 0 \nQ 17.1875 0 13.234375 3.875 \nQ 9.28125 7.765625 9.28125 18.015625 \nL 9.28125 47.703125 \nL 2.6875 47.703125 \nL 2.6875 54.6875 \nL 9.28125 54.6875 \nL 9.28125 70.21875 \nz\n\" id=\"DejaVuSans-116\"/>\n      <path d=\"M 41.109375 46.296875 \nQ 39.59375 47.171875 37.8125 47.578125 \nQ 36.03125 48 33.890625 48 \nQ 26.265625 48 22.1875 43.046875 \nQ 18.109375 38.09375 18.109375 28.8125 \nL 18.109375 0 \nL 9.078125 0 \nL 9.078125 54.6875 \nL 18.109375 54.6875 \nL 18.109375 46.1875 \nQ 20.953125 51.171875 25.484375 53.578125 \nQ 30.03125 56 36.53125 56 \nQ 37.453125 56 38.578125 55.875 \nQ 39.703125 55.765625 41.0625 55.515625 \nz\n\" id=\"DejaVuSans-114\"/>\n      <path d=\"M 34.28125 27.484375 \nQ 23.390625 27.484375 19.1875 25 \nQ 14.984375 22.515625 14.984375 16.5 \nQ 14.984375 11.71875 18.140625 8.90625 \nQ 21.296875 6.109375 26.703125 6.109375 \nQ 34.1875 6.109375 38.703125 11.40625 \nQ 43.21875 16.703125 43.21875 25.484375 \nL 43.21875 27.484375 \nz\nM 52.203125 31.203125 \nL 52.203125 0 \nL 43.21875 0 \nL 43.21875 8.296875 \nQ 40.140625 3.328125 35.546875 0.953125 \nQ 30.953125 -1.421875 24.3125 -1.421875 \nQ 15.921875 -1.421875 10.953125 3.296875 \nQ 6 8.015625 6 15.921875 \nQ 6 25.140625 12.171875 29.828125 \nQ 18.359375 34.515625 30.609375 34.515625 \nL 43.21875 34.515625 \nL 43.21875 35.40625 \nQ 43.21875 41.609375 39.140625 45 \nQ 35.0625 48.390625 27.6875 48.390625 \nQ 23 48.390625 18.546875 47.265625 \nQ 14.109375 46.140625 10.015625 43.890625 \nL 10.015625 52.203125 \nQ 14.9375 54.109375 19.578125 55.046875 \nQ 24.21875 56 28.609375 56 \nQ 40.484375 56 46.34375 49.84375 \nQ 52.203125 43.703125 52.203125 31.203125 \nz\n\" id=\"DejaVuSans-97\"/>\n      <path d=\"M 9.421875 54.6875 \nL 18.40625 54.6875 \nL 18.40625 0 \nL 9.421875 0 \nz\nM 9.421875 75.984375 \nL 18.40625 75.984375 \nL 18.40625 64.59375 \nL 9.421875 64.59375 \nz\n\" id=\"DejaVuSans-105\"/>\n      <path d=\"M 54.890625 33.015625 \nL 54.890625 0 \nL 45.90625 0 \nL 45.90625 32.71875 \nQ 45.90625 40.484375 42.875 44.328125 \nQ 39.84375 48.1875 33.796875 48.1875 \nQ 26.515625 48.1875 22.3125 43.546875 \nQ 18.109375 38.921875 18.109375 30.90625 \nL 18.109375 0 \nL 9.078125 0 \nL 9.078125 54.6875 \nL 18.109375 54.6875 \nL 18.109375 46.1875 \nQ 21.34375 51.125 25.703125 53.5625 \nQ 30.078125 56 35.796875 56 \nQ 45.21875 56 50.046875 50.171875 \nQ 54.890625 44.34375 54.890625 33.015625 \nz\n\" id=\"DejaVuSans-110\"/>\n      <path d=\"M 50.984375 -16.609375 \nL 50.984375 -23.578125 \nL -0.984375 -23.578125 \nL -0.984375 -16.609375 \nz\n\" id=\"DejaVuSans-95\"/>\n      <path d=\"M 9.421875 75.984375 \nL 18.40625 75.984375 \nL 18.40625 0 \nL 9.421875 0 \nz\n\" id=\"DejaVuSans-108\"/>\n      <path d=\"M 44.28125 53.078125 \nL 44.28125 44.578125 \nQ 40.484375 46.53125 36.375 47.5 \nQ 32.28125 48.484375 27.875 48.484375 \nQ 21.1875 48.484375 17.84375 46.4375 \nQ 14.5 44.390625 14.5 40.28125 \nQ 14.5 37.15625 16.890625 35.375 \nQ 19.28125 33.59375 26.515625 31.984375 \nL 29.59375 31.296875 \nQ 39.15625 29.25 43.1875 25.515625 \nQ 47.21875 21.78125 47.21875 15.09375 \nQ 47.21875 7.46875 41.1875 3.015625 \nQ 35.15625 -1.421875 24.609375 -1.421875 \nQ 20.21875 -1.421875 15.453125 -0.5625 \nQ 10.6875 0.296875 5.421875 2 \nL 5.421875 11.28125 \nQ 10.40625 8.6875 15.234375 7.390625 \nQ 20.0625 6.109375 24.8125 6.109375 \nQ 31.15625 6.109375 34.5625 8.28125 \nQ 37.984375 10.453125 37.984375 14.40625 \nQ 37.984375 18.0625 35.515625 20.015625 \nQ 33.0625 21.96875 24.703125 23.78125 \nL 21.578125 24.515625 \nQ 13.234375 26.265625 9.515625 29.90625 \nQ 5.8125 33.546875 5.8125 39.890625 \nQ 5.8125 47.609375 11.28125 51.796875 \nQ 16.75 56 26.8125 56 \nQ 31.78125 56 36.171875 55.265625 \nQ 40.578125 54.546875 44.28125 53.078125 \nz\n\" id=\"DejaVuSans-115\"/>\n     </defs>\n     <g transform=\"translate(168.8125 62.814062)scale(0.1 -0.1)\">\n      <use xlink:href=\"#DejaVuSans-116\"/>\n      <use x=\"39.208984\" xlink:href=\"#DejaVuSans-114\"/>\n      <use x=\"80.322266\" xlink:href=\"#DejaVuSans-97\"/>\n      <use x=\"141.601562\" xlink:href=\"#DejaVuSans-105\"/>\n      <use x=\"169.384766\" xlink:href=\"#DejaVuSans-110\"/>\n      <use x=\"232.763672\" xlink:href=\"#DejaVuSans-95\"/>\n      <use x=\"282.763672\" xlink:href=\"#DejaVuSans-108\"/>\n      <use x=\"310.546875\" xlink:href=\"#DejaVuSans-111\"/>\n      <use x=\"371.728516\" xlink:href=\"#DejaVuSans-115\"/>\n      <use x=\"423.828125\" xlink:href=\"#DejaVuSans-115\"/>\n     </g>\n    </g>\n    <g id=\"line2d_308\">\n     <path d=\"M 140.8125 74.270312 \nL 160.8125 74.270312 \n\" style=\"fill:none;stroke:#ff7f0e;stroke-dasharray:5.55,2.4;stroke-dashoffset:0;stroke-width:1.5;\"/>\n    </g>\n    <g id=\"line2d_309\"/>\n    <g id=\"text_12\">\n     <!-- train_acc -->\n     <g transform=\"translate(168.8125 77.770312)scale(0.1 -0.1)\">\n      <use xlink:href=\"#DejaVuSans-116\"/>\n      <use x=\"39.208984\" xlink:href=\"#DejaVuSans-114\"/>\n      <use x=\"80.322266\" xlink:href=\"#DejaVuSans-97\"/>\n      <use x=\"141.601562\" xlink:href=\"#DejaVuSans-105\"/>\n      <use x=\"169.384766\" xlink:href=\"#DejaVuSans-110\"/>\n      <use x=\"232.763672\" xlink:href=\"#DejaVuSans-95\"/>\n      <use x=\"282.763672\" xlink:href=\"#DejaVuSans-97\"/>\n      <use x=\"344.042969\" xlink:href=\"#DejaVuSans-99\"/>\n      <use x=\"399.023438\" xlink:href=\"#DejaVuSans-99\"/>\n     </g>\n    </g>\n    <g id=\"line2d_310\">\n     <path d=\"M 140.8125 89.226562 \nL 160.8125 89.226562 \n\" style=\"fill:none;stroke:#2ca02c;stroke-dasharray:9.6,2.4,1.5,2.4;stroke-dashoffset:0;stroke-width:1.5;\"/>\n    </g>\n    <g id=\"line2d_311\"/>\n    <g id=\"text_13\">\n     <!-- val_acc -->\n     <defs>\n      <path d=\"M 2.984375 54.6875 \nL 12.5 54.6875 \nL 29.59375 8.796875 \nL 46.6875 54.6875 \nL 56.203125 54.6875 \nL 35.6875 0 \nL 23.484375 0 \nz\n\" id=\"DejaVuSans-118\"/>\n     </defs>\n     <g transform=\"translate(168.8125 92.726562)scale(0.1 -0.1)\">\n      <use xlink:href=\"#DejaVuSans-118\"/>\n      <use x=\"59.179688\" xlink:href=\"#DejaVuSans-97\"/>\n      <use x=\"120.458984\" xlink:href=\"#DejaVuSans-108\"/>\n      <use x=\"148.242188\" xlink:href=\"#DejaVuSans-95\"/>\n      <use x=\"198.242188\" xlink:href=\"#DejaVuSans-97\"/>\n      <use x=\"259.521484\" xlink:href=\"#DejaVuSans-99\"/>\n      <use x=\"314.501953\" xlink:href=\"#DejaVuSans-99\"/>\n     </g>\n    </g>\n   </g>\n  </g>\n </g>\n <defs>\n  <clipPath id=\"pe1c7531032\">\n   <rect height=\"135.9\" width=\"195.3\" x=\"30.103125\" y=\"7.2\"/>\n  </clipPath>\n </defs>\n</svg>\n"
          },
          "metadata": {
            "needs_background": "light"
          }
        }
      ],
      "source": [
        "# model = MLPScratch(num_inputs=784, num_outputs=10, num_hiddens=256, lr=0.1)\n",
        "# model.cuda()\n",
        "# data\n",
        "# trainer = d2l.Trainer(max_epochs=10)\n",
        "# trainer.fit(model, data)\n",
        "model = MLP(num_outputs=10, num_hiddens=256, lr=0.1)\n",
        "trainer = d2l.Trainer(max_epochs=20)\n",
        "trainer.fit(model, data)"
      ]
    },
    {
      "cell_type": "markdown",
      "source": [
        "1a. Based on the plot, there could have been more epochs used since the training loss was still decreasing at a consistent rate. Surprisingly, there doesn't seem to be overfitting in this initial training. There were some points where the generalization gap increased, but it ended up very close to each other."
      ],
      "metadata": {
        "id": "iY7v2WImsPCd"
      },
      "id": "iY7v2WImsPCd"
    },
    {
      "cell_type": "code",
      "execution_count": 31,
      "id": "ae1d5f5a-3d9c-4998-91d8-db96ec7496cb",
      "metadata": {
        "id": "ae1d5f5a-3d9c-4998-91d8-db96ec7496cb"
      },
      "outputs": [],
      "source": []
    },
    {
      "cell_type": "code",
      "execution_count": null,
      "id": "21588e69-beb2-4e4b-ad15-e2ff1cb25c40",
      "metadata": {
        "id": "21588e69-beb2-4e4b-ad15-e2ff1cb25c40"
      },
      "outputs": [],
      "source": []
    },
    {
      "cell_type": "code",
      "execution_count": null,
      "id": "d5c33ca7-d27a-4a98-a040-cd492eff2238",
      "metadata": {
        "id": "d5c33ca7-d27a-4a98-a040-cd492eff2238"
      },
      "outputs": [],
      "source": []
    }
  ],
  "metadata": {
    "kernelspec": {
      "display_name": "Python 3 (ipykernel)",
      "language": "python",
      "name": "python3"
    },
    "language_info": {
      "codemirror_mode": {
        "name": "ipython",
        "version": 3
      },
      "file_extension": ".py",
      "mimetype": "text/x-python",
      "name": "python",
      "nbconvert_exporter": "python",
      "pygments_lexer": "ipython3",
      "version": "3.9.12"
    },
    "colab": {
      "provenance": []
    },
    "accelerator": "GPU",
    "gpuClass": "standard",
    "widgets": {
      "application/vnd.jupyter.widget-state+json": {
        "4b702ef815544b02b7918f53b6574c1a": {
          "model_module": "@jupyter-widgets/controls",
          "model_name": "HBoxModel",
          "model_module_version": "1.5.0",
          "state": {
            "_dom_classes": [],
            "_model_module": "@jupyter-widgets/controls",
            "_model_module_version": "1.5.0",
            "_model_name": "HBoxModel",
            "_view_count": null,
            "_view_module": "@jupyter-widgets/controls",
            "_view_module_version": "1.5.0",
            "_view_name": "HBoxView",
            "box_style": "",
            "children": [
              "IPY_MODEL_74d345892c684136bc90358ba02ecdd5",
              "IPY_MODEL_b6e378ae51a94da6b20da0eb789777b4",
              "IPY_MODEL_b67028c1a4454d558899ed944cfdfdbc"
            ],
            "layout": "IPY_MODEL_c976a0d55e0846379cc177d0fe1bedb1"
          }
        },
        "74d345892c684136bc90358ba02ecdd5": {
          "model_module": "@jupyter-widgets/controls",
          "model_name": "HTMLModel",
          "model_module_version": "1.5.0",
          "state": {
            "_dom_classes": [],
            "_model_module": "@jupyter-widgets/controls",
            "_model_module_version": "1.5.0",
            "_model_name": "HTMLModel",
            "_view_count": null,
            "_view_module": "@jupyter-widgets/controls",
            "_view_module_version": "1.5.0",
            "_view_name": "HTMLView",
            "description": "",
            "description_tooltip": null,
            "layout": "IPY_MODEL_2136ba3357bb49989cb85ebae88351e5",
            "placeholder": "​",
            "style": "IPY_MODEL_c75f8c272061484a864906c101b3e89c",
            "value": "100%"
          }
        },
        "b6e378ae51a94da6b20da0eb789777b4": {
          "model_module": "@jupyter-widgets/controls",
          "model_name": "FloatProgressModel",
          "model_module_version": "1.5.0",
          "state": {
            "_dom_classes": [],
            "_model_module": "@jupyter-widgets/controls",
            "_model_module_version": "1.5.0",
            "_model_name": "FloatProgressModel",
            "_view_count": null,
            "_view_module": "@jupyter-widgets/controls",
            "_view_module_version": "1.5.0",
            "_view_name": "ProgressView",
            "bar_style": "success",
            "description": "",
            "description_tooltip": null,
            "layout": "IPY_MODEL_a70ffd21e5b94479806c47cc921b8f70",
            "max": 26421880,
            "min": 0,
            "orientation": "horizontal",
            "style": "IPY_MODEL_5394935dc82740d6aa95e3a715921a8b",
            "value": 26421880
          }
        },
        "b67028c1a4454d558899ed944cfdfdbc": {
          "model_module": "@jupyter-widgets/controls",
          "model_name": "HTMLModel",
          "model_module_version": "1.5.0",
          "state": {
            "_dom_classes": [],
            "_model_module": "@jupyter-widgets/controls",
            "_model_module_version": "1.5.0",
            "_model_name": "HTMLModel",
            "_view_count": null,
            "_view_module": "@jupyter-widgets/controls",
            "_view_module_version": "1.5.0",
            "_view_name": "HTMLView",
            "description": "",
            "description_tooltip": null,
            "layout": "IPY_MODEL_74a1391df59e44a3b306ae272ff5e5d1",
            "placeholder": "​",
            "style": "IPY_MODEL_7b5b4ca6777442a593ef2b7cb6715ede",
            "value": " 26421880/26421880 [00:00&lt;00:00, 117979496.20it/s]"
          }
        },
        "c976a0d55e0846379cc177d0fe1bedb1": {
          "model_module": "@jupyter-widgets/base",
          "model_name": "LayoutModel",
          "model_module_version": "1.2.0",
          "state": {
            "_model_module": "@jupyter-widgets/base",
            "_model_module_version": "1.2.0",
            "_model_name": "LayoutModel",
            "_view_count": null,
            "_view_module": "@jupyter-widgets/base",
            "_view_module_version": "1.2.0",
            "_view_name": "LayoutView",
            "align_content": null,
            "align_items": null,
            "align_self": null,
            "border": null,
            "bottom": null,
            "display": null,
            "flex": null,
            "flex_flow": null,
            "grid_area": null,
            "grid_auto_columns": null,
            "grid_auto_flow": null,
            "grid_auto_rows": null,
            "grid_column": null,
            "grid_gap": null,
            "grid_row": null,
            "grid_template_areas": null,
            "grid_template_columns": null,
            "grid_template_rows": null,
            "height": null,
            "justify_content": null,
            "justify_items": null,
            "left": null,
            "margin": null,
            "max_height": null,
            "max_width": null,
            "min_height": null,
            "min_width": null,
            "object_fit": null,
            "object_position": null,
            "order": null,
            "overflow": null,
            "overflow_x": null,
            "overflow_y": null,
            "padding": null,
            "right": null,
            "top": null,
            "visibility": null,
            "width": null
          }
        },
        "2136ba3357bb49989cb85ebae88351e5": {
          "model_module": "@jupyter-widgets/base",
          "model_name": "LayoutModel",
          "model_module_version": "1.2.0",
          "state": {
            "_model_module": "@jupyter-widgets/base",
            "_model_module_version": "1.2.0",
            "_model_name": "LayoutModel",
            "_view_count": null,
            "_view_module": "@jupyter-widgets/base",
            "_view_module_version": "1.2.0",
            "_view_name": "LayoutView",
            "align_content": null,
            "align_items": null,
            "align_self": null,
            "border": null,
            "bottom": null,
            "display": null,
            "flex": null,
            "flex_flow": null,
            "grid_area": null,
            "grid_auto_columns": null,
            "grid_auto_flow": null,
            "grid_auto_rows": null,
            "grid_column": null,
            "grid_gap": null,
            "grid_row": null,
            "grid_template_areas": null,
            "grid_template_columns": null,
            "grid_template_rows": null,
            "height": null,
            "justify_content": null,
            "justify_items": null,
            "left": null,
            "margin": null,
            "max_height": null,
            "max_width": null,
            "min_height": null,
            "min_width": null,
            "object_fit": null,
            "object_position": null,
            "order": null,
            "overflow": null,
            "overflow_x": null,
            "overflow_y": null,
            "padding": null,
            "right": null,
            "top": null,
            "visibility": null,
            "width": null
          }
        },
        "c75f8c272061484a864906c101b3e89c": {
          "model_module": "@jupyter-widgets/controls",
          "model_name": "DescriptionStyleModel",
          "model_module_version": "1.5.0",
          "state": {
            "_model_module": "@jupyter-widgets/controls",
            "_model_module_version": "1.5.0",
            "_model_name": "DescriptionStyleModel",
            "_view_count": null,
            "_view_module": "@jupyter-widgets/base",
            "_view_module_version": "1.2.0",
            "_view_name": "StyleView",
            "description_width": ""
          }
        },
        "a70ffd21e5b94479806c47cc921b8f70": {
          "model_module": "@jupyter-widgets/base",
          "model_name": "LayoutModel",
          "model_module_version": "1.2.0",
          "state": {
            "_model_module": "@jupyter-widgets/base",
            "_model_module_version": "1.2.0",
            "_model_name": "LayoutModel",
            "_view_count": null,
            "_view_module": "@jupyter-widgets/base",
            "_view_module_version": "1.2.0",
            "_view_name": "LayoutView",
            "align_content": null,
            "align_items": null,
            "align_self": null,
            "border": null,
            "bottom": null,
            "display": null,
            "flex": null,
            "flex_flow": null,
            "grid_area": null,
            "grid_auto_columns": null,
            "grid_auto_flow": null,
            "grid_auto_rows": null,
            "grid_column": null,
            "grid_gap": null,
            "grid_row": null,
            "grid_template_areas": null,
            "grid_template_columns": null,
            "grid_template_rows": null,
            "height": null,
            "justify_content": null,
            "justify_items": null,
            "left": null,
            "margin": null,
            "max_height": null,
            "max_width": null,
            "min_height": null,
            "min_width": null,
            "object_fit": null,
            "object_position": null,
            "order": null,
            "overflow": null,
            "overflow_x": null,
            "overflow_y": null,
            "padding": null,
            "right": null,
            "top": null,
            "visibility": null,
            "width": null
          }
        },
        "5394935dc82740d6aa95e3a715921a8b": {
          "model_module": "@jupyter-widgets/controls",
          "model_name": "ProgressStyleModel",
          "model_module_version": "1.5.0",
          "state": {
            "_model_module": "@jupyter-widgets/controls",
            "_model_module_version": "1.5.0",
            "_model_name": "ProgressStyleModel",
            "_view_count": null,
            "_view_module": "@jupyter-widgets/base",
            "_view_module_version": "1.2.0",
            "_view_name": "StyleView",
            "bar_color": null,
            "description_width": ""
          }
        },
        "74a1391df59e44a3b306ae272ff5e5d1": {
          "model_module": "@jupyter-widgets/base",
          "model_name": "LayoutModel",
          "model_module_version": "1.2.0",
          "state": {
            "_model_module": "@jupyter-widgets/base",
            "_model_module_version": "1.2.0",
            "_model_name": "LayoutModel",
            "_view_count": null,
            "_view_module": "@jupyter-widgets/base",
            "_view_module_version": "1.2.0",
            "_view_name": "LayoutView",
            "align_content": null,
            "align_items": null,
            "align_self": null,
            "border": null,
            "bottom": null,
            "display": null,
            "flex": null,
            "flex_flow": null,
            "grid_area": null,
            "grid_auto_columns": null,
            "grid_auto_flow": null,
            "grid_auto_rows": null,
            "grid_column": null,
            "grid_gap": null,
            "grid_row": null,
            "grid_template_areas": null,
            "grid_template_columns": null,
            "grid_template_rows": null,
            "height": null,
            "justify_content": null,
            "justify_items": null,
            "left": null,
            "margin": null,
            "max_height": null,
            "max_width": null,
            "min_height": null,
            "min_width": null,
            "object_fit": null,
            "object_position": null,
            "order": null,
            "overflow": null,
            "overflow_x": null,
            "overflow_y": null,
            "padding": null,
            "right": null,
            "top": null,
            "visibility": null,
            "width": null
          }
        },
        "7b5b4ca6777442a593ef2b7cb6715ede": {
          "model_module": "@jupyter-widgets/controls",
          "model_name": "DescriptionStyleModel",
          "model_module_version": "1.5.0",
          "state": {
            "_model_module": "@jupyter-widgets/controls",
            "_model_module_version": "1.5.0",
            "_model_name": "DescriptionStyleModel",
            "_view_count": null,
            "_view_module": "@jupyter-widgets/base",
            "_view_module_version": "1.2.0",
            "_view_name": "StyleView",
            "description_width": ""
          }
        },
        "5b9b1f760e494097a6800383d7186ca9": {
          "model_module": "@jupyter-widgets/controls",
          "model_name": "HBoxModel",
          "model_module_version": "1.5.0",
          "state": {
            "_dom_classes": [],
            "_model_module": "@jupyter-widgets/controls",
            "_model_module_version": "1.5.0",
            "_model_name": "HBoxModel",
            "_view_count": null,
            "_view_module": "@jupyter-widgets/controls",
            "_view_module_version": "1.5.0",
            "_view_name": "HBoxView",
            "box_style": "",
            "children": [
              "IPY_MODEL_746c4830d4a542f282e12136055ec57d",
              "IPY_MODEL_84fdbe2da4984621baeae3e102638e59",
              "IPY_MODEL_0ebb76d3b1ed40c6be04b0df50a07dad"
            ],
            "layout": "IPY_MODEL_c13b30cdca5c4ce891d463d0daa2dc14"
          }
        },
        "746c4830d4a542f282e12136055ec57d": {
          "model_module": "@jupyter-widgets/controls",
          "model_name": "HTMLModel",
          "model_module_version": "1.5.0",
          "state": {
            "_dom_classes": [],
            "_model_module": "@jupyter-widgets/controls",
            "_model_module_version": "1.5.0",
            "_model_name": "HTMLModel",
            "_view_count": null,
            "_view_module": "@jupyter-widgets/controls",
            "_view_module_version": "1.5.0",
            "_view_name": "HTMLView",
            "description": "",
            "description_tooltip": null,
            "layout": "IPY_MODEL_db59288a80c54a458ca9c91fe134834b",
            "placeholder": "​",
            "style": "IPY_MODEL_5c3067994c2746b2a33d93ca3a9b5e97",
            "value": "100%"
          }
        },
        "84fdbe2da4984621baeae3e102638e59": {
          "model_module": "@jupyter-widgets/controls",
          "model_name": "FloatProgressModel",
          "model_module_version": "1.5.0",
          "state": {
            "_dom_classes": [],
            "_model_module": "@jupyter-widgets/controls",
            "_model_module_version": "1.5.0",
            "_model_name": "FloatProgressModel",
            "_view_count": null,
            "_view_module": "@jupyter-widgets/controls",
            "_view_module_version": "1.5.0",
            "_view_name": "ProgressView",
            "bar_style": "success",
            "description": "",
            "description_tooltip": null,
            "layout": "IPY_MODEL_fd314b3f742948aaa1aaabb4e6eb8ca6",
            "max": 29515,
            "min": 0,
            "orientation": "horizontal",
            "style": "IPY_MODEL_b6b441322a8147f5b63ba2c97011c0df",
            "value": 29515
          }
        },
        "0ebb76d3b1ed40c6be04b0df50a07dad": {
          "model_module": "@jupyter-widgets/controls",
          "model_name": "HTMLModel",
          "model_module_version": "1.5.0",
          "state": {
            "_dom_classes": [],
            "_model_module": "@jupyter-widgets/controls",
            "_model_module_version": "1.5.0",
            "_model_name": "HTMLModel",
            "_view_count": null,
            "_view_module": "@jupyter-widgets/controls",
            "_view_module_version": "1.5.0",
            "_view_name": "HTMLView",
            "description": "",
            "description_tooltip": null,
            "layout": "IPY_MODEL_f99f7fc660e641e483d1b1a260d3342c",
            "placeholder": "​",
            "style": "IPY_MODEL_e27a6b226e934bf3bade3af7b20d88b1",
            "value": " 29515/29515 [00:00&lt;00:00, 2010897.67it/s]"
          }
        },
        "c13b30cdca5c4ce891d463d0daa2dc14": {
          "model_module": "@jupyter-widgets/base",
          "model_name": "LayoutModel",
          "model_module_version": "1.2.0",
          "state": {
            "_model_module": "@jupyter-widgets/base",
            "_model_module_version": "1.2.0",
            "_model_name": "LayoutModel",
            "_view_count": null,
            "_view_module": "@jupyter-widgets/base",
            "_view_module_version": "1.2.0",
            "_view_name": "LayoutView",
            "align_content": null,
            "align_items": null,
            "align_self": null,
            "border": null,
            "bottom": null,
            "display": null,
            "flex": null,
            "flex_flow": null,
            "grid_area": null,
            "grid_auto_columns": null,
            "grid_auto_flow": null,
            "grid_auto_rows": null,
            "grid_column": null,
            "grid_gap": null,
            "grid_row": null,
            "grid_template_areas": null,
            "grid_template_columns": null,
            "grid_template_rows": null,
            "height": null,
            "justify_content": null,
            "justify_items": null,
            "left": null,
            "margin": null,
            "max_height": null,
            "max_width": null,
            "min_height": null,
            "min_width": null,
            "object_fit": null,
            "object_position": null,
            "order": null,
            "overflow": null,
            "overflow_x": null,
            "overflow_y": null,
            "padding": null,
            "right": null,
            "top": null,
            "visibility": null,
            "width": null
          }
        },
        "db59288a80c54a458ca9c91fe134834b": {
          "model_module": "@jupyter-widgets/base",
          "model_name": "LayoutModel",
          "model_module_version": "1.2.0",
          "state": {
            "_model_module": "@jupyter-widgets/base",
            "_model_module_version": "1.2.0",
            "_model_name": "LayoutModel",
            "_view_count": null,
            "_view_module": "@jupyter-widgets/base",
            "_view_module_version": "1.2.0",
            "_view_name": "LayoutView",
            "align_content": null,
            "align_items": null,
            "align_self": null,
            "border": null,
            "bottom": null,
            "display": null,
            "flex": null,
            "flex_flow": null,
            "grid_area": null,
            "grid_auto_columns": null,
            "grid_auto_flow": null,
            "grid_auto_rows": null,
            "grid_column": null,
            "grid_gap": null,
            "grid_row": null,
            "grid_template_areas": null,
            "grid_template_columns": null,
            "grid_template_rows": null,
            "height": null,
            "justify_content": null,
            "justify_items": null,
            "left": null,
            "margin": null,
            "max_height": null,
            "max_width": null,
            "min_height": null,
            "min_width": null,
            "object_fit": null,
            "object_position": null,
            "order": null,
            "overflow": null,
            "overflow_x": null,
            "overflow_y": null,
            "padding": null,
            "right": null,
            "top": null,
            "visibility": null,
            "width": null
          }
        },
        "5c3067994c2746b2a33d93ca3a9b5e97": {
          "model_module": "@jupyter-widgets/controls",
          "model_name": "DescriptionStyleModel",
          "model_module_version": "1.5.0",
          "state": {
            "_model_module": "@jupyter-widgets/controls",
            "_model_module_version": "1.5.0",
            "_model_name": "DescriptionStyleModel",
            "_view_count": null,
            "_view_module": "@jupyter-widgets/base",
            "_view_module_version": "1.2.0",
            "_view_name": "StyleView",
            "description_width": ""
          }
        },
        "fd314b3f742948aaa1aaabb4e6eb8ca6": {
          "model_module": "@jupyter-widgets/base",
          "model_name": "LayoutModel",
          "model_module_version": "1.2.0",
          "state": {
            "_model_module": "@jupyter-widgets/base",
            "_model_module_version": "1.2.0",
            "_model_name": "LayoutModel",
            "_view_count": null,
            "_view_module": "@jupyter-widgets/base",
            "_view_module_version": "1.2.0",
            "_view_name": "LayoutView",
            "align_content": null,
            "align_items": null,
            "align_self": null,
            "border": null,
            "bottom": null,
            "display": null,
            "flex": null,
            "flex_flow": null,
            "grid_area": null,
            "grid_auto_columns": null,
            "grid_auto_flow": null,
            "grid_auto_rows": null,
            "grid_column": null,
            "grid_gap": null,
            "grid_row": null,
            "grid_template_areas": null,
            "grid_template_columns": null,
            "grid_template_rows": null,
            "height": null,
            "justify_content": null,
            "justify_items": null,
            "left": null,
            "margin": null,
            "max_height": null,
            "max_width": null,
            "min_height": null,
            "min_width": null,
            "object_fit": null,
            "object_position": null,
            "order": null,
            "overflow": null,
            "overflow_x": null,
            "overflow_y": null,
            "padding": null,
            "right": null,
            "top": null,
            "visibility": null,
            "width": null
          }
        },
        "b6b441322a8147f5b63ba2c97011c0df": {
          "model_module": "@jupyter-widgets/controls",
          "model_name": "ProgressStyleModel",
          "model_module_version": "1.5.0",
          "state": {
            "_model_module": "@jupyter-widgets/controls",
            "_model_module_version": "1.5.0",
            "_model_name": "ProgressStyleModel",
            "_view_count": null,
            "_view_module": "@jupyter-widgets/base",
            "_view_module_version": "1.2.0",
            "_view_name": "StyleView",
            "bar_color": null,
            "description_width": ""
          }
        },
        "f99f7fc660e641e483d1b1a260d3342c": {
          "model_module": "@jupyter-widgets/base",
          "model_name": "LayoutModel",
          "model_module_version": "1.2.0",
          "state": {
            "_model_module": "@jupyter-widgets/base",
            "_model_module_version": "1.2.0",
            "_model_name": "LayoutModel",
            "_view_count": null,
            "_view_module": "@jupyter-widgets/base",
            "_view_module_version": "1.2.0",
            "_view_name": "LayoutView",
            "align_content": null,
            "align_items": null,
            "align_self": null,
            "border": null,
            "bottom": null,
            "display": null,
            "flex": null,
            "flex_flow": null,
            "grid_area": null,
            "grid_auto_columns": null,
            "grid_auto_flow": null,
            "grid_auto_rows": null,
            "grid_column": null,
            "grid_gap": null,
            "grid_row": null,
            "grid_template_areas": null,
            "grid_template_columns": null,
            "grid_template_rows": null,
            "height": null,
            "justify_content": null,
            "justify_items": null,
            "left": null,
            "margin": null,
            "max_height": null,
            "max_width": null,
            "min_height": null,
            "min_width": null,
            "object_fit": null,
            "object_position": null,
            "order": null,
            "overflow": null,
            "overflow_x": null,
            "overflow_y": null,
            "padding": null,
            "right": null,
            "top": null,
            "visibility": null,
            "width": null
          }
        },
        "e27a6b226e934bf3bade3af7b20d88b1": {
          "model_module": "@jupyter-widgets/controls",
          "model_name": "DescriptionStyleModel",
          "model_module_version": "1.5.0",
          "state": {
            "_model_module": "@jupyter-widgets/controls",
            "_model_module_version": "1.5.0",
            "_model_name": "DescriptionStyleModel",
            "_view_count": null,
            "_view_module": "@jupyter-widgets/base",
            "_view_module_version": "1.2.0",
            "_view_name": "StyleView",
            "description_width": ""
          }
        },
        "aaacca3d3b344faa8c1db19b92c2083e": {
          "model_module": "@jupyter-widgets/controls",
          "model_name": "HBoxModel",
          "model_module_version": "1.5.0",
          "state": {
            "_dom_classes": [],
            "_model_module": "@jupyter-widgets/controls",
            "_model_module_version": "1.5.0",
            "_model_name": "HBoxModel",
            "_view_count": null,
            "_view_module": "@jupyter-widgets/controls",
            "_view_module_version": "1.5.0",
            "_view_name": "HBoxView",
            "box_style": "",
            "children": [
              "IPY_MODEL_5902b1f76a294a5b9aa28536acf71f78",
              "IPY_MODEL_fde830c246e04a07a4798aa667b9ca28",
              "IPY_MODEL_d6c3414a05be436da6a9ccd10d5282b3"
            ],
            "layout": "IPY_MODEL_f80efa5483064edaa013be4d649cc797"
          }
        },
        "5902b1f76a294a5b9aa28536acf71f78": {
          "model_module": "@jupyter-widgets/controls",
          "model_name": "HTMLModel",
          "model_module_version": "1.5.0",
          "state": {
            "_dom_classes": [],
            "_model_module": "@jupyter-widgets/controls",
            "_model_module_version": "1.5.0",
            "_model_name": "HTMLModel",
            "_view_count": null,
            "_view_module": "@jupyter-widgets/controls",
            "_view_module_version": "1.5.0",
            "_view_name": "HTMLView",
            "description": "",
            "description_tooltip": null,
            "layout": "IPY_MODEL_5fb993d65bd8419aa9e0d735d6c0b8ba",
            "placeholder": "​",
            "style": "IPY_MODEL_5b97c8b7f6f744ffa79c406d4da1613d",
            "value": "100%"
          }
        },
        "fde830c246e04a07a4798aa667b9ca28": {
          "model_module": "@jupyter-widgets/controls",
          "model_name": "FloatProgressModel",
          "model_module_version": "1.5.0",
          "state": {
            "_dom_classes": [],
            "_model_module": "@jupyter-widgets/controls",
            "_model_module_version": "1.5.0",
            "_model_name": "FloatProgressModel",
            "_view_count": null,
            "_view_module": "@jupyter-widgets/controls",
            "_view_module_version": "1.5.0",
            "_view_name": "ProgressView",
            "bar_style": "success",
            "description": "",
            "description_tooltip": null,
            "layout": "IPY_MODEL_282471d2774648e49aecb912a1b8d7a5",
            "max": 4422102,
            "min": 0,
            "orientation": "horizontal",
            "style": "IPY_MODEL_1a8408a021e249ca8076cb47dc02293d",
            "value": 4422102
          }
        },
        "d6c3414a05be436da6a9ccd10d5282b3": {
          "model_module": "@jupyter-widgets/controls",
          "model_name": "HTMLModel",
          "model_module_version": "1.5.0",
          "state": {
            "_dom_classes": [],
            "_model_module": "@jupyter-widgets/controls",
            "_model_module_version": "1.5.0",
            "_model_name": "HTMLModel",
            "_view_count": null,
            "_view_module": "@jupyter-widgets/controls",
            "_view_module_version": "1.5.0",
            "_view_name": "HTMLView",
            "description": "",
            "description_tooltip": null,
            "layout": "IPY_MODEL_46a6d31b177d4b32aefe77a4779d1bd8",
            "placeholder": "​",
            "style": "IPY_MODEL_5e368aadafb64a90b25fd7d3a8efe93c",
            "value": " 4422102/4422102 [00:00&lt;00:00, 56606187.82it/s]"
          }
        },
        "f80efa5483064edaa013be4d649cc797": {
          "model_module": "@jupyter-widgets/base",
          "model_name": "LayoutModel",
          "model_module_version": "1.2.0",
          "state": {
            "_model_module": "@jupyter-widgets/base",
            "_model_module_version": "1.2.0",
            "_model_name": "LayoutModel",
            "_view_count": null,
            "_view_module": "@jupyter-widgets/base",
            "_view_module_version": "1.2.0",
            "_view_name": "LayoutView",
            "align_content": null,
            "align_items": null,
            "align_self": null,
            "border": null,
            "bottom": null,
            "display": null,
            "flex": null,
            "flex_flow": null,
            "grid_area": null,
            "grid_auto_columns": null,
            "grid_auto_flow": null,
            "grid_auto_rows": null,
            "grid_column": null,
            "grid_gap": null,
            "grid_row": null,
            "grid_template_areas": null,
            "grid_template_columns": null,
            "grid_template_rows": null,
            "height": null,
            "justify_content": null,
            "justify_items": null,
            "left": null,
            "margin": null,
            "max_height": null,
            "max_width": null,
            "min_height": null,
            "min_width": null,
            "object_fit": null,
            "object_position": null,
            "order": null,
            "overflow": null,
            "overflow_x": null,
            "overflow_y": null,
            "padding": null,
            "right": null,
            "top": null,
            "visibility": null,
            "width": null
          }
        },
        "5fb993d65bd8419aa9e0d735d6c0b8ba": {
          "model_module": "@jupyter-widgets/base",
          "model_name": "LayoutModel",
          "model_module_version": "1.2.0",
          "state": {
            "_model_module": "@jupyter-widgets/base",
            "_model_module_version": "1.2.0",
            "_model_name": "LayoutModel",
            "_view_count": null,
            "_view_module": "@jupyter-widgets/base",
            "_view_module_version": "1.2.0",
            "_view_name": "LayoutView",
            "align_content": null,
            "align_items": null,
            "align_self": null,
            "border": null,
            "bottom": null,
            "display": null,
            "flex": null,
            "flex_flow": null,
            "grid_area": null,
            "grid_auto_columns": null,
            "grid_auto_flow": null,
            "grid_auto_rows": null,
            "grid_column": null,
            "grid_gap": null,
            "grid_row": null,
            "grid_template_areas": null,
            "grid_template_columns": null,
            "grid_template_rows": null,
            "height": null,
            "justify_content": null,
            "justify_items": null,
            "left": null,
            "margin": null,
            "max_height": null,
            "max_width": null,
            "min_height": null,
            "min_width": null,
            "object_fit": null,
            "object_position": null,
            "order": null,
            "overflow": null,
            "overflow_x": null,
            "overflow_y": null,
            "padding": null,
            "right": null,
            "top": null,
            "visibility": null,
            "width": null
          }
        },
        "5b97c8b7f6f744ffa79c406d4da1613d": {
          "model_module": "@jupyter-widgets/controls",
          "model_name": "DescriptionStyleModel",
          "model_module_version": "1.5.0",
          "state": {
            "_model_module": "@jupyter-widgets/controls",
            "_model_module_version": "1.5.0",
            "_model_name": "DescriptionStyleModel",
            "_view_count": null,
            "_view_module": "@jupyter-widgets/base",
            "_view_module_version": "1.2.0",
            "_view_name": "StyleView",
            "description_width": ""
          }
        },
        "282471d2774648e49aecb912a1b8d7a5": {
          "model_module": "@jupyter-widgets/base",
          "model_name": "LayoutModel",
          "model_module_version": "1.2.0",
          "state": {
            "_model_module": "@jupyter-widgets/base",
            "_model_module_version": "1.2.0",
            "_model_name": "LayoutModel",
            "_view_count": null,
            "_view_module": "@jupyter-widgets/base",
            "_view_module_version": "1.2.0",
            "_view_name": "LayoutView",
            "align_content": null,
            "align_items": null,
            "align_self": null,
            "border": null,
            "bottom": null,
            "display": null,
            "flex": null,
            "flex_flow": null,
            "grid_area": null,
            "grid_auto_columns": null,
            "grid_auto_flow": null,
            "grid_auto_rows": null,
            "grid_column": null,
            "grid_gap": null,
            "grid_row": null,
            "grid_template_areas": null,
            "grid_template_columns": null,
            "grid_template_rows": null,
            "height": null,
            "justify_content": null,
            "justify_items": null,
            "left": null,
            "margin": null,
            "max_height": null,
            "max_width": null,
            "min_height": null,
            "min_width": null,
            "object_fit": null,
            "object_position": null,
            "order": null,
            "overflow": null,
            "overflow_x": null,
            "overflow_y": null,
            "padding": null,
            "right": null,
            "top": null,
            "visibility": null,
            "width": null
          }
        },
        "1a8408a021e249ca8076cb47dc02293d": {
          "model_module": "@jupyter-widgets/controls",
          "model_name": "ProgressStyleModel",
          "model_module_version": "1.5.0",
          "state": {
            "_model_module": "@jupyter-widgets/controls",
            "_model_module_version": "1.5.0",
            "_model_name": "ProgressStyleModel",
            "_view_count": null,
            "_view_module": "@jupyter-widgets/base",
            "_view_module_version": "1.2.0",
            "_view_name": "StyleView",
            "bar_color": null,
            "description_width": ""
          }
        },
        "46a6d31b177d4b32aefe77a4779d1bd8": {
          "model_module": "@jupyter-widgets/base",
          "model_name": "LayoutModel",
          "model_module_version": "1.2.0",
          "state": {
            "_model_module": "@jupyter-widgets/base",
            "_model_module_version": "1.2.0",
            "_model_name": "LayoutModel",
            "_view_count": null,
            "_view_module": "@jupyter-widgets/base",
            "_view_module_version": "1.2.0",
            "_view_name": "LayoutView",
            "align_content": null,
            "align_items": null,
            "align_self": null,
            "border": null,
            "bottom": null,
            "display": null,
            "flex": null,
            "flex_flow": null,
            "grid_area": null,
            "grid_auto_columns": null,
            "grid_auto_flow": null,
            "grid_auto_rows": null,
            "grid_column": null,
            "grid_gap": null,
            "grid_row": null,
            "grid_template_areas": null,
            "grid_template_columns": null,
            "grid_template_rows": null,
            "height": null,
            "justify_content": null,
            "justify_items": null,
            "left": null,
            "margin": null,
            "max_height": null,
            "max_width": null,
            "min_height": null,
            "min_width": null,
            "object_fit": null,
            "object_position": null,
            "order": null,
            "overflow": null,
            "overflow_x": null,
            "overflow_y": null,
            "padding": null,
            "right": null,
            "top": null,
            "visibility": null,
            "width": null
          }
        },
        "5e368aadafb64a90b25fd7d3a8efe93c": {
          "model_module": "@jupyter-widgets/controls",
          "model_name": "DescriptionStyleModel",
          "model_module_version": "1.5.0",
          "state": {
            "_model_module": "@jupyter-widgets/controls",
            "_model_module_version": "1.5.0",
            "_model_name": "DescriptionStyleModel",
            "_view_count": null,
            "_view_module": "@jupyter-widgets/base",
            "_view_module_version": "1.2.0",
            "_view_name": "StyleView",
            "description_width": ""
          }
        },
        "efa119688026476facf4589b31068ab8": {
          "model_module": "@jupyter-widgets/controls",
          "model_name": "HBoxModel",
          "model_module_version": "1.5.0",
          "state": {
            "_dom_classes": [],
            "_model_module": "@jupyter-widgets/controls",
            "_model_module_version": "1.5.0",
            "_model_name": "HBoxModel",
            "_view_count": null,
            "_view_module": "@jupyter-widgets/controls",
            "_view_module_version": "1.5.0",
            "_view_name": "HBoxView",
            "box_style": "",
            "children": [
              "IPY_MODEL_8d5bb2941c1742cab2f53f1473195d66",
              "IPY_MODEL_bfb9aa2992094fc9a2336f3ae596d67d",
              "IPY_MODEL_94bbf1329cce46bc83b3386c4655d313"
            ],
            "layout": "IPY_MODEL_a3cf30db280048ae92342a389a8694c0"
          }
        },
        "8d5bb2941c1742cab2f53f1473195d66": {
          "model_module": "@jupyter-widgets/controls",
          "model_name": "HTMLModel",
          "model_module_version": "1.5.0",
          "state": {
            "_dom_classes": [],
            "_model_module": "@jupyter-widgets/controls",
            "_model_module_version": "1.5.0",
            "_model_name": "HTMLModel",
            "_view_count": null,
            "_view_module": "@jupyter-widgets/controls",
            "_view_module_version": "1.5.0",
            "_view_name": "HTMLView",
            "description": "",
            "description_tooltip": null,
            "layout": "IPY_MODEL_63f13c0b06a54a2986de88adef28720d",
            "placeholder": "​",
            "style": "IPY_MODEL_7eca8be7f6c140cc8f9489cc41e3f39d",
            "value": "100%"
          }
        },
        "bfb9aa2992094fc9a2336f3ae596d67d": {
          "model_module": "@jupyter-widgets/controls",
          "model_name": "FloatProgressModel",
          "model_module_version": "1.5.0",
          "state": {
            "_dom_classes": [],
            "_model_module": "@jupyter-widgets/controls",
            "_model_module_version": "1.5.0",
            "_model_name": "FloatProgressModel",
            "_view_count": null,
            "_view_module": "@jupyter-widgets/controls",
            "_view_module_version": "1.5.0",
            "_view_name": "ProgressView",
            "bar_style": "success",
            "description": "",
            "description_tooltip": null,
            "layout": "IPY_MODEL_769ac592d84641a8b9120e8232294edb",
            "max": 5148,
            "min": 0,
            "orientation": "horizontal",
            "style": "IPY_MODEL_439f34ed2b444603ac2a958cfa1737ed",
            "value": 5148
          }
        },
        "94bbf1329cce46bc83b3386c4655d313": {
          "model_module": "@jupyter-widgets/controls",
          "model_name": "HTMLModel",
          "model_module_version": "1.5.0",
          "state": {
            "_dom_classes": [],
            "_model_module": "@jupyter-widgets/controls",
            "_model_module_version": "1.5.0",
            "_model_name": "HTMLModel",
            "_view_count": null,
            "_view_module": "@jupyter-widgets/controls",
            "_view_module_version": "1.5.0",
            "_view_name": "HTMLView",
            "description": "",
            "description_tooltip": null,
            "layout": "IPY_MODEL_3d42740468454e16a86bfe90bc2a847c",
            "placeholder": "​",
            "style": "IPY_MODEL_b9181693d51849aab18139ec3f412331",
            "value": " 5148/5148 [00:00&lt;00:00, 237064.15it/s]"
          }
        },
        "a3cf30db280048ae92342a389a8694c0": {
          "model_module": "@jupyter-widgets/base",
          "model_name": "LayoutModel",
          "model_module_version": "1.2.0",
          "state": {
            "_model_module": "@jupyter-widgets/base",
            "_model_module_version": "1.2.0",
            "_model_name": "LayoutModel",
            "_view_count": null,
            "_view_module": "@jupyter-widgets/base",
            "_view_module_version": "1.2.0",
            "_view_name": "LayoutView",
            "align_content": null,
            "align_items": null,
            "align_self": null,
            "border": null,
            "bottom": null,
            "display": null,
            "flex": null,
            "flex_flow": null,
            "grid_area": null,
            "grid_auto_columns": null,
            "grid_auto_flow": null,
            "grid_auto_rows": null,
            "grid_column": null,
            "grid_gap": null,
            "grid_row": null,
            "grid_template_areas": null,
            "grid_template_columns": null,
            "grid_template_rows": null,
            "height": null,
            "justify_content": null,
            "justify_items": null,
            "left": null,
            "margin": null,
            "max_height": null,
            "max_width": null,
            "min_height": null,
            "min_width": null,
            "object_fit": null,
            "object_position": null,
            "order": null,
            "overflow": null,
            "overflow_x": null,
            "overflow_y": null,
            "padding": null,
            "right": null,
            "top": null,
            "visibility": null,
            "width": null
          }
        },
        "63f13c0b06a54a2986de88adef28720d": {
          "model_module": "@jupyter-widgets/base",
          "model_name": "LayoutModel",
          "model_module_version": "1.2.0",
          "state": {
            "_model_module": "@jupyter-widgets/base",
            "_model_module_version": "1.2.0",
            "_model_name": "LayoutModel",
            "_view_count": null,
            "_view_module": "@jupyter-widgets/base",
            "_view_module_version": "1.2.0",
            "_view_name": "LayoutView",
            "align_content": null,
            "align_items": null,
            "align_self": null,
            "border": null,
            "bottom": null,
            "display": null,
            "flex": null,
            "flex_flow": null,
            "grid_area": null,
            "grid_auto_columns": null,
            "grid_auto_flow": null,
            "grid_auto_rows": null,
            "grid_column": null,
            "grid_gap": null,
            "grid_row": null,
            "grid_template_areas": null,
            "grid_template_columns": null,
            "grid_template_rows": null,
            "height": null,
            "justify_content": null,
            "justify_items": null,
            "left": null,
            "margin": null,
            "max_height": null,
            "max_width": null,
            "min_height": null,
            "min_width": null,
            "object_fit": null,
            "object_position": null,
            "order": null,
            "overflow": null,
            "overflow_x": null,
            "overflow_y": null,
            "padding": null,
            "right": null,
            "top": null,
            "visibility": null,
            "width": null
          }
        },
        "7eca8be7f6c140cc8f9489cc41e3f39d": {
          "model_module": "@jupyter-widgets/controls",
          "model_name": "DescriptionStyleModel",
          "model_module_version": "1.5.0",
          "state": {
            "_model_module": "@jupyter-widgets/controls",
            "_model_module_version": "1.5.0",
            "_model_name": "DescriptionStyleModel",
            "_view_count": null,
            "_view_module": "@jupyter-widgets/base",
            "_view_module_version": "1.2.0",
            "_view_name": "StyleView",
            "description_width": ""
          }
        },
        "769ac592d84641a8b9120e8232294edb": {
          "model_module": "@jupyter-widgets/base",
          "model_name": "LayoutModel",
          "model_module_version": "1.2.0",
          "state": {
            "_model_module": "@jupyter-widgets/base",
            "_model_module_version": "1.2.0",
            "_model_name": "LayoutModel",
            "_view_count": null,
            "_view_module": "@jupyter-widgets/base",
            "_view_module_version": "1.2.0",
            "_view_name": "LayoutView",
            "align_content": null,
            "align_items": null,
            "align_self": null,
            "border": null,
            "bottom": null,
            "display": null,
            "flex": null,
            "flex_flow": null,
            "grid_area": null,
            "grid_auto_columns": null,
            "grid_auto_flow": null,
            "grid_auto_rows": null,
            "grid_column": null,
            "grid_gap": null,
            "grid_row": null,
            "grid_template_areas": null,
            "grid_template_columns": null,
            "grid_template_rows": null,
            "height": null,
            "justify_content": null,
            "justify_items": null,
            "left": null,
            "margin": null,
            "max_height": null,
            "max_width": null,
            "min_height": null,
            "min_width": null,
            "object_fit": null,
            "object_position": null,
            "order": null,
            "overflow": null,
            "overflow_x": null,
            "overflow_y": null,
            "padding": null,
            "right": null,
            "top": null,
            "visibility": null,
            "width": null
          }
        },
        "439f34ed2b444603ac2a958cfa1737ed": {
          "model_module": "@jupyter-widgets/controls",
          "model_name": "ProgressStyleModel",
          "model_module_version": "1.5.0",
          "state": {
            "_model_module": "@jupyter-widgets/controls",
            "_model_module_version": "1.5.0",
            "_model_name": "ProgressStyleModel",
            "_view_count": null,
            "_view_module": "@jupyter-widgets/base",
            "_view_module_version": "1.2.0",
            "_view_name": "StyleView",
            "bar_color": null,
            "description_width": ""
          }
        },
        "3d42740468454e16a86bfe90bc2a847c": {
          "model_module": "@jupyter-widgets/base",
          "model_name": "LayoutModel",
          "model_module_version": "1.2.0",
          "state": {
            "_model_module": "@jupyter-widgets/base",
            "_model_module_version": "1.2.0",
            "_model_name": "LayoutModel",
            "_view_count": null,
            "_view_module": "@jupyter-widgets/base",
            "_view_module_version": "1.2.0",
            "_view_name": "LayoutView",
            "align_content": null,
            "align_items": null,
            "align_self": null,
            "border": null,
            "bottom": null,
            "display": null,
            "flex": null,
            "flex_flow": null,
            "grid_area": null,
            "grid_auto_columns": null,
            "grid_auto_flow": null,
            "grid_auto_rows": null,
            "grid_column": null,
            "grid_gap": null,
            "grid_row": null,
            "grid_template_areas": null,
            "grid_template_columns": null,
            "grid_template_rows": null,
            "height": null,
            "justify_content": null,
            "justify_items": null,
            "left": null,
            "margin": null,
            "max_height": null,
            "max_width": null,
            "min_height": null,
            "min_width": null,
            "object_fit": null,
            "object_position": null,
            "order": null,
            "overflow": null,
            "overflow_x": null,
            "overflow_y": null,
            "padding": null,
            "right": null,
            "top": null,
            "visibility": null,
            "width": null
          }
        },
        "b9181693d51849aab18139ec3f412331": {
          "model_module": "@jupyter-widgets/controls",
          "model_name": "DescriptionStyleModel",
          "model_module_version": "1.5.0",
          "state": {
            "_model_module": "@jupyter-widgets/controls",
            "_model_module_version": "1.5.0",
            "_model_name": "DescriptionStyleModel",
            "_view_count": null,
            "_view_module": "@jupyter-widgets/base",
            "_view_module_version": "1.2.0",
            "_view_name": "StyleView",
            "description_width": ""
          }
        }
      }
    }
  },
  "nbformat": 4,
  "nbformat_minor": 5
}