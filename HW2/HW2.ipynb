{
 "cells": [
  {
   "cell_type": "markdown",
   "id": "33feb3cd-1fd6-4df6-adf4-5b3520cf908f",
   "metadata": {
    "tags": []
   },
   "source": [
    "# Homework 2\n",
    "\n",
    "Name: Stanly Gomes\n",
    "\n",
    "Student ID: 801118166\n",
    "\n",
    "GitHub Repository: https://github.com/NaraPvP/RealTimeML"
   ]
  },
  {
   "cell_type": "code",
   "execution_count": 2,
   "id": "6d7bdf14-6233-49da-9680-9223cd6040a8",
   "metadata": {},
   "outputs": [],
   "source": [
    "# import libraries\n",
    "from tqdm import tqdm\n",
    "import torch\n",
    "from torch import nn\n",
    "from torch.nn import functional as F\n",
    "from torch.utils.data import DataLoader, random_split, Subset\n",
    "\n",
    "import numpy as np\n",
    "import pandas as pd\n",
    "import cv2\n",
    "from matplotlib import pyplot as plt\n",
    "from ptflops import get_model_complexity_info\n",
    "\n",
    "import torchvision\n",
    "from torchvision import transforms, datasets\n",
    "from torchmetrics.classification import MulticlassAccuracy, BinaryAccuracy\n",
    "from torchmetrics import ConfusionMatrix"
   ]
  },
  {
   "cell_type": "code",
   "execution_count": 3,
   "id": "e6bfebfb-752d-4036-9bf4-3d118e40808f",
   "metadata": {},
   "outputs": [
    {
     "data": {
      "text/plain": [
       "'cuda'"
      ]
     },
     "execution_count": 3,
     "metadata": {},
     "output_type": "execute_result"
    }
   ],
   "source": [
    "device = \"cuda\" if torch.cuda.is_available() else \"cpu\"\n",
    "device"
   ]
  },
  {
   "cell_type": "code",
   "execution_count": 4,
   "id": "440add0d-00b9-4224-88cc-10738390d6ca",
   "metadata": {},
   "outputs": [
    {
     "data": {
      "text/plain": [
       "torch.Size([1, 28, 28])"
      ]
     },
     "execution_count": 4,
     "metadata": {},
     "output_type": "execute_result"
    }
   ],
   "source": [
    "# Import datasets\n",
    "training_data = datasets.FashionMNIST(\n",
    "    root=\"data\",\n",
    "    train=True,\n",
    "    download=True,\n",
    "    transform=transforms.Compose([\n",
    "        transforms.ToTensor(),\n",
    "        transforms.Normalize((0.2860), (0.3530))\n",
    "    ])\n",
    ")\n",
    "validation_data = datasets.FashionMNIST(\n",
    "    root=\"data\",\n",
    "    train=False,\n",
    "    download=True,\n",
    "    transform=transforms.Compose([\n",
    "        transforms.ToTensor(),\n",
    "        transforms.Normalize((0.2860), (0.3530))\n",
    "    ])\n",
    ")\n",
    "image, label = training_data[0]\n",
    "image.shape"
   ]
  },
  {
   "cell_type": "markdown",
   "id": "fa7e0088-3012-4868-a831-c00ebf67d025",
   "metadata": {
    "tags": []
   },
   "source": [
    "## Testing before HW"
   ]
  },
  {
   "cell_type": "code",
   "execution_count": 5,
   "id": "5db096b3-2745-4eb4-94c4-4fae4f3b0dd9",
   "metadata": {},
   "outputs": [],
   "source": [
    "LeNet_trainLoader = DataLoader(training_data,\n",
    "                               batch_size=32,\n",
    "                               shuffle=True)\n",
    "LeNet_valLoader = DataLoader(validation_data,\n",
    "                             batch_size=32,\n",
    "                             shuffle=False)"
   ]
  },
  {
   "cell_type": "code",
   "execution_count": 6,
   "id": "2a367504-b266-4831-b627-06b81b770518",
   "metadata": {},
   "outputs": [],
   "source": [
    "# Test training with baseline model\n",
    "class basic_model(nn.Module):\n",
    "    def __init__(self, input_shape: int, output_shape: int):\n",
    "        super().__init__()\n",
    "        self.net = nn.Sequential(\n",
    "            nn.Flatten(),\n",
    "            nn.Linear(input_shape, 10),\n",
    "            nn.ReLU(),\n",
    "            nn.Linear(10, output_shape),\n",
    "            nn.ReLU()\n",
    "        )\n",
    "    def forward(self, x):\n",
    "        return self.net(x)"
   ]
  },
  {
   "cell_type": "code",
   "execution_count": 9,
   "id": "0c678818-3d0c-4e7f-9452-e4df14a0b70c",
   "metadata": {},
   "outputs": [
    {
     "data": {
      "text/plain": [
       "device(type='cuda', index=0)"
      ]
     },
     "execution_count": 9,
     "metadata": {},
     "output_type": "execute_result"
    }
   ],
   "source": [
    "baseline_model = basic_model(torch.numel(image),\n",
    "                             len(validation_data.classes))\n",
    "baseline_model.to(device)\n",
    "next(baseline_model.parameters()).device"
   ]
  },
  {
   "cell_type": "code",
   "execution_count": 11,
   "id": "5fa4c107-cca7-4fa9-b97a-f8cdec73b0ac",
   "metadata": {},
   "outputs": [],
   "source": [
    "loss_fn = nn.CrossEntropyLoss()\n",
    "optimizer = torch.optim.SGD(params=baseline_model.parameters(),\n",
    "                            lr=0.1)"
   ]
  },
  {
   "cell_type": "code",
   "execution_count": 12,
   "id": "edc08a4e-e75a-46a0-afe5-ab66489aa509",
   "metadata": {},
   "outputs": [],
   "source": [
    "from timeit import default_timer as timer\n",
    "def print_train_time(start, end, device: torch.device=None):\n",
    "    total_time = end - start\n",
    "    print(f\"{device} Training Time: {total_time:.3f} seconds\")\n",
    "    return total_time"
   ]
  },
  {
   "cell_type": "code",
   "execution_count": 25,
   "id": "71947292-57c9-45e0-beff-9efb4280acd0",
   "metadata": {},
   "outputs": [],
   "source": [
    "# Define train_step function\n",
    "def train_step(model: nn.Module,\n",
    "               data_loader: DataLoader,\n",
    "               loss_fn: nn.Module,\n",
    "               optim: torch.optim.Optimizer,\n",
    "               accuracy_fn,\n",
    "               device: torch.device):\n",
    "    \"\"\"Performs training step on a dataloader batch\"\"\"\n",
    "    train_loss, train_acc = 0, 0\n",
    "    model.train()\n",
    "    for batch, (x, y) in enumerate(data_loader):\n",
    "        # Move data to device\n",
    "        x, y = x.to(device), y.to(device)\n",
    "        \n",
    "        # Forward pass (outputs log likelihood for each class)\n",
    "        y_pred = model(x)\n",
    "        # Calculate Loss/Acc of batch\n",
    "        loss = loss_fn(y_pred, y)\n",
    "        train_loss += loss\n",
    "        # argmax is used to convert from log likelihood to prediction labels\n",
    "        train_acc += accuracy_fn(y_pred.argmax(dim=1), y)\n",
    "        \n",
    "        # Zero the gradience for optimizer\n",
    "        optim.zero_grad()\n",
    "        \n",
    "        # Backpropagate loss\n",
    "        loss.backward()\n",
    "        \n",
    "        # Step optimizer based on loss\n",
    "        optim.step()\n",
    "        \n",
    "    train_loss /= len(data_loader)\n",
    "    train_acc /= len(data_loader)\n",
    "    print(f\"Train loss: {train_loss:.5f} | Train accuracy: {train_acc:.2f}%\")"
   ]
  },
  {
   "cell_type": "code",
   "execution_count": 26,
   "id": "d0453350-1f1a-4ac8-81ed-ba81316196e6",
   "metadata": {},
   "outputs": [],
   "source": [
    "# Define val_step function\n",
    "def val_step(model: nn.Module,\n",
    "             data_loader: DataLoader,\n",
    "             loss_fn: nn.Module,\n",
    "             accuracy_fn,\n",
    "             device: torch.device):\n",
    "    \"\"\"Performs validation step on val dataloader\"\"\"\n",
    "    val_loss, val_acc = 0, 0\n",
    "    model.eval()\n",
    "    \n",
    "    # Turn on inference mode context manager (increases speed)\n",
    "    with torch.inference_mode():\n",
    "        for x, y in data_loader:\n",
    "            x, y = x.to(device), y.to(device)\n",
    "            # Forward pass\n",
    "            val_pred = model(x)\n",
    "            \n",
    "            # Calculate loss\n",
    "            val_loss += loss_fn(val_pred, y)\n",
    "            val_acc += accuracy_fn(val_pred.argmax(dim=1), y)\n",
    "            \n",
    "        val_loss /= len(data_loader)\n",
    "        val_acc /= len(data_loader)\n",
    "        print(f\"Val loss: {val_loss:.5f} | Val accuracy: {val_acc:.2f}%\\n\")"
   ]
  },
  {
   "cell_type": "code",
   "execution_count": 28,
   "id": "9dddee9a-f293-44eb-b53c-34254acf10ad",
   "metadata": {},
   "outputs": [
    {
     "name": "stderr",
     "output_type": "stream",
     "text": [
      "  0%|                                                                                            | 0/5 [00:00<?, ?it/s]"
     ]
    },
    {
     "name": "stdout",
     "output_type": "stream",
     "text": [
      "Epoch: 0\n",
      "--------\n",
      "Train loss: 0.63527 | Train accuracy: 0.73%\n"
     ]
    },
    {
     "name": "stderr",
     "output_type": "stream",
     "text": [
      " 20%|████████████████▊                                                                   | 1/5 [00:18<01:13, 18.26s/it]"
     ]
    },
    {
     "name": "stdout",
     "output_type": "stream",
     "text": [
      "Val loss: 0.70415 | Val accuracy: 0.71%\n",
      "\n",
      "Epoch: 1\n",
      "--------\n",
      "Train loss: 0.62827 | Train accuracy: 0.73%\n"
     ]
    },
    {
     "name": "stderr",
     "output_type": "stream",
     "text": [
      " 40%|█████████████████████████████████▌                                                  | 2/5 [00:36<00:54, 18.23s/it]"
     ]
    },
    {
     "name": "stdout",
     "output_type": "stream",
     "text": [
      "Val loss: 0.67965 | Val accuracy: 0.72%\n",
      "\n",
      "Epoch: 2\n",
      "--------\n",
      "Train loss: 0.62226 | Train accuracy: 0.74%\n"
     ]
    },
    {
     "name": "stderr",
     "output_type": "stream",
     "text": [
      " 60%|██████████████████████████████████████████████████▍                                 | 3/5 [00:54<00:35, 17.92s/it]"
     ]
    },
    {
     "name": "stdout",
     "output_type": "stream",
     "text": [
      "Val loss: 0.66804 | Val accuracy: 0.72%\n",
      "\n",
      "Epoch: 3\n",
      "--------\n",
      "Train loss: 0.61543 | Train accuracy: 0.74%\n"
     ]
    },
    {
     "name": "stderr",
     "output_type": "stream",
     "text": [
      " 80%|███████████████████████████████████████████████████████████████████▏                | 4/5 [01:10<00:17, 17.39s/it]"
     ]
    },
    {
     "name": "stdout",
     "output_type": "stream",
     "text": [
      "Val loss: 0.75736 | Val accuracy: 0.71%\n",
      "\n",
      "Epoch: 4\n",
      "--------\n",
      "Train loss: 0.61206 | Train accuracy: 0.74%\n"
     ]
    },
    {
     "name": "stderr",
     "output_type": "stream",
     "text": [
      "100%|████████████████████████████████████████████████████████████████████████████████████| 5/5 [01:27<00:00, 17.42s/it]"
     ]
    },
    {
     "name": "stdout",
     "output_type": "stream",
     "text": [
      "Val loss: 0.66061 | Val accuracy: 0.73%\n",
      "\n",
      "cuda Training Time: 87.114 seconds\n"
     ]
    },
    {
     "name": "stderr",
     "output_type": "stream",
     "text": [
      "\n"
     ]
    }
   ],
   "source": [
    "# Start baseline training\n",
    "train_time_start = timer()\n",
    "epochs = 5\n",
    "accuracy_fn = MulticlassAccuracy(num_classes=10).to(device)\n",
    "baseline_model.to(device)\n",
    "for epoch in tqdm(range(epochs)):\n",
    "    print(f\"Epoch: {epoch}\\n--------\")\n",
    "    train_step(model=baseline_model,\n",
    "               data_loader=LeNet_trainLoader,\n",
    "               loss_fn=loss_fn,\n",
    "               optim=optimizer,\n",
    "               accuracy_fn=accuracy_fn,\n",
    "               device=device\n",
    "              )\n",
    "    val_step(model=baseline_model,\n",
    "             data_loader=LeNet_valLoader,\n",
    "             loss_fn=loss_fn,\n",
    "             accuracy_fn=accuracy_fn,\n",
    "             device=device\n",
    "            )\n",
    "train_time_end = timer()\n",
    "baseline_train_time = print_train_time(start=train_time_start,\n",
    "                                       end=train_time_end,\n",
    "                                       device=device)"
   ]
  },
  {
   "cell_type": "code",
   "execution_count": 61,
   "id": "01c9e17e-a09f-4977-8171-8e9ac2b433e8",
   "metadata": {},
   "outputs": [],
   "source": [
    "# Setup\n",
    "class Setup:\n",
    "    def __init__(self, epochs, lr, batch_size, directory, train_percent, num_classes):\n",
    "        self.epochs = epochs\n",
    "        self.lr = lr\n",
    "        self.batch_size = batch_size\n",
    "        self.directory = directory\n",
    "        self.train_percent = train_percent\n",
    "        self.num_classes = num_classes\n",
    "        \n",
    "        if torch.cuda.is_available():\n",
    "            self.device = torch.device(\"cuda\")\n",
    "        else:\n",
    "            self.device = torch.device(\"cpu\")"
   ]
  },
  {
   "cell_type": "code",
   "execution_count": 62,
   "id": "5cc87085-a5d4-48fe-94e1-e29d2dac05c6",
   "metadata": {},
   "outputs": [],
   "source": [
    "setup = Setup(epochs=10,\n",
    "              lr=0.001,\n",
    "              batch_size=32,\n",
    "              directory=\"data\",\n",
    "              train_percent=0.8,\n",
    "              num_classes=len(training_data.classes))"
   ]
  },
  {
   "cell_type": "code",
   "execution_count": 63,
   "id": "c12bd5c3-ce8a-405f-bf7d-aaa1a788bb53",
   "metadata": {},
   "outputs": [],
   "source": [
    "# Base LeNet Model\n",
    "class LeNet(nn.Module):\n",
    "    def __init__(self, input_features: int, num_classes):\n",
    "        super().__init__()\n",
    "        self.conv = nn.Sequential(\n",
    "            nn.Conv2d(input_features, 6, kernel_size=5, padding=2), # 28 + (2*2(padding)) - (5(kernelSize)-1) = 28\n",
    "            nn.Sigmoid(),\n",
    "            nn.AvgPool2d(kernel_size=2, stride=2), # 28 / 2 = 14\n",
    "            nn.Conv2d(6, 16, kernel_size=5), # 14 - (5-1) = 10\n",
    "            nn.Sigmoid(),\n",
    "            nn.AvgPool2d(kernel_size=2, stride=2) # 10 / 2 = 5\n",
    "        )\n",
    "        self.classifier = nn.Sequential(\n",
    "            nn.Flatten(),\n",
    "            nn.Linear(16*5*5, 120), nn.Sigmoid(),\n",
    "            nn.Linear(120, 84), nn.Sigmoid(),\n",
    "            nn.Linear(84, num_classes)\n",
    "        )\n",
    "    def forward(self, x):\n",
    "        x = self.conv(x)\n",
    "        x = self.classifier(x)\n",
    "        return x"
   ]
  },
  {
   "cell_type": "code",
   "execution_count": 64,
   "id": "3f57390d-153f-477d-bb4f-6b40b0dc5433",
   "metadata": {},
   "outputs": [
    {
     "name": "stdout",
     "output_type": "stream",
     "text": [
      "LeNet(\n",
      "  (conv): Sequential(\n",
      "    (0): Conv2d(1, 6, kernel_size=(5, 5), stride=(1, 1), padding=(2, 2))\n",
      "    (1): Sigmoid()\n",
      "    (2): AvgPool2d(kernel_size=2, stride=2, padding=0)\n",
      "    (3): Conv2d(6, 16, kernel_size=(5, 5), stride=(1, 1))\n",
      "    (4): Sigmoid()\n",
      "    (5): AvgPool2d(kernel_size=2, stride=2, padding=0)\n",
      "  )\n",
      "  (classifier): Sequential(\n",
      "    (0): Flatten(start_dim=1, end_dim=-1)\n",
      "    (1): Linear(in_features=400, out_features=120, bias=True)\n",
      "    (2): Sigmoid()\n",
      "    (3): Linear(in_features=120, out_features=84, bias=True)\n",
      "    (4): Sigmoid()\n",
      "    (5): Linear(in_features=84, out_features=10, bias=True)\n",
      "  )\n",
      ")\n"
     ]
    },
    {
     "data": {
      "text/plain": [
       "device(type='cuda', index=0)"
      ]
     },
     "execution_count": 64,
     "metadata": {},
     "output_type": "execute_result"
    }
   ],
   "source": [
    "model = LeNet(input_features=1, num_classes=10).to(device)\n",
    "print(model)\n",
    "next(model.parameters()).device"
   ]
  },
  {
   "cell_type": "code",
   "execution_count": 65,
   "id": "963c9877-e4c1-46bb-b4ff-40d78bc663e8",
   "metadata": {},
   "outputs": [],
   "source": [
    "LeNet_trainLoader = DataLoader(training_data, batch_size=setup.batch_size, shuffle=True)\n",
    "LeNet_valLoader = DataLoader(validation_data, batch_size=setup.batch_size, shuffle=False)"
   ]
  },
  {
   "cell_type": "code",
   "execution_count": 66,
   "id": "382dedb8-bf7f-456a-9cdc-afeea62ab79a",
   "metadata": {},
   "outputs": [],
   "source": [
    "# Find mean and std for normalization\n",
    "# loader = DataLoader(training_data, batch_size=len(training_data), num_workers=1)\n",
    "# data = next(iter(loader))\n",
    "# data[0].mean(), data[0].std()"
   ]
  },
  {
   "cell_type": "code",
   "execution_count": 67,
   "id": "70921fc9-9280-4959-9d22-94acc3f8f277",
   "metadata": {},
   "outputs": [],
   "source": [
    "# Define train_step function\n",
    "def train_step(model: nn.Module,\n",
    "               data_loader: DataLoader,\n",
    "               loss_fn: nn.Module,\n",
    "               optim: torch.optim.Optimizer,\n",
    "               accuracy_fn,\n",
    "               device: torch.device):\n",
    "    \"\"\"Performs training step on a dataloader batch\"\"\"\n",
    "    train_loss, train_acc = 0, 0\n",
    "    model.train()\n",
    "    for batch, (x, y) in enumerate(data_loader):\n",
    "        # Move data to device\n",
    "        x, y = x.to(device), y.to(device)\n",
    "        \n",
    "        # Forward pass (outputs log likelihood for each class)\n",
    "        y_pred = model(x)\n",
    "        # Calculate Loss/Acc of batch\n",
    "        loss = loss_fn(y_pred, y)\n",
    "        train_loss += loss\n",
    "        # argmax is used to convert from log likelihood to prediction labels\n",
    "        train_acc += accuracy_fn(y_pred.argmax(dim=1), y)\n",
    "        \n",
    "        # Zero the gradience for optimizer\n",
    "        optim.zero_grad()\n",
    "        \n",
    "        # Backpropagate loss\n",
    "        loss.backward()\n",
    "        \n",
    "        # Step optimizer based on loss\n",
    "        optim.step()\n",
    "        \n",
    "    train_loss /= len(data_loader)\n",
    "    train_acc /= len(data_loader)\n",
    "    print(f\"Train loss: {train_loss:.5f} | Train accuracy: {train_acc:.2f}%\")"
   ]
  },
  {
   "cell_type": "code",
   "execution_count": 68,
   "id": "865e2c4a-aaab-4e77-b432-860516edaea9",
   "metadata": {},
   "outputs": [],
   "source": [
    "# Define val_step function\n",
    "def val_step(model: nn.Module,\n",
    "             data_loader: DataLoader,\n",
    "             loss_fn: nn.Module,\n",
    "             accuracy_fn,\n",
    "             device: torch.device):\n",
    "    \"\"\"Performs validation step on val dataloader\"\"\"\n",
    "    val_loss, val_acc = 0, 0\n",
    "    model.eval()\n",
    "    \n",
    "    # Turn on inference mode context manager (increases speed)\n",
    "    with torch.inference_mode():\n",
    "        for x, y in data_loader:\n",
    "            x, y = x.to(device), y.to(device)\n",
    "            # Forward pass\n",
    "            val_pred = model(x)\n",
    "            \n",
    "            # Calculate loss\n",
    "            val_loss += loss_fn(val_pred, y)\n",
    "            val_acc += accuracy_fn(val_pred.argmax(dim=1), y)\n",
    "            \n",
    "        val_loss /= len(data_loader)\n",
    "        val_acc /= len(data_loader)\n",
    "        print(f\"Val loss: {val_loss:.5f} | Val accuracy: {val_acc:.2f}%\\n\")"
   ]
  },
  {
   "cell_type": "code",
   "execution_count": 69,
   "id": "5f7e7d71-40d7-4fb6-a700-888d4546a8c9",
   "metadata": {},
   "outputs": [],
   "source": [
    "from timeit import default_timer as timer"
   ]
  },
  {
   "cell_type": "code",
   "execution_count": 70,
   "id": "ea195843-39d0-41f7-84b8-cd06ff371560",
   "metadata": {},
   "outputs": [
    {
     "name": "stderr",
     "output_type": "stream",
     "text": [
      "  0%|                                                                                            | 0/5 [00:00<?, ?it/s]"
     ]
    },
    {
     "name": "stdout",
     "output_type": "stream",
     "text": [
      "Epoch: 0\n",
      "---------\n",
      "Train loss: 2.31322 | Train accuracy: 0.10%\n"
     ]
    },
    {
     "name": "stderr",
     "output_type": "stream",
     "text": [
      " 20%|████████████████▊                                                                   | 1/5 [00:17<01:11, 17.88s/it]"
     ]
    },
    {
     "name": "stdout",
     "output_type": "stream",
     "text": [
      "Val loss: 2.30364 | Val accuracy: 0.10%\n",
      "\n",
      "Epoch: 1\n",
      "---------\n",
      "Train loss: 1.63804 | Train accuracy: 0.37%\n"
     ]
    },
    {
     "name": "stderr",
     "output_type": "stream",
     "text": [
      " 40%|█████████████████████████████████▌                                                  | 2/5 [00:36<00:54, 18.14s/it]"
     ]
    },
    {
     "name": "stdout",
     "output_type": "stream",
     "text": [
      "Val loss: 1.03820 | Val accuracy: 0.55%\n",
      "\n",
      "Epoch: 2\n",
      "---------\n",
      "Train loss: 0.87912 | Train accuracy: 0.64%\n"
     ]
    },
    {
     "name": "stderr",
     "output_type": "stream",
     "text": [
      " 60%|██████████████████████████████████████████████████▍                                 | 3/5 [00:53<00:35, 17.79s/it]"
     ]
    },
    {
     "name": "stdout",
     "output_type": "stream",
     "text": [
      "Val loss: 0.79643 | Val accuracy: 0.68%\n",
      "\n",
      "Epoch: 3\n",
      "---------\n",
      "Train loss: 0.68088 | Train accuracy: 0.71%\n"
     ]
    },
    {
     "name": "stderr",
     "output_type": "stream",
     "text": [
      " 80%|███████████████████████████████████████████████████████████████████▏                | 4/5 [01:11<00:17, 17.75s/it]"
     ]
    },
    {
     "name": "stdout",
     "output_type": "stream",
     "text": [
      "Val loss: 0.63893 | Val accuracy: 0.73%\n",
      "\n",
      "Epoch: 4\n",
      "---------\n",
      "Train loss: 0.60204 | Train accuracy: 0.74%\n"
     ]
    },
    {
     "name": "stderr",
     "output_type": "stream",
     "text": [
      "100%|████████████████████████████████████████████████████████████████████████████████████| 5/5 [01:28<00:00, 17.71s/it]"
     ]
    },
    {
     "name": "stdout",
     "output_type": "stream",
     "text": [
      "Val loss: 0.60390 | Val accuracy: 0.74%\n",
      "\n"
     ]
    },
    {
     "name": "stderr",
     "output_type": "stream",
     "text": [
      "\n"
     ]
    }
   ],
   "source": [
    "loss_fn = nn.CrossEntropyLoss()\n",
    "optimizer = torch.optim.SGD(params=model.parameters(),\n",
    "                            lr=0.1)\n",
    "model.cuda()\n",
    "accuracy_fn = MulticlassAccuracy(num_classes=10).to(device)\n",
    "epochs = 5\n",
    "\n",
    "train_time_start_base = timer()\n",
    "for epoch in tqdm(range(epochs)):\n",
    "    print(f\"Epoch: {epoch}\\n---------\")\n",
    "    train_step(model=model,\n",
    "               data_loader=LeNet_trainLoader,\n",
    "               loss_fn=loss_fn,\n",
    "               optim=optimizer,\n",
    "               accuracy_fn = accuracy_fn,\n",
    "               device=device)\n",
    "    val_step(model=model,\n",
    "             data_loader=LeNet_valLoader,\n",
    "             loss_fn=loss_fn,\n",
    "             accuracy_fn=accuracy_fn,\n",
    "             device=device)\n",
    "train_time_end_base = timer()"
   ]
  },
  {
   "cell_type": "code",
   "execution_count": 79,
   "id": "97f47ca1-8e50-441a-b640-935a72af674b",
   "metadata": {},
   "outputs": [],
   "source": [
    "# Save model results\n",
    "def model_results(model: nn.Module,\n",
    "                  data_loader: DataLoader,\n",
    "                  loss_fn: nn.Module,\n",
    "                  accuracy_fn,\n",
    "                  device: torch.device):\n",
    "    loss, acc = 0, 0\n",
    "    model.eval() # Evaluation mode\n",
    "    with torch.inference_mode():\n",
    "        for x, y in data_loader:\n",
    "            x, y = x.to(device), y.to(device)\n",
    "            y_pred = model(x)\n",
    "            \n",
    "            loss += loss_fn(y_pred, y)\n",
    "            acc += accuracy_fn(y_pred.argmax(dim=1), y)\n",
    "        loss /= len(data_loader)\n",
    "        acc /= len(data_loader)\n",
    "    return {\"Model\": model.__class__.__name__,\n",
    "            \"Loss\": loss.item(),\n",
    "            \"Accuracy\": float(acc)}"
   ]
  },
  {
   "cell_type": "code",
   "execution_count": 80,
   "id": "74018a31-8de3-474e-8874-14b2ec74e19d",
   "metadata": {},
   "outputs": [
    {
     "data": {
      "text/plain": [
       "{'Model': 'LeNet', 'Loss': 0.603901207447052, 'Accuracy': 0.7416631579399109}"
      ]
     },
     "execution_count": 80,
     "metadata": {},
     "output_type": "execute_result"
    }
   ],
   "source": [
    "baseline_LeNet_results = model_results(model=model,\n",
    "                                       data_loader=LeNet_valLoader,\n",
    "                                       loss_fn=loss_fn,\n",
    "                                       accuracy_fn=accuracy_fn,\n",
    "                                       device=device\n",
    "                                      )\n",
    "baseline_LeNet_results"
   ]
  },
  {
   "cell_type": "markdown",
   "id": "624ab2b1-2736-4abd-b61d-33139650680d",
   "metadata": {
    "tags": []
   },
   "source": [
    "## Problem 1:\n",
    "Let’s modernize LeNet as we did in the lectures. Implement and test the following changes over FashionMNIST\n",
    "\n",
    "1. Replace the average pooling with max-pooling.\n",
    "2. Replace the softmax layer with ReLU.\n",
    "\n",
    "Start training from scratch based on FashinMNIST. Compare the training loss, training accuracy, and validation accuracy against the baseline we did in the lectures."
   ]
  },
  {
   "cell_type": "code",
   "execution_count": 101,
   "id": "7958092b-983e-4093-9d0b-5f95d0ee64da",
   "metadata": {},
   "outputs": [],
   "source": [
    "class LeNet_modern(nn.Module):\n",
    "    def __init__(self, input_features: int, num_classes):\n",
    "        super().__init__()\n",
    "        self.conv = nn.Sequential(\n",
    "            nn.Conv2d(input_features, 6, kernel_size=5, padding=2), # 28 + (2*2(padding)) - (5(kernelSize)-1) = 28\n",
    "            nn.ReLU(),\n",
    "            nn.MaxPool2d(kernel_size=2, stride=2), # 28 / 2 = 14\n",
    "            nn.Conv2d(6, 16, kernel_size=5), # 14 - (5-1) = 10\n",
    "            nn.ReLU(),\n",
    "            nn.MaxPool2d(kernel_size=2, stride=2) # 10 / 2 = 5\n",
    "        )\n",
    "        self.classifier = nn.Sequential(\n",
    "            nn.Flatten(),\n",
    "            nn.Linear(16*5*5, 120), nn.Sigmoid(),\n",
    "            nn.Linear(120, 84), nn.Sigmoid(),\n",
    "            nn.Linear(84, num_classes)\n",
    "        )\n",
    "    def forward(self, x):\n",
    "        x = self.conv(x)\n",
    "        x = self.classifier(x)\n",
    "        return x"
   ]
  },
  {
   "cell_type": "code",
   "execution_count": 102,
   "id": "e7002513-a1de-4745-9932-bb498da4e451",
   "metadata": {},
   "outputs": [
    {
     "data": {
      "text/plain": [
       "LeNet_modern(\n",
       "  (conv): Sequential(\n",
       "    (0): Conv2d(1, 6, kernel_size=(5, 5), stride=(1, 1), padding=(2, 2))\n",
       "    (1): ReLU()\n",
       "    (2): MaxPool2d(kernel_size=2, stride=2, padding=0, dilation=1, ceil_mode=False)\n",
       "    (3): Conv2d(6, 16, kernel_size=(5, 5), stride=(1, 1))\n",
       "    (4): ReLU()\n",
       "    (5): MaxPool2d(kernel_size=2, stride=2, padding=0, dilation=1, ceil_mode=False)\n",
       "  )\n",
       "  (classifier): Sequential(\n",
       "    (0): Flatten(start_dim=1, end_dim=-1)\n",
       "    (1): Linear(in_features=400, out_features=120, bias=True)\n",
       "    (2): Sigmoid()\n",
       "    (3): Linear(in_features=120, out_features=84, bias=True)\n",
       "    (4): Sigmoid()\n",
       "    (5): Linear(in_features=84, out_features=10, bias=True)\n",
       "  )\n",
       ")"
      ]
     },
     "execution_count": 102,
     "metadata": {},
     "output_type": "execute_result"
    }
   ],
   "source": [
    "LeNet_P1 = LeNet_modern(input_features=1,\n",
    "                        num_classes=10).to(device)\n",
    "LeNet_P1"
   ]
  },
  {
   "cell_type": "code",
   "execution_count": 103,
   "id": "c115c475-23c7-4da2-b714-0942d155ab97",
   "metadata": {},
   "outputs": [],
   "source": [
    "LeNet_trainLoader = DataLoader(training_data, batch_size=setup.batch_size, shuffle=True)\n",
    "LeNet_valLoader = DataLoader(validation_data, batch_size=setup.batch_size, shuffle=False)"
   ]
  },
  {
   "cell_type": "code",
   "execution_count": 104,
   "id": "c0034010-7a8a-4a7b-adaf-4ceb6299ab55",
   "metadata": {},
   "outputs": [],
   "source": [
    "# Define train_step function\n",
    "def train_step(model: nn.Module,\n",
    "               data_loader: DataLoader,\n",
    "               loss_fn: nn.Module,\n",
    "               optim: torch.optim.Optimizer,\n",
    "               accuracy_fn,\n",
    "               device: torch.device):\n",
    "    \"\"\"Performs training step on a dataloader batch\"\"\"\n",
    "    train_loss, train_acc = 0, 0\n",
    "    model.train()\n",
    "    for batch, (x, y) in enumerate(data_loader):\n",
    "        # Move data to device\n",
    "        x, y = x.to(device), y.to(device)\n",
    "        \n",
    "        # Forward pass (outputs log likelihood for each class)\n",
    "        y_pred = model(x)\n",
    "        # Calculate Loss/Acc of batch\n",
    "        loss = loss_fn(y_pred, y)\n",
    "        train_loss += loss.item()\n",
    "        # argmax is used to convert from log likelihood to prediction labels\n",
    "        \n",
    "        # Zero the gradience for optimizer\n",
    "        optim.zero_grad()\n",
    "        \n",
    "        # Backpropagate loss\n",
    "        loss.backward()\n",
    "        \n",
    "        # Step optimizer based on loss\n",
    "        optim.step()\n",
    "        \n",
    "        acc = accuracy_fn(y_pred.argmax(dim=1), y)\n",
    "        train_acc += acc.item()\n",
    "        \n",
    "    train_loss /= len(data_loader)\n",
    "    train_acc /= len(data_loader)\n",
    "    return train_loss, train_acc"
   ]
  },
  {
   "cell_type": "code",
   "execution_count": 105,
   "id": "6210c527-c25a-4b19-9b78-14289153ab84",
   "metadata": {},
   "outputs": [],
   "source": [
    "# Define val_step function\n",
    "def val_step(model: nn.Module,\n",
    "             data_loader: DataLoader,\n",
    "             loss_fn: nn.Module,\n",
    "             accuracy_fn,\n",
    "             device: torch.device):\n",
    "    \"\"\"Performs validation step on val dataloader\"\"\"\n",
    "    val_loss, val_acc = 0, 0\n",
    "    model.eval()\n",
    "    \n",
    "    # Turn on inference mode context manager (increases speed)\n",
    "    with torch.inference_mode():\n",
    "        for x, y in data_loader:\n",
    "            x, y = x.to(device), y.to(device)\n",
    "            # Forward pass\n",
    "            val_pred = model(x)\n",
    "            \n",
    "            # Calculate loss\n",
    "            loss = loss_fn(val_pred, y)\n",
    "            val_loss += loss.item()\n",
    "            \n",
    "            acc = accuracy_fn(val_pred.argmax(dim=1), y)\n",
    "            val_acc += acc.item()\n",
    "            \n",
    "        val_loss /= len(data_loader)\n",
    "        val_acc /= len(data_loader)\n",
    "        return val_loss, val_acc"
   ]
  },
  {
   "cell_type": "code",
   "execution_count": 106,
   "id": "ee75affc-5ea5-4639-8e4a-164149db8649",
   "metadata": {},
   "outputs": [],
   "source": [
    "# Create train function\n",
    "def train(model: nn.Module,\n",
    "          train_dataloader: DataLoader,\n",
    "          val_dataloader: DataLoader,\n",
    "          optim: torch.optim.Optimizer,\n",
    "          loss_fn: nn.Module,\n",
    "          accuracy_fn,\n",
    "          epochs: int,\n",
    "          device: torch.device):\n",
    "    results = {\"Train Loss\": [],\n",
    "               \"Train Accuracy\": [],\n",
    "               \"Val Loss\": [],\n",
    "               \"Val Accuracy\": []}\n",
    "    for epoch in tqdm(range(epochs)):\n",
    "        train_loss, train_acc = train_step(model=model,\n",
    "                                           data_loader=train_dataloader,\n",
    "                                           loss_fn=loss_fn,\n",
    "                                           optim=optim,\n",
    "                                           accuracy_fn=accuracy_fn,\n",
    "                                           device=device)\n",
    "        val_loss, val_acc = val_step(model=model,\n",
    "                                     data_loader=val_dataloader,\n",
    "                                     loss_fn=loss_fn,\n",
    "                                     accuracy_fn=accuracy_fn,\n",
    "                                     device=device)\n",
    "        \n",
    "        print(f\"Epoch: {epoch+1}\\n--------------- \"\n",
    "              f\"Train Loss: {train_loss:.4f}, \"\n",
    "              f\"Train Accuracy: {train_acc:.4f}, \"\n",
    "              f\"Val Loss: {val_loss:.4f}, \"\n",
    "              f\"Val Accuracy: {val_acc:.4f}\"\n",
    "             )\n",
    "        results[\"Train Loss\"].append(train_loss)\n",
    "        results[\"Train Accuracy\"].append(train_acc)\n",
    "        results[\"Val Loss\"].append(val_loss)\n",
    "        results[\"Val Accuracy\"].append(val_acc)\n",
    "    return results"
   ]
  },
  {
   "cell_type": "code",
   "execution_count": 107,
   "id": "c9c705f6-9cc6-49b8-9837-7be11bb04482",
   "metadata": {},
   "outputs": [],
   "source": [
    "from timeit import default_timer as timer"
   ]
  },
  {
   "cell_type": "code",
   "execution_count": 108,
   "id": "d34561dc-f716-4c47-88e1-4bb5eeecb746",
   "metadata": {},
   "outputs": [
    {
     "name": "stderr",
     "output_type": "stream",
     "text": [
      " 20%|████████████████▊                                                                   | 1/5 [01:21<05:25, 81.42s/it]"
     ]
    },
    {
     "name": "stdout",
     "output_type": "stream",
     "text": [
      "Epoch: 1\n",
      "--------------- Train Loss: 1.0552, Train Accuracy: 0.5820, Val Loss: 0.6339, Val Accuracy: 0.7254\n"
     ]
    },
    {
     "name": "stderr",
     "output_type": "stream",
     "text": [
      " 40%|█████████████████████████████████▌                                                  | 2/5 [02:41<04:02, 80.81s/it]"
     ]
    },
    {
     "name": "stdout",
     "output_type": "stream",
     "text": [
      "Epoch: 2\n",
      "--------------- Train Loss: 0.4766, Train Accuracy: 0.7972, Val Loss: 0.4436, Val Accuracy: 0.8149\n"
     ]
    },
    {
     "name": "stderr",
     "output_type": "stream",
     "text": [
      " 60%|██████████████████████████████████████████████████▍                                 | 3/5 [04:04<02:43, 81.56s/it]"
     ]
    },
    {
     "name": "stdout",
     "output_type": "stream",
     "text": [
      "Epoch: 3\n",
      "--------------- Train Loss: 0.3761, Train Accuracy: 0.8342, Val Loss: 0.3660, Val Accuracy: 0.8392\n"
     ]
    },
    {
     "name": "stderr",
     "output_type": "stream",
     "text": [
      " 80%|███████████████████████████████████████████████████████████████████▏                | 4/5 [05:24<01:20, 80.88s/it]"
     ]
    },
    {
     "name": "stdout",
     "output_type": "stream",
     "text": [
      "Epoch: 4\n",
      "--------------- Train Loss: 0.3258, Train Accuracy: 0.8494, Val Loss: 0.3419, Val Accuracy: 0.8470\n"
     ]
    },
    {
     "name": "stderr",
     "output_type": "stream",
     "text": [
      "100%|████████████████████████████████████████████████████████████████████████████████████| 5/5 [06:08<00:00, 73.73s/it]"
     ]
    },
    {
     "name": "stdout",
     "output_type": "stream",
     "text": [
      "Epoch: 5\n",
      "--------------- Train Loss: 0.2984, Train Accuracy: 0.8596, Val Loss: 0.3310, Val Accuracy: 0.8512\n",
      "cuda Training Time: 87.114 seconds\n"
     ]
    },
    {
     "name": "stderr",
     "output_type": "stream",
     "text": [
      "\n"
     ]
    }
   ],
   "source": [
    "loss_fn = nn.CrossEntropyLoss()\n",
    "optimizer = torch.optim.SGD(params=LeNet_P1.parameters(),\n",
    "                            lr=0.1)\n",
    "accuracy_fn = MulticlassAccuracy(num_classes=10).to(device)\n",
    "epochs = 5\n",
    "\n",
    "train_time_start_base = timer()\n",
    "\n",
    "P1_model_history = train(model=LeNet_P1,\n",
    "                         train_dataloader=LeNet_trainLoader,\n",
    "                         val_dataloader=LeNet_valLoader,\n",
    "                         optim=optimizer,\n",
    "                         loss_fn=loss_fn,\n",
    "                         accuracy_fn=accuracy_fn,\n",
    "                         epochs=epochs,\n",
    "                         device=\"cuda\")\n",
    "\n",
    "train_time_end_base = timer()\n",
    "P1_total_time = print_train_time(start=train_time_start,\n",
    "                                       end=train_time_end,\n",
    "                                       device=device)"
   ]
  },
  {
   "cell_type": "code",
   "execution_count": 115,
   "id": "c909dda7-580e-49f2-bb64-2493aaa3b367",
   "metadata": {},
   "outputs": [
    {
     "name": "stderr",
     "output_type": "stream",
     "text": [
      " 20%|████████████████▊                                                                   | 1/5 [00:15<01:03, 15.76s/it]"
     ]
    },
    {
     "name": "stdout",
     "output_type": "stream",
     "text": [
      "Epoch: 1\n",
      "--------------- Train Loss: 1.1362, Train Accuracy: 0.5494, Val Loss: 0.5712, Val Accuracy: 0.7403\n"
     ]
    },
    {
     "name": "stderr",
     "output_type": "stream",
     "text": [
      " 40%|█████████████████████████████████▌                                                  | 2/5 [00:31<00:46, 15.62s/it]"
     ]
    },
    {
     "name": "stdout",
     "output_type": "stream",
     "text": [
      "Epoch: 2\n",
      "--------------- Train Loss: 0.4892, Train Accuracy: 0.7842, Val Loss: 0.4340, Val Accuracy: 0.8154\n"
     ]
    },
    {
     "name": "stderr",
     "output_type": "stream",
     "text": [
      " 60%|██████████████████████████████████████████████████▍                                 | 3/5 [00:51<00:35, 17.69s/it]"
     ]
    },
    {
     "name": "stdout",
     "output_type": "stream",
     "text": [
      "Epoch: 3\n",
      "--------------- Train Loss: 0.3862, Train Accuracy: 0.8320, Val Loss: 0.3779, Val Accuracy: 0.8342\n"
     ]
    },
    {
     "name": "stderr",
     "output_type": "stream",
     "text": [
      " 80%|███████████████████████████████████████████████████████████████████▏                | 4/5 [01:13<00:19, 19.54s/it]"
     ]
    },
    {
     "name": "stdout",
     "output_type": "stream",
     "text": [
      "Epoch: 4\n",
      "--------------- Train Loss: 0.3365, Train Accuracy: 0.8468, Val Loss: 0.3658, Val Accuracy: 0.8328\n"
     ]
    },
    {
     "name": "stderr",
     "output_type": "stream",
     "text": [
      "100%|████████████████████████████████████████████████████████████████████████████████████| 5/5 [01:35<00:00, 19.14s/it]"
     ]
    },
    {
     "name": "stdout",
     "output_type": "stream",
     "text": [
      "Epoch: 5\n",
      "--------------- Train Loss: 0.3077, Train Accuracy: 0.8546, Val Loss: 0.3305, Val Accuracy: 0.8466\n"
     ]
    },
    {
     "name": "stderr",
     "output_type": "stream",
     "text": [
      "\n"
     ]
    }
   ],
   "source": [
    "# Testing training time with cpu (QUICKER THAN GPU FOR THIS MODEL)\n",
    "LeNet_P1_cpu = LeNet_modern(input_features=1,\n",
    "                            num_classes=10)\n",
    "optimizer_cpu=torch.optim.SGD(params=LeNet_P1_cpu.parameters(),\n",
    "                            lr=0.1)\n",
    "accuracy_fn_cpu = MulticlassAccuracy(num_classes=10)\n",
    "P1_model_history_cpu = train(model=LeNet_P1_cpu,\n",
    "                         train_dataloader=LeNet_trainLoader,\n",
    "                         val_dataloader=LeNet_valLoader,\n",
    "                         optim=optimizer_cpu,\n",
    "                         loss_fn=loss_fn,\n",
    "                         accuracy_fn=accuracy_fn_cpu,\n",
    "                         epochs=epochs,\n",
    "                         device=\"cpu\")"
   ]
  },
  {
   "cell_type": "code",
   "execution_count": 155,
   "id": "abab8ec9-2cfb-4c4a-a946-a4415b781985",
   "metadata": {},
   "outputs": [],
   "source": [
    "# Plot history\n",
    "from typing import Tuple, Dict, List\n",
    "def plot_history(results: Dict[str, List[float]]):\n",
    "    loss = results[\"Train Loss\"]\n",
    "    val_loss = results[\"Val Loss\"]\n",
    "    acc = results[\"Train Accuracy\"]\n",
    "    val_acc = results[\"Val Accuracy\"]\n",
    "    \n",
    "    epochs = range(len(results[\"Train Loss\"]))\n",
    "    \n",
    "    plt.figure()\n",
    "    # Plot loss and accuracy\n",
    "    plt.plot(epochs, loss, label=\"Train Loss\")\n",
    "    plt.plot(epochs, acc, label=\"Train Accuracy\")\n",
    "    plt.plot(epochs, val_acc, label=\"Val Accuracy\")\n",
    "    plt.title(\"Model History\")\n",
    "    plt.xlabel(\"Epochs\")\n",
    "    plt.legend()"
   ]
  },
  {
   "cell_type": "code",
   "execution_count": 156,
   "id": "c0817b5d-6e25-4828-b092-73b3e559b4a2",
   "metadata": {},
   "outputs": [
    {
     "data": {
      "image/png": "[encoded data removed]",
      "text/plain": [
       "<Figure size 640x480 with 1 Axes>"
      ]
     },
     "metadata": {},
     "output_type": "display_data"
    }
   ],
   "source": [
    "# P1 Plot\n",
    "plot_history(P1_model_history)"
   ]
  },
  {
   "cell_type": "code",
   "execution_count": 132,
   "id": "8d59c6fd-9c15-44a6-bfc8-d14563d5744a",
   "metadata": {},
   "outputs": [
    {
     "name": "stdout",
     "output_type": "stream",
     "text": [
      "Warning: module Flatten is treated as a zero-op.\n",
      "Warning: module Sigmoid is treated as a zero-op.\n",
      "Warning: module LeNet_modern is treated as a zero-op.\n",
      "LeNet_modern(\n",
      "  61.71 k, 100.000% Params, 435.65 KMac, 100.000% MACs, \n",
      "  (conv): Sequential(\n",
      "    2.57 k, 4.168% Params, 376.51 KMac, 86.426% MACs, \n",
      "    (0): Conv2d(156, 0.253% Params, 122.3 KMac, 28.074% MACs, 1, 6, kernel_size=(5, 5), stride=(1, 1), padding=(2, 2))\n",
      "    (1): ReLU(0, 0.000% Params, 4.7 KMac, 1.080% MACs, )\n",
      "    (2): MaxPool2d(0, 0.000% Params, 4.7 KMac, 1.080% MACs, kernel_size=2, stride=2, padding=0, dilation=1, ceil_mode=False)\n",
      "    (3): Conv2d(2.42 k, 3.915% Params, 241.6 KMac, 55.458% MACs, 6, 16, kernel_size=(5, 5), stride=(1, 1))\n",
      "    (4): ReLU(0, 0.000% Params, 1.6 KMac, 0.367% MACs, )\n",
      "    (5): MaxPool2d(0, 0.000% Params, 1.6 KMac, 0.367% MACs, kernel_size=2, stride=2, padding=0, dilation=1, ceil_mode=False)\n",
      "  )\n",
      "  (classifier): Sequential(\n",
      "    59.13 k, 95.832% Params, 59.13 KMac, 13.574% MACs, \n",
      "    (0): Flatten(0, 0.000% Params, 0.0 Mac, 0.000% MACs, start_dim=1, end_dim=-1)\n",
      "    (1): Linear(48.12 k, 77.983% Params, 48.12 KMac, 11.046% MACs, in_features=400, out_features=120, bias=True)\n",
      "    (2): Sigmoid(0, 0.000% Params, 0.0 Mac, 0.000% MACs, )\n",
      "    (3): Linear(10.16 k, 16.472% Params, 10.16 KMac, 2.333% MACs, in_features=120, out_features=84, bias=True)\n",
      "    (4): Sigmoid(0, 0.000% Params, 0.0 Mac, 0.000% MACs, )\n",
      "    (5): Linear(850, 1.377% Params, 850.0 Mac, 0.195% MACs, in_features=84, out_features=10, bias=True)\n",
      "  )\n",
      ")\n",
      "Computational complexity:       435.65 KMac\n",
      "Number of parameters:           61.71 k \n"
     ]
    }
   ],
   "source": [
    "# Ptflops Summary\n",
    "from ptflops import get_model_complexity_info\n",
    "\n",
    "with torch.cuda.device(0):\n",
    "  macs, params = get_model_complexity_info(LeNet_P1, (1, 28, 28), as_strings=True,\n",
    "                                           print_per_layer_stat=True, verbose=True)\n",
    "  print('{:<30}  {:<8}'.format('Computational complexity: ', macs))\n",
    "  print('{:<30}  {:<8}'.format('Number of parameters: ', params))"
   ]
  },
  {
   "cell_type": "markdown",
   "id": "8067aa67-df5f-4737-ae5b-50f7e5e377f6",
   "metadata": {
    "jp-MarkdownHeadingCollapsed": true,
    "tags": []
   },
   "source": [
    "## Problem 2\n",
    "Try to change the size of the LeNet style network to improve its accuracy in addition to max-pooling and ReLU.\n",
    "\n",
    "1. Adjust the convolution window size.\n",
    "2. Adjust the number of output channels (width of each layer).\n",
    "3. Adjust the number of convolution layers.\n",
    "4. Adjust the number of fully connected layers.\n",
    "5. Explore the learning rates.\n",
    "\n",
    "For all training adjustments, restart training from scratch based on FashinMNIST. Compare the training loss, training accuracy, and validation accuracy against each other and the baseline in problem 1. Argue which adjustment presents the better benefit and generalization. Measure and compare theoretical computation complexity (number of operations and parameters size) using ptflops https://pypi.org/project/ptflops/"
   ]
  },
  {
   "cell_type": "markdown",
   "id": "db7d78b1-370e-488a-94f4-8e82afbc3740",
   "metadata": {},
   "source": [
    "### 1. Adjust convolution window size"
   ]
  },
  {
   "cell_type": "code",
   "execution_count": 119,
   "id": "a5322d1a-6279-4561-949c-82130e269fdc",
   "metadata": {},
   "outputs": [],
   "source": [
    "# Changed kernel_size from 5 to 3, padding from 2 to 1\n",
    "class LeNet_P2_1(nn.Module):\n",
    "    def __init__(self, input_features: int, num_classes):\n",
    "        super().__init__()\n",
    "        self.conv = nn.Sequential(\n",
    "            nn.Conv2d(input_features, 6, kernel_size=3, padding=1), # 28 + (2*1(padding)) - (3(kernelSize)-1) = 28\n",
    "            nn.ReLU(),\n",
    "            nn.MaxPool2d(kernel_size=2, stride=2), # 28 / 2 = 14\n",
    "            nn.Conv2d(6, 16, kernel_size=3), # 14 - (3-1) = 12\n",
    "            nn.ReLU(),\n",
    "            nn.MaxPool2d(kernel_size=2, stride=2) # 12 / 2 = 6\n",
    "        )\n",
    "        self.classifier = nn.Sequential(\n",
    "            nn.Flatten(),\n",
    "            nn.Linear(16*6*6, 120), nn.Sigmoid(),\n",
    "            nn.Linear(120, 84), nn.Sigmoid(),\n",
    "            nn.Linear(84, num_classes)\n",
    "        )\n",
    "    def forward(self, x):\n",
    "        x = self.conv(x)\n",
    "        x = self.classifier(x)\n",
    "        return x"
   ]
  },
  {
   "cell_type": "code",
   "execution_count": 120,
   "id": "59eb7035-5f3e-4f81-b738-0bde73821cbb",
   "metadata": {},
   "outputs": [],
   "source": [
    "P2_1_model = LeNet_P2_1(input_features=1,\n",
    "                        num_classes=10)"
   ]
  },
  {
   "cell_type": "code",
   "execution_count": 153,
   "id": "4422e46f-96a0-4ed5-b44d-c39cac6955be",
   "metadata": {},
   "outputs": [
    {
     "name": "stderr",
     "output_type": "stream",
     "text": [
      " 10%|████████▎                                                                          | 1/10 [00:14<02:13, 14.82s/it]"
     ]
    },
    {
     "name": "stdout",
     "output_type": "stream",
     "text": [
      "Epoch: 1\n",
      "--------------- Train Loss: 0.2882, Train Accuracy: 0.8596, Val Loss: 0.3052, Val Accuracy: 0.8623\n"
     ]
    },
    {
     "name": "stderr",
     "output_type": "stream",
     "text": [
      " 20%|████████████████▌                                                                  | 2/10 [00:29<01:58, 14.81s/it]"
     ]
    },
    {
     "name": "stdout",
     "output_type": "stream",
     "text": [
      "Epoch: 2\n",
      "--------------- Train Loss: 0.2705, Train Accuracy: 0.8695, Val Loss: 0.3003, Val Accuracy: 0.8632\n"
     ]
    },
    {
     "name": "stderr",
     "output_type": "stream",
     "text": [
      " 30%|████████████████████████▉                                                          | 3/10 [00:45<01:45, 15.09s/it]"
     ]
    },
    {
     "name": "stdout",
     "output_type": "stream",
     "text": [
      "Epoch: 3\n",
      "--------------- Train Loss: 0.2561, Train Accuracy: 0.8740, Val Loss: 0.3281, Val Accuracy: 0.8518\n"
     ]
    },
    {
     "name": "stderr",
     "output_type": "stream",
     "text": [
      " 40%|█████████████████████████████████▏                                                 | 4/10 [01:00<01:30, 15.09s/it]"
     ]
    },
    {
     "name": "stdout",
     "output_type": "stream",
     "text": [
      "Epoch: 4\n",
      "--------------- Train Loss: 0.2478, Train Accuracy: 0.8766, Val Loss: 0.2900, Val Accuracy: 0.8651\n"
     ]
    },
    {
     "name": "stderr",
     "output_type": "stream",
     "text": [
      " 50%|█████████████████████████████████████████▌                                         | 5/10 [01:15<01:15, 15.03s/it]"
     ]
    },
    {
     "name": "stdout",
     "output_type": "stream",
     "text": [
      "Epoch: 5\n",
      "--------------- Train Loss: 0.2348, Train Accuracy: 0.8827, Val Loss: 0.3045, Val Accuracy: 0.8600\n"
     ]
    },
    {
     "name": "stderr",
     "output_type": "stream",
     "text": [
      " 60%|█████████████████████████████████████████████████▊                                 | 6/10 [01:30<01:00, 15.05s/it]"
     ]
    },
    {
     "name": "stdout",
     "output_type": "stream",
     "text": [
      "Epoch: 6\n",
      "--------------- Train Loss: 0.2279, Train Accuracy: 0.8855, Val Loss: 0.2771, Val Accuracy: 0.8696\n"
     ]
    },
    {
     "name": "stderr",
     "output_type": "stream",
     "text": [
      " 70%|██████████████████████████████████████████████████████████                         | 7/10 [01:45<00:45, 15.01s/it]"
     ]
    },
    {
     "name": "stdout",
     "output_type": "stream",
     "text": [
      "Epoch: 7\n",
      "--------------- Train Loss: 0.2174, Train Accuracy: 0.8899, Val Loss: 0.2869, Val Accuracy: 0.8675\n"
     ]
    },
    {
     "name": "stderr",
     "output_type": "stream",
     "text": [
      " 80%|██████████████████████████████████████████████████████████████████▍                | 8/10 [01:59<00:29, 14.97s/it]"
     ]
    },
    {
     "name": "stdout",
     "output_type": "stream",
     "text": [
      "Epoch: 8\n",
      "--------------- Train Loss: 0.2090, Train Accuracy: 0.8896, Val Loss: 0.2791, Val Accuracy: 0.8702\n"
     ]
    },
    {
     "name": "stderr",
     "output_type": "stream",
     "text": [
      " 90%|██████████████████████████████████████████████████████████████████████████▋        | 9/10 [02:14<00:14, 14.95s/it]"
     ]
    },
    {
     "name": "stdout",
     "output_type": "stream",
     "text": [
      "Epoch: 9\n",
      "--------------- Train Loss: 0.2003, Train Accuracy: 0.8934, Val Loss: 0.2897, Val Accuracy: 0.8683\n"
     ]
    },
    {
     "name": "stderr",
     "output_type": "stream",
     "text": [
      "100%|██████████████████████████████████████████████████████████████████████████████████| 10/10 [02:29<00:00, 14.97s/it]"
     ]
    },
    {
     "name": "stdout",
     "output_type": "stream",
     "text": [
      "Epoch: 10\n",
      "--------------- Train Loss: 0.1929, Train Accuracy: 0.8981, Val Loss: 0.2815, Val Accuracy: 0.8694\n"
     ]
    },
    {
     "name": "stderr",
     "output_type": "stream",
     "text": [
      "\n"
     ]
    }
   ],
   "source": [
    "optimizer_cpu=torch.optim.SGD(params=P2_1_model.parameters(),\n",
    "                            lr=0.1)\n",
    "accuracy_fn_cpu = MulticlassAccuracy(num_classes=10)\n",
    "P2_1_model_history = train(model=P2_1_model,\n",
    "                         train_dataloader=LeNet_trainLoader,\n",
    "                         val_dataloader=LeNet_valLoader,\n",
    "                         optim=optimizer_cpu,\n",
    "                         loss_fn=loss_fn,\n",
    "                         accuracy_fn=accuracy_fn_cpu,\n",
    "                         epochs=10,\n",
    "                         device=\"cpu\")"
   ]
  },
  {
   "cell_type": "code",
   "execution_count": 157,
   "id": "80e1735b-112a-43d3-9b8b-e7a139f31c9d",
   "metadata": {},
   "outputs": [
    {
     "data": {
      "image/png": "[encoded data removed]",
      "text/plain": [
       "<Figure size 640x480 with 1 Axes>"
      ]
     },
     "metadata": {},
     "output_type": "display_data"
    }
   ],
   "source": [
    "# P2_1 Plot, very similar to P1\n",
    "plot_history(P2_1_model_history)"
   ]
  },
  {
   "cell_type": "code",
   "execution_count": 158,
   "id": "14d6d0be-228f-4207-ac86-3e6f480ff81d",
   "metadata": {},
   "outputs": [
    {
     "name": "stdout",
     "output_type": "stream",
     "text": [
      "Warning: module Flatten is treated as a zero-op.\n",
      "Warning: module Sigmoid is treated as a zero-op.\n",
      "Warning: module LeNet_P2_1 is treated as a zero-op.\n",
      "LeNet_P2_1(\n",
      "  81.19 k, 100.000% Params, 268.03 KMac, 100.000% MACs, \n",
      "  (conv): Sequential(\n",
      "    940, 1.158% Params, 187.78 KMac, 70.058% MACs, \n",
      "    (0): Conv2d(60, 0.074% Params, 47.04 KMac, 17.550% MACs, 1, 6, kernel_size=(3, 3), stride=(1, 1), padding=(1, 1))\n",
      "    (1): ReLU(0, 0.000% Params, 4.7 KMac, 1.755% MACs, )\n",
      "    (2): MaxPool2d(0, 0.000% Params, 4.7 KMac, 1.755% MACs, kernel_size=2, stride=2, padding=0, dilation=1, ceil_mode=False)\n",
      "    (3): Conv2d(880, 1.084% Params, 126.72 KMac, 47.278% MACs, 6, 16, kernel_size=(3, 3), stride=(1, 1))\n",
      "    (4): ReLU(0, 0.000% Params, 2.3 KMac, 0.860% MACs, )\n",
      "    (5): MaxPool2d(0, 0.000% Params, 2.3 KMac, 0.860% MACs, kernel_size=2, stride=2, padding=0, dilation=1, ceil_mode=False)\n",
      "  )\n",
      "  (classifier): Sequential(\n",
      "    80.25 k, 98.842% Params, 80.25 KMac, 29.942% MACs, \n",
      "    (0): Flatten(0, 0.000% Params, 0.0 Mac, 0.000% MACs, start_dim=1, end_dim=-1)\n",
      "    (1): Linear(69.24 k, 85.277% Params, 69.24 KMac, 25.833% MACs, in_features=576, out_features=120, bias=True)\n",
      "    (2): Sigmoid(0, 0.000% Params, 0.0 Mac, 0.000% MACs, )\n",
      "    (3): Linear(10.16 k, 12.518% Params, 10.16 KMac, 3.792% MACs, in_features=120, out_features=84, bias=True)\n",
      "    (4): Sigmoid(0, 0.000% Params, 0.0 Mac, 0.000% MACs, )\n",
      "    (5): Linear(850, 1.047% Params, 850.0 Mac, 0.317% MACs, in_features=84, out_features=10, bias=True)\n",
      "  )\n",
      ")\n",
      "Computational complexity:       268.03 KMac\n",
      "Number of parameters:           81.19 k \n"
     ]
    }
   ],
   "source": [
    "with torch.cuda.device(0):\n",
    "  macs, params = get_model_complexity_info(P2_1_model, (1, 28, 28), as_strings=True,\n",
    "                                           print_per_layer_stat=True, verbose=True)\n",
    "  print('{:<30}  {:<8}'.format('Computational complexity: ', macs))\n",
    "  print('{:<30}  {:<8}'.format('Number of parameters: ', params))"
   ]
  },
  {
   "cell_type": "markdown",
   "id": "2de1bf11-3aed-4db4-a3db-cc4f89048f87",
   "metadata": {},
   "source": [
    "### 2. Adjust the number of output channels (width of each layer)."
   ]
  },
  {
   "cell_type": "code",
   "execution_count": 123,
   "id": "e04fa7e1-179e-467d-a7fa-fa2ddb571d4e",
   "metadata": {},
   "outputs": [],
   "source": [
    "# Increased output channels of each Conv2d by multiplier of 2\n",
    "class LeNet_P2_2(nn.Module):\n",
    "    def __init__(self, input_features: int, num_classes):\n",
    "        super().__init__()\n",
    "        self.conv = nn.Sequential(\n",
    "            nn.Conv2d(input_features, 16, kernel_size=5, padding=2), # 28 + (2*2(padding)) - (5(kernelSize)-1) = 28\n",
    "            nn.ReLU(),\n",
    "            nn.MaxPool2d(kernel_size=2, stride=2), # 28 / 2 = 14\n",
    "            nn.Conv2d(16, 32, kernel_size=5), # 14 - (5-1) = 10\n",
    "            nn.ReLU(),\n",
    "            nn.MaxPool2d(kernel_size=2, stride=2) # 10 / 2 = 5\n",
    "        )\n",
    "        self.classifier = nn.Sequential(\n",
    "            nn.Flatten(),\n",
    "            nn.Linear(32*5*5, 120), nn.Sigmoid(),\n",
    "            nn.Linear(120, 84), nn.Sigmoid(),\n",
    "            nn.Linear(84, num_classes)\n",
    "        )\n",
    "    def forward(self, x):\n",
    "        x = self.conv(x)\n",
    "        x = self.classifier(x)\n",
    "        return x"
   ]
  },
  {
   "cell_type": "code",
   "execution_count": 152,
   "id": "f63a288e-5448-479a-8e35-ac8c93708568",
   "metadata": {},
   "outputs": [
    {
     "name": "stderr",
     "output_type": "stream",
     "text": [
      " 10%|████████▎                                                                          | 1/10 [00:20<03:02, 20.30s/it]"
     ]
    },
    {
     "name": "stdout",
     "output_type": "stream",
     "text": [
      "Epoch: 1\n",
      "--------------- Train Loss: 1.0413, Train Accuracy: 0.5907, Val Loss: 0.5221, Val Accuracy: 0.7709\n"
     ]
    },
    {
     "name": "stderr",
     "output_type": "stream",
     "text": [
      " 20%|████████████████▌                                                                  | 2/10 [00:40<02:43, 20.48s/it]"
     ]
    },
    {
     "name": "stdout",
     "output_type": "stream",
     "text": [
      "Epoch: 2\n",
      "--------------- Train Loss: 0.4285, Train Accuracy: 0.8149, Val Loss: 0.3807, Val Accuracy: 0.8345\n"
     ]
    },
    {
     "name": "stderr",
     "output_type": "stream",
     "text": [
      " 30%|████████████████████████▉                                                          | 3/10 [01:01<02:22, 20.39s/it]"
     ]
    },
    {
     "name": "stdout",
     "output_type": "stream",
     "text": [
      "Epoch: 3\n",
      "--------------- Train Loss: 0.3377, Train Accuracy: 0.8460, Val Loss: 0.3349, Val Accuracy: 0.8523\n"
     ]
    },
    {
     "name": "stderr",
     "output_type": "stream",
     "text": [
      " 40%|█████████████████████████████████▏                                                 | 4/10 [01:22<02:03, 20.60s/it]"
     ]
    },
    {
     "name": "stdout",
     "output_type": "stream",
     "text": [
      "Epoch: 4\n",
      "--------------- Train Loss: 0.2949, Train Accuracy: 0.8595, Val Loss: 0.3072, Val Accuracy: 0.8620\n"
     ]
    },
    {
     "name": "stderr",
     "output_type": "stream",
     "text": [
      " 50%|█████████████████████████████████████████▌                                         | 5/10 [01:42<01:41, 20.35s/it]"
     ]
    },
    {
     "name": "stdout",
     "output_type": "stream",
     "text": [
      "Epoch: 5\n",
      "--------------- Train Loss: 0.2681, Train Accuracy: 0.8691, Val Loss: 0.2924, Val Accuracy: 0.8684\n"
     ]
    },
    {
     "name": "stderr",
     "output_type": "stream",
     "text": [
      " 60%|█████████████████████████████████████████████████▊                                 | 6/10 [02:01<01:20, 20.14s/it]"
     ]
    },
    {
     "name": "stdout",
     "output_type": "stream",
     "text": [
      "Epoch: 6\n",
      "--------------- Train Loss: 0.2448, Train Accuracy: 0.8795, Val Loss: 0.2911, Val Accuracy: 0.8615\n"
     ]
    },
    {
     "name": "stderr",
     "output_type": "stream",
     "text": [
      " 70%|██████████████████████████████████████████████████████████                         | 7/10 [02:22<01:01, 20.33s/it]"
     ]
    },
    {
     "name": "stdout",
     "output_type": "stream",
     "text": [
      "Epoch: 7\n",
      "--------------- Train Loss: 0.2282, Train Accuracy: 0.8852, Val Loss: 0.2969, Val Accuracy: 0.8705\n"
     ]
    },
    {
     "name": "stderr",
     "output_type": "stream",
     "text": [
      " 80%|██████████████████████████████████████████████████████████████████▍                | 8/10 [02:42<00:40, 20.18s/it]"
     ]
    },
    {
     "name": "stdout",
     "output_type": "stream",
     "text": [
      "Epoch: 8\n",
      "--------------- Train Loss: 0.2121, Train Accuracy: 0.8889, Val Loss: 0.2668, Val Accuracy: 0.8720\n"
     ]
    },
    {
     "name": "stderr",
     "output_type": "stream",
     "text": [
      " 90%|██████████████████████████████████████████████████████████████████████████▋        | 9/10 [03:01<00:19, 19.82s/it]"
     ]
    },
    {
     "name": "stdout",
     "output_type": "stream",
     "text": [
      "Epoch: 9\n",
      "--------------- Train Loss: 0.1989, Train Accuracy: 0.8959, Val Loss: 0.2782, Val Accuracy: 0.8657\n"
     ]
    },
    {
     "name": "stderr",
     "output_type": "stream",
     "text": [
      "100%|██████████████████████████████████████████████████████████████████████████████████| 10/10 [03:20<00:00, 20.04s/it]"
     ]
    },
    {
     "name": "stdout",
     "output_type": "stream",
     "text": [
      "Epoch: 10\n",
      "--------------- Train Loss: 0.1866, Train Accuracy: 0.9013, Val Loss: 0.2569, Val Accuracy: 0.8761\n"
     ]
    },
    {
     "name": "stderr",
     "output_type": "stream",
     "text": [
      "\n"
     ]
    }
   ],
   "source": [
    "P2_2_model = LeNet_P2_2(input_features=1,\n",
    "                        num_classes=10)\n",
    "optimizer_cpu=torch.optim.SGD(params=P2_2_model.parameters(),\n",
    "                            lr=0.1)\n",
    "accuracy_fn_cpu = MulticlassAccuracy(num_classes=10)\n",
    "P2_2_model_history = train(model=P2_2_model,\n",
    "                         train_dataloader=LeNet_trainLoader,\n",
    "                         val_dataloader=LeNet_valLoader,\n",
    "                         optim=optimizer_cpu,\n",
    "                         loss_fn=loss_fn,\n",
    "                         accuracy_fn=accuracy_fn_cpu,\n",
    "                         epochs=10,\n",
    "                         device=\"cpu\")"
   ]
  },
  {
   "cell_type": "code",
   "execution_count": 159,
   "id": "f21dec87-83a8-45d9-b1c5-34ff2db0c849",
   "metadata": {},
   "outputs": [
    {
     "name": "stdout",
     "output_type": "stream",
     "text": [
      "Warning: module Flatten is treated as a zero-op.\n",
      "Warning: module Sigmoid is treated as a zero-op.\n",
      "Warning: module LeNet_P2_2 is treated as a zero-op.\n",
      "LeNet_P2_2(\n",
      "  120.38 k, 100.000% Params, 1.75 MMac, 100.000% MACs, \n",
      "  (conv): Sequential(\n",
      "    13.25 k, 11.005% Params, 1.64 MMac, 93.871% MACs, \n",
      "    (0): Conv2d(416, 0.346% Params, 326.14 KMac, 18.658% MACs, 1, 16, kernel_size=(5, 5), stride=(1, 1), padding=(2, 2))\n",
      "    (1): ReLU(0, 0.000% Params, 12.54 KMac, 0.718% MACs, )\n",
      "    (2): MaxPool2d(0, 0.000% Params, 12.54 KMac, 0.718% MACs, kernel_size=2, stride=2, padding=0, dilation=1, ceil_mode=False)\n",
      "    (3): Conv2d(12.83 k, 10.659% Params, 1.28 MMac, 73.411% MACs, 16, 32, kernel_size=(5, 5), stride=(1, 1))\n",
      "    (4): ReLU(0, 0.000% Params, 3.2 KMac, 0.183% MACs, )\n",
      "    (5): MaxPool2d(0, 0.000% Params, 3.2 KMac, 0.183% MACs, kernel_size=2, stride=2, padding=0, dilation=1, ceil_mode=False)\n",
      "  )\n",
      "  (classifier): Sequential(\n",
      "    107.13 k, 88.995% Params, 107.13 KMac, 6.129% MACs, \n",
      "    (0): Flatten(0, 0.000% Params, 0.0 Mac, 0.000% MACs, start_dim=1, end_dim=-1)\n",
      "    (1): Linear(96.12 k, 79.846% Params, 96.12 KMac, 5.499% MACs, in_features=800, out_features=120, bias=True)\n",
      "    (2): Sigmoid(0, 0.000% Params, 0.0 Mac, 0.000% MACs, )\n",
      "    (3): Linear(10.16 k, 8.443% Params, 10.16 KMac, 0.581% MACs, in_features=120, out_features=84, bias=True)\n",
      "    (4): Sigmoid(0, 0.000% Params, 0.0 Mac, 0.000% MACs, )\n",
      "    (5): Linear(850, 0.706% Params, 850.0 Mac, 0.049% MACs, in_features=84, out_features=10, bias=True)\n",
      "  )\n",
      ")\n",
      "Computational complexity:       1.75 MMac\n",
      "Number of parameters:           120.38 k\n"
     ]
    },
    {
     "data": {
      "image/png": "[encoded data removed]",
      "text/plain": [
       "<Figure size 640x480 with 1 Axes>"
      ]
     },
     "metadata": {},
     "output_type": "display_data"
    }
   ],
   "source": [
    "# P2_2 Plot, performed slightly worse with overfitting at the end\n",
    "plot_history(P2_2_model_history)\n",
    "\n",
    "with torch.cuda.device(0):\n",
    "  macs, params = get_model_complexity_info(P2_2_model, (1, 28, 28), as_strings=True,\n",
    "                                           print_per_layer_stat=True, verbose=True)\n",
    "  print('{:<30}  {:<8}'.format('Computational complexity: ', macs))\n",
    "  print('{:<30}  {:<8}'.format('Number of parameters: ', params))"
   ]
  },
  {
   "cell_type": "markdown",
   "id": "98bbadd9-dc8e-4a5f-b899-4dad148ad6cf",
   "metadata": {},
   "source": [
    "### 3. Adjust the number of convolution layers."
   ]
  },
  {
   "cell_type": "code",
   "execution_count": 130,
   "id": "0fe6c068-4cda-47ea-a03a-867e7daaa314",
   "metadata": {},
   "outputs": [],
   "source": [
    "# Added another \"block\" of conv2d, relu, and Maxpool.\n",
    "# Also adjusted original conv2d layers to have padding=2\n",
    "class LeNet_P2_3(nn.Module):\n",
    "    def __init__(self, input_features: int, num_classes):\n",
    "        super().__init__()\n",
    "        self.conv = nn.Sequential(\n",
    "            nn.Conv2d(input_features, 6, kernel_size=5, padding=2), # 28 + (2*2(padding)) - (5(kernelSize)-1) = 28\n",
    "            nn.ReLU(),\n",
    "            nn.MaxPool2d(kernel_size=2, stride=2), # 28 / 2 = 14\n",
    "            nn.Conv2d(6, 16, kernel_size=5, padding=2), # 14\n",
    "            nn.ReLU(),\n",
    "            nn.MaxPool2d(kernel_size=2, stride=2), # 14 / 2 = 7\n",
    "            nn.Conv2d(16, 32, kernel_size=2), # 7 - (2-1) = 6\n",
    "            nn.ReLU(),\n",
    "            nn.MaxPool2d(kernel_size=2, stride=2) # 6 / 2 = 3\n",
    "        )\n",
    "        self.classifier = nn.Sequential(\n",
    "            nn.Flatten(),\n",
    "            nn.Linear(32*3*3, 120), nn.Sigmoid(),\n",
    "            nn.Linear(120, 84), nn.Sigmoid(),\n",
    "            nn.Linear(84, num_classes)\n",
    "        )\n",
    "    def forward(self, x):\n",
    "        x = self.conv(x)\n",
    "        x = self.classifier(x)\n",
    "        return x"
   ]
  },
  {
   "cell_type": "code",
   "execution_count": 151,
   "id": "2169fc6f-a0b1-43f1-80a0-80a9af0f6406",
   "metadata": {},
   "outputs": [
    {
     "name": "stderr",
     "output_type": "stream",
     "text": [
      " 10%|████████▎                                                                          | 1/10 [00:17<02:33, 17.05s/it]"
     ]
    },
    {
     "name": "stdout",
     "output_type": "stream",
     "text": [
      "Epoch: 1\n",
      "--------------- Train Loss: 1.3923, Train Accuracy: 0.4526, Val Loss: 0.6881, Val Accuracy: 0.6990\n"
     ]
    },
    {
     "name": "stderr",
     "output_type": "stream",
     "text": [
      " 20%|████████████████▌                                                                  | 2/10 [00:34<02:19, 17.41s/it]"
     ]
    },
    {
     "name": "stdout",
     "output_type": "stream",
     "text": [
      "Epoch: 2\n",
      "--------------- Train Loss: 0.5629, Train Accuracy: 0.7549, Val Loss: 0.4766, Val Accuracy: 0.7955\n"
     ]
    },
    {
     "name": "stderr",
     "output_type": "stream",
     "text": [
      " 30%|████████████████████████▉                                                          | 3/10 [00:51<02:01, 17.29s/it]"
     ]
    },
    {
     "name": "stdout",
     "output_type": "stream",
     "text": [
      "Epoch: 3\n",
      "--------------- Train Loss: 0.4236, Train Accuracy: 0.8159, Val Loss: 0.3938, Val Accuracy: 0.8279\n"
     ]
    },
    {
     "name": "stderr",
     "output_type": "stream",
     "text": [
      " 40%|█████████████████████████████████▏                                                 | 4/10 [01:09<01:43, 17.30s/it]"
     ]
    },
    {
     "name": "stdout",
     "output_type": "stream",
     "text": [
      "Epoch: 4\n",
      "--------------- Train Loss: 0.3573, Train Accuracy: 0.8360, Val Loss: 0.3591, Val Accuracy: 0.8388\n"
     ]
    },
    {
     "name": "stderr",
     "output_type": "stream",
     "text": [
      " 50%|█████████████████████████████████████████▌                                         | 5/10 [01:26<01:26, 17.23s/it]"
     ]
    },
    {
     "name": "stdout",
     "output_type": "stream",
     "text": [
      "Epoch: 5\n",
      "--------------- Train Loss: 0.3206, Train Accuracy: 0.8493, Val Loss: 0.3449, Val Accuracy: 0.8460\n"
     ]
    },
    {
     "name": "stderr",
     "output_type": "stream",
     "text": [
      " 60%|█████████████████████████████████████████████████▊                                 | 6/10 [01:43<01:09, 17.30s/it]"
     ]
    },
    {
     "name": "stdout",
     "output_type": "stream",
     "text": [
      "Epoch: 6\n",
      "--------------- Train Loss: 0.2965, Train Accuracy: 0.8608, Val Loss: 0.3603, Val Accuracy: 0.8401\n"
     ]
    },
    {
     "name": "stderr",
     "output_type": "stream",
     "text": [
      " 70%|██████████████████████████████████████████████████████████                         | 7/10 [02:01<00:52, 17.48s/it]"
     ]
    },
    {
     "name": "stdout",
     "output_type": "stream",
     "text": [
      "Epoch: 7\n",
      "--------------- Train Loss: 0.2807, Train Accuracy: 0.8670, Val Loss: 0.3171, Val Accuracy: 0.8572\n"
     ]
    },
    {
     "name": "stderr",
     "output_type": "stream",
     "text": [
      " 80%|██████████████████████████████████████████████████████████████████▍                | 8/10 [02:19<00:35, 17.57s/it]"
     ]
    },
    {
     "name": "stdout",
     "output_type": "stream",
     "text": [
      "Epoch: 8\n",
      "--------------- Train Loss: 0.2681, Train Accuracy: 0.8700, Val Loss: 0.2961, Val Accuracy: 0.8599\n"
     ]
    },
    {
     "name": "stderr",
     "output_type": "stream",
     "text": [
      " 90%|██████████████████████████████████████████████████████████████████████████▋        | 9/10 [02:36<00:17, 17.44s/it]"
     ]
    },
    {
     "name": "stdout",
     "output_type": "stream",
     "text": [
      "Epoch: 9\n",
      "--------------- Train Loss: 0.2573, Train Accuracy: 0.8721, Val Loss: 0.3059, Val Accuracy: 0.8567\n"
     ]
    },
    {
     "name": "stderr",
     "output_type": "stream",
     "text": [
      "100%|██████████████████████████████████████████████████████████████████████████████████| 10/10 [02:54<00:00, 17.41s/it]"
     ]
    },
    {
     "name": "stdout",
     "output_type": "stream",
     "text": [
      "Epoch: 10\n",
      "--------------- Train Loss: 0.2485, Train Accuracy: 0.8769, Val Loss: 0.2969, Val Accuracy: 0.8648\n"
     ]
    },
    {
     "name": "stderr",
     "output_type": "stream",
     "text": [
      "\n"
     ]
    }
   ],
   "source": [
    "P2_3_model = LeNet_P2_3(input_features=1,\n",
    "                        num_classes=10)\n",
    "optimizer_cpu=torch.optim.SGD(params=P2_3_model.parameters(),\n",
    "                            lr=0.1)\n",
    "accuracy_fn_cpu = MulticlassAccuracy(num_classes=10)\n",
    "P2_3_model_history = train(model=P2_3_model,\n",
    "                         train_dataloader=LeNet_trainLoader,\n",
    "                         val_dataloader=LeNet_valLoader,\n",
    "                         optim=optimizer_cpu,\n",
    "                         loss_fn=loss_fn,\n",
    "                         accuracy_fn=accuracy_fn_cpu,\n",
    "                         epochs=10,\n",
    "                         device=\"cpu\")"
   ]
  },
  {
   "cell_type": "code",
   "execution_count": 160,
   "id": "7d99362a-a665-43a3-ba3b-6f8a23c21ddd",
   "metadata": {},
   "outputs": [
    {
     "name": "stdout",
     "output_type": "stream",
     "text": [
      "Warning: module Flatten is treated as a zero-op.\n",
      "Warning: module Sigmoid is treated as a zero-op.\n",
      "Warning: module LeNet_P2_3 is treated as a zero-op.\n",
      "LeNet_P2_3(\n",
      "  50.35 k, 100.000% Params, 734.4 KMac, 100.000% MACs, \n",
      "  (conv): Sequential(\n",
      "    4.65 k, 9.240% Params, 688.7 KMac, 93.778% MACs, \n",
      "    (0): Conv2d(156, 0.310% Params, 122.3 KMac, 16.654% MACs, 1, 6, kernel_size=(5, 5), stride=(1, 1), padding=(2, 2))\n",
      "    (1): ReLU(0, 0.000% Params, 4.7 KMac, 0.641% MACs, )\n",
      "    (2): MaxPool2d(0, 0.000% Params, 4.7 KMac, 0.641% MACs, kernel_size=2, stride=2, padding=0, dilation=1, ceil_mode=False)\n",
      "    (3): Conv2d(2.42 k, 4.799% Params, 473.54 KMac, 64.479% MACs, 6, 16, kernel_size=(5, 5), stride=(1, 1), padding=(2, 2))\n",
      "    (4): ReLU(0, 0.000% Params, 3.14 KMac, 0.427% MACs, )\n",
      "    (5): MaxPool2d(0, 0.000% Params, 3.14 KMac, 0.427% MACs, kernel_size=2, stride=2, padding=0, dilation=1, ceil_mode=False)\n",
      "    (6): Conv2d(2.08 k, 4.131% Params, 74.88 KMac, 10.196% MACs, 16, 32, kernel_size=(2, 2), stride=(1, 1))\n",
      "    (7): ReLU(0, 0.000% Params, 1.15 KMac, 0.157% MACs, )\n",
      "    (8): MaxPool2d(0, 0.000% Params, 1.15 KMac, 0.157% MACs, kernel_size=2, stride=2, padding=0, dilation=1, ceil_mode=False)\n",
      "  )\n",
      "  (classifier): Sequential(\n",
      "    45.69 k, 90.760% Params, 45.69 KMac, 6.222% MACs, \n",
      "    (0): Flatten(0, 0.000% Params, 0.0 Mac, 0.000% MACs, start_dim=1, end_dim=-1)\n",
      "    (1): Linear(34.68 k, 68.883% Params, 34.68 KMac, 4.722% MACs, in_features=288, out_features=120, bias=True)\n",
      "    (2): Sigmoid(0, 0.000% Params, 0.0 Mac, 0.000% MACs, )\n",
      "    (3): Linear(10.16 k, 20.188% Params, 10.16 KMac, 1.384% MACs, in_features=120, out_features=84, bias=True)\n",
      "    (4): Sigmoid(0, 0.000% Params, 0.0 Mac, 0.000% MACs, )\n",
      "    (5): Linear(850, 1.688% Params, 850.0 Mac, 0.116% MACs, in_features=84, out_features=10, bias=True)\n",
      "  )\n",
      ")\n",
      "Computational complexity:       734.4 KMac\n",
      "Number of parameters:           50.35 k \n"
     ]
    },
    {
     "data": {
      "image/png": "[encoded data removed]",
      "text/plain": [
       "<Figure size 640x480 with 1 Axes>"
      ]
     },
     "metadata": {},
     "output_type": "display_data"
    }
   ],
   "source": [
    "# P2_3 performed about the same as base\n",
    "with torch.cuda.device(0):\n",
    "  macs, params = get_model_complexity_info(P2_3_model, (1, 28, 28), as_strings=True,\n",
    "                                           print_per_layer_stat=True, verbose=True)\n",
    "  print('{:<30}  {:<8}'.format('Computational complexity: ', macs))\n",
    "  print('{:<30}  {:<8}'.format('Number of parameters: ', params))\n",
    "plot_history(P2_3_model_history)"
   ]
  },
  {
   "cell_type": "markdown",
   "id": "a83b2797-d341-4403-8c70-ba8ff66748e5",
   "metadata": {},
   "source": [
    "### 4. Adjust the number of fully connected layers."
   ]
  },
  {
   "cell_type": "code",
   "execution_count": 142,
   "id": "91bb8e46-1bc9-4b6b-aaab-7084cf439040",
   "metadata": {},
   "outputs": [],
   "source": [
    "# Add another Linear layer to gradually get to num_classes\n",
    "# Changed linear layers to have ReLU activation function\n",
    "class LeNet_P2_4(nn.Module):\n",
    "    def __init__(self, input_features: int, num_classes):\n",
    "        super().__init__()\n",
    "        self.conv = nn.Sequential(\n",
    "            nn.Conv2d(input_features, 6, kernel_size=5, padding=2), # 28 + (2*2(padding)) - (5(kernelSize)-1) = 28\n",
    "            nn.ReLU(),\n",
    "            nn.MaxPool2d(kernel_size=2, stride=2), # 28 / 2 = 14\n",
    "            nn.Conv2d(6, 16, kernel_size=5), # 14 - (5-1) = 10\n",
    "            nn.ReLU(),\n",
    "            nn.MaxPool2d(kernel_size=2, stride=2) # 10 / 2 = 5\n",
    "        )\n",
    "        self.classifier = nn.Sequential(\n",
    "            nn.Flatten(),\n",
    "            nn.Linear(16*5*5, 120), nn.ReLU(),\n",
    "            nn.Linear(120, 84), nn.ReLU(),\n",
    "            nn.Linear(84, int(84/2)), nn.ReLU(),\n",
    "            nn.Linear(int(84/2), num_classes)\n",
    "        )\n",
    "    def forward(self, x):\n",
    "        x = self.conv(x)\n",
    "        x = self.classifier(x)\n",
    "        return x"
   ]
  },
  {
   "cell_type": "code",
   "execution_count": 150,
   "id": "f48cc7eb-f026-4d01-a462-4aa0c81cd506",
   "metadata": {},
   "outputs": [
    {
     "name": "stderr",
     "output_type": "stream",
     "text": [
      " 10%|████████▎                                                                          | 1/10 [00:19<02:51, 19.05s/it]"
     ]
    },
    {
     "name": "stdout",
     "output_type": "stream",
     "text": [
      "Epoch: 1\n",
      "--------------- Train Loss: 0.6583, Train Accuracy: 0.7233, Val Loss: 0.4145, Val Accuracy: 0.8177\n"
     ]
    },
    {
     "name": "stderr",
     "output_type": "stream",
     "text": [
      " 20%|████████████████▌                                                                  | 2/10 [00:38<02:34, 19.28s/it]"
     ]
    },
    {
     "name": "stdout",
     "output_type": "stream",
     "text": [
      "Epoch: 2\n",
      "--------------- Train Loss: 0.3564, Train Accuracy: 0.8379, Val Loss: 0.3462, Val Accuracy: 0.8438\n"
     ]
    },
    {
     "name": "stderr",
     "output_type": "stream",
     "text": [
      " 30%|████████████████████████▉                                                          | 3/10 [00:58<02:15, 19.40s/it]"
     ]
    },
    {
     "name": "stdout",
     "output_type": "stream",
     "text": [
      "Epoch: 3\n",
      "--------------- Train Loss: 0.3106, Train Accuracy: 0.8544, Val Loss: 0.3257, Val Accuracy: 0.8564\n"
     ]
    },
    {
     "name": "stderr",
     "output_type": "stream",
     "text": [
      " 40%|█████████████████████████████████▏                                                 | 4/10 [01:18<01:59, 19.96s/it]"
     ]
    },
    {
     "name": "stdout",
     "output_type": "stream",
     "text": [
      "Epoch: 4\n",
      "--------------- Train Loss: 0.2819, Train Accuracy: 0.8648, Val Loss: 0.3303, Val Accuracy: 0.8487\n"
     ]
    },
    {
     "name": "stderr",
     "output_type": "stream",
     "text": [
      " 50%|█████████████████████████████████████████▌                                         | 5/10 [01:40<01:42, 20.46s/it]"
     ]
    },
    {
     "name": "stdout",
     "output_type": "stream",
     "text": [
      "Epoch: 5\n",
      "--------------- Train Loss: 0.2638, Train Accuracy: 0.8711, Val Loss: 0.3089, Val Accuracy: 0.8549\n"
     ]
    },
    {
     "name": "stderr",
     "output_type": "stream",
     "text": [
      " 60%|█████████████████████████████████████████████████▊                                 | 6/10 [02:01<01:22, 20.71s/it]"
     ]
    },
    {
     "name": "stdout",
     "output_type": "stream",
     "text": [
      "Epoch: 6\n",
      "--------------- Train Loss: 0.2462, Train Accuracy: 0.8782, Val Loss: 0.2962, Val Accuracy: 0.8664\n"
     ]
    },
    {
     "name": "stderr",
     "output_type": "stream",
     "text": [
      " 70%|██████████████████████████████████████████████████████████                         | 7/10 [02:22<01:02, 20.96s/it]"
     ]
    },
    {
     "name": "stdout",
     "output_type": "stream",
     "text": [
      "Epoch: 7\n",
      "--------------- Train Loss: 0.2335, Train Accuracy: 0.8853, Val Loss: 0.2817, Val Accuracy: 0.8701\n"
     ]
    },
    {
     "name": "stderr",
     "output_type": "stream",
     "text": [
      " 80%|██████████████████████████████████████████████████████████████████▍                | 8/10 [02:43<00:41, 20.95s/it]"
     ]
    },
    {
     "name": "stdout",
     "output_type": "stream",
     "text": [
      "Epoch: 8\n",
      "--------------- Train Loss: 0.2225, Train Accuracy: 0.8855, Val Loss: 0.3188, Val Accuracy: 0.8575\n"
     ]
    },
    {
     "name": "stderr",
     "output_type": "stream",
     "text": [
      " 90%|██████████████████████████████████████████████████████████████████████████▋        | 9/10 [03:03<00:20, 20.41s/it]"
     ]
    },
    {
     "name": "stdout",
     "output_type": "stream",
     "text": [
      "Epoch: 9\n",
      "--------------- Train Loss: 0.2109, Train Accuracy: 0.8895, Val Loss: 0.2773, Val Accuracy: 0.8722\n"
     ]
    },
    {
     "name": "stderr",
     "output_type": "stream",
     "text": [
      "100%|██████████████████████████████████████████████████████████████████████████████████| 10/10 [03:22<00:00, 20.29s/it]"
     ]
    },
    {
     "name": "stdout",
     "output_type": "stream",
     "text": [
      "Epoch: 10\n",
      "--------------- Train Loss: 0.2019, Train Accuracy: 0.8915, Val Loss: 0.2892, Val Accuracy: 0.8727\n"
     ]
    },
    {
     "name": "stderr",
     "output_type": "stream",
     "text": [
      "\n"
     ]
    }
   ],
   "source": [
    "P2_4_model = LeNet_P2_4(input_features=1,\n",
    "                        num_classes=10).to(\"cuda\")\n",
    "optimizer_gpu=torch.optim.SGD(params=P2_4_model.parameters(),\n",
    "                            lr=0.1)\n",
    "accuracy_fn_gpu = MulticlassAccuracy(num_classes=10).to(\"cuda\")\n",
    "P2_4_model_history = train(model=P2_4_model,\n",
    "                         train_dataloader=LeNet_trainLoader,\n",
    "                         val_dataloader=LeNet_valLoader,\n",
    "                         optim=optimizer_gpu,\n",
    "                         loss_fn=loss_fn,\n",
    "                         accuracy_fn=accuracy_fn_gpu,\n",
    "                         epochs=10,\n",
    "                         device=\"cuda\")"
   ]
  },
  {
   "cell_type": "code",
   "execution_count": 161,
   "id": "3ce981f1-87b8-42fd-bc55-583e3084c797",
   "metadata": {},
   "outputs": [
    {
     "data": {
      "image/png": "[encoded data removed]",
      "text/plain": [
       "<Figure size 640x480 with 1 Axes>"
      ]
     },
     "metadata": {},
     "output_type": "display_data"
    }
   ],
   "source": [
    "# P2_4 showed better training but began to overfit\n",
    "plot_history(P2_4_model_history)"
   ]
  },
  {
   "cell_type": "code",
   "execution_count": 162,
   "id": "60ad159b-d63f-4570-a975-578669575c69",
   "metadata": {},
   "outputs": [
    {
     "name": "stdout",
     "output_type": "stream",
     "text": [
      "Warning: module Flatten is treated as a zero-op.\n",
      "Warning: module LeNet_P2_4 is treated as a zero-op.\n",
      "LeNet_P2_4(\n",
      "  64.86 k, 100.000% Params, 439.04 KMac, 100.000% MACs, \n",
      "  (conv): Sequential(\n",
      "    2.57 k, 3.966% Params, 376.51 KMac, 85.758% MACs, \n",
      "    (0): Conv2d(156, 0.241% Params, 122.3 KMac, 27.857% MACs, 1, 6, kernel_size=(5, 5), stride=(1, 1), padding=(2, 2))\n",
      "    (1): ReLU(0, 0.000% Params, 4.7 KMac, 1.071% MACs, )\n",
      "    (2): MaxPool2d(0, 0.000% Params, 4.7 KMac, 1.071% MACs, kernel_size=2, stride=2, padding=0, dilation=1, ceil_mode=False)\n",
      "    (3): Conv2d(2.42 k, 3.725% Params, 241.6 KMac, 55.029% MACs, 6, 16, kernel_size=(5, 5), stride=(1, 1))\n",
      "    (4): ReLU(0, 0.000% Params, 1.6 KMac, 0.364% MACs, )\n",
      "    (5): MaxPool2d(0, 0.000% Params, 1.6 KMac, 0.364% MACs, kernel_size=2, stride=2, padding=0, dilation=1, ceil_mode=False)\n",
      "  )\n",
      "  (classifier): Sequential(\n",
      "    62.28 k, 96.034% Params, 62.53 KMac, 14.242% MACs, \n",
      "    (0): Flatten(0, 0.000% Params, 0.0 Mac, 0.000% MACs, start_dim=1, end_dim=-1)\n",
      "    (1): Linear(48.12 k, 74.195% Params, 48.12 KMac, 10.960% MACs, in_features=400, out_features=120, bias=True)\n",
      "    (2): ReLU(0, 0.000% Params, 120.0 Mac, 0.027% MACs, )\n",
      "    (3): Linear(10.16 k, 15.672% Params, 10.16 KMac, 2.315% MACs, in_features=120, out_features=84, bias=True)\n",
      "    (4): ReLU(0, 0.000% Params, 84.0 Mac, 0.019% MACs, )\n",
      "    (5): Linear(3.57 k, 5.505% Params, 3.57 KMac, 0.813% MACs, in_features=84, out_features=42, bias=True)\n",
      "    (6): ReLU(0, 0.000% Params, 42.0 Mac, 0.010% MACs, )\n",
      "    (7): Linear(430, 0.663% Params, 430.0 Mac, 0.098% MACs, in_features=42, out_features=10, bias=True)\n",
      "  )\n",
      ")\n",
      "Computational complexity:       439.04 KMac\n",
      "Number of parameters:           64.86 k \n"
     ]
    }
   ],
   "source": [
    "with torch.cuda.device(0):\n",
    "  macs, params = get_model_complexity_info(P2_4_model, (1, 28, 28), as_strings=True,\n",
    "                                           print_per_layer_stat=True, verbose=True)\n",
    "  print('{:<30}  {:<8}'.format('Computational complexity: ', macs))\n",
    "  print('{:<30}  {:<8}'.format('Number of parameters: ', params))"
   ]
  },
  {
   "cell_type": "markdown",
   "id": "74c2764e-728f-4888-ab39-4b23102ce4a9",
   "metadata": {},
   "source": [
    "### 5. Explore the learning rates"
   ]
  },
  {
   "cell_type": "code",
   "execution_count": 149,
   "id": "b2326090-504e-4660-a9af-946a289f5811",
   "metadata": {},
   "outputs": [
    {
     "name": "stderr",
     "output_type": "stream",
     "text": [
      "  5%|████▏                                                                              | 1/20 [00:21<06:50, 21.59s/it]"
     ]
    },
    {
     "name": "stdout",
     "output_type": "stream",
     "text": [
      "Epoch: 1\n",
      "--------------- Train Loss: 2.3014, Train Accuracy: 0.1077, Val Loss: 2.2941, Val Accuracy: 0.0962\n"
     ]
    },
    {
     "name": "stderr",
     "output_type": "stream",
     "text": [
      " 10%|████████▎                                                                          | 2/20 [00:43<06:31, 21.76s/it]"
     ]
    },
    {
     "name": "stdout",
     "output_type": "stream",
     "text": [
      "Epoch: 2\n",
      "--------------- Train Loss: 2.0975, Train Accuracy: 0.2720, Val Loss: 1.5970, Val Accuracy: 0.4767\n"
     ]
    },
    {
     "name": "stderr",
     "output_type": "stream",
     "text": [
      " 15%|████████████▍                                                                      | 3/20 [01:05<06:13, 21.98s/it]"
     ]
    },
    {
     "name": "stdout",
     "output_type": "stream",
     "text": [
      "Epoch: 3\n",
      "--------------- Train Loss: 1.2425, Train Accuracy: 0.5649, Val Loss: 1.0419, Val Accuracy: 0.6089\n"
     ]
    },
    {
     "name": "stderr",
     "output_type": "stream",
     "text": [
      " 20%|████████████████▌                                                                  | 4/20 [01:26<05:46, 21.67s/it]"
     ]
    },
    {
     "name": "stdout",
     "output_type": "stream",
     "text": [
      "Epoch: 4\n",
      "--------------- Train Loss: 0.9259, Train Accuracy: 0.6518, Val Loss: 0.8459, Val Accuracy: 0.6853\n"
     ]
    },
    {
     "name": "stderr",
     "output_type": "stream",
     "text": [
      " 25%|████████████████████▊                                                              | 5/20 [01:49<05:27, 21.87s/it]"
     ]
    },
    {
     "name": "stdout",
     "output_type": "stream",
     "text": [
      "Epoch: 5\n",
      "--------------- Train Loss: 0.7636, Train Accuracy: 0.7074, Val Loss: 0.7193, Val Accuracy: 0.7171\n"
     ]
    },
    {
     "name": "stderr",
     "output_type": "stream",
     "text": [
      " 30%|████████████████████████▉                                                          | 6/20 [02:10<05:02, 21.57s/it]"
     ]
    },
    {
     "name": "stdout",
     "output_type": "stream",
     "text": [
      "Epoch: 6\n",
      "--------------- Train Loss: 0.6618, Train Accuracy: 0.7333, Val Loss: 0.6478, Val Accuracy: 0.7392\n"
     ]
    },
    {
     "name": "stderr",
     "output_type": "stream",
     "text": [
      " 35%|█████████████████████████████                                                      | 7/20 [02:31<04:40, 21.54s/it]"
     ]
    },
    {
     "name": "stdout",
     "output_type": "stream",
     "text": [
      "Epoch: 7\n",
      "--------------- Train Loss: 0.5944, Train Accuracy: 0.7523, Val Loss: 0.5914, Val Accuracy: 0.7531\n"
     ]
    },
    {
     "name": "stderr",
     "output_type": "stream",
     "text": [
      " 40%|█████████████████████████████████▏                                                 | 8/20 [02:53<04:21, 21.81s/it]"
     ]
    },
    {
     "name": "stdout",
     "output_type": "stream",
     "text": [
      "Epoch: 8\n",
      "--------------- Train Loss: 0.5476, Train Accuracy: 0.7656, Val Loss: 0.5523, Val Accuracy: 0.7606\n"
     ]
    },
    {
     "name": "stderr",
     "output_type": "stream",
     "text": [
      " 45%|█████████████████████████████████████▎                                             | 9/20 [03:15<03:58, 21.72s/it]"
     ]
    },
    {
     "name": "stdout",
     "output_type": "stream",
     "text": [
      "Epoch: 9\n",
      "--------------- Train Loss: 0.5140, Train Accuracy: 0.7795, Val Loss: 0.5209, Val Accuracy: 0.7748\n"
     ]
    },
    {
     "name": "stderr",
     "output_type": "stream",
     "text": [
      " 50%|█████████████████████████████████████████                                         | 10/20 [03:36<03:34, 21.50s/it]"
     ]
    },
    {
     "name": "stdout",
     "output_type": "stream",
     "text": [
      "Epoch: 10\n",
      "--------------- Train Loss: 0.4871, Train Accuracy: 0.7938, Val Loss: 0.5007, Val Accuracy: 0.7945\n"
     ]
    },
    {
     "name": "stderr",
     "output_type": "stream",
     "text": [
      " 55%|█████████████████████████████████████████████                                     | 11/20 [03:58<03:13, 21.54s/it]"
     ]
    },
    {
     "name": "stdout",
     "output_type": "stream",
     "text": [
      "Epoch: 11\n",
      "--------------- Train Loss: 0.4639, Train Accuracy: 0.8052, Val Loss: 0.4884, Val Accuracy: 0.7924\n"
     ]
    },
    {
     "name": "stderr",
     "output_type": "stream",
     "text": [
      " 60%|█████████████████████████████████████████████████▏                                | 12/20 [04:19<02:50, 21.33s/it]"
     ]
    },
    {
     "name": "stdout",
     "output_type": "stream",
     "text": [
      "Epoch: 12\n",
      "--------------- Train Loss: 0.4445, Train Accuracy: 0.8134, Val Loss: 0.4639, Val Accuracy: 0.8095\n"
     ]
    },
    {
     "name": "stderr",
     "output_type": "stream",
     "text": [
      " 65%|█████████████████████████████████████████████████████▎                            | 13/20 [04:40<02:28, 21.26s/it]"
     ]
    },
    {
     "name": "stdout",
     "output_type": "stream",
     "text": [
      "Epoch: 13\n",
      "--------------- Train Loss: 0.4291, Train Accuracy: 0.8170, Val Loss: 0.4464, Val Accuracy: 0.8158\n"
     ]
    },
    {
     "name": "stderr",
     "output_type": "stream",
     "text": [
      " 70%|█████████████████████████████████████████████████████████▍                        | 14/20 [05:01<02:08, 21.37s/it]"
     ]
    },
    {
     "name": "stdout",
     "output_type": "stream",
     "text": [
      "Epoch: 14\n",
      "--------------- Train Loss: 0.4138, Train Accuracy: 0.8218, Val Loss: 0.4296, Val Accuracy: 0.8236\n"
     ]
    },
    {
     "name": "stderr",
     "output_type": "stream",
     "text": [
      " 75%|█████████████████████████████████████████████████████████████▌                    | 15/20 [05:22<01:45, 21.18s/it]"
     ]
    },
    {
     "name": "stdout",
     "output_type": "stream",
     "text": [
      "Epoch: 15\n",
      "--------------- Train Loss: 0.4007, Train Accuracy: 0.8276, Val Loss: 0.4159, Val Accuracy: 0.8222\n"
     ]
    },
    {
     "name": "stderr",
     "output_type": "stream",
     "text": [
      " 80%|█████████████████████████████████████████████████████████████████▌                | 16/20 [05:44<01:25, 21.34s/it]"
     ]
    },
    {
     "name": "stdout",
     "output_type": "stream",
     "text": [
      "Epoch: 16\n",
      "--------------- Train Loss: 0.3877, Train Accuracy: 0.8334, Val Loss: 0.4013, Val Accuracy: 0.8275\n"
     ]
    },
    {
     "name": "stderr",
     "output_type": "stream",
     "text": [
      " 85%|█████████████████████████████████████████████████████████████████████▋            | 17/20 [06:05<01:04, 21.36s/it]"
     ]
    },
    {
     "name": "stdout",
     "output_type": "stream",
     "text": [
      "Epoch: 17\n",
      "--------------- Train Loss: 0.3756, Train Accuracy: 0.8378, Val Loss: 0.4089, Val Accuracy: 0.8250\n"
     ]
    },
    {
     "name": "stderr",
     "output_type": "stream",
     "text": [
      " 90%|█████████████████████████████████████████████████████████████████████████▊        | 18/20 [06:26<00:42, 21.36s/it]"
     ]
    },
    {
     "name": "stdout",
     "output_type": "stream",
     "text": [
      "Epoch: 18\n",
      "--------------- Train Loss: 0.3641, Train Accuracy: 0.8414, Val Loss: 0.3890, Val Accuracy: 0.8352\n"
     ]
    },
    {
     "name": "stderr",
     "output_type": "stream",
     "text": [
      " 95%|█████████████████████████████████████████████████████████████████████████████▉    | 19/20 [06:47<00:21, 21.23s/it]"
     ]
    },
    {
     "name": "stdout",
     "output_type": "stream",
     "text": [
      "Epoch: 19\n",
      "--------------- Train Loss: 0.3541, Train Accuracy: 0.8422, Val Loss: 0.3738, Val Accuracy: 0.8363\n"
     ]
    },
    {
     "name": "stderr",
     "output_type": "stream",
     "text": [
      "100%|██████████████████████████████████████████████████████████████████████████████████| 20/20 [07:06<00:00, 21.35s/it]"
     ]
    },
    {
     "name": "stdout",
     "output_type": "stream",
     "text": [
      "Epoch: 20\n",
      "--------------- Train Loss: 0.3452, Train Accuracy: 0.8489, Val Loss: 0.3716, Val Accuracy: 0.8392\n"
     ]
    },
    {
     "name": "stderr",
     "output_type": "stream",
     "text": [
      "\n"
     ]
    }
   ],
   "source": [
    "# LR = 0.01\n",
    "# Assuming to use LeNet_modern for this part\n",
    "P2_5_model = LeNet_modern(input_features=1,\n",
    "                          num_classes=10).to(\"cuda\")\n",
    "# Decreased learning rate from 0.1 to 0.01\n",
    "optimizer_gpu=torch.optim.SGD(params=P2_5_model.parameters(),\n",
    "                            lr=0.01)\n",
    "# Increasing epochs due to smaller LR\n",
    "accuracy_fn_gpu = MulticlassAccuracy(num_classes=10).to(\"cuda\")\n",
    "P2_5_model_history = train(model=P2_5_model,\n",
    "                         train_dataloader=LeNet_trainLoader,\n",
    "                         val_dataloader=LeNet_valLoader,\n",
    "                         optim=optimizer_gpu,\n",
    "                         loss_fn=loss_fn,\n",
    "                         accuracy_fn=accuracy_fn_gpu,\n",
    "                         epochs=20,\n",
    "                         device=\"cuda\")"
   ]
  },
  {
   "cell_type": "code",
   "execution_count": 164,
   "id": "97d45e6d-8731-474a-8a13-db5ee3a5492d",
   "metadata": {},
   "outputs": [
    {
     "data": {
      "image/png": "[encoded data removed]",
      "text/plain": [
       "<Figure size 640x480 with 1 Axes>"
      ]
     },
     "metadata": {},
     "output_type": "display_data"
    }
   ],
   "source": [
    "plot_history(P2_5_model_history)"
   ]
  },
  {
   "cell_type": "code",
   "execution_count": 165,
   "id": "96b68119-b8a9-4201-8e7d-1d78b42edecb",
   "metadata": {},
   "outputs": [
    {
     "name": "stderr",
     "output_type": "stream",
     "text": [
      " 10%|████████▎                                                                          | 1/10 [00:21<03:16, 21.82s/it]"
     ]
    },
    {
     "name": "stdout",
     "output_type": "stream",
     "text": [
      "Epoch: 1\n",
      "--------------- Train Loss: 0.8327, Train Accuracy: 0.6600, Val Loss: 0.4520, Val Accuracy: 0.8061\n"
     ]
    },
    {
     "name": "stderr",
     "output_type": "stream",
     "text": [
      " 20%|████████████████▌                                                                  | 2/10 [00:41<02:45, 20.69s/it]"
     ]
    },
    {
     "name": "stdout",
     "output_type": "stream",
     "text": [
      "Epoch: 2\n",
      "--------------- Train Loss: 0.3974, Train Accuracy: 0.8249, Val Loss: 0.3847, Val Accuracy: 0.8269\n"
     ]
    },
    {
     "name": "stderr",
     "output_type": "stream",
     "text": [
      " 30%|████████████████████████▉                                                          | 3/10 [01:01<02:20, 20.07s/it]"
     ]
    },
    {
     "name": "stdout",
     "output_type": "stream",
     "text": [
      "Epoch: 3\n",
      "--------------- Train Loss: 0.3380, Train Accuracy: 0.8442, Val Loss: 0.3484, Val Accuracy: 0.8414\n"
     ]
    },
    {
     "name": "stderr",
     "output_type": "stream",
     "text": [
      " 40%|█████████████████████████████████▏                                                 | 4/10 [01:20<01:59, 19.98s/it]"
     ]
    },
    {
     "name": "stdout",
     "output_type": "stream",
     "text": [
      "Epoch: 4\n",
      "--------------- Train Loss: 0.3096, Train Accuracy: 0.8543, Val Loss: 0.3467, Val Accuracy: 0.8433\n"
     ]
    },
    {
     "name": "stderr",
     "output_type": "stream",
     "text": [
      " 50%|█████████████████████████████████████████▌                                         | 5/10 [01:41<01:40, 20.10s/it]"
     ]
    },
    {
     "name": "stdout",
     "output_type": "stream",
     "text": [
      "Epoch: 5\n",
      "--------------- Train Loss: 0.2905, Train Accuracy: 0.8573, Val Loss: 0.3153, Val Accuracy: 0.8565\n"
     ]
    },
    {
     "name": "stderr",
     "output_type": "stream",
     "text": [
      " 60%|█████████████████████████████████████████████████▊                                 | 6/10 [02:01<01:21, 20.31s/it]"
     ]
    },
    {
     "name": "stdout",
     "output_type": "stream",
     "text": [
      "Epoch: 6\n",
      "--------------- Train Loss: 0.2739, Train Accuracy: 0.8663, Val Loss: 0.3046, Val Accuracy: 0.8579\n"
     ]
    },
    {
     "name": "stderr",
     "output_type": "stream",
     "text": [
      " 70%|██████████████████████████████████████████████████████████                         | 7/10 [02:22<01:00, 20.27s/it]"
     ]
    },
    {
     "name": "stdout",
     "output_type": "stream",
     "text": [
      "Epoch: 7\n",
      "--------------- Train Loss: 0.2643, Train Accuracy: 0.8730, Val Loss: 0.2931, Val Accuracy: 0.8638\n"
     ]
    },
    {
     "name": "stderr",
     "output_type": "stream",
     "text": [
      " 80%|██████████████████████████████████████████████████████████████████▍                | 8/10 [02:43<00:41, 20.58s/it]"
     ]
    },
    {
     "name": "stdout",
     "output_type": "stream",
     "text": [
      "Epoch: 8\n",
      "--------------- Train Loss: 0.2581, Train Accuracy: 0.8721, Val Loss: 0.2934, Val Accuracy: 0.8658\n"
     ]
    },
    {
     "name": "stderr",
     "output_type": "stream",
     "text": [
      " 90%|██████████████████████████████████████████████████████████████████████████▋        | 9/10 [03:02<00:20, 20.17s/it]"
     ]
    },
    {
     "name": "stdout",
     "output_type": "stream",
     "text": [
      "Epoch: 9\n",
      "--------------- Train Loss: 0.2535, Train Accuracy: 0.8737, Val Loss: 0.2942, Val Accuracy: 0.8659\n"
     ]
    },
    {
     "name": "stderr",
     "output_type": "stream",
     "text": [
      "100%|██████████████████████████████████████████████████████████████████████████████████| 10/10 [03:23<00:00, 20.36s/it]"
     ]
    },
    {
     "name": "stdout",
     "output_type": "stream",
     "text": [
      "Epoch: 10\n",
      "--------------- Train Loss: 0.2478, Train Accuracy: 0.8749, Val Loss: 0.3070, Val Accuracy: 0.8603\n"
     ]
    },
    {
     "name": "stderr",
     "output_type": "stream",
     "text": [
      "\n"
     ]
    }
   ],
   "source": [
    "# LR = 0.2\n",
    "P2_5b_model = LeNet_modern(input_features=1,\n",
    "                          num_classes=10).to(\"cuda\")\n",
    "# Increased learning rate from 0.1 to 0.2\n",
    "optimizer_gpu=torch.optim.SGD(params=P2_5b_model.parameters(),\n",
    "                            lr=0.2)\n",
    "accuracy_fn_gpu = MulticlassAccuracy(num_classes=10).to(\"cuda\")\n",
    "P2_5b_model_history = train(model=P2_5b_model,\n",
    "                         train_dataloader=LeNet_trainLoader,\n",
    "                         val_dataloader=LeNet_valLoader,\n",
    "                         optim=optimizer_gpu,\n",
    "                         loss_fn=loss_fn,\n",
    "                         accuracy_fn=accuracy_fn_gpu,\n",
    "                         epochs=10,\n",
    "                         device=\"cuda\")"
   ]
  },
  {
   "cell_type": "code",
   "execution_count": 166,
   "id": "faf6932e-0089-4b0a-b55b-efe2f5ead8bb",
   "metadata": {},
   "outputs": [
    {
     "data": {
      "image/png": "[encoded data removed]",
      "text/plain": [
       "<Figure size 640x480 with 1 Axes>"
      ]
     },
     "metadata": {},
     "output_type": "display_data"
    }
   ],
   "source": [
    "plot_history(P2_5b_model_history)"
   ]
  },
  {
   "cell_type": "code",
   "execution_count": 167,
   "id": "92772a1b-4c40-4b60-b641-a1d9998972ee",
   "metadata": {},
   "outputs": [
    {
     "name": "stdout",
     "output_type": "stream",
     "text": [
      "Warning: module Flatten is treated as a zero-op.\n",
      "Warning: module Sigmoid is treated as a zero-op.\n",
      "Warning: module LeNet_modern is treated as a zero-op.\n",
      "LeNet_modern(\n",
      "  61.71 k, 100.000% Params, 435.65 KMac, 100.000% MACs, \n",
      "  (conv): Sequential(\n",
      "    2.57 k, 4.168% Params, 376.51 KMac, 86.426% MACs, \n",
      "    (0): Conv2d(156, 0.253% Params, 122.3 KMac, 28.074% MACs, 1, 6, kernel_size=(5, 5), stride=(1, 1), padding=(2, 2))\n",
      "    (1): ReLU(0, 0.000% Params, 4.7 KMac, 1.080% MACs, )\n",
      "    (2): MaxPool2d(0, 0.000% Params, 4.7 KMac, 1.080% MACs, kernel_size=2, stride=2, padding=0, dilation=1, ceil_mode=False)\n",
      "    (3): Conv2d(2.42 k, 3.915% Params, 241.6 KMac, 55.458% MACs, 6, 16, kernel_size=(5, 5), stride=(1, 1))\n",
      "    (4): ReLU(0, 0.000% Params, 1.6 KMac, 0.367% MACs, )\n",
      "    (5): MaxPool2d(0, 0.000% Params, 1.6 KMac, 0.367% MACs, kernel_size=2, stride=2, padding=0, dilation=1, ceil_mode=False)\n",
      "  )\n",
      "  (classifier): Sequential(\n",
      "    59.13 k, 95.832% Params, 59.13 KMac, 13.574% MACs, \n",
      "    (0): Flatten(0, 0.000% Params, 0.0 Mac, 0.000% MACs, start_dim=1, end_dim=-1)\n",
      "    (1): Linear(48.12 k, 77.983% Params, 48.12 KMac, 11.046% MACs, in_features=400, out_features=120, bias=True)\n",
      "    (2): Sigmoid(0, 0.000% Params, 0.0 Mac, 0.000% MACs, )\n",
      "    (3): Linear(10.16 k, 16.472% Params, 10.16 KMac, 2.333% MACs, in_features=120, out_features=84, bias=True)\n",
      "    (4): Sigmoid(0, 0.000% Params, 0.0 Mac, 0.000% MACs, )\n",
      "    (5): Linear(850, 1.377% Params, 850.0 Mac, 0.195% MACs, in_features=84, out_features=10, bias=True)\n",
      "  )\n",
      ")\n",
      "Computational complexity:       435.65 KMac\n",
      "Number of parameters:           61.71 k \n"
     ]
    }
   ],
   "source": [
    "with torch.cuda.device(0):\n",
    "  macs, params = get_model_complexity_info(P2_5b_model, (1, 28, 28), as_strings=True,\n",
    "                                           print_per_layer_stat=True, verbose=True)\n",
    "  print('{:<30}  {:<8}'.format('Computational complexity: ', macs))\n",
    "  print('{:<30}  {:<8}'.format('Number of parameters: ', params))"
   ]
  },
  {
   "cell_type": "markdown",
   "id": "d6458ce4-91e7-4825-a3c0-c2a8c07b674a",
   "metadata": {
    "jp-MarkdownHeadingCollapsed": true,
    "tags": []
   },
   "source": [
    "## Problem 3: Apply dropout on best performing model"
   ]
  },
  {
   "cell_type": "code",
   "execution_count": 171,
   "id": "b4f0d6fd-93ef-4189-9687-577f143babb5",
   "metadata": {},
   "outputs": [],
   "source": [
    "# P2_4 model performed the best, so dropout will be added\n",
    "class LeNet_P3(nn.Module):\n",
    "    def __init__(self, input_features: int, num_classes):\n",
    "        super().__init__()\n",
    "        self.conv = nn.Sequential(\n",
    "            nn.Conv2d(input_features, 6, kernel_size=5, padding=2), # 28 + (2*2(padding)) - (5(kernelSize)-1) = 28\n",
    "            nn.ReLU(),\n",
    "            nn.MaxPool2d(kernel_size=2, stride=2), # 28 / 2 = 14\n",
    "            nn.Dropout2d(0.4),\n",
    "            nn.Conv2d(6, 16, kernel_size=5), # 14 - (5-1) = 10\n",
    "            nn.ReLU(),\n",
    "            nn.MaxPool2d(kernel_size=2, stride=2), # 10 / 2 = 5\n",
    "            nn.Dropout2d(0.4)\n",
    "        )\n",
    "        self.classifier = nn.Sequential(\n",
    "            nn.Flatten(),\n",
    "            nn.Linear(16*5*5, 120), nn.Dropout(0.3), nn.ReLU(),\n",
    "            nn.Linear(120, 84), nn.Dropout(0.3), nn.ReLU(),\n",
    "            nn.Linear(84, int(84/2)), nn.Dropout(0.3), nn.ReLU(),\n",
    "            nn.Linear(int(84/2), num_classes)\n",
    "        )\n",
    "    def forward(self, x):\n",
    "        x = self.conv(x)\n",
    "        x = self.classifier(x)\n",
    "        return x"
   ]
  },
  {
   "cell_type": "code",
   "execution_count": 173,
   "id": "eff5d964-937e-4bd6-8e6d-2289a6699e4d",
   "metadata": {},
   "outputs": [
    {
     "name": "stderr",
     "output_type": "stream",
     "text": [
      " 10%|████████▎                                                                          | 1/10 [00:21<03:13, 21.54s/it]"
     ]
    },
    {
     "name": "stdout",
     "output_type": "stream",
     "text": [
      "Epoch: 1\n",
      "--------------- Train Loss: 1.0198, Train Accuracy: 0.5966, Val Loss: 0.5656, Val Accuracy: 0.7506\n"
     ]
    },
    {
     "name": "stderr",
     "output_type": "stream",
     "text": [
      " 20%|████████████████▌                                                                  | 2/10 [00:43<02:52, 21.52s/it]"
     ]
    },
    {
     "name": "stdout",
     "output_type": "stream",
     "text": [
      "Epoch: 2\n",
      "--------------- Train Loss: 0.6889, Train Accuracy: 0.7273, Val Loss: 0.5044, Val Accuracy: 0.7710\n"
     ]
    },
    {
     "name": "stderr",
     "output_type": "stream",
     "text": [
      " 30%|████████████████████████▉                                                          | 3/10 [01:05<02:32, 21.78s/it]"
     ]
    },
    {
     "name": "stdout",
     "output_type": "stream",
     "text": [
      "Epoch: 3\n",
      "--------------- Train Loss: 0.6204, Train Accuracy: 0.7553, Val Loss: 0.4459, Val Accuracy: 0.8073\n"
     ]
    },
    {
     "name": "stderr",
     "output_type": "stream",
     "text": [
      " 40%|█████████████████████████████████▏                                                 | 4/10 [01:26<02:09, 21.59s/it]"
     ]
    },
    {
     "name": "stdout",
     "output_type": "stream",
     "text": [
      "Epoch: 4\n",
      "--------------- Train Loss: 0.5839, Train Accuracy: 0.7690, Val Loss: 0.4235, Val Accuracy: 0.8186\n"
     ]
    },
    {
     "name": "stderr",
     "output_type": "stream",
     "text": [
      " 50%|█████████████████████████████████████████▌                                         | 5/10 [01:49<01:49, 21.97s/it]"
     ]
    },
    {
     "name": "stdout",
     "output_type": "stream",
     "text": [
      "Epoch: 5\n",
      "--------------- Train Loss: 0.5663, Train Accuracy: 0.7750, Val Loss: 0.4090, Val Accuracy: 0.8210\n"
     ]
    },
    {
     "name": "stderr",
     "output_type": "stream",
     "text": [
      " 60%|█████████████████████████████████████████████████▊                                 | 6/10 [02:11<01:27, 21.96s/it]"
     ]
    },
    {
     "name": "stdout",
     "output_type": "stream",
     "text": [
      "Epoch: 6\n",
      "--------------- Train Loss: 0.5438, Train Accuracy: 0.7823, Val Loss: 0.4074, Val Accuracy: 0.8183\n"
     ]
    },
    {
     "name": "stderr",
     "output_type": "stream",
     "text": [
      " 70%|██████████████████████████████████████████████████████████                         | 7/10 [02:33<01:05, 21.99s/it]"
     ]
    },
    {
     "name": "stdout",
     "output_type": "stream",
     "text": [
      "Epoch: 7\n",
      "--------------- Train Loss: 0.5440, Train Accuracy: 0.7831, Val Loss: 0.3969, Val Accuracy: 0.8256\n"
     ]
    },
    {
     "name": "stderr",
     "output_type": "stream",
     "text": [
      " 80%|██████████████████████████████████████████████████████████████████▍                | 8/10 [02:54<00:43, 21.97s/it]"
     ]
    },
    {
     "name": "stdout",
     "output_type": "stream",
     "text": [
      "Epoch: 8\n",
      "--------------- Train Loss: 0.5374, Train Accuracy: 0.7855, Val Loss: 0.3965, Val Accuracy: 0.8177\n"
     ]
    },
    {
     "name": "stderr",
     "output_type": "stream",
     "text": [
      " 90%|██████████████████████████████████████████████████████████████████████████▋        | 9/10 [03:16<00:21, 21.91s/it]"
     ]
    },
    {
     "name": "stdout",
     "output_type": "stream",
     "text": [
      "Epoch: 9\n",
      "--------------- Train Loss: 0.5306, Train Accuracy: 0.7882, Val Loss: 0.3896, Val Accuracy: 0.8171\n"
     ]
    },
    {
     "name": "stderr",
     "output_type": "stream",
     "text": [
      "100%|██████████████████████████████████████████████████████████████████████████████████| 10/10 [03:39<00:00, 21.93s/it]"
     ]
    },
    {
     "name": "stdout",
     "output_type": "stream",
     "text": [
      "Epoch: 10\n",
      "--------------- Train Loss: 0.5297, Train Accuracy: 0.7897, Val Loss: 0.3771, Val Accuracy: 0.8333\n"
     ]
    },
    {
     "name": "stderr",
     "output_type": "stream",
     "text": [
      "\n"
     ]
    }
   ],
   "source": [
    "P3_model = LeNet_P3(input_features=1,\n",
    "                    num_classes=10).to(\"cuda\")\n",
    "optimizer_gpu=torch.optim.SGD(params=P3_model.parameters(),\n",
    "                            lr=0.1)\n",
    "accuracy_fn_gpu = MulticlassAccuracy(num_classes=10).to(\"cuda\")\n",
    "P3_model_history = train(model=P3_model,\n",
    "                         train_dataloader=LeNet_trainLoader,\n",
    "                         val_dataloader=LeNet_valLoader,\n",
    "                         optim=optimizer_gpu,\n",
    "                         loss_fn=loss_fn,\n",
    "                         accuracy_fn=accuracy_fn_gpu,\n",
    "                         epochs=10,\n",
    "                         device=\"cuda\")"
   ]
  },
  {
   "cell_type": "code",
   "execution_count": 174,
   "id": "f4441229-fd0c-427b-a7fa-2592c9b93d04",
   "metadata": {},
   "outputs": [
    {
     "data": {
      "image/png": "[encoded data removed]",
      "text/plain": [
       "<Figure size 640x480 with 1 Axes>"
      ]
     },
     "metadata": {},
     "output_type": "display_data"
    }
   ],
   "source": [
    "plot_history(P3_model_history)"
   ]
  },
  {
   "cell_type": "markdown",
   "id": "3f96ea8b-6310-4985-a952-7b775f33c250",
   "metadata": {},
   "source": [
    "The dropout version does not perform as well as the best performing model of Problem 2. The generalization gap is steadily decreasing in the dropout version, but the val accuracy is behind by 4% and wouldn't increase with more epochs."
   ]
  },
  {
   "cell_type": "markdown",
   "id": "8a72065d-684c-4a71-ad6e-56c44d4f6595",
   "metadata": {
    "jp-MarkdownHeadingCollapsed": true,
    "tags": []
   },
   "source": [
    "## Problem 4: AlexNet Adaptation for FashionMNIST"
   ]
  },
  {
   "cell_type": "code",
   "execution_count": 185,
   "id": "6a8e5dec-4721-408b-80b8-c85695716c32",
   "metadata": {},
   "outputs": [],
   "source": [
    "class AlexNet_small(nn.Module):\n",
    "    def __init__(self, input_features: int, num_classes):\n",
    "        super().__init__()\n",
    "        self.conv = nn.Sequential(\n",
    "            nn.Conv2d(input_features, 96, kernel_size=9, padding=2), # 28 + (2*2(padding)) - (9(kernelSize)-1) = 24\n",
    "            nn.ReLU(), nn.MaxPool2d(kernel_size=2, stride=2), # 24 / 2 = 6\n",
    "            nn.Conv2d(96, 256, kernel_size=5, padding=2), # 14 + (2*3) - (5-1) = 16\n",
    "            nn.ReLU(), nn.MaxPool2d(kernel_size=2, stride=2), # 14 / 2 = 8\n",
    "            nn.Conv2d(256, 384, kernel_size=2, padding=1), nn.ReLU(),\n",
    "            nn.Conv2d(384, 384, kernel_size=2, padding=1), nn.ReLU(),\n",
    "            nn.Conv2d(384, 256, kernel_size=2, padding=1), nn.ReLU(),\n",
    "            nn.MaxPool2d(kernel_size=2, stride=2) # 8 / 2 = 4\n",
    "        )\n",
    "        self.classifier = nn.Sequential(\n",
    "            nn.Flatten(),\n",
    "            nn.Linear(256*4*4, 920), nn.ReLU(), nn.Dropout(p=0.5),\n",
    "            nn.Linear(920, int(920/2)), nn.ReLU(), nn.Dropout(p=0.5),\n",
    "            nn.Linear(int(920/2), num_classes)\n",
    "        )\n",
    "    def forward(self, x):\n",
    "        x = self.conv(x)\n",
    "        x = self.classifier(x)\n",
    "        return x"
   ]
  },
  {
   "cell_type": "code",
   "execution_count": 186,
   "id": "47a58289-239f-4f95-9dea-966eb45d959f",
   "metadata": {},
   "outputs": [
    {
     "name": "stderr",
     "output_type": "stream",
     "text": [
      " 10%|████████▎                                                                          | 1/10 [00:24<03:37, 24.17s/it]"
     ]
    },
    {
     "name": "stdout",
     "output_type": "stream",
     "text": [
      "Epoch: 1\n",
      "--------------- Train Loss: 0.7683, Train Accuracy: 0.6874, Val Loss: 0.3917, Val Accuracy: 0.8261\n"
     ]
    },
    {
     "name": "stderr",
     "output_type": "stream",
     "text": [
      " 20%|████████████████▌                                                                  | 2/10 [00:48<03:12, 24.05s/it]"
     ]
    },
    {
     "name": "stdout",
     "output_type": "stream",
     "text": [
      "Epoch: 2\n",
      "--------------- Train Loss: 0.3797, Train Accuracy: 0.8317, Val Loss: 0.3291, Val Accuracy: 0.8524\n"
     ]
    },
    {
     "name": "stderr",
     "output_type": "stream",
     "text": [
      " 30%|████████████████████████▉                                                          | 3/10 [01:11<02:46, 23.80s/it]"
     ]
    },
    {
     "name": "stdout",
     "output_type": "stream",
     "text": [
      "Epoch: 3\n",
      "--------------- Train Loss: 0.3101, Train Accuracy: 0.8564, Val Loss: 0.3088, Val Accuracy: 0.8585\n"
     ]
    },
    {
     "name": "stderr",
     "output_type": "stream",
     "text": [
      " 40%|█████████████████████████████████▏                                                 | 4/10 [01:35<02:23, 23.92s/it]"
     ]
    },
    {
     "name": "stdout",
     "output_type": "stream",
     "text": [
      "Epoch: 4\n",
      "--------------- Train Loss: 0.2740, Train Accuracy: 0.8675, Val Loss: 0.2911, Val Accuracy: 0.8634\n"
     ]
    },
    {
     "name": "stderr",
     "output_type": "stream",
     "text": [
      " 50%|█████████████████████████████████████████▌                                         | 5/10 [01:59<01:59, 23.96s/it]"
     ]
    },
    {
     "name": "stdout",
     "output_type": "stream",
     "text": [
      "Epoch: 5\n",
      "--------------- Train Loss: 0.2442, Train Accuracy: 0.8797, Val Loss: 0.3048, Val Accuracy: 0.8603\n"
     ]
    },
    {
     "name": "stderr",
     "output_type": "stream",
     "text": [
      " 60%|█████████████████████████████████████████████████▊                                 | 6/10 [02:23<01:35, 23.98s/it]"
     ]
    },
    {
     "name": "stdout",
     "output_type": "stream",
     "text": [
      "Epoch: 6\n",
      "--------------- Train Loss: 0.2239, Train Accuracy: 0.8865, Val Loss: 0.2905, Val Accuracy: 0.8670\n"
     ]
    },
    {
     "name": "stderr",
     "output_type": "stream",
     "text": [
      " 70%|██████████████████████████████████████████████████████████                         | 7/10 [02:47<01:11, 23.97s/it]"
     ]
    },
    {
     "name": "stdout",
     "output_type": "stream",
     "text": [
      "Epoch: 7\n",
      "--------------- Train Loss: 0.2023, Train Accuracy: 0.8924, Val Loss: 0.2622, Val Accuracy: 0.8784\n"
     ]
    },
    {
     "name": "stderr",
     "output_type": "stream",
     "text": [
      " 80%|██████████████████████████████████████████████████████████████████▍                | 8/10 [03:11<00:48, 24.02s/it]"
     ]
    },
    {
     "name": "stdout",
     "output_type": "stream",
     "text": [
      "Epoch: 8\n",
      "--------------- Train Loss: 0.1847, Train Accuracy: 0.8993, Val Loss: 0.2540, Val Accuracy: 0.8814\n"
     ]
    },
    {
     "name": "stderr",
     "output_type": "stream",
     "text": [
      " 90%|██████████████████████████████████████████████████████████████████████████▋        | 9/10 [03:36<00:24, 24.11s/it]"
     ]
    },
    {
     "name": "stdout",
     "output_type": "stream",
     "text": [
      "Epoch: 9\n",
      "--------------- Train Loss: 0.1723, Train Accuracy: 0.9045, Val Loss: 0.2621, Val Accuracy: 0.8800\n"
     ]
    },
    {
     "name": "stderr",
     "output_type": "stream",
     "text": [
      "100%|██████████████████████████████████████████████████████████████████████████████████| 10/10 [04:00<00:00, 24.01s/it]"
     ]
    },
    {
     "name": "stdout",
     "output_type": "stream",
     "text": [
      "Epoch: 10\n",
      "--------------- Train Loss: 0.1597, Train Accuracy: 0.9086, Val Loss: 0.2688, Val Accuracy: 0.8787\n"
     ]
    },
    {
     "name": "stderr",
     "output_type": "stream",
     "text": [
      "\n"
     ]
    }
   ],
   "source": [
    "P4_model = AlexNet_small(input_features=1,\n",
    "                    num_classes=10).to(\"cuda\")\n",
    "optimizer_gpu=torch.optim.SGD(params=P4_model.parameters(),\n",
    "                            lr=0.1)\n",
    "accuracy_fn_gpu = MulticlassAccuracy(num_classes=10).to(\"cuda\")\n",
    "P4_model_history = train(model=P4_model,\n",
    "                         train_dataloader=LeNet_trainLoader,\n",
    "                         val_dataloader=LeNet_valLoader,\n",
    "                         optim=optimizer_gpu,\n",
    "                         loss_fn=loss_fn,\n",
    "                         accuracy_fn=accuracy_fn_gpu,\n",
    "                         epochs=10,\n",
    "                         device=\"cuda\")"
   ]
  },
  {
   "cell_type": "code",
   "execution_count": 187,
   "id": "8af60d7e-650f-470d-8aad-13d393e68c48",
   "metadata": {},
   "outputs": [
    {
     "data": {
      "image/png": "[encoded data removed]",
      "text/plain": [
       "<Figure size 640x480 with 1 Axes>"
      ]
     },
     "metadata": {},
     "output_type": "display_data"
    }
   ],
   "source": [
    "plot_history(P4_model_history)"
   ]
  },
  {
   "cell_type": "markdown",
   "id": "89cc7a73-07cd-453f-9a8d-1313f834d3ca",
   "metadata": {},
   "source": [
    "AlexNet_small performed slightly better than the previous models tested, but at a cost of computational complexity and parameter size. Due to the increased size of the model, it would be better to design a less complex model"
   ]
  },
  {
   "cell_type": "code",
   "execution_count": 188,
   "id": "96a262ed-0e49-407b-8312-d326c335f765",
   "metadata": {},
   "outputs": [
    {
     "name": "stdout",
     "output_type": "stream",
     "text": [
      "Warning: module Flatten is treated as a zero-op.\n",
      "Warning: module Dropout is treated as a zero-op.\n",
      "Warning: module AlexNet_small is treated as a zero-op.\n",
      "AlexNet_small(\n",
      "  6.2 M, 100.000% Params, 186.44 MMac, 100.000% MACs, \n",
      "  (conv): Sequential(\n",
      "    2.0 M, 32.269% Params, 182.24 MMac, 97.748% MACs, \n",
      "    (0): Conv2d(7.87 k, 0.127% Params, 4.53 MMac, 2.432% MACs, 1, 96, kernel_size=(9, 9), stride=(1, 1), padding=(2, 2))\n",
      "    (1): ReLU(0, 0.000% Params, 55.3 KMac, 0.030% MACs, )\n",
      "    (2): MaxPool2d(0, 0.000% Params, 55.3 KMac, 0.030% MACs, kernel_size=2, stride=2, padding=0, dilation=1, ceil_mode=False)\n",
      "    (3): Conv2d(614.66 k, 9.918% Params, 88.51 MMac, 47.473% MACs, 96, 256, kernel_size=(5, 5), stride=(1, 1), padding=(2, 2))\n",
      "    (4): ReLU(0, 0.000% Params, 36.86 KMac, 0.020% MACs, )\n",
      "    (5): MaxPool2d(0, 0.000% Params, 36.86 KMac, 0.020% MACs, kernel_size=2, stride=2, padding=0, dilation=1, ceil_mode=False)\n",
      "    (6): Conv2d(393.6 k, 6.351% Params, 19.29 MMac, 10.344% MACs, 256, 384, kernel_size=(2, 2), stride=(1, 1), padding=(1, 1))\n",
      "    (7): ReLU(0, 0.000% Params, 18.82 KMac, 0.010% MACs, )\n",
      "    (8): Conv2d(590.21 k, 9.524% Params, 37.77 MMac, 20.260% MACs, 384, 384, kernel_size=(2, 2), stride=(1, 1), padding=(1, 1))\n",
      "    (9): ReLU(0, 0.000% Params, 24.58 KMac, 0.013% MACs, )\n",
      "    (10): Conv2d(393.47 k, 6.349% Params, 31.87 MMac, 17.094% MACs, 384, 256, kernel_size=(2, 2), stride=(1, 1), padding=(1, 1))\n",
      "    (11): ReLU(0, 0.000% Params, 20.74 KMac, 0.011% MACs, )\n",
      "    (12): MaxPool2d(0, 0.000% Params, 20.74 KMac, 0.011% MACs, kernel_size=2, stride=2, padding=0, dilation=1, ceil_mode=False)\n",
      "  )\n",
      "  (classifier): Sequential(\n",
      "    4.2 M, 67.731% Params, 4.2 MMac, 2.252% MACs, \n",
      "    (0): Flatten(0, 0.000% Params, 0.0 Mac, 0.000% MACs, start_dim=1, end_dim=-1)\n",
      "    (1): Linear(3.77 M, 60.821% Params, 3.77 MMac, 2.022% MACs, in_features=4096, out_features=920, bias=True)\n",
      "    (2): ReLU(0, 0.000% Params, 920.0 Mac, 0.000% MACs, )\n",
      "    (3): Dropout(0, 0.000% Params, 0.0 Mac, 0.000% MACs, p=0.5, inplace=False)\n",
      "    (4): Linear(423.66 k, 6.836% Params, 423.66 KMac, 0.227% MACs, in_features=920, out_features=460, bias=True)\n",
      "    (5): ReLU(0, 0.000% Params, 460.0 Mac, 0.000% MACs, )\n",
      "    (6): Dropout(0, 0.000% Params, 0.0 Mac, 0.000% MACs, p=0.5, inplace=False)\n",
      "    (7): Linear(4.61 k, 0.074% Params, 4.61 KMac, 0.002% MACs, in_features=460, out_features=10, bias=True)\n",
      "  )\n",
      ")\n",
      "Computational complexity:       186.44 MMac\n",
      "Number of parameters:           6.2 M   \n"
     ]
    }
   ],
   "source": [
    "with torch.cuda.device(0):\n",
    "  macs, params = get_model_complexity_info(P4_model, (1, 28, 28), as_strings=True,\n",
    "                                           print_per_layer_stat=True, verbose=True)\n",
    "  print('{:<30}  {:<8}'.format('Computational complexity: ', macs))\n",
    "  print('{:<30}  {:<8}'.format('Number of parameters: ', params))"
   ]
  },
  {
   "cell_type": "markdown",
   "id": "e896e0b0-14b4-48e7-8048-c46a10081b72",
   "metadata": {
    "tags": []
   },
   "source": [
    "## Problem 5: Design better model for 28x28 image training, beating revised AlexNet accuracy while keeping lower theoretical complexity"
   ]
  },
  {
   "cell_type": "code",
   "execution_count": 220,
   "id": "5dc2cc61-d09e-45c1-b942-bb698be29f3d",
   "metadata": {},
   "outputs": [],
   "source": [
    "# Smaller version of VGG\n",
    "class VGG_s(nn.Module):\n",
    "    def __init__(self, input_features: int,\n",
    "                 hidden_outputs: int,\n",
    "                 num_classes: int):\n",
    "        super().__init__()\n",
    "        self.conv_block1 = nn.Sequential(\n",
    "            nn.Conv2d(input_features, hidden_outputs, # 28\n",
    "                      kernel_size=3,\n",
    "                      padding=1),\n",
    "            nn.ReLU(),\n",
    "            nn.Conv2d(hidden_outputs, hidden_outputs, kernel_size=3, padding=1), # 28\n",
    "            nn.ReLU(),\n",
    "            nn.MaxPool2d(kernel_size=2, stride=2) # 28/2 = 14\n",
    "        )\n",
    "        self.conv_block2 = nn.Sequential(\n",
    "            nn.Conv2d(hidden_outputs, hidden_outputs*2, kernel_size=3, padding=1), # 14\n",
    "            nn.ReLU(),\n",
    "            nn.Conv2d(hidden_outputs*2, hidden_outputs*2, kernel_size=3, padding=1), # 14\n",
    "            nn.ReLU(),\n",
    "            nn.MaxPool2d(kernel_size=2) # 14/2 = 7\n",
    "        )\n",
    "        self.classifier = nn.Sequential(\n",
    "            nn.Flatten(),\n",
    "            nn.Linear((hidden_outputs*2)*7*7, int((hidden_outputs*2*7*7)/2)), nn.ReLU(),\n",
    "            nn.Linear(int((hidden_outputs*2*7*7)/2), int(((hidden_outputs*2*7*7)/2)/2)), nn.ReLU(),\n",
    "            nn.Linear(int(((hidden_outputs*2*7*7)/2)/2), num_classes),\n",
    "            nn.Softmax(dim=1)\n",
    "        )\n",
    "    def forward(self, x):\n",
    "        x = self.conv_block1(x)\n",
    "        x = self.conv_block2(x)\n",
    "        x = self.classifier(x)\n",
    "        return x"
   ]
  },
  {
   "cell_type": "code",
   "execution_count": 223,
   "id": "9a2f5061-101e-402b-bf5e-7d13f0705e85",
   "metadata": {},
   "outputs": [
    {
     "name": "stdout",
     "output_type": "stream",
     "text": [
      "Warning: module Flatten is treated as a zero-op.\n",
      "Warning: module Softmax is treated as a zero-op.\n",
      "Warning: module VGG_s is treated as a zero-op.\n",
      "VGG_s(\n",
      "  1.19 M, 100.000% Params, 4.82 MMac, 100.000% MACs, \n",
      "  (conv_block1): Sequential(\n",
      "    1.92 k, 0.161% Params, 1.54 MMac, 31.877% MACs, \n",
      "    (0): Conv2d(140, 0.012% Params, 109.76 KMac, 2.277% MACs, 1, 14, kernel_size=(3, 3), stride=(1, 1), padding=(1, 1))\n",
      "    (1): ReLU(0, 0.000% Params, 10.98 KMac, 0.228% MACs, )\n",
      "    (2): Conv2d(1.78 k, 0.149% Params, 1.39 MMac, 28.917% MACs, 14, 14, kernel_size=(3, 3), stride=(1, 1), padding=(1, 1))\n",
      "    (3): ReLU(0, 0.000% Params, 10.98 KMac, 0.228% MACs, )\n",
      "    (4): MaxPool2d(0, 0.000% Params, 10.98 KMac, 0.228% MACs, kernel_size=2, stride=2, padding=0, dilation=1, ceil_mode=False)\n",
      "  )\n",
      "  (conv_block2): Sequential(\n",
      "    10.64 k, 0.891% Params, 2.1 MMac, 43.603% MACs, \n",
      "    (0): Conv2d(3.56 k, 0.298% Params, 696.98 KMac, 14.458% MACs, 14, 28, kernel_size=(3, 3), stride=(1, 1), padding=(1, 1))\n",
      "    (1): ReLU(0, 0.000% Params, 5.49 KMac, 0.114% MACs, )\n",
      "    (2): Conv2d(7.08 k, 0.594% Params, 1.39 MMac, 28.803% MACs, 28, 28, kernel_size=(3, 3), stride=(1, 1), padding=(1, 1))\n",
      "    (3): ReLU(0, 0.000% Params, 5.49 KMac, 0.114% MACs, )\n",
      "    (4): MaxPool2d(0, 0.000% Params, 5.49 KMac, 0.114% MACs, kernel_size=2, stride=2, padding=0, dilation=1, ceil_mode=False)\n",
      "  )\n",
      "  (classifier): Sequential(\n",
      "    1.18 M, 98.948% Params, 1.18 MMac, 24.520% MACs, \n",
      "    (0): Flatten(0, 0.000% Params, 0.0 Mac, 0.000% MACs, start_dim=1, end_dim=-1)\n",
      "    (1): Linear(941.88 k, 78.916% Params, 941.88 KMac, 19.539% MACs, in_features=1372, out_features=686, bias=True)\n",
      "    (2): ReLU(0, 0.000% Params, 686.0 Mac, 0.014% MACs, )\n",
      "    (3): Linear(235.64 k, 19.743% Params, 235.64 KMac, 4.888% MACs, in_features=686, out_features=343, bias=True)\n",
      "    (4): ReLU(0, 0.000% Params, 343.0 Mac, 0.007% MACs, )\n",
      "    (5): Linear(3.44 k, 0.288% Params, 3.44 KMac, 0.071% MACs, in_features=343, out_features=10, bias=True)\n",
      "    (6): Softmax(0, 0.000% Params, 0.0 Mac, 0.000% MACs, dim=1)\n",
      "  )\n",
      ")\n",
      "Computational complexity:       4.82 MMac\n",
      "Number of parameters:           1.19 M  \n"
     ]
    }
   ],
   "source": [
    "P5_model = VGG_s(input_features=1,\n",
    "                 hidden_outputs=14,\n",
    "                 num_classes=10).to(\"cuda\")\n",
    "with torch.cuda.device(0):\n",
    "  macs, params = get_model_complexity_info(P5_model, (1, 28, 28), as_strings=True,\n",
    "                                           print_per_layer_stat=True, verbose=True)\n",
    "  print('{:<30}  {:<8}'.format('Computational complexity: ', macs))\n",
    "  print('{:<30}  {:<8}'.format('Number of parameters: ', params))"
   ]
  },
  {
   "cell_type": "code",
   "execution_count": 224,
   "id": "4866230b-1d08-451f-8da7-da4883a7316c",
   "metadata": {},
   "outputs": [
    {
     "name": "stderr",
     "output_type": "stream",
     "text": [
      " 10%|████████▎                                                                          | 1/10 [00:19<02:57, 19.75s/it]"
     ]
    },
    {
     "name": "stdout",
     "output_type": "stream",
     "text": [
      "Epoch: 1\n",
      "--------------- Train Loss: 1.9334, Train Accuracy: 0.5257, Val Loss: 1.7225, Val Accuracy: 0.7179\n"
     ]
    },
    {
     "name": "stderr",
     "output_type": "stream",
     "text": [
      " 20%|████████████████▌                                                                  | 2/10 [00:40<02:42, 20.35s/it]"
     ]
    },
    {
     "name": "stdout",
     "output_type": "stream",
     "text": [
      "Epoch: 2\n",
      "--------------- Train Loss: 1.7034, Train Accuracy: 0.7330, Val Loss: 1.6856, Val Accuracy: 0.7496\n"
     ]
    },
    {
     "name": "stderr",
     "output_type": "stream",
     "text": [
      " 30%|████████████████████████▉                                                          | 3/10 [01:00<02:21, 20.24s/it]"
     ]
    },
    {
     "name": "stdout",
     "output_type": "stream",
     "text": [
      "Epoch: 3\n",
      "--------------- Train Loss: 1.6712, Train Accuracy: 0.7636, Val Loss: 1.6664, Val Accuracy: 0.7688\n"
     ]
    },
    {
     "name": "stderr",
     "output_type": "stream",
     "text": [
      " 40%|█████████████████████████████████▏                                                 | 4/10 [01:21<02:02, 20.34s/it]"
     ]
    },
    {
     "name": "stdout",
     "output_type": "stream",
     "text": [
      "Epoch: 4\n",
      "--------------- Train Loss: 1.6550, Train Accuracy: 0.7778, Val Loss: 1.6403, Val Accuracy: 0.7934\n"
     ]
    },
    {
     "name": "stderr",
     "output_type": "stream",
     "text": [
      " 50%|█████████████████████████████████████████▌                                         | 5/10 [01:41<01:41, 20.33s/it]"
     ]
    },
    {
     "name": "stdout",
     "output_type": "stream",
     "text": [
      "Epoch: 5\n",
      "--------------- Train Loss: 1.5950, Train Accuracy: 0.8362, Val Loss: 1.6018, Val Accuracy: 0.8306\n"
     ]
    },
    {
     "name": "stderr",
     "output_type": "stream",
     "text": [
      " 60%|█████████████████████████████████████████████████▊                                 | 6/10 [02:01<01:20, 20.25s/it]"
     ]
    },
    {
     "name": "stdout",
     "output_type": "stream",
     "text": [
      "Epoch: 6\n",
      "--------------- Train Loss: 1.5808, Train Accuracy: 0.8484, Val Loss: 1.5773, Val Accuracy: 0.8559\n"
     ]
    },
    {
     "name": "stderr",
     "output_type": "stream",
     "text": [
      " 70%|██████████████████████████████████████████████████████████                         | 7/10 [02:21<01:00, 20.31s/it]"
     ]
    },
    {
     "name": "stdout",
     "output_type": "stream",
     "text": [
      "Epoch: 7\n",
      "--------------- Train Loss: 1.5748, Train Accuracy: 0.8543, Val Loss: 1.6005, Val Accuracy: 0.8324\n"
     ]
    },
    {
     "name": "stderr",
     "output_type": "stream",
     "text": [
      " 80%|██████████████████████████████████████████████████████████████████▍                | 8/10 [02:42<00:40, 20.26s/it]"
     ]
    },
    {
     "name": "stdout",
     "output_type": "stream",
     "text": [
      "Epoch: 8\n",
      "--------------- Train Loss: 1.5696, Train Accuracy: 0.8613, Val Loss: 1.5689, Val Accuracy: 0.8622\n"
     ]
    },
    {
     "name": "stderr",
     "output_type": "stream",
     "text": [
      " 90%|██████████████████████████████████████████████████████████████████████████▋        | 9/10 [03:02<00:20, 20.45s/it]"
     ]
    },
    {
     "name": "stdout",
     "output_type": "stream",
     "text": [
      "Epoch: 9\n",
      "--------------- Train Loss: 1.5657, Train Accuracy: 0.8643, Val Loss: 1.5779, Val Accuracy: 0.8548\n"
     ]
    },
    {
     "name": "stderr",
     "output_type": "stream",
     "text": [
      "100%|██████████████████████████████████████████████████████████████████████████████████| 10/10 [03:23<00:00, 20.39s/it]"
     ]
    },
    {
     "name": "stdout",
     "output_type": "stream",
     "text": [
      "Epoch: 10\n",
      "--------------- Train Loss: 1.5672, Train Accuracy: 0.8650, Val Loss: 1.5758, Val Accuracy: 0.8562\n"
     ]
    },
    {
     "name": "stderr",
     "output_type": "stream",
     "text": [
      "\n"
     ]
    }
   ],
   "source": [
    "optimizer_gpu=torch.optim.SGD(params=P5_model.parameters(),\n",
    "                            lr=0.1)\n",
    "accuracy_fn_gpu = MulticlassAccuracy(num_classes=10).to(\"cuda\")\n",
    "P5_model_history = train(model=P5_model,\n",
    "                         train_dataloader=LeNet_trainLoader,\n",
    "                         val_dataloader=LeNet_valLoader,\n",
    "                         optim=optimizer_gpu,\n",
    "                         loss_fn=loss_fn,\n",
    "                         accuracy_fn=accuracy_fn_gpu,\n",
    "                         epochs=10,\n",
    "                         device=\"cuda\")"
   ]
  },
  {
   "cell_type": "code",
   "execution_count": 226,
   "id": "3382eda2-51a3-451b-b404-d9267cabb1bb",
   "metadata": {},
   "outputs": [
    {
     "data": {
      "image/png": "[encoded data removed]",
      "text/plain": [
       "<Figure size 640x480 with 1 Axes>"
      ]
     },
     "metadata": {},
     "output_type": "display_data"
    }
   ],
   "source": [
    "plot_history(P5_model_history)"
   ]
  }
 ],
 "metadata": {
  "kernelspec": {
   "display_name": "Python 3 (ipykernel)",
   "language": "python",
   "name": "python3"
  },
  "language_info": {
   "codemirror_mode": {
    "name": "ipython",
    "version": 3
   },
   "file_extension": ".py",
   "mimetype": "text/x-python",
   "name": "python",
   "nbconvert_exporter": "python",
   "pygments_lexer": "ipython3",
   "version": "3.9.16"
  }
 },
 "nbformat": 4,
 "nbformat_minor": 5
}
