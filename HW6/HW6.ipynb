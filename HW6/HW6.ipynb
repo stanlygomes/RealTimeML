{
 "cells": [
  {
   "cell_type": "markdown",
   "id": "f5d15b7e-36ea-4e96-8a11-c67a522cdef3",
   "metadata": {
    "id": "EpzEc_W17kMT"
   },
   "source": [
    "# Homework 6\n",
    "Name: Stanly Gomes\n",
    "\n",
    "Student ID: 801118166\n",
    "\n",
    "GitHub Repository: https://github.com/stanlygomes/RealTimeML"
   ]
  },
  {
   "cell_type": "code",
   "execution_count": null,
   "id": "3a79ffa3-ea62-4548-8bf2-12e5a378d2ae",
   "metadata": {},
   "outputs": [],
   "source": []
  }
 ],
 "metadata": {
  "kernelspec": {
   "display_name": "Python 3 (ipykernel)",
   "language": "python",
   "name": "python3"
  },
  "language_info": {
   "codemirror_mode": {
    "name": "ipython",
    "version": 3
   },
   "file_extension": ".py",
   "mimetype": "text/x-python",
   "name": "python",
   "nbconvert_exporter": "python",
   "pygments_lexer": "ipython3",
   "version": "3.9.16"
  }
 },
 "nbformat": 4,
 "nbformat_minor": 5
}
